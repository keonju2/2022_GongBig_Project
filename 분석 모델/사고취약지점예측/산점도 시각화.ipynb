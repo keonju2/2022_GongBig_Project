{
 "cells": [
  {
   "cell_type": "code",
   "execution_count": 10,
   "id": "4bd519e8",
   "metadata": {
    "ExecuteTime": {
     "end_time": "2022-08-16T03:51:18.414795Z",
     "start_time": "2022-08-16T03:51:18.408632Z"
    }
   },
   "outputs": [],
   "source": [
    "import pandas as pd #판다스 호출\n",
    "import numpy as np #넘파이 호출\n",
    "import matplotlib.pyplot as plt#플롯 그리기\n",
    "import seaborn as sns#seaborn 호출\n",
    "%matplotlib inline\n",
    "plt.rcParams['font.family'] = 'NanumGothic'"
   ]
  },
  {
   "cell_type": "code",
   "execution_count": 11,
   "id": "eb80a39c",
   "metadata": {
    "ExecuteTime": {
     "end_time": "2022-08-16T03:51:19.134842Z",
     "start_time": "2022-08-16T03:51:19.103650Z"
    }
   },
   "outputs": [],
   "source": [
    "data=pd.read_csv('사고다발지_생활인구_시각화데이터.csv',encoding='utf-8')#데이터 로드"
   ]
  },
  {
   "cell_type": "code",
   "execution_count": 12,
   "id": "567a9e30",
   "metadata": {
    "ExecuteTime": {
     "end_time": "2022-08-16T03:51:19.711607Z",
     "start_time": "2022-08-16T03:51:19.693224Z"
    }
   },
   "outputs": [],
   "source": [
    "data=data.drop('Unnamed: 0',axis=1)#불필요한 컬럼 제거"
   ]
  },
  {
   "cell_type": "code",
   "execution_count": 13,
   "id": "51a4e433",
   "metadata": {
    "ExecuteTime": {
     "end_time": "2022-08-16T03:51:20.308988Z",
     "start_time": "2022-08-16T03:51:20.285846Z"
    },
    "scrolled": true
   },
   "outputs": [
    {
     "data": {
      "text/html": [
       "<div>\n",
       "<style scoped>\n",
       "    .dataframe tbody tr th:only-of-type {\n",
       "        vertical-align: middle;\n",
       "    }\n",
       "\n",
       "    .dataframe tbody tr th {\n",
       "        vertical-align: top;\n",
       "    }\n",
       "\n",
       "    .dataframe thead th {\n",
       "        text-align: right;\n",
       "    }\n",
       "</style>\n",
       "<table border=\"1\" class=\"dataframe\">\n",
       "  <thead>\n",
       "    <tr style=\"text-align: right;\">\n",
       "      <th></th>\n",
       "      <th>TOT_REG_CD</th>\n",
       "      <th>geometry</th>\n",
       "      <th>총사고건수</th>\n",
       "      <th>사망자수</th>\n",
       "      <th>중상자수</th>\n",
       "      <th>경상자수</th>\n",
       "      <th>부상신고자</th>\n",
       "      <th>hospital</th>\n",
       "      <th>bus</th>\n",
       "      <th>subway</th>\n",
       "      <th>...</th>\n",
       "      <th>집계구코드</th>\n",
       "      <th>주간야간</th>\n",
       "      <th>행정동코드</th>\n",
       "      <th>주간총생활인구수</th>\n",
       "      <th>주간 남자 10대 이하</th>\n",
       "      <th>주간 여자 10대 이하</th>\n",
       "      <th>주간 남자 20-50대</th>\n",
       "      <th>주간 여자 20-50대</th>\n",
       "      <th>주간 남자 60대 이상</th>\n",
       "      <th>주간 여자 60대 이상</th>\n",
       "    </tr>\n",
       "  </thead>\n",
       "  <tbody>\n",
       "    <tr>\n",
       "      <th>0</th>\n",
       "      <td>1101061030004</td>\n",
       "      <td>POLYGON ((954298.3453845978 1952724.0565166473...</td>\n",
       "      <td>5.0</td>\n",
       "      <td>0</td>\n",
       "      <td>3</td>\n",
       "      <td>2</td>\n",
       "      <td>0</td>\n",
       "      <td>34.0</td>\n",
       "      <td>13.0</td>\n",
       "      <td>1.0</td>\n",
       "      <td>...</td>\n",
       "      <td>1101061030004</td>\n",
       "      <td>주간</td>\n",
       "      <td>10277318875</td>\n",
       "      <td>8230.023184</td>\n",
       "      <td>77.684008</td>\n",
       "      <td>102.256938</td>\n",
       "      <td>3513.223358</td>\n",
       "      <td>2967.686944</td>\n",
       "      <td>891.324072</td>\n",
       "      <td>614.774726</td>\n",
       "    </tr>\n",
       "    <tr>\n",
       "      <th>1</th>\n",
       "      <td>1101061030004</td>\n",
       "      <td>POLYGON ((954298.3453845978 1952724.0565166473...</td>\n",
       "      <td>23.0</td>\n",
       "      <td>0</td>\n",
       "      <td>17</td>\n",
       "      <td>11</td>\n",
       "      <td>1</td>\n",
       "      <td>38.0</td>\n",
       "      <td>14.0</td>\n",
       "      <td>0.0</td>\n",
       "      <td>...</td>\n",
       "      <td>1101061030004</td>\n",
       "      <td>주간</td>\n",
       "      <td>10277318875</td>\n",
       "      <td>8230.023184</td>\n",
       "      <td>77.684008</td>\n",
       "      <td>102.256938</td>\n",
       "      <td>3513.223358</td>\n",
       "      <td>2967.686944</td>\n",
       "      <td>891.324072</td>\n",
       "      <td>614.774726</td>\n",
       "    </tr>\n",
       "    <tr>\n",
       "      <th>2</th>\n",
       "      <td>1101061030002</td>\n",
       "      <td>POLYGON ((954897.3367862701 1953028.0343151093...</td>\n",
       "      <td>8.0</td>\n",
       "      <td>1</td>\n",
       "      <td>7</td>\n",
       "      <td>0</td>\n",
       "      <td>0</td>\n",
       "      <td>13.0</td>\n",
       "      <td>15.0</td>\n",
       "      <td>1.0</td>\n",
       "      <td>...</td>\n",
       "      <td>1101061030002</td>\n",
       "      <td>주간</td>\n",
       "      <td>10277318875</td>\n",
       "      <td>5758.403367</td>\n",
       "      <td>75.145889</td>\n",
       "      <td>100.934068</td>\n",
       "      <td>2579.668056</td>\n",
       "      <td>1857.960382</td>\n",
       "      <td>519.187664</td>\n",
       "      <td>531.877902</td>\n",
       "    </tr>\n",
       "    <tr>\n",
       "      <th>3</th>\n",
       "      <td>1101061030001</td>\n",
       "      <td>POLYGON ((954124.9687862396 1953097.410917282,...</td>\n",
       "      <td>4.0</td>\n",
       "      <td>0</td>\n",
       "      <td>4</td>\n",
       "      <td>0</td>\n",
       "      <td>0</td>\n",
       "      <td>63.0</td>\n",
       "      <td>7.0</td>\n",
       "      <td>2.0</td>\n",
       "      <td>...</td>\n",
       "      <td>1101061030001</td>\n",
       "      <td>주간</td>\n",
       "      <td>10277318875</td>\n",
       "      <td>17490.969720</td>\n",
       "      <td>109.370100</td>\n",
       "      <td>181.244090</td>\n",
       "      <td>9013.094199</td>\n",
       "      <td>6085.046981</td>\n",
       "      <td>882.282381</td>\n",
       "      <td>1023.411349</td>\n",
       "    </tr>\n",
       "    <tr>\n",
       "      <th>4</th>\n",
       "      <td>1101061030001</td>\n",
       "      <td>POLYGON ((954124.9687862396 1953097.410917282,...</td>\n",
       "      <td>NaN</td>\n",
       "      <td>0</td>\n",
       "      <td>1</td>\n",
       "      <td>4</td>\n",
       "      <td>0</td>\n",
       "      <td>67.0</td>\n",
       "      <td>11.0</td>\n",
       "      <td>1.0</td>\n",
       "      <td>...</td>\n",
       "      <td>1101061030001</td>\n",
       "      <td>주간</td>\n",
       "      <td>10277318875</td>\n",
       "      <td>17490.969720</td>\n",
       "      <td>109.370100</td>\n",
       "      <td>181.244090</td>\n",
       "      <td>9013.094199</td>\n",
       "      <td>6085.046981</td>\n",
       "      <td>882.282381</td>\n",
       "      <td>1023.411349</td>\n",
       "    </tr>\n",
       "    <tr>\n",
       "      <th>...</th>\n",
       "      <td>...</td>\n",
       "      <td>...</td>\n",
       "      <td>...</td>\n",
       "      <td>...</td>\n",
       "      <td>...</td>\n",
       "      <td>...</td>\n",
       "      <td>...</td>\n",
       "      <td>...</td>\n",
       "      <td>...</td>\n",
       "      <td>...</td>\n",
       "      <td>...</td>\n",
       "      <td>...</td>\n",
       "      <td>...</td>\n",
       "      <td>...</td>\n",
       "      <td>...</td>\n",
       "      <td>...</td>\n",
       "      <td>...</td>\n",
       "      <td>...</td>\n",
       "      <td>...</td>\n",
       "      <td>...</td>\n",
       "      <td>...</td>\n",
       "    </tr>\n",
       "    <tr>\n",
       "      <th>548</th>\n",
       "      <td>1102069030008</td>\n",
       "      <td>POLYGON ((957258.9002895355 1951768.3458919525...</td>\n",
       "      <td>14.0</td>\n",
       "      <td>0</td>\n",
       "      <td>11</td>\n",
       "      <td>4</td>\n",
       "      <td>1</td>\n",
       "      <td>24.0</td>\n",
       "      <td>5.0</td>\n",
       "      <td>1.0</td>\n",
       "      <td>...</td>\n",
       "      <td>1102069030008</td>\n",
       "      <td>주간</td>\n",
       "      <td>10305068875</td>\n",
       "      <td>1414.453063</td>\n",
       "      <td>22.839911</td>\n",
       "      <td>30.411815</td>\n",
       "      <td>512.646426</td>\n",
       "      <td>499.042059</td>\n",
       "      <td>161.392444</td>\n",
       "      <td>155.706242</td>\n",
       "    </tr>\n",
       "    <tr>\n",
       "      <th>549</th>\n",
       "      <td>1102070010006</td>\n",
       "      <td>POLYGON ((956694.0280895233 1951056.5260944366...</td>\n",
       "      <td>4.0</td>\n",
       "      <td>1</td>\n",
       "      <td>3</td>\n",
       "      <td>0</td>\n",
       "      <td>1</td>\n",
       "      <td>9.0</td>\n",
       "      <td>6.0</td>\n",
       "      <td>0.0</td>\n",
       "      <td>...</td>\n",
       "      <td>1102070010006</td>\n",
       "      <td>주간</td>\n",
       "      <td>10305078125</td>\n",
       "      <td>547.650441</td>\n",
       "      <td>6.369050</td>\n",
       "      <td>11.719861</td>\n",
       "      <td>186.205694</td>\n",
       "      <td>225.047958</td>\n",
       "      <td>45.548568</td>\n",
       "      <td>50.886604</td>\n",
       "    </tr>\n",
       "    <tr>\n",
       "      <th>550</th>\n",
       "      <td>1102070010002</td>\n",
       "      <td>POLYGON ((956946.532491684 1951089.0478916168,...</td>\n",
       "      <td>5.0</td>\n",
       "      <td>0</td>\n",
       "      <td>3</td>\n",
       "      <td>2</td>\n",
       "      <td>0</td>\n",
       "      <td>58.0</td>\n",
       "      <td>6.0</td>\n",
       "      <td>1.0</td>\n",
       "      <td>...</td>\n",
       "      <td>1102070010002</td>\n",
       "      <td>주간</td>\n",
       "      <td>10305078125</td>\n",
       "      <td>1552.006783</td>\n",
       "      <td>46.281475</td>\n",
       "      <td>50.630441</td>\n",
       "      <td>489.313959</td>\n",
       "      <td>543.939034</td>\n",
       "      <td>156.174386</td>\n",
       "      <td>192.104668</td>\n",
       "    </tr>\n",
       "    <tr>\n",
       "      <th>551</th>\n",
       "      <td>1102071010004</td>\n",
       "      <td>POLYGON ((956989.9009914398 1950425.0229930878...</td>\n",
       "      <td>NaN</td>\n",
       "      <td>0</td>\n",
       "      <td>3</td>\n",
       "      <td>0</td>\n",
       "      <td>1</td>\n",
       "      <td>62.0</td>\n",
       "      <td>12.0</td>\n",
       "      <td>1.0</td>\n",
       "      <td>...</td>\n",
       "      <td>1102071010004</td>\n",
       "      <td>주간</td>\n",
       "      <td>10305087375</td>\n",
       "      <td>732.358347</td>\n",
       "      <td>24.479000</td>\n",
       "      <td>21.226790</td>\n",
       "      <td>206.598333</td>\n",
       "      <td>215.932915</td>\n",
       "      <td>86.232117</td>\n",
       "      <td>121.793971</td>\n",
       "    </tr>\n",
       "    <tr>\n",
       "      <th>552</th>\n",
       "      <td>1121052010002</td>\n",
       "      <td>POLYGON ((949365.8065204639 1944046.5014591254...</td>\n",
       "      <td>4.0</td>\n",
       "      <td>0</td>\n",
       "      <td>2</td>\n",
       "      <td>2</td>\n",
       "      <td>0</td>\n",
       "      <td>13.0</td>\n",
       "      <td>10.0</td>\n",
       "      <td>0.0</td>\n",
       "      <td>...</td>\n",
       "      <td>1121052010002</td>\n",
       "      <td>주간</td>\n",
       "      <td>10748985625</td>\n",
       "      <td>2014.266828</td>\n",
       "      <td>55.548174</td>\n",
       "      <td>51.407567</td>\n",
       "      <td>659.033368</td>\n",
       "      <td>679.881235</td>\n",
       "      <td>182.914630</td>\n",
       "      <td>282.303237</td>\n",
       "    </tr>\n",
       "  </tbody>\n",
       "</table>\n",
       "<p>553 rows × 35 columns</p>\n",
       "</div>"
      ],
      "text/plain": [
       "        TOT_REG_CD                                           geometry  총사고건수  \\\n",
       "0    1101061030004  POLYGON ((954298.3453845978 1952724.0565166473...    5.0   \n",
       "1    1101061030004  POLYGON ((954298.3453845978 1952724.0565166473...   23.0   \n",
       "2    1101061030002  POLYGON ((954897.3367862701 1953028.0343151093...    8.0   \n",
       "3    1101061030001  POLYGON ((954124.9687862396 1953097.410917282,...    4.0   \n",
       "4    1101061030001  POLYGON ((954124.9687862396 1953097.410917282,...    NaN   \n",
       "..             ...                                                ...    ...   \n",
       "548  1102069030008  POLYGON ((957258.9002895355 1951768.3458919525...   14.0   \n",
       "549  1102070010006  POLYGON ((956694.0280895233 1951056.5260944366...    4.0   \n",
       "550  1102070010002  POLYGON ((956946.532491684 1951089.0478916168,...    5.0   \n",
       "551  1102071010004  POLYGON ((956989.9009914398 1950425.0229930878...    NaN   \n",
       "552  1121052010002  POLYGON ((949365.8065204639 1944046.5014591254...    4.0   \n",
       "\n",
       "     사망자수  중상자수  경상자수  부상신고자  hospital   bus  subway  ...          집계구코드  \\\n",
       "0       0     3     2      0      34.0  13.0     1.0  ...  1101061030004   \n",
       "1       0    17    11      1      38.0  14.0     0.0  ...  1101061030004   \n",
       "2       1     7     0      0      13.0  15.0     1.0  ...  1101061030002   \n",
       "3       0     4     0      0      63.0   7.0     2.0  ...  1101061030001   \n",
       "4       0     1     4      0      67.0  11.0     1.0  ...  1101061030001   \n",
       "..    ...   ...   ...    ...       ...   ...     ...  ...            ...   \n",
       "548     0    11     4      1      24.0   5.0     1.0  ...  1102069030008   \n",
       "549     1     3     0      1       9.0   6.0     0.0  ...  1102070010006   \n",
       "550     0     3     2      0      58.0   6.0     1.0  ...  1102070010002   \n",
       "551     0     3     0      1      62.0  12.0     1.0  ...  1102071010004   \n",
       "552     0     2     2      0      13.0  10.0     0.0  ...  1121052010002   \n",
       "\n",
       "     주간야간        행정동코드      주간총생활인구수  주간 남자 10대 이하  주간 여자 10대 이하  \\\n",
       "0      주간  10277318875   8230.023184     77.684008    102.256938   \n",
       "1      주간  10277318875   8230.023184     77.684008    102.256938   \n",
       "2      주간  10277318875   5758.403367     75.145889    100.934068   \n",
       "3      주간  10277318875  17490.969720    109.370100    181.244090   \n",
       "4      주간  10277318875  17490.969720    109.370100    181.244090   \n",
       "..    ...          ...           ...           ...           ...   \n",
       "548    주간  10305068875   1414.453063     22.839911     30.411815   \n",
       "549    주간  10305078125    547.650441      6.369050     11.719861   \n",
       "550    주간  10305078125   1552.006783     46.281475     50.630441   \n",
       "551    주간  10305087375    732.358347     24.479000     21.226790   \n",
       "552    주간  10748985625   2014.266828     55.548174     51.407567   \n",
       "\n",
       "     주간 남자 20-50대  주간 여자 20-50대  주간 남자 60대 이상  주간 여자 60대 이상  \n",
       "0     3513.223358   2967.686944    891.324072    614.774726  \n",
       "1     3513.223358   2967.686944    891.324072    614.774726  \n",
       "2     2579.668056   1857.960382    519.187664    531.877902  \n",
       "3     9013.094199   6085.046981    882.282381   1023.411349  \n",
       "4     9013.094199   6085.046981    882.282381   1023.411349  \n",
       "..            ...           ...           ...           ...  \n",
       "548    512.646426    499.042059    161.392444    155.706242  \n",
       "549    186.205694    225.047958     45.548568     50.886604  \n",
       "550    489.313959    543.939034    156.174386    192.104668  \n",
       "551    206.598333    215.932915     86.232117    121.793971  \n",
       "552    659.033368    679.881235    182.914630    282.303237  \n",
       "\n",
       "[553 rows x 35 columns]"
      ]
     },
     "execution_count": 13,
     "metadata": {},
     "output_type": "execute_result"
    }
   ],
   "source": [
    "data#데이터 호출"
   ]
  },
  {
   "cell_type": "code",
   "execution_count": 14,
   "id": "897b612f",
   "metadata": {
    "ExecuteTime": {
     "end_time": "2022-08-16T03:52:03.545365Z",
     "start_time": "2022-08-16T03:52:03.526105Z"
    }
   },
   "outputs": [],
   "source": [
    "data=data.drop('총사고건수',axis=1)#Nan값 확인하여 제거하여 다시 컬럼 생성"
   ]
  },
  {
   "cell_type": "code",
   "execution_count": 15,
   "id": "74e00e8d",
   "metadata": {
    "ExecuteTime": {
     "end_time": "2022-08-16T03:52:10.308064Z",
     "start_time": "2022-08-16T03:52:10.290737Z"
    }
   },
   "outputs": [],
   "source": [
    "data['총사고건수']=data['사망자수']+data['중상자수']+data['경상자수']+data['부상신고자']#총사고건수 재생성"
   ]
  },
  {
   "cell_type": "code",
   "execution_count": 16,
   "id": "6b0975e9",
   "metadata": {
    "ExecuteTime": {
     "end_time": "2022-08-16T03:52:14.078864Z",
     "start_time": "2022-08-16T03:52:14.047505Z"
    },
    "scrolled": true
   },
   "outputs": [
    {
     "data": {
      "text/html": [
       "<div>\n",
       "<style scoped>\n",
       "    .dataframe tbody tr th:only-of-type {\n",
       "        vertical-align: middle;\n",
       "    }\n",
       "\n",
       "    .dataframe tbody tr th {\n",
       "        vertical-align: top;\n",
       "    }\n",
       "\n",
       "    .dataframe thead th {\n",
       "        text-align: right;\n",
       "    }\n",
       "</style>\n",
       "<table border=\"1\" class=\"dataframe\">\n",
       "  <thead>\n",
       "    <tr style=\"text-align: right;\">\n",
       "      <th></th>\n",
       "      <th>TOT_REG_CD</th>\n",
       "      <th>geometry</th>\n",
       "      <th>사망자수</th>\n",
       "      <th>중상자수</th>\n",
       "      <th>경상자수</th>\n",
       "      <th>부상신고자</th>\n",
       "      <th>hospital</th>\n",
       "      <th>bus</th>\n",
       "      <th>subway</th>\n",
       "      <th>univ</th>\n",
       "      <th>...</th>\n",
       "      <th>주간야간</th>\n",
       "      <th>행정동코드</th>\n",
       "      <th>주간총생활인구수</th>\n",
       "      <th>주간 남자 10대 이하</th>\n",
       "      <th>주간 여자 10대 이하</th>\n",
       "      <th>주간 남자 20-50대</th>\n",
       "      <th>주간 여자 20-50대</th>\n",
       "      <th>주간 남자 60대 이상</th>\n",
       "      <th>주간 여자 60대 이상</th>\n",
       "      <th>총사고건수</th>\n",
       "    </tr>\n",
       "  </thead>\n",
       "  <tbody>\n",
       "    <tr>\n",
       "      <th>0</th>\n",
       "      <td>1101061030004</td>\n",
       "      <td>POLYGON ((954298.3453845978 1952724.0565166473...</td>\n",
       "      <td>0</td>\n",
       "      <td>3</td>\n",
       "      <td>2</td>\n",
       "      <td>0</td>\n",
       "      <td>34.0</td>\n",
       "      <td>13.0</td>\n",
       "      <td>1.0</td>\n",
       "      <td>0.0</td>\n",
       "      <td>...</td>\n",
       "      <td>주간</td>\n",
       "      <td>10277318875</td>\n",
       "      <td>8230.023184</td>\n",
       "      <td>77.684008</td>\n",
       "      <td>102.256938</td>\n",
       "      <td>3513.223358</td>\n",
       "      <td>2967.686944</td>\n",
       "      <td>891.324072</td>\n",
       "      <td>614.774726</td>\n",
       "      <td>5</td>\n",
       "    </tr>\n",
       "    <tr>\n",
       "      <th>1</th>\n",
       "      <td>1101061030004</td>\n",
       "      <td>POLYGON ((954298.3453845978 1952724.0565166473...</td>\n",
       "      <td>0</td>\n",
       "      <td>17</td>\n",
       "      <td>11</td>\n",
       "      <td>1</td>\n",
       "      <td>38.0</td>\n",
       "      <td>14.0</td>\n",
       "      <td>0.0</td>\n",
       "      <td>0.0</td>\n",
       "      <td>...</td>\n",
       "      <td>주간</td>\n",
       "      <td>10277318875</td>\n",
       "      <td>8230.023184</td>\n",
       "      <td>77.684008</td>\n",
       "      <td>102.256938</td>\n",
       "      <td>3513.223358</td>\n",
       "      <td>2967.686944</td>\n",
       "      <td>891.324072</td>\n",
       "      <td>614.774726</td>\n",
       "      <td>29</td>\n",
       "    </tr>\n",
       "    <tr>\n",
       "      <th>2</th>\n",
       "      <td>1101061030002</td>\n",
       "      <td>POLYGON ((954897.3367862701 1953028.0343151093...</td>\n",
       "      <td>1</td>\n",
       "      <td>7</td>\n",
       "      <td>0</td>\n",
       "      <td>0</td>\n",
       "      <td>13.0</td>\n",
       "      <td>15.0</td>\n",
       "      <td>1.0</td>\n",
       "      <td>1.0</td>\n",
       "      <td>...</td>\n",
       "      <td>주간</td>\n",
       "      <td>10277318875</td>\n",
       "      <td>5758.403367</td>\n",
       "      <td>75.145889</td>\n",
       "      <td>100.934068</td>\n",
       "      <td>2579.668056</td>\n",
       "      <td>1857.960382</td>\n",
       "      <td>519.187664</td>\n",
       "      <td>531.877902</td>\n",
       "      <td>8</td>\n",
       "    </tr>\n",
       "    <tr>\n",
       "      <th>3</th>\n",
       "      <td>1101061030001</td>\n",
       "      <td>POLYGON ((954124.9687862396 1953097.410917282,...</td>\n",
       "      <td>0</td>\n",
       "      <td>4</td>\n",
       "      <td>0</td>\n",
       "      <td>0</td>\n",
       "      <td>63.0</td>\n",
       "      <td>7.0</td>\n",
       "      <td>2.0</td>\n",
       "      <td>0.0</td>\n",
       "      <td>...</td>\n",
       "      <td>주간</td>\n",
       "      <td>10277318875</td>\n",
       "      <td>17490.969720</td>\n",
       "      <td>109.370100</td>\n",
       "      <td>181.244090</td>\n",
       "      <td>9013.094199</td>\n",
       "      <td>6085.046981</td>\n",
       "      <td>882.282381</td>\n",
       "      <td>1023.411349</td>\n",
       "      <td>4</td>\n",
       "    </tr>\n",
       "    <tr>\n",
       "      <th>4</th>\n",
       "      <td>1101061030001</td>\n",
       "      <td>POLYGON ((954124.9687862396 1953097.410917282,...</td>\n",
       "      <td>0</td>\n",
       "      <td>1</td>\n",
       "      <td>4</td>\n",
       "      <td>0</td>\n",
       "      <td>67.0</td>\n",
       "      <td>11.0</td>\n",
       "      <td>1.0</td>\n",
       "      <td>0.0</td>\n",
       "      <td>...</td>\n",
       "      <td>주간</td>\n",
       "      <td>10277318875</td>\n",
       "      <td>17490.969720</td>\n",
       "      <td>109.370100</td>\n",
       "      <td>181.244090</td>\n",
       "      <td>9013.094199</td>\n",
       "      <td>6085.046981</td>\n",
       "      <td>882.282381</td>\n",
       "      <td>1023.411349</td>\n",
       "      <td>5</td>\n",
       "    </tr>\n",
       "    <tr>\n",
       "      <th>...</th>\n",
       "      <td>...</td>\n",
       "      <td>...</td>\n",
       "      <td>...</td>\n",
       "      <td>...</td>\n",
       "      <td>...</td>\n",
       "      <td>...</td>\n",
       "      <td>...</td>\n",
       "      <td>...</td>\n",
       "      <td>...</td>\n",
       "      <td>...</td>\n",
       "      <td>...</td>\n",
       "      <td>...</td>\n",
       "      <td>...</td>\n",
       "      <td>...</td>\n",
       "      <td>...</td>\n",
       "      <td>...</td>\n",
       "      <td>...</td>\n",
       "      <td>...</td>\n",
       "      <td>...</td>\n",
       "      <td>...</td>\n",
       "      <td>...</td>\n",
       "    </tr>\n",
       "    <tr>\n",
       "      <th>548</th>\n",
       "      <td>1102069030008</td>\n",
       "      <td>POLYGON ((957258.9002895355 1951768.3458919525...</td>\n",
       "      <td>0</td>\n",
       "      <td>11</td>\n",
       "      <td>4</td>\n",
       "      <td>1</td>\n",
       "      <td>24.0</td>\n",
       "      <td>5.0</td>\n",
       "      <td>1.0</td>\n",
       "      <td>0.0</td>\n",
       "      <td>...</td>\n",
       "      <td>주간</td>\n",
       "      <td>10305068875</td>\n",
       "      <td>1414.453063</td>\n",
       "      <td>22.839911</td>\n",
       "      <td>30.411815</td>\n",
       "      <td>512.646426</td>\n",
       "      <td>499.042059</td>\n",
       "      <td>161.392444</td>\n",
       "      <td>155.706242</td>\n",
       "      <td>16</td>\n",
       "    </tr>\n",
       "    <tr>\n",
       "      <th>549</th>\n",
       "      <td>1102070010006</td>\n",
       "      <td>POLYGON ((956694.0280895233 1951056.5260944366...</td>\n",
       "      <td>1</td>\n",
       "      <td>3</td>\n",
       "      <td>0</td>\n",
       "      <td>1</td>\n",
       "      <td>9.0</td>\n",
       "      <td>6.0</td>\n",
       "      <td>0.0</td>\n",
       "      <td>0.0</td>\n",
       "      <td>...</td>\n",
       "      <td>주간</td>\n",
       "      <td>10305078125</td>\n",
       "      <td>547.650441</td>\n",
       "      <td>6.369050</td>\n",
       "      <td>11.719861</td>\n",
       "      <td>186.205694</td>\n",
       "      <td>225.047958</td>\n",
       "      <td>45.548568</td>\n",
       "      <td>50.886604</td>\n",
       "      <td>5</td>\n",
       "    </tr>\n",
       "    <tr>\n",
       "      <th>550</th>\n",
       "      <td>1102070010002</td>\n",
       "      <td>POLYGON ((956946.532491684 1951089.0478916168,...</td>\n",
       "      <td>0</td>\n",
       "      <td>3</td>\n",
       "      <td>2</td>\n",
       "      <td>0</td>\n",
       "      <td>58.0</td>\n",
       "      <td>6.0</td>\n",
       "      <td>1.0</td>\n",
       "      <td>0.0</td>\n",
       "      <td>...</td>\n",
       "      <td>주간</td>\n",
       "      <td>10305078125</td>\n",
       "      <td>1552.006783</td>\n",
       "      <td>46.281475</td>\n",
       "      <td>50.630441</td>\n",
       "      <td>489.313959</td>\n",
       "      <td>543.939034</td>\n",
       "      <td>156.174386</td>\n",
       "      <td>192.104668</td>\n",
       "      <td>5</td>\n",
       "    </tr>\n",
       "    <tr>\n",
       "      <th>551</th>\n",
       "      <td>1102071010004</td>\n",
       "      <td>POLYGON ((956989.9009914398 1950425.0229930878...</td>\n",
       "      <td>0</td>\n",
       "      <td>3</td>\n",
       "      <td>0</td>\n",
       "      <td>1</td>\n",
       "      <td>62.0</td>\n",
       "      <td>12.0</td>\n",
       "      <td>1.0</td>\n",
       "      <td>0.0</td>\n",
       "      <td>...</td>\n",
       "      <td>주간</td>\n",
       "      <td>10305087375</td>\n",
       "      <td>732.358347</td>\n",
       "      <td>24.479000</td>\n",
       "      <td>21.226790</td>\n",
       "      <td>206.598333</td>\n",
       "      <td>215.932915</td>\n",
       "      <td>86.232117</td>\n",
       "      <td>121.793971</td>\n",
       "      <td>4</td>\n",
       "    </tr>\n",
       "    <tr>\n",
       "      <th>552</th>\n",
       "      <td>1121052010002</td>\n",
       "      <td>POLYGON ((949365.8065204639 1944046.5014591254...</td>\n",
       "      <td>0</td>\n",
       "      <td>2</td>\n",
       "      <td>2</td>\n",
       "      <td>0</td>\n",
       "      <td>13.0</td>\n",
       "      <td>10.0</td>\n",
       "      <td>0.0</td>\n",
       "      <td>0.0</td>\n",
       "      <td>...</td>\n",
       "      <td>주간</td>\n",
       "      <td>10748985625</td>\n",
       "      <td>2014.266828</td>\n",
       "      <td>55.548174</td>\n",
       "      <td>51.407567</td>\n",
       "      <td>659.033368</td>\n",
       "      <td>679.881235</td>\n",
       "      <td>182.914630</td>\n",
       "      <td>282.303237</td>\n",
       "      <td>4</td>\n",
       "    </tr>\n",
       "  </tbody>\n",
       "</table>\n",
       "<p>553 rows × 35 columns</p>\n",
       "</div>"
      ],
      "text/plain": [
       "        TOT_REG_CD                                           geometry  사망자수  \\\n",
       "0    1101061030004  POLYGON ((954298.3453845978 1952724.0565166473...     0   \n",
       "1    1101061030004  POLYGON ((954298.3453845978 1952724.0565166473...     0   \n",
       "2    1101061030002  POLYGON ((954897.3367862701 1953028.0343151093...     1   \n",
       "3    1101061030001  POLYGON ((954124.9687862396 1953097.410917282,...     0   \n",
       "4    1101061030001  POLYGON ((954124.9687862396 1953097.410917282,...     0   \n",
       "..             ...                                                ...   ...   \n",
       "548  1102069030008  POLYGON ((957258.9002895355 1951768.3458919525...     0   \n",
       "549  1102070010006  POLYGON ((956694.0280895233 1951056.5260944366...     1   \n",
       "550  1102070010002  POLYGON ((956946.532491684 1951089.0478916168,...     0   \n",
       "551  1102071010004  POLYGON ((956989.9009914398 1950425.0229930878...     0   \n",
       "552  1121052010002  POLYGON ((949365.8065204639 1944046.5014591254...     0   \n",
       "\n",
       "     중상자수  경상자수  부상신고자  hospital   bus  subway  univ  ...  주간야간        행정동코드  \\\n",
       "0       3     2      0      34.0  13.0     1.0   0.0  ...    주간  10277318875   \n",
       "1      17    11      1      38.0  14.0     0.0   0.0  ...    주간  10277318875   \n",
       "2       7     0      0      13.0  15.0     1.0   1.0  ...    주간  10277318875   \n",
       "3       4     0      0      63.0   7.0     2.0   0.0  ...    주간  10277318875   \n",
       "4       1     4      0      67.0  11.0     1.0   0.0  ...    주간  10277318875   \n",
       "..    ...   ...    ...       ...   ...     ...   ...  ...   ...          ...   \n",
       "548    11     4      1      24.0   5.0     1.0   0.0  ...    주간  10305068875   \n",
       "549     3     0      1       9.0   6.0     0.0   0.0  ...    주간  10305078125   \n",
       "550     3     2      0      58.0   6.0     1.0   0.0  ...    주간  10305078125   \n",
       "551     3     0      1      62.0  12.0     1.0   0.0  ...    주간  10305087375   \n",
       "552     2     2      0      13.0  10.0     0.0   0.0  ...    주간  10748985625   \n",
       "\n",
       "         주간총생활인구수  주간 남자 10대 이하  주간 여자 10대 이하  주간 남자 20-50대  주간 여자 20-50대  \\\n",
       "0     8230.023184     77.684008    102.256938   3513.223358   2967.686944   \n",
       "1     8230.023184     77.684008    102.256938   3513.223358   2967.686944   \n",
       "2     5758.403367     75.145889    100.934068   2579.668056   1857.960382   \n",
       "3    17490.969720    109.370100    181.244090   9013.094199   6085.046981   \n",
       "4    17490.969720    109.370100    181.244090   9013.094199   6085.046981   \n",
       "..            ...           ...           ...           ...           ...   \n",
       "548   1414.453063     22.839911     30.411815    512.646426    499.042059   \n",
       "549    547.650441      6.369050     11.719861    186.205694    225.047958   \n",
       "550   1552.006783     46.281475     50.630441    489.313959    543.939034   \n",
       "551    732.358347     24.479000     21.226790    206.598333    215.932915   \n",
       "552   2014.266828     55.548174     51.407567    659.033368    679.881235   \n",
       "\n",
       "     주간 남자 60대 이상  주간 여자 60대 이상  총사고건수  \n",
       "0      891.324072    614.774726      5  \n",
       "1      891.324072    614.774726     29  \n",
       "2      519.187664    531.877902      8  \n",
       "3      882.282381   1023.411349      4  \n",
       "4      882.282381   1023.411349      5  \n",
       "..            ...           ...    ...  \n",
       "548    161.392444    155.706242     16  \n",
       "549     45.548568     50.886604      5  \n",
       "550    156.174386    192.104668      5  \n",
       "551     86.232117    121.793971      4  \n",
       "552    182.914630    282.303237      4  \n",
       "\n",
       "[553 rows x 35 columns]"
      ]
     },
     "execution_count": 16,
     "metadata": {},
     "output_type": "execute_result"
    }
   ],
   "source": [
    "data#데이터 확인"
   ]
  },
  {
   "cell_type": "code",
   "execution_count": 21,
   "id": "bc93be67",
   "metadata": {
    "ExecuteTime": {
     "end_time": "2022-08-16T04:01:50.348982Z",
     "start_time": "2022-08-16T04:01:50.264831Z"
    },
    "scrolled": true
   },
   "outputs": [
    {
     "data": {
      "text/plain": [
       "<matplotlib.collections.PathCollection at 0x20041e2aa60>"
      ]
     },
     "execution_count": 21,
     "metadata": {},
     "output_type": "execute_result"
    },
    {
     "data": {
      "image/png": "[encoded data removed]",
      "text/plain": [
       "<Figure size 432x288 with 1 Axes>"
      ]
     },
     "metadata": {
      "needs_background": "light"
     },
     "output_type": "display_data"
    }
   ],
   "source": [
    "plt.scatter(data['hospital'],data['총사고건수'])#병원과 사고건수의 산점도"
   ]
  },
  {
   "cell_type": "code",
   "execution_count": 22,
   "id": "8e6a8cd8",
   "metadata": {
    "ExecuteTime": {
     "end_time": "2022-08-16T04:09:36.275005Z",
     "start_time": "2022-08-16T04:09:36.193371Z"
    }
   },
   "outputs": [
    {
     "data": {
      "text/plain": [
       "<matplotlib.collections.PathCollection at 0x200423db190>"
      ]
     },
     "execution_count": 22,
     "metadata": {},
     "output_type": "execute_result"
    },
    {
     "data": {
      "image/png": "[encoded data removed]",
      "text/plain": [
       "<Figure size 432x288 with 1 Axes>"
      ]
     },
     "metadata": {
      "needs_background": "light"
     },
     "output_type": "display_data"
    }
   ],
   "source": [
    "plt.scatter(data['bus'],data['총사고건수'])#버스와 사고건수의 산점도 확인"
   ]
  },
  {
   "cell_type": "code",
   "execution_count": 23,
   "id": "0fb007fe",
   "metadata": {
    "ExecuteTime": {
     "end_time": "2022-08-16T04:09:49.073837Z",
     "start_time": "2022-08-16T04:09:48.984741Z"
    }
   },
   "outputs": [
    {
     "data": {
      "text/plain": [
       "<matplotlib.collections.PathCollection at 0x200422614c0>"
      ]
     },
     "execution_count": 23,
     "metadata": {},
     "output_type": "execute_result"
    },
    {
     "data": {
      "image/png": "[encoded data removed]",
      "text/plain": [
       "<Figure size 432x288 with 1 Axes>"
      ]
     },
     "metadata": {
      "needs_background": "light"
     },
     "output_type": "display_data"
    }
   ],
   "source": [
    "plt.scatter(data['subway'],data['총사고건수'])#자하철과 사고건수의 산점도 확인"
   ]
  },
  {
   "cell_type": "code",
   "execution_count": 24,
   "id": "5b4c6e8e",
   "metadata": {
    "ExecuteTime": {
     "end_time": "2022-08-16T04:10:15.139825Z",
     "start_time": "2022-08-16T04:10:15.058715Z"
    }
   },
   "outputs": [
    {
     "data": {
      "text/plain": [
       "<matplotlib.collections.PathCollection at 0x200423394c0>"
      ]
     },
     "execution_count": 24,
     "metadata": {},
     "output_type": "execute_result"
    },
    {
     "data": {
      "image/png": "[encoded data removed]",
      "text/plain": [
       "<Figure size 432x288 with 1 Axes>"
      ]
     },
     "metadata": {
      "needs_background": "light"
     },
     "output_type": "display_data"
    }
   ],
   "source": [
    "plt.scatter(data['univ'],data['총사고건수'])#대학교와 사고건수의 산점도 확인"
   ]
  },
  {
   "cell_type": "code",
   "execution_count": 25,
   "id": "90ce34d6",
   "metadata": {
    "ExecuteTime": {
     "end_time": "2022-08-16T04:10:40.302249Z",
     "start_time": "2022-08-16T04:10:40.216947Z"
    }
   },
   "outputs": [
    {
     "data": {
      "text/plain": [
       "<matplotlib.collections.PathCollection at 0x20042395d60>"
      ]
     },
     "execution_count": 25,
     "metadata": {},
     "output_type": "execute_result"
    },
    {
     "data": {
      "image/png": "[encoded data removed]",
      "text/plain": [
       "<Figure size 432x288 with 1 Axes>"
      ]
     },
     "metadata": {
      "needs_background": "light"
     },
     "output_type": "display_data"
    }
   ],
   "source": [
    "plt.scatter(data['초중고'],data['총사고건수'])#초중고와 사고건수의 산점도 확인"
   ]
  },
  {
   "cell_type": "code",
   "execution_count": 26,
   "id": "b9e5d9b5",
   "metadata": {
    "ExecuteTime": {
     "end_time": "2022-08-16T04:10:58.386802Z",
     "start_time": "2022-08-16T04:10:58.309414Z"
    }
   },
   "outputs": [
    {
     "data": {
      "text/plain": [
       "<matplotlib.collections.PathCollection at 0x20042c0dd90>"
      ]
     },
     "execution_count": 26,
     "metadata": {},
     "output_type": "execute_result"
    },
    {
     "data": {
      "image/png": "[encoded data removed]",
      "text/plain": [
       "<Figure size 432x288 with 1 Axes>"
      ]
     },
     "metadata": {
      "needs_background": "light"
     },
     "output_type": "display_data"
    }
   ],
   "source": [
    "plt.scatter(data['police'],data['총사고건수'])#경찰서와 사고건수의 산점도 확인"
   ]
  },
  {
   "cell_type": "code",
   "execution_count": 27,
   "id": "ccae9d1f",
   "metadata": {
    "ExecuteTime": {
     "end_time": "2022-08-16T04:11:23.307685Z",
     "start_time": "2022-08-16T04:11:23.225466Z"
    }
   },
   "outputs": [
    {
     "data": {
      "text/plain": [
       "<matplotlib.collections.PathCollection at 0x20043c216a0>"
      ]
     },
     "execution_count": 27,
     "metadata": {},
     "output_type": "execute_result"
    },
    {
     "data": {
      "image/png": "[encoded data removed]",
      "text/plain": [
       "<Figure size 432x288 with 1 Axes>"
      ]
     },
     "metadata": {
      "needs_background": "light"
     },
     "output_type": "display_data"
    }
   ],
   "source": [
    "plt.scatter(data['횡단보도'],data['총사고건수'])#황단보도와 사고건수의 산점도 확인"
   ]
  },
  {
   "cell_type": "code",
   "execution_count": 28,
   "id": "d32ca7d1",
   "metadata": {
    "ExecuteTime": {
     "end_time": "2022-08-16T04:11:39.209326Z",
     "start_time": "2022-08-16T04:11:39.122806Z"
    }
   },
   "outputs": [
    {
     "data": {
      "text/plain": [
       "<matplotlib.collections.PathCollection at 0x20043c6a5e0>"
      ]
     },
     "execution_count": 28,
     "metadata": {},
     "output_type": "execute_result"
    },
    {
     "data": {
      "image/png": "[encoded data removed]",
      "text/plain": [
       "<Figure size 432x288 with 1 Axes>"
      ]
     },
     "metadata": {
      "needs_background": "light"
     },
     "output_type": "display_data"
    }
   ],
   "source": [
    "plt.scatter(data['무단횡단방'],data['총사고건수'])#무단횡단방지와 사고건수의 산점도 확인"
   ]
  },
  {
   "cell_type": "code",
   "execution_count": 29,
   "id": "a1cbf7e9",
   "metadata": {
    "ExecuteTime": {
     "end_time": "2022-08-16T04:11:55.245329Z",
     "start_time": "2022-08-16T04:11:55.168431Z"
    }
   },
   "outputs": [
    {
     "data": {
      "text/plain": [
       "<matplotlib.collections.PathCollection at 0x20043c784c0>"
      ]
     },
     "execution_count": 29,
     "metadata": {},
     "output_type": "execute_result"
    },
    {
     "data": {
      "image/png": "[encoded data removed]",
      "text/plain": [
       "<Figure size 432x288 with 1 Axes>"
      ]
     },
     "metadata": {
      "needs_background": "light"
     },
     "output_type": "display_data"
    }
   ],
   "source": [
    "plt.scatter(data['어린이보호'],data['총사고건수'])#어린이보호와 사고건수의 산점도 확인"
   ]
  },
  {
   "cell_type": "code",
   "execution_count": 30,
   "id": "af48309d",
   "metadata": {
    "ExecuteTime": {
     "end_time": "2022-08-16T04:12:20.385881Z",
     "start_time": "2022-08-16T04:12:20.305771Z"
    }
   },
   "outputs": [
    {
     "data": {
      "text/plain": [
       "<matplotlib.collections.PathCollection at 0x20043d1aaf0>"
      ]
     },
     "execution_count": 30,
     "metadata": {},
     "output_type": "execute_result"
    },
    {
     "data": {
      "image/png": "[encoded data removed]",
      "text/plain": [
       "<Figure size 432x288 with 1 Axes>"
      ]
     },
     "metadata": {
      "needs_background": "light"
     },
     "output_type": "display_data"
    }
   ],
   "source": [
    "plt.scatter(data['노인보호'],data['총사고건수'])#노인보호지역과 총사고건수 확인"
   ]
  },
  {
   "cell_type": "code",
   "execution_count": 31,
   "id": "ef0d0fbf",
   "metadata": {
    "ExecuteTime": {
     "end_time": "2022-08-16T04:27:36.430352Z",
     "start_time": "2022-08-16T04:27:36.419881Z"
    }
   },
   "outputs": [],
   "source": [
    "data[\"변수 총계\"]=data['hospital']+data['bus']+data['subway']+data['univ']+data['횡단보도']+data['police']+data['초중고']+data['무단횡단방']+data['어린이보호']+data['노인보호']\n",
    "#변수 총계를 넣어 사고건수와 산점도 비교하기 위해"
   ]
  },
  {
   "cell_type": "code",
   "execution_count": 32,
   "id": "ab8b52bd",
   "metadata": {
    "ExecuteTime": {
     "end_time": "2022-08-16T04:27:40.638479Z",
     "start_time": "2022-08-16T04:27:40.606545Z"
    },
    "scrolled": true
   },
   "outputs": [
    {
     "data": {
      "text/html": [
       "<div>\n",
       "<style scoped>\n",
       "    .dataframe tbody tr th:only-of-type {\n",
       "        vertical-align: middle;\n",
       "    }\n",
       "\n",
       "    .dataframe tbody tr th {\n",
       "        vertical-align: top;\n",
       "    }\n",
       "\n",
       "    .dataframe thead th {\n",
       "        text-align: right;\n",
       "    }\n",
       "</style>\n",
       "<table border=\"1\" class=\"dataframe\">\n",
       "  <thead>\n",
       "    <tr style=\"text-align: right;\">\n",
       "      <th></th>\n",
       "      <th>TOT_REG_CD</th>\n",
       "      <th>geometry</th>\n",
       "      <th>사망자수</th>\n",
       "      <th>중상자수</th>\n",
       "      <th>경상자수</th>\n",
       "      <th>부상신고자</th>\n",
       "      <th>hospital</th>\n",
       "      <th>bus</th>\n",
       "      <th>subway</th>\n",
       "      <th>univ</th>\n",
       "      <th>...</th>\n",
       "      <th>행정동코드</th>\n",
       "      <th>주간총생활인구수</th>\n",
       "      <th>주간 남자 10대 이하</th>\n",
       "      <th>주간 여자 10대 이하</th>\n",
       "      <th>주간 남자 20-50대</th>\n",
       "      <th>주간 여자 20-50대</th>\n",
       "      <th>주간 남자 60대 이상</th>\n",
       "      <th>주간 여자 60대 이상</th>\n",
       "      <th>총사고건수</th>\n",
       "      <th>변수 총계</th>\n",
       "    </tr>\n",
       "  </thead>\n",
       "  <tbody>\n",
       "    <tr>\n",
       "      <th>0</th>\n",
       "      <td>1101061030004</td>\n",
       "      <td>POLYGON ((954298.3453845978 1952724.0565166473...</td>\n",
       "      <td>0</td>\n",
       "      <td>3</td>\n",
       "      <td>2</td>\n",
       "      <td>0</td>\n",
       "      <td>34.0</td>\n",
       "      <td>13.0</td>\n",
       "      <td>1.0</td>\n",
       "      <td>0.0</td>\n",
       "      <td>...</td>\n",
       "      <td>10277318875</td>\n",
       "      <td>8230.023184</td>\n",
       "      <td>77.684008</td>\n",
       "      <td>102.256938</td>\n",
       "      <td>3513.223358</td>\n",
       "      <td>2967.686944</td>\n",
       "      <td>891.324072</td>\n",
       "      <td>614.774726</td>\n",
       "      <td>5</td>\n",
       "      <td>105.0</td>\n",
       "    </tr>\n",
       "    <tr>\n",
       "      <th>1</th>\n",
       "      <td>1101061030004</td>\n",
       "      <td>POLYGON ((954298.3453845978 1952724.0565166473...</td>\n",
       "      <td>0</td>\n",
       "      <td>17</td>\n",
       "      <td>11</td>\n",
       "      <td>1</td>\n",
       "      <td>38.0</td>\n",
       "      <td>14.0</td>\n",
       "      <td>0.0</td>\n",
       "      <td>0.0</td>\n",
       "      <td>...</td>\n",
       "      <td>10277318875</td>\n",
       "      <td>8230.023184</td>\n",
       "      <td>77.684008</td>\n",
       "      <td>102.256938</td>\n",
       "      <td>3513.223358</td>\n",
       "      <td>2967.686944</td>\n",
       "      <td>891.324072</td>\n",
       "      <td>614.774726</td>\n",
       "      <td>29</td>\n",
       "      <td>112.0</td>\n",
       "    </tr>\n",
       "    <tr>\n",
       "      <th>2</th>\n",
       "      <td>1101061030002</td>\n",
       "      <td>POLYGON ((954897.3367862701 1953028.0343151093...</td>\n",
       "      <td>1</td>\n",
       "      <td>7</td>\n",
       "      <td>0</td>\n",
       "      <td>0</td>\n",
       "      <td>13.0</td>\n",
       "      <td>15.0</td>\n",
       "      <td>1.0</td>\n",
       "      <td>1.0</td>\n",
       "      <td>...</td>\n",
       "      <td>10277318875</td>\n",
       "      <td>5758.403367</td>\n",
       "      <td>75.145889</td>\n",
       "      <td>100.934068</td>\n",
       "      <td>2579.668056</td>\n",
       "      <td>1857.960382</td>\n",
       "      <td>519.187664</td>\n",
       "      <td>531.877902</td>\n",
       "      <td>8</td>\n",
       "      <td>48.0</td>\n",
       "    </tr>\n",
       "    <tr>\n",
       "      <th>3</th>\n",
       "      <td>1101061030001</td>\n",
       "      <td>POLYGON ((954124.9687862396 1953097.410917282,...</td>\n",
       "      <td>0</td>\n",
       "      <td>4</td>\n",
       "      <td>0</td>\n",
       "      <td>0</td>\n",
       "      <td>63.0</td>\n",
       "      <td>7.0</td>\n",
       "      <td>2.0</td>\n",
       "      <td>0.0</td>\n",
       "      <td>...</td>\n",
       "      <td>10277318875</td>\n",
       "      <td>17490.969720</td>\n",
       "      <td>109.370100</td>\n",
       "      <td>181.244090</td>\n",
       "      <td>9013.094199</td>\n",
       "      <td>6085.046981</td>\n",
       "      <td>882.282381</td>\n",
       "      <td>1023.411349</td>\n",
       "      <td>4</td>\n",
       "      <td>145.0</td>\n",
       "    </tr>\n",
       "    <tr>\n",
       "      <th>4</th>\n",
       "      <td>1101061030001</td>\n",
       "      <td>POLYGON ((954124.9687862396 1953097.410917282,...</td>\n",
       "      <td>0</td>\n",
       "      <td>1</td>\n",
       "      <td>4</td>\n",
       "      <td>0</td>\n",
       "      <td>67.0</td>\n",
       "      <td>11.0</td>\n",
       "      <td>1.0</td>\n",
       "      <td>0.0</td>\n",
       "      <td>...</td>\n",
       "      <td>10277318875</td>\n",
       "      <td>17490.969720</td>\n",
       "      <td>109.370100</td>\n",
       "      <td>181.244090</td>\n",
       "      <td>9013.094199</td>\n",
       "      <td>6085.046981</td>\n",
       "      <td>882.282381</td>\n",
       "      <td>1023.411349</td>\n",
       "      <td>5</td>\n",
       "      <td>126.0</td>\n",
       "    </tr>\n",
       "    <tr>\n",
       "      <th>...</th>\n",
       "      <td>...</td>\n",
       "      <td>...</td>\n",
       "      <td>...</td>\n",
       "      <td>...</td>\n",
       "      <td>...</td>\n",
       "      <td>...</td>\n",
       "      <td>...</td>\n",
       "      <td>...</td>\n",
       "      <td>...</td>\n",
       "      <td>...</td>\n",
       "      <td>...</td>\n",
       "      <td>...</td>\n",
       "      <td>...</td>\n",
       "      <td>...</td>\n",
       "      <td>...</td>\n",
       "      <td>...</td>\n",
       "      <td>...</td>\n",
       "      <td>...</td>\n",
       "      <td>...</td>\n",
       "      <td>...</td>\n",
       "      <td>...</td>\n",
       "    </tr>\n",
       "    <tr>\n",
       "      <th>548</th>\n",
       "      <td>1102069030008</td>\n",
       "      <td>POLYGON ((957258.9002895355 1951768.3458919525...</td>\n",
       "      <td>0</td>\n",
       "      <td>11</td>\n",
       "      <td>4</td>\n",
       "      <td>1</td>\n",
       "      <td>24.0</td>\n",
       "      <td>5.0</td>\n",
       "      <td>1.0</td>\n",
       "      <td>0.0</td>\n",
       "      <td>...</td>\n",
       "      <td>10305068875</td>\n",
       "      <td>1414.453063</td>\n",
       "      <td>22.839911</td>\n",
       "      <td>30.411815</td>\n",
       "      <td>512.646426</td>\n",
       "      <td>499.042059</td>\n",
       "      <td>161.392444</td>\n",
       "      <td>155.706242</td>\n",
       "      <td>16</td>\n",
       "      <td>55.0</td>\n",
       "    </tr>\n",
       "    <tr>\n",
       "      <th>549</th>\n",
       "      <td>1102070010006</td>\n",
       "      <td>POLYGON ((956694.0280895233 1951056.5260944366...</td>\n",
       "      <td>1</td>\n",
       "      <td>3</td>\n",
       "      <td>0</td>\n",
       "      <td>1</td>\n",
       "      <td>9.0</td>\n",
       "      <td>6.0</td>\n",
       "      <td>0.0</td>\n",
       "      <td>0.0</td>\n",
       "      <td>...</td>\n",
       "      <td>10305078125</td>\n",
       "      <td>547.650441</td>\n",
       "      <td>6.369050</td>\n",
       "      <td>11.719861</td>\n",
       "      <td>186.205694</td>\n",
       "      <td>225.047958</td>\n",
       "      <td>45.548568</td>\n",
       "      <td>50.886604</td>\n",
       "      <td>5</td>\n",
       "      <td>29.0</td>\n",
       "    </tr>\n",
       "    <tr>\n",
       "      <th>550</th>\n",
       "      <td>1102070010002</td>\n",
       "      <td>POLYGON ((956946.532491684 1951089.0478916168,...</td>\n",
       "      <td>0</td>\n",
       "      <td>3</td>\n",
       "      <td>2</td>\n",
       "      <td>0</td>\n",
       "      <td>58.0</td>\n",
       "      <td>6.0</td>\n",
       "      <td>1.0</td>\n",
       "      <td>0.0</td>\n",
       "      <td>...</td>\n",
       "      <td>10305078125</td>\n",
       "      <td>1552.006783</td>\n",
       "      <td>46.281475</td>\n",
       "      <td>50.630441</td>\n",
       "      <td>489.313959</td>\n",
       "      <td>543.939034</td>\n",
       "      <td>156.174386</td>\n",
       "      <td>192.104668</td>\n",
       "      <td>5</td>\n",
       "      <td>87.0</td>\n",
       "    </tr>\n",
       "    <tr>\n",
       "      <th>551</th>\n",
       "      <td>1102071010004</td>\n",
       "      <td>POLYGON ((956989.9009914398 1950425.0229930878...</td>\n",
       "      <td>0</td>\n",
       "      <td>3</td>\n",
       "      <td>0</td>\n",
       "      <td>1</td>\n",
       "      <td>62.0</td>\n",
       "      <td>12.0</td>\n",
       "      <td>1.0</td>\n",
       "      <td>0.0</td>\n",
       "      <td>...</td>\n",
       "      <td>10305087375</td>\n",
       "      <td>732.358347</td>\n",
       "      <td>24.479000</td>\n",
       "      <td>21.226790</td>\n",
       "      <td>206.598333</td>\n",
       "      <td>215.932915</td>\n",
       "      <td>86.232117</td>\n",
       "      <td>121.793971</td>\n",
       "      <td>4</td>\n",
       "      <td>96.0</td>\n",
       "    </tr>\n",
       "    <tr>\n",
       "      <th>552</th>\n",
       "      <td>1121052010002</td>\n",
       "      <td>POLYGON ((949365.8065204639 1944046.5014591254...</td>\n",
       "      <td>0</td>\n",
       "      <td>2</td>\n",
       "      <td>2</td>\n",
       "      <td>0</td>\n",
       "      <td>13.0</td>\n",
       "      <td>10.0</td>\n",
       "      <td>0.0</td>\n",
       "      <td>0.0</td>\n",
       "      <td>...</td>\n",
       "      <td>10748985625</td>\n",
       "      <td>2014.266828</td>\n",
       "      <td>55.548174</td>\n",
       "      <td>51.407567</td>\n",
       "      <td>659.033368</td>\n",
       "      <td>679.881235</td>\n",
       "      <td>182.914630</td>\n",
       "      <td>282.303237</td>\n",
       "      <td>4</td>\n",
       "      <td>32.0</td>\n",
       "    </tr>\n",
       "  </tbody>\n",
       "</table>\n",
       "<p>553 rows × 36 columns</p>\n",
       "</div>"
      ],
      "text/plain": [
       "        TOT_REG_CD                                           geometry  사망자수  \\\n",
       "0    1101061030004  POLYGON ((954298.3453845978 1952724.0565166473...     0   \n",
       "1    1101061030004  POLYGON ((954298.3453845978 1952724.0565166473...     0   \n",
       "2    1101061030002  POLYGON ((954897.3367862701 1953028.0343151093...     1   \n",
       "3    1101061030001  POLYGON ((954124.9687862396 1953097.410917282,...     0   \n",
       "4    1101061030001  POLYGON ((954124.9687862396 1953097.410917282,...     0   \n",
       "..             ...                                                ...   ...   \n",
       "548  1102069030008  POLYGON ((957258.9002895355 1951768.3458919525...     0   \n",
       "549  1102070010006  POLYGON ((956694.0280895233 1951056.5260944366...     1   \n",
       "550  1102070010002  POLYGON ((956946.532491684 1951089.0478916168,...     0   \n",
       "551  1102071010004  POLYGON ((956989.9009914398 1950425.0229930878...     0   \n",
       "552  1121052010002  POLYGON ((949365.8065204639 1944046.5014591254...     0   \n",
       "\n",
       "     중상자수  경상자수  부상신고자  hospital   bus  subway  univ  ...        행정동코드  \\\n",
       "0       3     2      0      34.0  13.0     1.0   0.0  ...  10277318875   \n",
       "1      17    11      1      38.0  14.0     0.0   0.0  ...  10277318875   \n",
       "2       7     0      0      13.0  15.0     1.0   1.0  ...  10277318875   \n",
       "3       4     0      0      63.0   7.0     2.0   0.0  ...  10277318875   \n",
       "4       1     4      0      67.0  11.0     1.0   0.0  ...  10277318875   \n",
       "..    ...   ...    ...       ...   ...     ...   ...  ...          ...   \n",
       "548    11     4      1      24.0   5.0     1.0   0.0  ...  10305068875   \n",
       "549     3     0      1       9.0   6.0     0.0   0.0  ...  10305078125   \n",
       "550     3     2      0      58.0   6.0     1.0   0.0  ...  10305078125   \n",
       "551     3     0      1      62.0  12.0     1.0   0.0  ...  10305087375   \n",
       "552     2     2      0      13.0  10.0     0.0   0.0  ...  10748985625   \n",
       "\n",
       "         주간총생활인구수  주간 남자 10대 이하  주간 여자 10대 이하  주간 남자 20-50대  주간 여자 20-50대  \\\n",
       "0     8230.023184     77.684008    102.256938   3513.223358   2967.686944   \n",
       "1     8230.023184     77.684008    102.256938   3513.223358   2967.686944   \n",
       "2     5758.403367     75.145889    100.934068   2579.668056   1857.960382   \n",
       "3    17490.969720    109.370100    181.244090   9013.094199   6085.046981   \n",
       "4    17490.969720    109.370100    181.244090   9013.094199   6085.046981   \n",
       "..            ...           ...           ...           ...           ...   \n",
       "548   1414.453063     22.839911     30.411815    512.646426    499.042059   \n",
       "549    547.650441      6.369050     11.719861    186.205694    225.047958   \n",
       "550   1552.006783     46.281475     50.630441    489.313959    543.939034   \n",
       "551    732.358347     24.479000     21.226790    206.598333    215.932915   \n",
       "552   2014.266828     55.548174     51.407567    659.033368    679.881235   \n",
       "\n",
       "     주간 남자 60대 이상  주간 여자 60대 이상  총사고건수  변수 총계  \n",
       "0      891.324072    614.774726      5  105.0  \n",
       "1      891.324072    614.774726     29  112.0  \n",
       "2      519.187664    531.877902      8   48.0  \n",
       "3      882.282381   1023.411349      4  145.0  \n",
       "4      882.282381   1023.411349      5  126.0  \n",
       "..            ...           ...    ...    ...  \n",
       "548    161.392444    155.706242     16   55.0  \n",
       "549     45.548568     50.886604      5   29.0  \n",
       "550    156.174386    192.104668      5   87.0  \n",
       "551     86.232117    121.793971      4   96.0  \n",
       "552    182.914630    282.303237      4   32.0  \n",
       "\n",
       "[553 rows x 36 columns]"
      ]
     },
     "execution_count": 32,
     "metadata": {},
     "output_type": "execute_result"
    }
   ],
   "source": [
    "data"
   ]
  },
  {
   "cell_type": "code",
   "execution_count": 35,
   "id": "19dba426",
   "metadata": {
    "ExecuteTime": {
     "end_time": "2022-08-16T04:34:12.299577Z",
     "start_time": "2022-08-16T04:34:12.223770Z"
    }
   },
   "outputs": [
    {
     "data": {
      "text/plain": [
       "<matplotlib.collections.PathCollection at 0x2003e9b9910>"
      ]
     },
     "execution_count": 35,
     "metadata": {},
     "output_type": "execute_result"
    },
    {
     "data": {
      "image/png": "[encoded data removed]",
      "text/plain": [
       "<Figure size 432x288 with 1 Axes>"
      ]
     },
     "metadata": {
      "needs_background": "light"
     },
     "output_type": "display_data"
    }
   ],
   "source": [
    "plt.scatter(data['변수 총계'],data['총사고건수'])#사고건수와 총 변수합과 관계확인"
   ]
  }
 ],
 "metadata": {
  "kernelspec": {
   "display_name": "Python 3 (ipykernel)",
   "language": "python",
   "name": "python3"
  },
  "language_info": {
   "codemirror_mode": {
    "name": "ipython",
    "version": 3
   },
   "file_extension": ".py",
   "mimetype": "text/x-python",
   "name": "python",
   "nbconvert_exporter": "python",
   "pygments_lexer": "ipython3",
   "version": "3.9.12"
  },
  "toc": {
   "base_numbering": 1,
   "nav_menu": {},
   "number_sections": true,
   "sideBar": true,
   "skip_h1_title": false,
   "title_cell": "Table of Contents",
   "title_sidebar": "Contents",
   "toc_cell": false,
   "toc_position": {},
   "toc_section_display": true,
   "toc_window_display": false
  }
 },
 "nbformat": 4,
 "nbformat_minor": 5
}
