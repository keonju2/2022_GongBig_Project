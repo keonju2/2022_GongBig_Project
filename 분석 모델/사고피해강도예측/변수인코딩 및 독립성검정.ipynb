{
  "nbformat": 4,
  "nbformat_minor": 0,
  "metadata": {
    "colab": {
      "name": "독립성검정 제출.ipynb",
      "provenance": [],
      "collapsed_sections": []
    },
    "kernelspec": {
      "name": "python3",
      "display_name": "Python 3"
    },
    "language_info": {
      "name": "python"
    }
  },
  "cells": [
    {
      "cell_type": "code",
      "execution_count": 2,
      "metadata": {
        "id": "RMDackr_kY8k"
      },
      "outputs": [],
      "source": [
        "import pandas as pd\n",
        "import numpy as np\n",
        "from scipy.stats import chisquare\n",
        "import scipy.stats as stats"
      ]
    },
    {
      "cell_type": "code",
      "source": [
        "data = pd.read_csv('인적사항 전처리2.csv', encoding = 'euc-kr')"
      ],
      "metadata": {
        "id": "KX0UdKD1kd_w"
      },
      "execution_count": 3,
      "outputs": []
    },
    {
      "cell_type": "code",
      "source": [
        "data"
      ],
      "metadata": {
        "colab": {
          "base_uri": "https://localhost:8080/",
          "height": 659
        },
        "id": "F7DMiJi-BRpB",
        "outputId": "7dae7721-4694-46e5-cdb7-32a361525994"
      },
      "execution_count": 4,
      "outputs": [
        {
          "output_type": "execute_result",
          "data": {
            "text/plain": [
              "      Unnamed: 0               사고일시  요일     노면상태 기상상태          도로형태 가해운전자 차종  \\\n",
              "0              0   2007년 1월 11일 01시   4  포장 - 건조   맑음      단일로 - 기타       승용   \n",
              "1              1   2007년 2월 14일 20시   3  포장 - 건조   맑음      단일로 - 기타       승용   \n",
              "2              2    2008년 3월 5일 00시   3  포장 - 건조   맑음      단일로 - 기타       승용   \n",
              "3              3   2008년 3월 19일 15시   3  포장 - 건조   맑음      단일로 - 기타       승용   \n",
              "4              4    2008년 4월 7일 16시   1  포장 - 건조   맑음  단일로 - 횡단보도부근       이륜   \n",
              "...          ...                ...  ..      ...  ...           ...      ...   \n",
              "9125        9127   2020년 9월 14일 15시   1  포장 - 건조   맑음      단일로 - 기타       승합   \n",
              "9126        9128   2020년 9월 23일 22시   3  포장 - 건조   맑음      단일로 - 기타       이륜   \n",
              "9127        9129  2020년 10월 10일 23시   6  포장 - 건조   맑음   교차로 - 교차로부근       승용   \n",
              "9128        9130  2020년 11월 24일 01시   2  포장 - 건조   흐림    교차로 - 교차로안       승용   \n",
              "9129        9131   2020년 12월 4일 20시   5  포장 - 건조   맑음      단일로 - 기타       이륜   \n",
              "\n",
              "     가해운전자 성별 가해운전자 연령  피해운전자 성별 피해운전자 연령 피해운전자 상해정도    나이  연령대   월  사고시간대  \n",
              "0           남      51세       0.0      51세         경상  51.0   50   1      1  \n",
              "1           남      40세       0.0      70세         사망  70.0   70   2     20  \n",
              "2           남      57세       0.0      57세         중상  57.0   50   3      0  \n",
              "3           남      63세       0.0      62세         중상  62.0   60   3     15  \n",
              "4           남      40세       0.0      85세         경상  85.0   80   4     16  \n",
              "...       ...      ...       ...      ...        ...   ...  ...  ..    ...  \n",
              "9125        남      74세       1.0      76세         중상  76.0   70   9     15  \n",
              "9126        남      19세       1.0      59세         중상  59.0   50   9     22  \n",
              "9127        여      37세       0.0      39세         경상  39.0   30  10     23  \n",
              "9128        남      54세       0.0      58세         경상  58.0   50  11      1  \n",
              "9129        남      43세       0.0      50세         경상  50.0   50  12     20  \n",
              "\n",
              "[9130 rows x 16 columns]"
            ],
            "text/html": [
              "\n",
              "  <div id=\"df-12d63e14-8100-4f16-9da2-c4b91303c3f4\">\n",
              "    <div class=\"colab-df-container\">\n",
              "      <div>\n",
              "<style scoped>\n",
              "    .dataframe tbody tr th:only-of-type {\n",
              "        vertical-align: middle;\n",
              "    }\n",
              "\n",
              "    .dataframe tbody tr th {\n",
              "        vertical-align: top;\n",
              "    }\n",
              "\n",
              "    .dataframe thead th {\n",
              "        text-align: right;\n",
              "    }\n",
              "</style>\n",
              "<table border=\"1\" class=\"dataframe\">\n",
              "  <thead>\n",
              "    <tr style=\"text-align: right;\">\n",
              "      <th></th>\n",
              "      <th>Unnamed: 0</th>\n",
              "      <th>사고일시</th>\n",
              "      <th>요일</th>\n",
              "      <th>노면상태</th>\n",
              "      <th>기상상태</th>\n",
              "      <th>도로형태</th>\n",
              "      <th>가해운전자 차종</th>\n",
              "      <th>가해운전자 성별</th>\n",
              "      <th>가해운전자 연령</th>\n",
              "      <th>피해운전자 성별</th>\n",
              "      <th>피해운전자 연령</th>\n",
              "      <th>피해운전자 상해정도</th>\n",
              "      <th>나이</th>\n",
              "      <th>연령대</th>\n",
              "      <th>월</th>\n",
              "      <th>사고시간대</th>\n",
              "    </tr>\n",
              "  </thead>\n",
              "  <tbody>\n",
              "    <tr>\n",
              "      <th>0</th>\n",
              "      <td>0</td>\n",
              "      <td>2007년 1월 11일 01시</td>\n",
              "      <td>4</td>\n",
              "      <td>포장 - 건조</td>\n",
              "      <td>맑음</td>\n",
              "      <td>단일로 - 기타</td>\n",
              "      <td>승용</td>\n",
              "      <td>남</td>\n",
              "      <td>51세</td>\n",
              "      <td>0.0</td>\n",
              "      <td>51세</td>\n",
              "      <td>경상</td>\n",
              "      <td>51.0</td>\n",
              "      <td>50</td>\n",
              "      <td>1</td>\n",
              "      <td>1</td>\n",
              "    </tr>\n",
              "    <tr>\n",
              "      <th>1</th>\n",
              "      <td>1</td>\n",
              "      <td>2007년 2월 14일 20시</td>\n",
              "      <td>3</td>\n",
              "      <td>포장 - 건조</td>\n",
              "      <td>맑음</td>\n",
              "      <td>단일로 - 기타</td>\n",
              "      <td>승용</td>\n",
              "      <td>남</td>\n",
              "      <td>40세</td>\n",
              "      <td>0.0</td>\n",
              "      <td>70세</td>\n",
              "      <td>사망</td>\n",
              "      <td>70.0</td>\n",
              "      <td>70</td>\n",
              "      <td>2</td>\n",
              "      <td>20</td>\n",
              "    </tr>\n",
              "    <tr>\n",
              "      <th>2</th>\n",
              "      <td>2</td>\n",
              "      <td>2008년 3월 5일 00시</td>\n",
              "      <td>3</td>\n",
              "      <td>포장 - 건조</td>\n",
              "      <td>맑음</td>\n",
              "      <td>단일로 - 기타</td>\n",
              "      <td>승용</td>\n",
              "      <td>남</td>\n",
              "      <td>57세</td>\n",
              "      <td>0.0</td>\n",
              "      <td>57세</td>\n",
              "      <td>중상</td>\n",
              "      <td>57.0</td>\n",
              "      <td>50</td>\n",
              "      <td>3</td>\n",
              "      <td>0</td>\n",
              "    </tr>\n",
              "    <tr>\n",
              "      <th>3</th>\n",
              "      <td>3</td>\n",
              "      <td>2008년 3월 19일 15시</td>\n",
              "      <td>3</td>\n",
              "      <td>포장 - 건조</td>\n",
              "      <td>맑음</td>\n",
              "      <td>단일로 - 기타</td>\n",
              "      <td>승용</td>\n",
              "      <td>남</td>\n",
              "      <td>63세</td>\n",
              "      <td>0.0</td>\n",
              "      <td>62세</td>\n",
              "      <td>중상</td>\n",
              "      <td>62.0</td>\n",
              "      <td>60</td>\n",
              "      <td>3</td>\n",
              "      <td>15</td>\n",
              "    </tr>\n",
              "    <tr>\n",
              "      <th>4</th>\n",
              "      <td>4</td>\n",
              "      <td>2008년 4월 7일 16시</td>\n",
              "      <td>1</td>\n",
              "      <td>포장 - 건조</td>\n",
              "      <td>맑음</td>\n",
              "      <td>단일로 - 횡단보도부근</td>\n",
              "      <td>이륜</td>\n",
              "      <td>남</td>\n",
              "      <td>40세</td>\n",
              "      <td>0.0</td>\n",
              "      <td>85세</td>\n",
              "      <td>경상</td>\n",
              "      <td>85.0</td>\n",
              "      <td>80</td>\n",
              "      <td>4</td>\n",
              "      <td>16</td>\n",
              "    </tr>\n",
              "    <tr>\n",
              "      <th>...</th>\n",
              "      <td>...</td>\n",
              "      <td>...</td>\n",
              "      <td>...</td>\n",
              "      <td>...</td>\n",
              "      <td>...</td>\n",
              "      <td>...</td>\n",
              "      <td>...</td>\n",
              "      <td>...</td>\n",
              "      <td>...</td>\n",
              "      <td>...</td>\n",
              "      <td>...</td>\n",
              "      <td>...</td>\n",
              "      <td>...</td>\n",
              "      <td>...</td>\n",
              "      <td>...</td>\n",
              "      <td>...</td>\n",
              "    </tr>\n",
              "    <tr>\n",
              "      <th>9125</th>\n",
              "      <td>9127</td>\n",
              "      <td>2020년 9월 14일 15시</td>\n",
              "      <td>1</td>\n",
              "      <td>포장 - 건조</td>\n",
              "      <td>맑음</td>\n",
              "      <td>단일로 - 기타</td>\n",
              "      <td>승합</td>\n",
              "      <td>남</td>\n",
              "      <td>74세</td>\n",
              "      <td>1.0</td>\n",
              "      <td>76세</td>\n",
              "      <td>중상</td>\n",
              "      <td>76.0</td>\n",
              "      <td>70</td>\n",
              "      <td>9</td>\n",
              "      <td>15</td>\n",
              "    </tr>\n",
              "    <tr>\n",
              "      <th>9126</th>\n",
              "      <td>9128</td>\n",
              "      <td>2020년 9월 23일 22시</td>\n",
              "      <td>3</td>\n",
              "      <td>포장 - 건조</td>\n",
              "      <td>맑음</td>\n",
              "      <td>단일로 - 기타</td>\n",
              "      <td>이륜</td>\n",
              "      <td>남</td>\n",
              "      <td>19세</td>\n",
              "      <td>1.0</td>\n",
              "      <td>59세</td>\n",
              "      <td>중상</td>\n",
              "      <td>59.0</td>\n",
              "      <td>50</td>\n",
              "      <td>9</td>\n",
              "      <td>22</td>\n",
              "    </tr>\n",
              "    <tr>\n",
              "      <th>9127</th>\n",
              "      <td>9129</td>\n",
              "      <td>2020년 10월 10일 23시</td>\n",
              "      <td>6</td>\n",
              "      <td>포장 - 건조</td>\n",
              "      <td>맑음</td>\n",
              "      <td>교차로 - 교차로부근</td>\n",
              "      <td>승용</td>\n",
              "      <td>여</td>\n",
              "      <td>37세</td>\n",
              "      <td>0.0</td>\n",
              "      <td>39세</td>\n",
              "      <td>경상</td>\n",
              "      <td>39.0</td>\n",
              "      <td>30</td>\n",
              "      <td>10</td>\n",
              "      <td>23</td>\n",
              "    </tr>\n",
              "    <tr>\n",
              "      <th>9128</th>\n",
              "      <td>9130</td>\n",
              "      <td>2020년 11월 24일 01시</td>\n",
              "      <td>2</td>\n",
              "      <td>포장 - 건조</td>\n",
              "      <td>흐림</td>\n",
              "      <td>교차로 - 교차로안</td>\n",
              "      <td>승용</td>\n",
              "      <td>남</td>\n",
              "      <td>54세</td>\n",
              "      <td>0.0</td>\n",
              "      <td>58세</td>\n",
              "      <td>경상</td>\n",
              "      <td>58.0</td>\n",
              "      <td>50</td>\n",
              "      <td>11</td>\n",
              "      <td>1</td>\n",
              "    </tr>\n",
              "    <tr>\n",
              "      <th>9129</th>\n",
              "      <td>9131</td>\n",
              "      <td>2020년 12월 4일 20시</td>\n",
              "      <td>5</td>\n",
              "      <td>포장 - 건조</td>\n",
              "      <td>맑음</td>\n",
              "      <td>단일로 - 기타</td>\n",
              "      <td>이륜</td>\n",
              "      <td>남</td>\n",
              "      <td>43세</td>\n",
              "      <td>0.0</td>\n",
              "      <td>50세</td>\n",
              "      <td>경상</td>\n",
              "      <td>50.0</td>\n",
              "      <td>50</td>\n",
              "      <td>12</td>\n",
              "      <td>20</td>\n",
              "    </tr>\n",
              "  </tbody>\n",
              "</table>\n",
              "<p>9130 rows × 16 columns</p>\n",
              "</div>\n",
              "      <button class=\"colab-df-convert\" onclick=\"convertToInteractive('df-12d63e14-8100-4f16-9da2-c4b91303c3f4')\"\n",
              "              title=\"Convert this dataframe to an interactive table.\"\n",
              "              style=\"display:none;\">\n",
              "        \n",
              "  <svg xmlns=\"http://www.w3.org/2000/svg\" height=\"24px\"viewBox=\"0 0 24 24\"\n",
              "       width=\"24px\">\n",
              "    <path d=\"M0 0h24v24H0V0z\" fill=\"none\"/>\n",
              "    <path d=\"M18.56 5.44l.94 2.06.94-2.06 2.06-.94-2.06-.94-.94-2.06-.94 2.06-2.06.94zm-11 1L8.5 8.5l.94-2.06 2.06-.94-2.06-.94L8.5 2.5l-.94 2.06-2.06.94zm10 10l.94 2.06.94-2.06 2.06-.94-2.06-.94-.94-2.06-.94 2.06-2.06.94z\"/><path d=\"M17.41 7.96l-1.37-1.37c-.4-.4-.92-.59-1.43-.59-.52 0-1.04.2-1.43.59L10.3 9.45l-7.72 7.72c-.78.78-.78 2.05 0 2.83L4 21.41c.39.39.9.59 1.41.59.51 0 1.02-.2 1.41-.59l7.78-7.78 2.81-2.81c.8-.78.8-2.07 0-2.86zM5.41 20L4 18.59l7.72-7.72 1.47 1.35L5.41 20z\"/>\n",
              "  </svg>\n",
              "      </button>\n",
              "      \n",
              "  <style>\n",
              "    .colab-df-container {\n",
              "      display:flex;\n",
              "      flex-wrap:wrap;\n",
              "      gap: 12px;\n",
              "    }\n",
              "\n",
              "    .colab-df-convert {\n",
              "      background-color: #E8F0FE;\n",
              "      border: none;\n",
              "      border-radius: 50%;\n",
              "      cursor: pointer;\n",
              "      display: none;\n",
              "      fill: #1967D2;\n",
              "      height: 32px;\n",
              "      padding: 0 0 0 0;\n",
              "      width: 32px;\n",
              "    }\n",
              "\n",
              "    .colab-df-convert:hover {\n",
              "      background-color: #E2EBFA;\n",
              "      box-shadow: 0px 1px 2px rgba(60, 64, 67, 0.3), 0px 1px 3px 1px rgba(60, 64, 67, 0.15);\n",
              "      fill: #174EA6;\n",
              "    }\n",
              "\n",
              "    [theme=dark] .colab-df-convert {\n",
              "      background-color: #3B4455;\n",
              "      fill: #D2E3FC;\n",
              "    }\n",
              "\n",
              "    [theme=dark] .colab-df-convert:hover {\n",
              "      background-color: #434B5C;\n",
              "      box-shadow: 0px 1px 3px 1px rgba(0, 0, 0, 0.15);\n",
              "      filter: drop-shadow(0px 1px 2px rgba(0, 0, 0, 0.3));\n",
              "      fill: #FFFFFF;\n",
              "    }\n",
              "  </style>\n",
              "\n",
              "      <script>\n",
              "        const buttonEl =\n",
              "          document.querySelector('#df-12d63e14-8100-4f16-9da2-c4b91303c3f4 button.colab-df-convert');\n",
              "        buttonEl.style.display =\n",
              "          google.colab.kernel.accessAllowed ? 'block' : 'none';\n",
              "\n",
              "        async function convertToInteractive(key) {\n",
              "          const element = document.querySelector('#df-12d63e14-8100-4f16-9da2-c4b91303c3f4');\n",
              "          const dataTable =\n",
              "            await google.colab.kernel.invokeFunction('convertToInteractive',\n",
              "                                                     [key], {});\n",
              "          if (!dataTable) return;\n",
              "\n",
              "          const docLinkHtml = 'Like what you see? Visit the ' +\n",
              "            '<a target=\"_blank\" href=https://colab.research.google.com/notebooks/data_table.ipynb>data table notebook</a>'\n",
              "            + ' to learn more about interactive tables.';\n",
              "          element.innerHTML = '';\n",
              "          dataTable['output_type'] = 'display_data';\n",
              "          await google.colab.output.renderOutput(dataTable, element);\n",
              "          const docLink = document.createElement('div');\n",
              "          docLink.innerHTML = docLinkHtml;\n",
              "          element.appendChild(docLink);\n",
              "        }\n",
              "      </script>\n",
              "    </div>\n",
              "  </div>\n",
              "  "
            ]
          },
          "metadata": {},
          "execution_count": 4
        }
      ]
    },
    {
      "cell_type": "code",
      "source": [
        "# 사고일시를 월과 시간으로 나누고, 피해운전자 연령을 연령대로 나누었습니다.\n",
        "# 그 후, 독립성검정을 위해 필요한 컬럼만 뽑아 데이터셋을 만들었습니다."
      ],
      "metadata": {
        "id": "cWbdvb51F2-y"
      },
      "execution_count": 5,
      "outputs": []
    },
    {
      "cell_type": "code",
      "source": [
        "col = ['월','사고시간대', '요일', '노면상태', '기상상태', '도로형태', '가해운전자 차종', '피해운전자 성별',\n",
        "       '연령대','피해운전자 상해정도']"
      ],
      "metadata": {
        "id": "BJrZxgnSkkoj"
      },
      "execution_count": 6,
      "outputs": []
    },
    {
      "cell_type": "code",
      "source": [
        "df = pd.DataFrame( columns = col, data = data)"
      ],
      "metadata": {
        "id": "l14_gngAkopX"
      },
      "execution_count": 7,
      "outputs": []
    },
    {
      "cell_type": "code",
      "source": [
        "df.info()"
      ],
      "metadata": {
        "colab": {
          "base_uri": "https://localhost:8080/"
        },
        "id": "o5Zj6qpvlcYq",
        "outputId": "7984660c-e27b-4acb-b827-a2f07844fa4a"
      },
      "execution_count": 8,
      "outputs": [
        {
          "output_type": "stream",
          "name": "stdout",
          "text": [
            "<class 'pandas.core.frame.DataFrame'>\n",
            "RangeIndex: 9130 entries, 0 to 9129\n",
            "Data columns (total 10 columns):\n",
            " #   Column      Non-Null Count  Dtype  \n",
            "---  ------      --------------  -----  \n",
            " 0   월           9130 non-null   int64  \n",
            " 1   사고시간대       9130 non-null   int64  \n",
            " 2   요일          9130 non-null   int64  \n",
            " 3   노면상태        9130 non-null   object \n",
            " 4   기상상태        9130 non-null   object \n",
            " 5   도로형태        9130 non-null   object \n",
            " 6   가해운전자 차종    9130 non-null   object \n",
            " 7   피해운전자 성별    9130 non-null   float64\n",
            " 8   연령대         9130 non-null   int64  \n",
            " 9   피해운전자 상해정도  9130 non-null   object \n",
            "dtypes: float64(1), int64(4), object(5)\n",
            "memory usage: 713.4+ KB\n"
          ]
        }
      ]
    },
    {
      "cell_type": "code",
      "source": [
        "df.head()"
      ],
      "metadata": {
        "colab": {
          "base_uri": "https://localhost:8080/",
          "height": 206
        },
        "id": "HA1Q_N4OkpRE",
        "outputId": "5b675b1c-65c8-4601-f6ac-56776311abc9"
      },
      "execution_count": 9,
      "outputs": [
        {
          "output_type": "execute_result",
          "data": {
            "text/plain": [
              "   월  사고시간대  요일     노면상태 기상상태          도로형태 가해운전자 차종  피해운전자 성별  연령대 피해운전자 상해정도\n",
              "0  1      1   4  포장 - 건조   맑음      단일로 - 기타       승용       0.0   50         경상\n",
              "1  2     20   3  포장 - 건조   맑음      단일로 - 기타       승용       0.0   70         사망\n",
              "2  3      0   3  포장 - 건조   맑음      단일로 - 기타       승용       0.0   50         중상\n",
              "3  3     15   3  포장 - 건조   맑음      단일로 - 기타       승용       0.0   60         중상\n",
              "4  4     16   1  포장 - 건조   맑음  단일로 - 횡단보도부근       이륜       0.0   80         경상"
            ],
            "text/html": [
              "\n",
              "  <div id=\"df-23870594-cee0-49cb-8bea-009903ca520c\">\n",
              "    <div class=\"colab-df-container\">\n",
              "      <div>\n",
              "<style scoped>\n",
              "    .dataframe tbody tr th:only-of-type {\n",
              "        vertical-align: middle;\n",
              "    }\n",
              "\n",
              "    .dataframe tbody tr th {\n",
              "        vertical-align: top;\n",
              "    }\n",
              "\n",
              "    .dataframe thead th {\n",
              "        text-align: right;\n",
              "    }\n",
              "</style>\n",
              "<table border=\"1\" class=\"dataframe\">\n",
              "  <thead>\n",
              "    <tr style=\"text-align: right;\">\n",
              "      <th></th>\n",
              "      <th>월</th>\n",
              "      <th>사고시간대</th>\n",
              "      <th>요일</th>\n",
              "      <th>노면상태</th>\n",
              "      <th>기상상태</th>\n",
              "      <th>도로형태</th>\n",
              "      <th>가해운전자 차종</th>\n",
              "      <th>피해운전자 성별</th>\n",
              "      <th>연령대</th>\n",
              "      <th>피해운전자 상해정도</th>\n",
              "    </tr>\n",
              "  </thead>\n",
              "  <tbody>\n",
              "    <tr>\n",
              "      <th>0</th>\n",
              "      <td>1</td>\n",
              "      <td>1</td>\n",
              "      <td>4</td>\n",
              "      <td>포장 - 건조</td>\n",
              "      <td>맑음</td>\n",
              "      <td>단일로 - 기타</td>\n",
              "      <td>승용</td>\n",
              "      <td>0.0</td>\n",
              "      <td>50</td>\n",
              "      <td>경상</td>\n",
              "    </tr>\n",
              "    <tr>\n",
              "      <th>1</th>\n",
              "      <td>2</td>\n",
              "      <td>20</td>\n",
              "      <td>3</td>\n",
              "      <td>포장 - 건조</td>\n",
              "      <td>맑음</td>\n",
              "      <td>단일로 - 기타</td>\n",
              "      <td>승용</td>\n",
              "      <td>0.0</td>\n",
              "      <td>70</td>\n",
              "      <td>사망</td>\n",
              "    </tr>\n",
              "    <tr>\n",
              "      <th>2</th>\n",
              "      <td>3</td>\n",
              "      <td>0</td>\n",
              "      <td>3</td>\n",
              "      <td>포장 - 건조</td>\n",
              "      <td>맑음</td>\n",
              "      <td>단일로 - 기타</td>\n",
              "      <td>승용</td>\n",
              "      <td>0.0</td>\n",
              "      <td>50</td>\n",
              "      <td>중상</td>\n",
              "    </tr>\n",
              "    <tr>\n",
              "      <th>3</th>\n",
              "      <td>3</td>\n",
              "      <td>15</td>\n",
              "      <td>3</td>\n",
              "      <td>포장 - 건조</td>\n",
              "      <td>맑음</td>\n",
              "      <td>단일로 - 기타</td>\n",
              "      <td>승용</td>\n",
              "      <td>0.0</td>\n",
              "      <td>60</td>\n",
              "      <td>중상</td>\n",
              "    </tr>\n",
              "    <tr>\n",
              "      <th>4</th>\n",
              "      <td>4</td>\n",
              "      <td>16</td>\n",
              "      <td>1</td>\n",
              "      <td>포장 - 건조</td>\n",
              "      <td>맑음</td>\n",
              "      <td>단일로 - 횡단보도부근</td>\n",
              "      <td>이륜</td>\n",
              "      <td>0.0</td>\n",
              "      <td>80</td>\n",
              "      <td>경상</td>\n",
              "    </tr>\n",
              "  </tbody>\n",
              "</table>\n",
              "</div>\n",
              "      <button class=\"colab-df-convert\" onclick=\"convertToInteractive('df-23870594-cee0-49cb-8bea-009903ca520c')\"\n",
              "              title=\"Convert this dataframe to an interactive table.\"\n",
              "              style=\"display:none;\">\n",
              "        \n",
              "  <svg xmlns=\"http://www.w3.org/2000/svg\" height=\"24px\"viewBox=\"0 0 24 24\"\n",
              "       width=\"24px\">\n",
              "    <path d=\"M0 0h24v24H0V0z\" fill=\"none\"/>\n",
              "    <path d=\"M18.56 5.44l.94 2.06.94-2.06 2.06-.94-2.06-.94-.94-2.06-.94 2.06-2.06.94zm-11 1L8.5 8.5l.94-2.06 2.06-.94-2.06-.94L8.5 2.5l-.94 2.06-2.06.94zm10 10l.94 2.06.94-2.06 2.06-.94-2.06-.94-.94-2.06-.94 2.06-2.06.94z\"/><path d=\"M17.41 7.96l-1.37-1.37c-.4-.4-.92-.59-1.43-.59-.52 0-1.04.2-1.43.59L10.3 9.45l-7.72 7.72c-.78.78-.78 2.05 0 2.83L4 21.41c.39.39.9.59 1.41.59.51 0 1.02-.2 1.41-.59l7.78-7.78 2.81-2.81c.8-.78.8-2.07 0-2.86zM5.41 20L4 18.59l7.72-7.72 1.47 1.35L5.41 20z\"/>\n",
              "  </svg>\n",
              "      </button>\n",
              "      \n",
              "  <style>\n",
              "    .colab-df-container {\n",
              "      display:flex;\n",
              "      flex-wrap:wrap;\n",
              "      gap: 12px;\n",
              "    }\n",
              "\n",
              "    .colab-df-convert {\n",
              "      background-color: #E8F0FE;\n",
              "      border: none;\n",
              "      border-radius: 50%;\n",
              "      cursor: pointer;\n",
              "      display: none;\n",
              "      fill: #1967D2;\n",
              "      height: 32px;\n",
              "      padding: 0 0 0 0;\n",
              "      width: 32px;\n",
              "    }\n",
              "\n",
              "    .colab-df-convert:hover {\n",
              "      background-color: #E2EBFA;\n",
              "      box-shadow: 0px 1px 2px rgba(60, 64, 67, 0.3), 0px 1px 3px 1px rgba(60, 64, 67, 0.15);\n",
              "      fill: #174EA6;\n",
              "    }\n",
              "\n",
              "    [theme=dark] .colab-df-convert {\n",
              "      background-color: #3B4455;\n",
              "      fill: #D2E3FC;\n",
              "    }\n",
              "\n",
              "    [theme=dark] .colab-df-convert:hover {\n",
              "      background-color: #434B5C;\n",
              "      box-shadow: 0px 1px 3px 1px rgba(0, 0, 0, 0.15);\n",
              "      filter: drop-shadow(0px 1px 2px rgba(0, 0, 0, 0.3));\n",
              "      fill: #FFFFFF;\n",
              "    }\n",
              "  </style>\n",
              "\n",
              "      <script>\n",
              "        const buttonEl =\n",
              "          document.querySelector('#df-23870594-cee0-49cb-8bea-009903ca520c button.colab-df-convert');\n",
              "        buttonEl.style.display =\n",
              "          google.colab.kernel.accessAllowed ? 'block' : 'none';\n",
              "\n",
              "        async function convertToInteractive(key) {\n",
              "          const element = document.querySelector('#df-23870594-cee0-49cb-8bea-009903ca520c');\n",
              "          const dataTable =\n",
              "            await google.colab.kernel.invokeFunction('convertToInteractive',\n",
              "                                                     [key], {});\n",
              "          if (!dataTable) return;\n",
              "\n",
              "          const docLinkHtml = 'Like what you see? Visit the ' +\n",
              "            '<a target=\"_blank\" href=https://colab.research.google.com/notebooks/data_table.ipynb>data table notebook</a>'\n",
              "            + ' to learn more about interactive tables.';\n",
              "          element.innerHTML = '';\n",
              "          dataTable['output_type'] = 'display_data';\n",
              "          await google.colab.output.renderOutput(dataTable, element);\n",
              "          const docLink = document.createElement('div');\n",
              "          docLink.innerHTML = docLinkHtml;\n",
              "          element.appendChild(docLink);\n",
              "        }\n",
              "      </script>\n",
              "    </div>\n",
              "  </div>\n",
              "  "
            ]
          },
          "metadata": {},
          "execution_count": 9
        }
      ]
    },
    {
      "cell_type": "code",
      "source": [
        "# 변수채택 = 가해운전자 차종, 도로형태, 요일, 피해운전자 성별, 연령대, 사고시간대, 월"
      ],
      "metadata": {
        "id": "7jV1viS7htHq"
      },
      "execution_count": 10,
      "outputs": []
    },
    {
      "cell_type": "code",
      "source": [
        "## 피해운전자 상해정도와 변수들의 교차표 생성\n",
        "\n",
        "ctab1 = pd.crosstab(df['가해운전자 차종'],df['피해운전자 상해정도']) \n",
        "ctab2 = pd.crosstab(df['도로형태'],df['피해운전자 상해정도']) \n",
        "ctab3 = pd.crosstab(df['기상상태'],df['피해운전자 상해정도']) \n",
        "ctab4 = pd.crosstab(df['노면상태'],df['피해운전자 상해정도']) \n",
        "ctab5 = pd.crosstab(df['요일'],df['피해운전자 상해정도']) \n",
        "ctab6 = pd.crosstab(df['피해운전자 성별'],df['피해운전자 상해정도']) \n",
        "ctab7 = pd.crosstab(df['연령대'],df['피해운전자 상해정도']) \n",
        "ctab8 = pd.crosstab(df['사고시간대'],df['피해운전자 상해정도']) \n",
        "ctab9 = pd.crosstab(df['월'],df['피해운전자 상해정도']) "
      ],
      "metadata": {
        "id": "L930b-s-kuGD"
      },
      "execution_count": 12,
      "outputs": []
    },
    {
      "cell_type": "code",
      "source": [
        "# 피해운전자 상해정도와 가해운전자 차종, 도로형태, 기상상태, 노면상태, 요일, 피해운전자 성별, 피해운전자 연령대, 사고시간대, 사고 월에 대하여 독립성 검정을 통해 \n",
        "# 독립성을 확인했습니다"
      ],
      "metadata": {
        "id": "MT5BDOBBL6d1"
      },
      "execution_count": 13,
      "outputs": []
    },
    {
      "cell_type": "code",
      "source": [
        "chi2, p, fe, _=stats.chi2_contingency(ctab1)\n",
        "print('통계량:',chi2,'p:', p,'자유도:', fe)"
      ],
      "metadata": {
        "colab": {
          "base_uri": "https://localhost:8080/"
        },
        "id": "xGgylaWwlJ0Q",
        "outputId": "ffa28af5-5a0e-4751-a8d4-8ebe29dc07a0"
      },
      "execution_count": 14,
      "outputs": [
        {
          "output_type": "stream",
          "name": "stdout",
          "text": [
            "통계량: 447.66805505925794 p: 1.6669619022912897e-72 자유도: 36\n"
          ]
        }
      ]
    },
    {
      "cell_type": "code",
      "source": [
        "chi2, p, fe, _=stats.chi2_contingency(ctab2)\n",
        "print('통계량:',chi2,'p:', p,'자유도:', fe)"
      ],
      "metadata": {
        "colab": {
          "base_uri": "https://localhost:8080/"
        },
        "id": "qqbtC0iUrse2",
        "outputId": "7ee4e245-d89d-4811-a127-fda092fae5d9"
      },
      "execution_count": 15,
      "outputs": [
        {
          "output_type": "stream",
          "name": "stdout",
          "text": [
            "통계량: 117.28276973456533 p: 1.3897045503358734e-08 자유도: 44\n"
          ]
        }
      ]
    },
    {
      "cell_type": "code",
      "source": [
        "chi2, p, fe, _=stats.chi2_contingency(ctab3)\n",
        "print('통계량:',chi2,'p:', p,'자유도:', fe)"
      ],
      "metadata": {
        "colab": {
          "base_uri": "https://localhost:8080/"
        },
        "id": "0TWqntNCrz_Q",
        "outputId": "4cdaa99a-43c1-44cb-e2f7-7a9d12c3bb8e"
      },
      "execution_count": 16,
      "outputs": [
        {
          "output_type": "stream",
          "name": "stdout",
          "text": [
            "통계량: 18.724286270194057 p: 0.5398072072696161 자유도: 20\n"
          ]
        }
      ]
    },
    {
      "cell_type": "code",
      "source": [
        "chi2, p, fe, _=stats.chi2_contingency(ctab4)\n",
        "print('통계량:',chi2,'p:', p,'자유도:', fe)"
      ],
      "metadata": {
        "colab": {
          "base_uri": "https://localhost:8080/"
        },
        "id": "OAnkCqLzrz9b",
        "outputId": "b72bf72e-efff-4be4-b915-aa5a66b34d7f"
      },
      "execution_count": 17,
      "outputs": [
        {
          "output_type": "stream",
          "name": "stdout",
          "text": [
            "통계량: 36.03253310246504 p: 0.28537646832493807 자유도: 32\n"
          ]
        }
      ]
    },
    {
      "cell_type": "code",
      "source": [
        "chi2, p, fe, _=stats.chi2_contingency(ctab5)\n",
        "print('통계량:',chi2,'p:', p,'자유도:', fe)"
      ],
      "metadata": {
        "colab": {
          "base_uri": "https://localhost:8080/"
        },
        "id": "WZbyNsqOrz7J",
        "outputId": "a6a36b1a-9a11-4f3c-cb77-cc5e795a94e0"
      },
      "execution_count": 18,
      "outputs": [
        {
          "output_type": "stream",
          "name": "stdout",
          "text": [
            "통계량: 63.352371558041334 p: 2.1165834394580605e-05 자유도: 24\n"
          ]
        }
      ]
    },
    {
      "cell_type": "code",
      "source": [
        "chi2, p, fe, _=stats.chi2_contingency(ctab6)\n",
        "print('통계량:',chi2,'p:', p,'자유도:', fe)"
      ],
      "metadata": {
        "colab": {
          "base_uri": "https://localhost:8080/"
        },
        "id": "Pc65QPuDrz5H",
        "outputId": "08b285a6-de06-4f32-c622-5f8085931135"
      },
      "execution_count": 19,
      "outputs": [
        {
          "output_type": "stream",
          "name": "stdout",
          "text": [
            "통계량: 44.36361237737601 p: 5.391520293253985e-09 자유도: 4\n"
          ]
        }
      ]
    },
    {
      "cell_type": "code",
      "source": [
        "chi2, p, fe, _=stats.chi2_contingency(ctab7)\n",
        "print('통계량:',chi2,'p:', p,'자유도:', fe)"
      ],
      "metadata": {
        "colab": {
          "base_uri": "https://localhost:8080/"
        },
        "id": "-BWwhRGirz2u",
        "outputId": "743283bb-69c8-4f8d-d161-36ec65139609"
      },
      "execution_count": 20,
      "outputs": [
        {
          "output_type": "stream",
          "name": "stdout",
          "text": [
            "통계량: 703.7633639316833 p: 8.686439067533684e-125 자유도: 36\n"
          ]
        }
      ]
    },
    {
      "cell_type": "code",
      "source": [
        "chi2, p, fe, _=stats.chi2_contingency(ctab8)\n",
        "print('통계량:',chi2,'p:', p,'자유도:', fe)"
      ],
      "metadata": {
        "colab": {
          "base_uri": "https://localhost:8080/"
        },
        "id": "XsDgjKkirz0Z",
        "outputId": "f11e352d-217c-498e-ba7b-f1cd0926ddda"
      },
      "execution_count": 21,
      "outputs": [
        {
          "output_type": "stream",
          "name": "stdout",
          "text": [
            "통계량: 339.8992531774982 p: 4.0810717626255205e-30 자유도: 92\n"
          ]
        }
      ]
    },
    {
      "cell_type": "code",
      "source": [
        "chi2, p, fe, _=stats.chi2_contingency(ctab9)\n",
        "print('통계량:',chi2,'p:', p,'자유도:', fe)"
      ],
      "metadata": {
        "colab": {
          "base_uri": "https://localhost:8080/"
        },
        "id": "E8yHjThfrzyQ",
        "outputId": "68ea7b73-23e1-407e-e3fd-99e476e66e66"
      },
      "execution_count": 22,
      "outputs": [
        {
          "output_type": "stream",
          "name": "stdout",
          "text": [
            "통계량: 96.42553937831465 p: 8.650344184056168e-06 자유도: 44\n"
          ]
        }
      ]
    },
    {
      "cell_type": "markdown",
      "source": [
        "**독립변수를 묶은 후 독립성검정**\n",
        "* 월 > 계절\n",
        "* 사고시간대 > 주간, 야간\n",
        "* 요일 > 평일, 주말\n",
        "* 가해운전자 차종 > 승용, 승합, 이륜, 기타, 특수차\n",
        "* 도로형태 > 단일로, 교차로, 기타\n",
        "\n"
      ],
      "metadata": {
        "id": "ZavDumqZi6LK"
      }
    },
    {
      "cell_type": "code",
      "source": [
        "df.head()"
      ],
      "metadata": {
        "colab": {
          "base_uri": "https://localhost:8080/",
          "height": 206
        },
        "id": "Gf34OdoGjXzr",
        "outputId": "32cd06e4-6b86-4b5b-ef6e-8c2c10a4e824"
      },
      "execution_count": 23,
      "outputs": [
        {
          "output_type": "execute_result",
          "data": {
            "text/plain": [
              "   월  사고시간대  요일     노면상태 기상상태          도로형태 가해운전자 차종  피해운전자 성별  연령대 피해운전자 상해정도\n",
              "0  1      1   4  포장 - 건조   맑음      단일로 - 기타       승용       0.0   50         경상\n",
              "1  2     20   3  포장 - 건조   맑음      단일로 - 기타       승용       0.0   70         사망\n",
              "2  3      0   3  포장 - 건조   맑음      단일로 - 기타       승용       0.0   50         중상\n",
              "3  3     15   3  포장 - 건조   맑음      단일로 - 기타       승용       0.0   60         중상\n",
              "4  4     16   1  포장 - 건조   맑음  단일로 - 횡단보도부근       이륜       0.0   80         경상"
            ],
            "text/html": [
              "\n",
              "  <div id=\"df-2d8d7790-c028-43cd-b007-2e03e49a4a96\">\n",
              "    <div class=\"colab-df-container\">\n",
              "      <div>\n",
              "<style scoped>\n",
              "    .dataframe tbody tr th:only-of-type {\n",
              "        vertical-align: middle;\n",
              "    }\n",
              "\n",
              "    .dataframe tbody tr th {\n",
              "        vertical-align: top;\n",
              "    }\n",
              "\n",
              "    .dataframe thead th {\n",
              "        text-align: right;\n",
              "    }\n",
              "</style>\n",
              "<table border=\"1\" class=\"dataframe\">\n",
              "  <thead>\n",
              "    <tr style=\"text-align: right;\">\n",
              "      <th></th>\n",
              "      <th>월</th>\n",
              "      <th>사고시간대</th>\n",
              "      <th>요일</th>\n",
              "      <th>노면상태</th>\n",
              "      <th>기상상태</th>\n",
              "      <th>도로형태</th>\n",
              "      <th>가해운전자 차종</th>\n",
              "      <th>피해운전자 성별</th>\n",
              "      <th>연령대</th>\n",
              "      <th>피해운전자 상해정도</th>\n",
              "    </tr>\n",
              "  </thead>\n",
              "  <tbody>\n",
              "    <tr>\n",
              "      <th>0</th>\n",
              "      <td>1</td>\n",
              "      <td>1</td>\n",
              "      <td>4</td>\n",
              "      <td>포장 - 건조</td>\n",
              "      <td>맑음</td>\n",
              "      <td>단일로 - 기타</td>\n",
              "      <td>승용</td>\n",
              "      <td>0.0</td>\n",
              "      <td>50</td>\n",
              "      <td>경상</td>\n",
              "    </tr>\n",
              "    <tr>\n",
              "      <th>1</th>\n",
              "      <td>2</td>\n",
              "      <td>20</td>\n",
              "      <td>3</td>\n",
              "      <td>포장 - 건조</td>\n",
              "      <td>맑음</td>\n",
              "      <td>단일로 - 기타</td>\n",
              "      <td>승용</td>\n",
              "      <td>0.0</td>\n",
              "      <td>70</td>\n",
              "      <td>사망</td>\n",
              "    </tr>\n",
              "    <tr>\n",
              "      <th>2</th>\n",
              "      <td>3</td>\n",
              "      <td>0</td>\n",
              "      <td>3</td>\n",
              "      <td>포장 - 건조</td>\n",
              "      <td>맑음</td>\n",
              "      <td>단일로 - 기타</td>\n",
              "      <td>승용</td>\n",
              "      <td>0.0</td>\n",
              "      <td>50</td>\n",
              "      <td>중상</td>\n",
              "    </tr>\n",
              "    <tr>\n",
              "      <th>3</th>\n",
              "      <td>3</td>\n",
              "      <td>15</td>\n",
              "      <td>3</td>\n",
              "      <td>포장 - 건조</td>\n",
              "      <td>맑음</td>\n",
              "      <td>단일로 - 기타</td>\n",
              "      <td>승용</td>\n",
              "      <td>0.0</td>\n",
              "      <td>60</td>\n",
              "      <td>중상</td>\n",
              "    </tr>\n",
              "    <tr>\n",
              "      <th>4</th>\n",
              "      <td>4</td>\n",
              "      <td>16</td>\n",
              "      <td>1</td>\n",
              "      <td>포장 - 건조</td>\n",
              "      <td>맑음</td>\n",
              "      <td>단일로 - 횡단보도부근</td>\n",
              "      <td>이륜</td>\n",
              "      <td>0.0</td>\n",
              "      <td>80</td>\n",
              "      <td>경상</td>\n",
              "    </tr>\n",
              "  </tbody>\n",
              "</table>\n",
              "</div>\n",
              "      <button class=\"colab-df-convert\" onclick=\"convertToInteractive('df-2d8d7790-c028-43cd-b007-2e03e49a4a96')\"\n",
              "              title=\"Convert this dataframe to an interactive table.\"\n",
              "              style=\"display:none;\">\n",
              "        \n",
              "  <svg xmlns=\"http://www.w3.org/2000/svg\" height=\"24px\"viewBox=\"0 0 24 24\"\n",
              "       width=\"24px\">\n",
              "    <path d=\"M0 0h24v24H0V0z\" fill=\"none\"/>\n",
              "    <path d=\"M18.56 5.44l.94 2.06.94-2.06 2.06-.94-2.06-.94-.94-2.06-.94 2.06-2.06.94zm-11 1L8.5 8.5l.94-2.06 2.06-.94-2.06-.94L8.5 2.5l-.94 2.06-2.06.94zm10 10l.94 2.06.94-2.06 2.06-.94-2.06-.94-.94-2.06-.94 2.06-2.06.94z\"/><path d=\"M17.41 7.96l-1.37-1.37c-.4-.4-.92-.59-1.43-.59-.52 0-1.04.2-1.43.59L10.3 9.45l-7.72 7.72c-.78.78-.78 2.05 0 2.83L4 21.41c.39.39.9.59 1.41.59.51 0 1.02-.2 1.41-.59l7.78-7.78 2.81-2.81c.8-.78.8-2.07 0-2.86zM5.41 20L4 18.59l7.72-7.72 1.47 1.35L5.41 20z\"/>\n",
              "  </svg>\n",
              "      </button>\n",
              "      \n",
              "  <style>\n",
              "    .colab-df-container {\n",
              "      display:flex;\n",
              "      flex-wrap:wrap;\n",
              "      gap: 12px;\n",
              "    }\n",
              "\n",
              "    .colab-df-convert {\n",
              "      background-color: #E8F0FE;\n",
              "      border: none;\n",
              "      border-radius: 50%;\n",
              "      cursor: pointer;\n",
              "      display: none;\n",
              "      fill: #1967D2;\n",
              "      height: 32px;\n",
              "      padding: 0 0 0 0;\n",
              "      width: 32px;\n",
              "    }\n",
              "\n",
              "    .colab-df-convert:hover {\n",
              "      background-color: #E2EBFA;\n",
              "      box-shadow: 0px 1px 2px rgba(60, 64, 67, 0.3), 0px 1px 3px 1px rgba(60, 64, 67, 0.15);\n",
              "      fill: #174EA6;\n",
              "    }\n",
              "\n",
              "    [theme=dark] .colab-df-convert {\n",
              "      background-color: #3B4455;\n",
              "      fill: #D2E3FC;\n",
              "    }\n",
              "\n",
              "    [theme=dark] .colab-df-convert:hover {\n",
              "      background-color: #434B5C;\n",
              "      box-shadow: 0px 1px 3px 1px rgba(0, 0, 0, 0.15);\n",
              "      filter: drop-shadow(0px 1px 2px rgba(0, 0, 0, 0.3));\n",
              "      fill: #FFFFFF;\n",
              "    }\n",
              "  </style>\n",
              "\n",
              "      <script>\n",
              "        const buttonEl =\n",
              "          document.querySelector('#df-2d8d7790-c028-43cd-b007-2e03e49a4a96 button.colab-df-convert');\n",
              "        buttonEl.style.display =\n",
              "          google.colab.kernel.accessAllowed ? 'block' : 'none';\n",
              "\n",
              "        async function convertToInteractive(key) {\n",
              "          const element = document.querySelector('#df-2d8d7790-c028-43cd-b007-2e03e49a4a96');\n",
              "          const dataTable =\n",
              "            await google.colab.kernel.invokeFunction('convertToInteractive',\n",
              "                                                     [key], {});\n",
              "          if (!dataTable) return;\n",
              "\n",
              "          const docLinkHtml = 'Like what you see? Visit the ' +\n",
              "            '<a target=\"_blank\" href=https://colab.research.google.com/notebooks/data_table.ipynb>data table notebook</a>'\n",
              "            + ' to learn more about interactive tables.';\n",
              "          element.innerHTML = '';\n",
              "          dataTable['output_type'] = 'display_data';\n",
              "          await google.colab.output.renderOutput(dataTable, element);\n",
              "          const docLink = document.createElement('div');\n",
              "          docLink.innerHTML = docLinkHtml;\n",
              "          element.appendChild(docLink);\n",
              "        }\n",
              "      </script>\n",
              "    </div>\n",
              "  </div>\n",
              "  "
            ]
          },
          "metadata": {},
          "execution_count": 23
        }
      ]
    },
    {
      "cell_type": "code",
      "source": [
        "\n",
        "car_1 = ['승용']\n",
        "car_2 = ['이륜','자전거','개인형이동수단(PM)']\n",
        "car_3 = ['승합']\n",
        "car_4 = ['화물', '원동기', '건설기계']\n",
        "car_5 = ['기타불명', '특수']"
      ],
      "metadata": {
        "id": "AjiIn6Fqs3ed"
      },
      "execution_count": 24,
      "outputs": []
    },
    {
      "cell_type": "markdown",
      "source": [
        "사고시간대를 주간/야간으로 변경"
      ],
      "metadata": {
        "id": "c7nFLDFYp85G"
      }
    },
    {
      "cell_type": "code",
      "source": [
        "list_a = []"
      ],
      "metadata": {
        "id": "CFQXclBnkVrT"
      },
      "execution_count": 25,
      "outputs": []
    },
    {
      "cell_type": "code",
      "source": [
        "for i in range(len(df['사고시간대'])):\n",
        "  if df['사고시간대'][i] >= 18:\n",
        "    list_a.append('야간')\n",
        "  elif df['사고시간대'][i] >= 6:\n",
        "    list_a.append('주간')\n",
        "  else:\n",
        "    list_a.append('야간')\n",
        "print(list_a) "
      ],
      "metadata": {
        "colab": {
          "base_uri": "https://localhost:8080/"
        },
        "id": "suH8VhSHkDz7",
        "outputId": "4a0926e2-726f-4983-ee7e-4a764810d62c"
      },
      "execution_count": 26,
      "outputs": [
        {
          "output_type": "stream",
          "name": "stdout",
          "text": [
            "['야간', '야간', '야간', '주간', '주간', '야간', '주간', '야간', '야간', '야간', '야간', '야간', '야간', '주간', '야간', '주간', '야간', '야간', '주간', '주간', '야간', '야간', '주간', '주간', '야간', '주간', '주간', '야간', '주간', '야간', '주간', '주간', '주간', '야간', '주간', '야간', '주간', '주간', '야간', '주간', '주간', '야간', '야간', '주간', '야간', '주간', '주간', '주간', '야간', '야간', '주간', '주간', '주간', '야간', '야간', '야간', '야간', '주간', '야간', '주간', '야간', '야간', '야간', '야간', '주간', '주간', '야간', '야간', '야간', '주간', '주간', '주간', '주간', '주간', '야간', '야간', '야간', '주간', '야간', '주간', '야간', '주간', '야간', '야간', '주간', '주간', '주간', '야간', '주간', '야간', '주간', '주간', '주간', '야간', '야간', '주간', '주간', '주간', '주간', '주간', '주간', '야간', '야간', '야간', '야간', '주간', '야간', '야간', '야간', '야간', '주간', '야간', '야간', '주간', '야간', '주간', '야간', '주간', '야간', '야간', '야간', '주간', '주간', '야간', '야간', '주간', '야간', '주간', '주간', '야간', '야간', '야간', '주간', '야간', '주간', '주간', '야간', '주간', '야간', '야간', '주간', '주간', '야간', '야간', '주간', '주간', '주간', '주간', '주간', '주간', '주간', '야간', '주간', '주간', '주간', '야간', '주간', '야간', '주간', '주간', '야간', '주간', '야간', '주간', '주간', '야간', '주간', '주간', '주간', '주간', '야간', '야간', '야간', '야간', '야간', '주간', '야간', '야간', '야간', '야간', '야간', '야간', '야간', '야간', '야간', '야간', '야간', '주간', '야간', '야간', '야간', '야간', '주간', '주간', '야간', '야간', '야간', '야간', '야간', '야간', '야간', '주간', '야간', '주간', '야간', '야간', '야간', '야간', '주간', '야간', '야간', '야간', '주간', '야간', '주간', '야간', '주간', '야간', '야간', '야간', '야간', '야간', '주간', '주간', '주간', '야간', '야간', '야간', '주간', '주간', '주간', '주간', '주간', '야간', '야간', '주간', '야간', '야간', '야간', '주간', '주간', '야간', '주간', '야간', '야간', '야간', '주간', '주간', '주간', '주간', '주간', '야간', '야간', '야간', '주간', '야간', '야간', '주간', '주간', '야간', '주간', '야간', '주간', '주간', '주간', '야간', '야간', '야간', '야간', '주간', '주간', '주간', '야간', '야간', '야간', '야간', '주간', '주간', '야간', '야간', '주간', '주간', '야간', '주간', '야간', '야간', '야간', '야간', '야간', '주간', '야간', '야간', '야간', '야간', '야간', '야간', '야간', '주간', '야간', '주간', '야간', '야간', '야간', '주간', '야간', '주간', '야간', '야간', '주간', '야간', '야간', '야간', '야간', '야간', '야간', '주간', '야간', '야간', '주간', '주간', '주간', '야간', '주간', '야간', '야간', '주간', '야간', '주간', '주간', '주간', '주간', '주간', '야간', '주간', '야간', '야간', '야간', '주간', '주간', '주간', '주간', '주간', '주간', '주간', '야간', '야간', '야간', '야간', '야간', '야간', '야간', '야간', '주간', '주간', '주간', '주간', '야간', '주간', '야간', '주간', '야간', '야간', '주간', '야간', '주간', '주간', '주간', '주간', '야간', '주간', '야간', '주간', '주간', '야간', '주간', '주간', '주간', '주간', '야간', '야간', '야간', '주간', '야간', '주간', '야간', '주간', '야간', '야간', '주간', '야간', '주간', '야간', '야간', '주간', '주간', '야간', '야간', '야간', '주간', '야간', '주간', '주간', '주간', '주간', '야간', '야간', '야간', '주간', '주간', '야간', '주간', '주간', '주간', '야간', '야간', '야간', '야간', '야간', '야간', '야간', '야간', '야간', '야간', '야간', '야간', '주간', '주간', '야간', '야간', '주간', '야간', '주간', '주간', '야간', '야간', '주간', '주간', '야간', '야간', '야간', '주간', '야간', '야간', '주간', '주간', '주간', '야간', '주간', '야간', '주간', '야간', '주간', '야간', '야간', '주간', '주간', '야간', '야간', '주간', '야간', '야간', '주간', '야간', '주간', '야간', '주간', '야간', '야간', '주간', '야간', '주간', '야간', '야간', '야간', '야간', '주간', '야간', '야간', '주간', '주간', '주간', '주간', '주간', '야간', '주간', '주간', '야간', '주간', '주간', '주간', '야간', '주간', '야간', '야간', '주간', '야간', '야간', '주간', '야간', '주간', '야간', '야간', '야간', '주간', '야간', '야간', '야간', '야간', '주간', '야간', '주간', '야간', '야간', '야간', '주간', '야간', '야간', '주간', '주간', '주간', '야간', '주간', '주간', '주간', '야간', '야간', '야간', '야간', '주간', '주간', '주간', '야간', '야간', '주간', '주간', '야간', '주간', '주간', '야간', '야간', '야간', '야간', '야간', '야간', '주간', '야간', '야간', '야간', '야간', '야간', '야간', '야간', '야간', '야간', '야간', '야간', '주간', '야간', '주간', '주간', '주간', '주간', '야간', '주간', '주간', '야간', '야간', '야간', '주간', '야간', '주간', '주간', '야간', '야간', '야간', '야간', '주간', '야간', '주간', '야간', '주간', '주간', '야간', '야간', '야간', '주간', '주간', '야간', '야간', '주간', '주간', '주간', '야간', '야간', '주간', '주간', '야간', '주간', '주간', '야간', '야간', '야간', '야간', '야간', '야간', '주간', '야간', '야간', '야간', '야간', '야간', '주간', '야간', '야간', '주간', '주간', '야간', '야간', '주간', '주간', '주간', '주간', '주간', '야간', '야간', '주간', '야간', '야간', '주간', '주간', '주간', '주간', '야간', '주간', '주간', '야간', '야간', '주간', '주간', '야간', '야간', '주간', '야간', '야간', '야간', '주간', '야간', '주간', '야간', '야간', '주간', '주간', '주간', '주간', '야간', '주간', '주간', '야간', '야간', '야간', '야간', '야간', '야간', '야간', '주간', '주간', '야간', '야간', '주간', '야간', '야간', '주간', '주간', '야간', '야간', '야간', '야간', '야간', '주간', '야간', '주간', '야간', '주간', '야간', '야간', '야간', '야간', '주간', '야간', '주간', '야간', '야간', '야간', '야간', '야간', '야간', '주간', '야간', '주간', '야간', '주간', '주간', '야간', '야간', '주간', '주간', '주간', '주간', '야간', '주간', '야간', '야간', '주간', '주간', '주간', '주간', '야간', '야간', '주간', '주간', '주간', '주간', '야간', '야간', '야간', '주간', '야간', '주간', '야간', '야간', '주간', '야간', '야간', '주간', '주간', '주간', '야간', '야간', '주간', '주간', '야간', '주간', '주간', '주간', '야간', '야간', '주간', '주간', '주간', '주간', '주간', '야간', '주간', '야간', '야간', '주간', '야간', '주간', '야간', '야간', '야간', '야간', '야간', '주간', '주간', '야간', '주간', '야간', '야간', '주간', '야간', '야간', '야간', '주간', '야간', '주간', '주간', '야간', '야간', '주간', '주간', '야간', '주간', '주간', '야간', '주간', '주간', '주간', '주간', '야간', '야간', '야간', '야간', '야간', '야간', '주간', '야간', '주간', '야간', '야간', '주간', '야간', '야간', '야간', '주간', '야간', '야간', '주간', '주간', '주간', '야간', '주간', '야간', '야간', '야간', '야간', '야간', '야간', '야간', '야간', '주간', '야간', '야간', '야간', '야간', '야간', '주간', '야간', '야간', '주간', '주간', '야간', '주간', '주간', '주간', '야간', '야간', '주간', '야간', '주간', '주간', '주간', '야간', '야간', '주간', '주간', '야간', '야간', '주간', '야간', '주간', '야간', '야간', '야간', '주간', '주간', '야간', '주간', '주간', '야간', '야간', '주간', '야간', '야간', '야간', '야간', '야간', '주간', '야간', '야간', '야간', '야간', '야간', '야간', '주간', '야간', '주간', '주간', '주간', '야간', '야간', '야간', '주간', '야간', '야간', '야간', '야간', '주간', '야간', '야간', '주간', '야간', '야간', '야간', '주간', '야간', '야간', '야간', '주간', '야간', '야간', '주간', '주간', '주간', '야간', '야간', '야간', '야간', '야간', '주간', '야간', '야간', '주간', '야간', '주간', '야간', '야간', '야간', '주간', '야간', '야간', '야간', '주간', '야간', '야간', '주간', '주간', '주간', '야간', '야간', '야간', '주간', '주간', '야간', '야간', '주간', '야간', '주간', '야간', '야간', '야간', '주간', '주간', '야간', '주간', '야간', '주간', '야간', '주간', '주간', '주간', '야간', '야간', '야간', '야간', '야간', '주간', '야간', '야간', '야간', '주간', '야간', '야간', '야간', '야간', '주간', '야간', '야간', '야간', '주간', '주간', '주간', '야간', '야간', '주간', '야간', '주간', '야간', '주간', '주간', '야간', '주간', '야간', '야간', '야간', '주간', '주간', '주간', '야간', '주간', '주간', '주간', '주간', '주간', '야간', '야간', '주간', '야간', '주간', '주간', '야간', '야간', '야간', '야간', '주간', '주간', '야간', '주간', '야간', '주간', '야간', '주간', '주간', '야간', '야간', '야간', '주간', '야간', '야간', '야간', '야간', '주간', '주간', '야간', '주간', '야간', '주간', '주간', '주간', '야간', '야간', '야간', '야간', '주간', '야간', '주간', '주간', '야간', '야간', '주간', '주간', '주간', '주간', '주간', '야간', '야간', '야간', '주간', '야간', '주간', '주간', '주간', '야간', '주간', '주간', '야간', '야간', '주간', '주간', '야간', '야간', '야간', '주간', '야간', '야간', '야간', '야간', '야간', '야간', '야간', '야간', '주간', '야간', '주간', '주간', '주간', '야간', '야간', '주간', '주간', '야간', '주간', '주간', '주간', '주간', '야간', '주간', '주간', '야간', '주간', '야간', '주간', '주간', '주간', '야간', '야간', '주간', '주간', '야간', '야간', '야간', '야간', '야간', '야간', '주간', '야간', '주간', '주간', '주간', '주간', '주간', '야간', '주간', '야간', '야간', '야간', '주간', '주간', '주간', '야간', '야간', '야간', '야간', '야간', '주간', '야간', '야간', '야간', '야간', '주간', '야간', '야간', '야간', '야간', '야간', '야간', '주간', '야간', '주간', '주간', '주간', '주간', '야간', '야간', '야간', '야간', '주간', '야간', '주간', '야간', '야간', '주간', '주간', '야간', '주간', '야간', '야간', '야간', '야간', '주간', '주간', '주간', '야간', '주간', '야간', '주간', '주간', '야간', '야간', '주간', '주간', '야간', '야간', '주간', '주간', '야간', '주간', '주간', '야간', '야간', '야간', '야간', '야간', '야간', '주간', '주간', '야간', '주간', '야간', '야간', '야간', '야간', '주간', '야간', '야간', '야간', '야간', '주간', '야간', '주간', '주간', '야간', '주간', '야간', '주간', '주간', '야간', '주간', '야간', '야간', '주간', '주간', '야간', '주간', '주간', '야간', '주간', '주간', '야간', '야간', '야간', '야간', '야간', '야간', '주간', '야간', '야간', '야간', '야간', '주간', '주간', '야간', '야간', '야간', '야간', '야간', '야간', '야간', '주간', '야간', '야간', '야간', '야간', '야간', '야간', '주간', '야간', '주간', '주간', '야간', '주간', '야간', '주간', '야간', '주간', '야간', '주간', '주간', '주간', '야간', '야간', '주간', '야간', '야간', '야간', '주간', '야간', '야간', '주간', '주간', '주간', '야간', '야간', '주간', '주간', '야간', '야간', '야간', '야간', '야간', '주간', '주간', '주간', '야간', '야간', '주간', '주간', '야간', '야간', '야간', '야간', '주간', '주간', '주간', '야간', '야간', '야간', '주간', '야간', '주간', '주간', '주간', '야간', '주간', '야간', '야간', '야간', '야간', '야간', '야간', '야간', '주간', '야간', '야간', '주간', '야간', '주간', '야간', '주간', '야간', '야간', '야간', '야간', '주간', '야간', '주간', '주간', '주간', '야간', '야간', '야간', '야간', '야간', '주간', '야간', '야간', '야간', '야간', '야간', '야간', '주간', '야간', '야간', '주간', '주간', '주간', '야간', '야간', '야간', '야간', '주간', '주간', '야간', '주간', '야간', '주간', '야간', '야간', '주간', '주간', '야간', '야간', '야간', '야간', '야간', '야간', '야간', '주간', '야간', '주간', '야간', '야간', '야간', '야간', '주간', '주간', '야간', '야간', '야간', '주간', '주간', '야간', '야간', '야간', '주간', '야간', '야간', '야간', '주간', '주간', '야간', '야간', '야간', '주간', '주간', '야간', '야간', '야간', '주간', '야간', '야간', '야간', '주간', '주간', '주간', '야간', '야간', '주간', '야간', '야간', '야간', '야간', '야간', '주간', '야간', '야간', '주간', '주간', '주간', '야간', '야간', '야간', '야간', '야간', '야간', '야간', '야간', '주간', '야간', '야간', '야간', '야간', '야간', '주간', '주간', '야간', '야간', '주간', '주간', '야간', '주간', '주간', '야간', '야간', '주간', '주간', '주간', '주간', '주간', '야간', '야간', '야간', '야간', '야간', '야간', '야간', '주간', '주간', '야간', '야간', '주간', '야간', '주간', '주간', '주간', '야간', '야간', '야간', '야간', '야간', '야간', '주간', '야간', '야간', '야간', '주간', '야간', '주간', '야간', '야간', '야간', '야간', '야간', '야간', '야간', '주간', '야간', '주간', '주간', '야간', '야간', '야간', '야간', '주간', '야간', '야간', '야간', '야간', '야간', '야간', '야간', '주간', '야간', '주간', '야간', '주간', '주간', '야간', '야간', '야간', '주간', '주간', '주간', '야간', '주간', '주간', '주간', '야간', '주간', '야간', '주간', '주간', '주간', '야간', '주간', '야간', '주간', '야간', '야간', '야간', '주간', '주간', '주간', '주간', '야간', '야간', '야간', '야간', '야간', '야간', '주간', '야간', '야간', '야간', '야간', '야간', '주간', '야간', '야간', '야간', '야간', '야간', '주간', '야간', '야간', '주간', '주간', '주간', '주간', '야간', '주간', '야간', '야간', '야간', '주간', '주간', '야간', '주간', '야간', '주간', '야간', '주간', '야간', '주간', '야간', '주간', '야간', '주간', '야간', '주간', '야간', '야간', '야간', '야간', '야간', '주간', '야간', '주간', '야간', '주간', '야간', '야간', '주간', '주간', '야간', '야간', '야간', '주간', '야간', '야간', '주간', '야간', '주간', '야간', '야간', '야간', '야간', '야간', '주간', '야간', '야간', '야간', '주간', '주간', '야간', '주간', '주간', '야간', '주간', '주간', '주간', '주간', '주간', '주간', '야간', '주간', '야간', '야간', '야간', '야간', '야간', '야간', '주간', '야간', '야간', '야간', '야간', '야간', '야간', '주간', '주간', '야간', '야간', '주간', '야간', '주간', '야간', '야간', '주간', '야간', '주간', '야간', '야간', '주간', '주간', '야간', '야간', '주간', '야간', '야간', '주간', '야간', '야간', '야간', '야간', '야간', '야간', '야간', '야간', '주간', '야간', '주간', '야간', '야간', '주간', '야간', '주간', '주간', '주간', '주간', '야간', '주간', '야간', '주간', '주간', '주간', '야간', '주간', '야간', '야간', '주간', '주간', '주간', '주간', '주간', '주간', '야간', '주간', '야간', '야간', '야간', '야간', '주간', '야간', '야간', '야간', '주간', '야간', '주간', '주간', '야간', '야간', '야간', '주간', '주간', '야간', '주간', '주간', '주간', '야간', '야간', '야간', '야간', '야간', '야간', '야간', '야간', '야간', '주간', '야간', '주간', '야간', '주간', '주간', '야간', '야간', '야간', '주간', '주간', '야간', '야간', '야간', '야간', '야간', '야간', '야간', '주간', '야간', '주간', '야간', '야간', '야간', '주간', '야간', '야간', '야간', '야간', '야간', '야간', '야간', '야간', '야간', '주간', '주간', '주간', '주간', '주간', '주간', '주간', '야간', '야간', '야간', '주간', '야간', '주간', '주간', '주간', '주간', '야간', '야간', '야간', '야간', '주간', '야간', '주간', '주간', '주간', '주간', '주간', '주간', '주간', '야간', '야간', '야간', '야간', '주간', '주간', '야간', '주간', '야간', '야간', '주간', '주간', '야간', '야간', '주간', '야간', '주간', '주간', '야간', '주간', '야간', '야간', '야간', '야간', '주간', '야간', '야간', '주간', '주간', '야간', '주간', '주간', '야간', '주간', '야간', '야간', '주간', '야간', '야간', '야간', '야간', '주간', '야간', '야간', '야간', '주간', '야간', '주간', '야간', '주간', '야간', '야간', '주간', '야간', '주간', '야간', '야간', '야간', '야간', '주간', '야간', '주간', '주간', '야간', '야간', '야간', '주간', '야간', '야간', '야간', '야간', '야간', '야간', '주간', '야간', '야간', '야간', '야간', '야간', '야간', '야간', '주간', '주간', '야간', '주간', '주간', '야간', '주간', '야간', '야간', '야간', '야간', '야간', '야간', '야간', '야간', '주간', '야간', '주간', '주간', '주간', '야간', '야간', '야간', '주간', '주간', '야간', '주간', '야간', '야간', '주간', '야간', '야간', '주간', '주간', '야간', '야간', '야간', '야간', '주간', '야간', '주간', '주간', '야간', '주간', '주간', '주간', '주간', '주간', '주간', '야간', '주간', '야간', '야간', '주간', '주간', '야간', '야간', '야간', '주간', '야간', '주간', '야간', '야간', '야간', '야간', '주간', '야간', '주간', '야간', '주간', '주간', '야간', '야간', '야간', '야간', '야간', '야간', '야간', '야간', '주간', '야간', '야간', '주간', '야간', '야간', '야간', '주간', '야간', '야간', '주간', '야간', '주간', '야간', '주간', '야간', '야간', '주간', '주간', '야간', '야간', '주간', '야간', '야간', '야간', '야간', '야간', '야간', '주간', '야간', '주간', '주간', '야간', '야간', '주간', '야간', '주간', '야간', '주간', '주간', '야간', '야간', '야간', '주간', '야간', '주간', '주간', '야간', '주간', '야간', '주간', '야간', '야간', '주간', '주간', '주간', '야간', '주간', '야간', '야간', '주간', '야간', '야간', '주간', '야간', '주간', '주간', '주간', '주간', '야간', '야간', '주간', '야간', '주간', '주간', '야간', '야간', '주간', '야간', '야간', '야간', '야간', '주간', '주간', '주간', '야간', '야간', '야간', '주간', '야간', '주간', '야간', '주간', '야간', '야간', '주간', '야간', '야간', '야간', '야간', '야간', '주간', '야간', '주간', '야간', '야간', '야간', '야간', '주간', '야간', '주간', '야간', '야간', '주간', '주간', '야간', '야간', '야간', '야간', '야간', '야간', '야간', '주간', '주간', '야간', '주간', '야간', '야간', '주간', '야간', '주간', '야간', '야간', '주간', '주간', '야간', '야간', '야간', '야간', '야간', '야간', '주간', '주간', '야간', '야간', '주간', '야간', '야간', '야간', '주간', '야간', '야간', '야간', '야간', '야간', '주간', '야간', '주간', '야간', '야간', '야간', '주간', '야간', '야간', '주간', '야간', '야간', '주간', '야간', '야간', '주간', '야간', '주간', '주간', '야간', '주간', '야간', '야간', '야간', '주간', '야간', '주간', '주간', '야간', '주간', '야간', '야간', '야간', '주간', '주간', '야간', '야간', '주간', '주간', '야간', '주간', '야간', '야간', '야간', '주간', '야간', '주간', '야간', '야간', '야간', '야간', '야간', '야간', '야간', '야간', '주간', '주간', '야간', '주간', '주간', '주간', '야간', '야간', '주간', '주간', '야간', '야간', '야간', '야간', '야간', '야간', '야간', '주간', '주간', '야간', '야간', '야간', '주간', '야간', '주간', '주간', '주간', '야간', '야간', '야간', '야간', '야간', '주간', '야간', '야간', '주간', '야간', '야간', '야간', '주간', '주간', '야간', '야간', '야간', '주간', '주간', '야간', '야간', '주간', '주간', '주간', '야간', '야간', '야간', '주간', '주간', '주간', '야간', '주간', '주간', '주간', '야간', '야간', '주간', '야간', '주간', '주간', '주간', '야간', '야간', '야간', '야간', '주간', '야간', '야간', '주간', '야간', '야간', '야간', '야간', '야간', '야간', '주간', '야간', '야간', '야간', '야간', '야간', '야간', '야간', '야간', '주간', '야간', '야간', '주간', '야간', '야간', '주간', '주간', '야간', '주간', '주간', '주간', '야간', '주간', '야간', '야간', '야간', '야간', '야간', '주간', '주간', '야간', '야간', '주간', '주간', '야간', '야간', '주간', '야간', '야간', '주간', '주간', '야간', '야간', '주간', '주간', '주간', '야간', '야간', '야간', '야간', '야간', '야간', '야간', '야간', '야간', '야간', '야간', '야간', '야간', '야간', '야간', '야간', '주간', '야간', '야간', '주간', '야간', '주간', '야간', '야간', '주간', '야간', '야간', '야간', '야간', '야간', '주간', '주간', '야간', '야간', '야간', '야간', '야간', '주간', '야간', '주간', '야간', '야간', '주간', '주간', '야간', '야간', '야간', '주간', '주간', '주간', '주간', '야간', '야간', '주간', '야간', '야간', '야간', '야간', '야간', '주간', '야간', '주간', '야간', '야간', '야간', '야간', '야간', '야간', '야간', '야간', '주간', '야간', '야간', '야간', '야간', '야간', '주간', '주간', '주간', '야간', '야간', '주간', '주간', '야간', '주간', '주간', '야간', '주간', '야간', '야간', '야간', '야간', '야간', '주간', '주간', '야간', '야간', '야간', '야간', '야간', '야간', '야간', '주간', '야간', '야간', '야간', '야간', '주간', '야간', '주간', '주간', '야간', '야간', '주간', '야간', '야간', '주간', '야간', '주간', '야간', '야간', '야간', '주간', '야간', '주간', '야간', '주간', '주간', '야간', '주간', '야간', '야간', '주간', '야간', '야간', '야간', '주간', '야간', '야간', '야간', '주간', '주간', '주간', '주간', '주간', '주간', '주간', '야간', '주간', '주간', '주간', '주간', '주간', '야간', '주간', '주간', '주간', '주간', '야간', '주간', '야간', '주간', '야간', '야간', '야간', '야간', '주간', '야간', '주간', '주간', '주간', '야간', '야간', '주간', '주간', '야간', '야간', '야간', '주간', '주간', '야간', '야간', '주간', '야간', '주간', '야간', '주간', '야간', '야간', '야간', '야간', '야간', '주간', '주간', '주간', '주간', '야간', '야간', '주간', '야간', '야간', '주간', '야간', '주간', '야간', '야간', '주간', '주간', '야간', '주간', '주간', '야간', '주간', '주간', '야간', '야간', '주간', '주간', '주간', '야간', '야간', '주간', '야간', '야간', '주간', '야간', '야간', '주간', '주간', '주간', '야간', '야간', '주간', '주간', '야간', '야간', '야간', '야간', '야간', '주간', '야간', '야간', '주간', '주간', '야간', '주간', '주간', '야간', '주간', '야간', '야간', '주간', '주간', '주간', '주간', '주간', '야간', '주간', '주간', '주간', '야간', '야간', '야간', '야간', '야간', '야간', '주간', '주간', '야간', '주간', '야간', '주간', '주간', '야간', '야간', '주간', '야간', '야간', '야간', '야간', '야간', '야간', '야간', '야간', '주간', '주간', '주간', '주간', '야간', '주간', '주간', '야간', '야간', '야간', '야간', '야간', '야간', '야간', '주간', '야간', '야간', '주간', '주간', '야간', '야간', '야간', '야간', '야간', '야간', '주간', '주간', '야간', '야간', '야간', '야간', '주간', '주간', '야간', '야간', '주간', '야간', '주간', '주간', '주간', '주간', '주간', '주간', '주간', '야간', '야간', '야간', '주간', '야간', '야간', '주간', '주간', '야간', '주간', '주간', '야간', '주간', '야간', '주간', '야간', '주간', '주간', '야간', '야간', '야간', '주간', '야간', '야간', '주간', '야간', '야간', '야간', '야간', '주간', '야간', '야간', '주간', '주간', '야간', '주간', '주간', '야간', '야간', '주간', '야간', '야간', '야간', '주간', '야간', '주간', '주간', '야간', '야간', '주간', '주간', '주간', '주간', '야간', '주간', '야간', '주간', '주간', '야간', '주간', '야간', '야간', '야간', '야간', '주간', '주간', '야간', '야간', '야간', '주간', '야간', '주간', '주간', '야간', '야간', '주간', '야간', '주간', '야간', '주간', '야간', '주간', '야간', '야간', '야간', '주간', '주간', '야간', '주간', '주간', '야간', '야간', '야간', '야간', '야간', '주간', '야간', '주간', '주간', '주간', '야간', '주간', '야간', '야간', '주간', '야간', '주간', '주간', '주간', '야간', '주간', '야간', '야간', '야간', '야간', '야간', '야간', '야간', '주간', '야간', '주간', '야간', '야간', '야간', '주간', '야간', '야간', '주간', '야간', '주간', '주간', '주간', '주간', '야간', '주간', '야간', '주간', '야간', '주간', '주간', '주간', '주간', '야간', '야간', '야간', '야간', '주간', '야간', '야간', '주간', '야간', '야간', '야간', '주간', '야간', '야간', '야간', '주간', '야간', '야간', '야간', '야간', '야간', '야간', '야간', '야간', '야간', '야간', '주간', '야간', '주간', '야간', '야간', '주간', '주간', '야간', '야간', '야간', '야간', '야간', '야간', '야간', '야간', '야간', '야간', '야간', '야간', '주간', '야간', '야간', '야간', '야간', '주간', '야간', '주간', '야간', '야간', '야간', '주간', '주간', '야간', '야간', '야간', '주간', '야간', '야간', '야간', '주간', '야간', '주간', '주간', '야간', '야간', '주간', '야간', '주간', '주간', '야간', '야간', '주간', '야간', '야간', '주간', '야간', '야간', '야간', '주간', '야간', '야간', '주간', '야간', '야간', '주간', '야간', '야간', '야간', '야간', '야간', '야간', '야간', '야간', '주간', '주간', '야간', '야간', '야간', '야간', '야간', '야간', '주간', '야간', '주간', '야간', '야간', '주간', '야간', '야간', '주간', '주간', '주간', '주간', '주간', '야간', '주간', '야간', '주간', '야간', '주간', '야간', '주간', '주간', '야간', '주간', '야간', '야간', '야간', '야간', '야간', '야간', '야간', '야간', '야간', '야간', '야간', '야간', '주간', '주간', '주간', '야간', '주간', '주간', '야간', '야간', '주간', '야간', '주간', '야간', '주간', '주간', '주간', '야간', '야간', '주간', '야간', '야간', '야간', '야간', '야간', '야간', '주간', '야간', '주간', '주간', '야간', '주간', '야간', '야간', '야간', '야간', '야간', '주간', '야간', '야간', '주간', '야간', '주간', '주간', '야간', '야간', '주간', '주간', '주간', '야간', '야간', '야간', '주간', '야간', '야간', '야간', '야간', '주간', '주간', '주간', '주간', '야간', '야간', '주간', '주간', '야간', '야간', '야간', '주간', '야간', '주간', '주간', '야간', '야간', '주간', '야간', '야간', '야간', '야간', '주간', '야간', '주간', '주간', '주간', '주간', '야간', '야간', '주간', '야간', '주간', '주간', '야간', '야간', '주간', '야간', '야간', '주간', '주간', '야간', '주간', '야간', '야간', '주간', '주간', '주간', '야간', '야간', '야간', '야간', '야간', '야간', '주간', '야간', '주간', '야간', '야간', '야간', '야간', '주간', '야간', '주간', '주간', '야간', '야간', '주간', '야간', '주간', '야간', '야간', '야간', '야간', '야간', '주간', '야간', '야간', '주간', '야간', '야간', '주간', '주간', '야간', '야간', '주간', '야간', '주간', '주간', '주간', '야간', '야간', '야간', '야간', '야간', '야간', '주간', '주간', '야간', '야간', '주간', '야간', '야간', '주간', '야간', '주간', '야간', '주간', '야간', '야간', '주간', '주간', '야간', '주간', '야간', '야간', '주간', '주간', '주간', '주간', '주간', '야간', '야간', '야간', '주간', '야간', '야간', '야간', '야간', '야간', '야간', '주간', '야간', '야간', '야간', '야간', '주간', '주간', '주간', '주간', '야간', '야간', '야간', '야간', '야간', '야간', '야간', '주간', '야간', '야간', '야간', '주간', '야간', '야간', '야간', '주간', '주간', '주간', '주간', '주간', '야간', '야간', '주간', '주간', '야간', '주간', '야간', '야간', '야간', '주간', '야간', '주간', '주간', '주간', '야간', '야간', '야간', '야간', '야간', '야간', '주간', '야간', '주간', '야간', '야간', '야간', '주간', '주간', '야간', '주간', '야간', '야간', '야간', '야간', '주간', '야간', '야간', '주간', '야간', '야간', '주간', '야간', '야간', '주간', '야간', '야간', '야간', '야간', '주간', '야간', '주간', '야간', '야간', '주간', '야간', '야간', '야간', '주간', '주간', '주간', '주간', '주간', '주간', '주간', '주간', '주간', '야간', '야간', '야간', '야간', '야간', '야간', '주간', '야간', '주간', '주간', '야간', '주간', '야간', '주간', '야간', '야간', '야간', '주간', '주간', '야간', '야간', '주간', '야간', '야간', '주간', '야간', '야간', '야간', '야간', '야간', '야간', '주간', '주간', '주간', '주간', '주간', '야간', '주간', '주간', '야간', '야간', '주간', '야간', '주간', '야간', '주간', '주간', '주간', '주간', '주간', '주간', '주간', '주간', '주간', '야간', '주간', '주간', '주간', '야간', '야간', '주간', '야간', '야간', '야간', '야간', '야간', '주간', '야간', '야간', '주간', '주간', '야간', '야간', '주간', '주간', '주간', '야간', '야간', '야간', '야간', '야간', '주간', '야간', '주간', '야간', '야간', '주간', '야간', '야간', '주간', '주간', '야간', '야간', '주간', '주간', '야간', '주간', '주간', '주간', '야간', '주간', '주간', '주간', '야간', '야간', '야간', '야간', '주간', '야간', '주간', '야간', '야간', '주간', '야간', '야간', '야간', '주간', '야간', '야간', '주간', '야간', '야간', '야간', '주간', '주간', '주간', '주간', '주간', '야간', '야간', '야간', '주간', '주간', '야간', '야간', '주간', '야간', '야간', '주간', '야간', '야간', '야간', '주간', '주간', '주간', '야간', '야간', '야간', '주간', '주간', '야간', '주간', '주간', '주간', '야간', '야간', '야간', '주간', '야간', '주간', '주간', '주간', '주간', '주간', '야간', '주간', '주간', '주간', '야간', '주간', '주간', '주간', '주간', '주간', '주간', '주간', '주간', '야간', '주간', '주간', '주간', '야간', '야간', '야간', '야간', '야간', '주간', '주간', '야간', '주간', '야간', '야간', '야간', '야간', '야간', '야간', '주간', '주간', '야간', '주간', '야간', '야간', '야간', '야간', '야간', '야간', '주간', '야간', '야간', '주간', '주간', '주간', '주간', '야간', '주간', '주간', '주간', '야간', '주간', '야간', '야간', '야간', '야간', '주간', '주간', '야간', '주간', '야간', '야간', '야간', '주간', '주간', '주간', '야간', '야간', '야간', '야간', '야간', '주간', '야간', '주간', '주간', '주간', '주간', '야간', '야간', '야간', '주간', '주간', '야간', '야간', '주간', '주간', '야간', '야간', '야간', '야간', '주간', '주간', '주간', '야간', '주간', '주간', '주간', '야간', '주간', '주간', '주간', '야간', '야간', '야간', '야간', '주간', '야간', '야간', '주간', '야간', '주간', '주간', '주간', '주간', '야간', '주간', '야간', '주간', '주간', '야간', '주간', '주간', '야간', '주간', '야간', '야간', '야간', '주간', '주간', '야간', '주간', '야간', '주간', '야간', '야간', '주간', '주간', '야간', '주간', '주간', '야간', '주간', '야간', '야간', '야간', '야간', '주간', '주간', '야간', '주간', '야간', '주간', '야간', '주간', '야간', '야간', '야간', '주간', '주간', '야간', '야간', '주간', '주간', '주간', '야간', '야간', '야간', '야간', '주간', '주간', '주간', '주간', '야간', '야간', '주간', '주간', '야간', '야간', '야간', '주간', '야간', '야간', '야간', '주간', '주간', '주간', '주간', '야간', '야간', '주간', '주간', '주간', '주간', '야간', '야간', '주간', '주간', '야간', '주간', '야간', '야간', '야간', '주간', '야간', '주간', '야간', '야간', '야간', '주간', '주간', '야간', '주간', '주간', '야간', '야간', '야간', '야간', '야간', '주간', '야간', '야간', '야간', '주간', '주간', '주간', '야간', '주간', '주간', '주간', '야간', '주간', '주간', '야간', '주간', '주간', '야간', '야간', '야간', '주간', '야간', '주간', '야간', '주간', '야간', '야간', '야간', '야간', '야간', '주간', '야간', '주간', '주간', '야간', '주간', '주간', '야간', '야간', '주간', '야간', '야간', '주간', '주간', '주간', '주간', '야간', '주간', '주간', '주간', '야간', '주간', '야간', '주간', '주간', '야간', '야간', '야간', '야간', '주간', '야간', '주간', '야간', '야간', '주간', '주간', '주간', '주간', '주간', '주간', '야간', '주간', '야간', '야간', '주간', '주간', '야간', '주간', '야간', '주간', '야간', '야간', '야간', '주간', '야간', '주간', '야간', '야간', '주간', '주간', '야간', '야간', '주간', '야간', '야간', '주간', '야간', '야간', '주간', '주간', '주간', '야간', '야간', '야간', '주간', '주간', '야간', '주간', '야간', '야간', '야간', '주간', '주간', '야간', '주간', '주간', '주간', '주간', '야간', '야간', '야간', '주간', '야간', '야간', '야간', '야간', '주간', '야간', '야간', '주간', '야간', '야간', '야간', '야간', '야간', '주간', '야간', '주간', '주간', '주간', '야간', '주간', '주간', '주간', '야간', '주간', '주간', '주간', '야간', '주간', '주간', '주간', '야간', '야간', '주간', '야간', '주간', '야간', '주간', '야간', '야간', '주간', '주간', '주간', '야간', '야간', '야간', '야간', '주간', '야간', '야간', '주간', '주간', '야간', '야간', '야간', '야간', '야간', '야간', '주간', '주간', '야간', '야간', '주간', '야간', '주간', '주간', '야간', '야간', '주간', '주간', '야간', '야간', '야간', '주간', '야간', '야간', '주간', '주간', '주간', '야간', '야간', '주간', '야간', '야간', '주간', '주간', '주간', '주간', '야간', '주간', '주간', '야간', '야간', '주간', '야간', '야간', '주간', '야간', '주간', '야간', '주간', '주간', '주간', '야간', '주간', '야간', '야간', '주간', '야간', '야간', '주간', '야간', '주간', '주간', '야간', '야간', '야간', '야간', '야간', '주간', '야간', '야간', '주간', '야간', '주간', '야간', '주간', '야간', '야간', '주간', '야간', '야간', '야간', '야간', '주간', '야간', '야간', '야간', '야간', '주간', '주간', '주간', '주간', '야간', '야간', '야간', '야간', '야간', '주간', '야간', '주간', '야간', '야간', '야간', '야간', '야간', '야간', '야간', '야간', '주간', '야간', '주간', '야간', '야간', '주간', '야간', '야간', '주간', '야간', '야간', '야간', '야간', '야간', '주간', '야간', '야간', '주간', '야간', '주간', '야간', '주간', '야간', '야간', '야간', '야간', '야간', '야간', '야간', '야간', '야간', '야간', '주간', '주간', '야간', '주간', '주간', '주간', '주간', '야간', '주간', '주간', '야간', '주간', '야간', '주간', '야간', '주간', '야간', '야간', '야간', '야간', '주간', '야간', '야간', '야간', '주간', '주간', '야간', '야간', '야간', '야간', '야간', '주간', '야간', '주간', '야간', '야간', '야간', '주간', '주간', '야간', '주간', '야간', '주간', '야간', '야간', '야간', '주간', '야간', '야간', '야간', '야간', '야간', '야간', '야간', '야간', '야간', '주간', '야간', '주간', '야간', '야간', '야간', '야간', '야간', '주간', '야간', '야간', '주간', '야간', '야간', '야간', '주간', '야간', '야간', '야간', '주간', '주간', '야간', '주간', '야간', '야간', '주간', '주간', '야간', '주간', '야간', '야간', '야간', '야간', '야간', '야간', '야간', '야간', '주간', '주간', '주간', '주간', '주간', '야간', '주간', '주간', '야간', '주간', '주간', '야간', '야간', '주간', '야간', '야간', '야간', '야간', '야간', '야간', '주간', '야간', '야간', '야간', '주간', '야간', '주간', '야간', '야간', '주간', '야간', '야간', '야간', '주간', '주간', '야간', '야간', '주간', '야간', '주간', '주간', '야간', '야간', '야간', '야간', '야간', '주간', '주간', '주간', '주간', '야간', '주간', '야간', '야간', '야간', '주간', '주간', '주간', '야간', '주간', '야간', '주간', '야간', '야간', '주간', '주간', '주간', '주간', '야간', '주간', '야간', '야간', '야간', '야간', '주간', '야간', '야간', '야간', '야간', '야간', '야간', '야간', '야간', '야간', '야간', '야간', '주간', '야간', '주간', '주간', '야간', '야간', '야간', '주간', '야간', '야간', '야간', '야간', '야간', '야간', '야간', '야간', '야간', '야간', '야간', '주간', '주간', '주간', '주간', '야간', '주간', '야간', '야간', '야간', '주간', '야간', '주간', '야간', '야간', '야간', '주간', '야간', '야간', '야간', '야간', '야간', '주간', '야간', '야간', '야간', '주간', '야간', '야간', '야간', '주간', '야간', '야간', '야간', '야간', '야간', '주간', '야간', '주간', '야간', '야간', '주간', '야간', '주간', '야간', '야간', '야간', '야간', '야간', '주간', '야간', '야간', '야간', '주간', '주간', '야간', '야간', '야간', '주간', '주간', '야간', '야간', '주간', '야간', '야간', '야간', '야간', '야간', '야간', '야간', '주간', '야간', '주간', '주간', '야간', '야간', '주간', '야간', '주간', '주간', '야간', '야간', '야간', '주간', '야간', '야간', '야간', '야간', '야간', '주간', '야간', '야간', '주간', '주간', '야간', '주간', '주간', '주간', '주간', '주간', '주간', '야간', '주간', '주간', '주간', '야간', '야간', '주간', '주간', '주간', '주간', '주간', '주간', '주간', '야간', '주간', '야간', '주간', '주간', '야간', '야간', '주간', '야간', '주간', '야간', '야간', '야간', '주간', '야간', '주간', '야간', '주간', '주간', '야간', '야간', '야간', '야간', '야간', '주간', '야간', '주간', '주간', '주간', '주간', '야간', '야간', '야간', '야간', '야간', '야간', '주간', '야간', '야간', '야간', '주간', '야간', '주간', '주간', '주간', '야간', '주간', '주간', '주간', '야간', '주간', '주간', '주간', '야간', '주간', '야간', '주간', '주간', '야간', '야간', '야간', '야간', '야간', '야간', '주간', '주간', '야간', '주간', '야간', '야간', '야간', '주간', '야간', '주간', '주간', '주간', '야간', '야간', '주간', '주간', '주간', '야간', '야간', '야간', '주간', '야간', '야간', '야간', '야간', '야간', '야간', '야간', '야간', '야간', '야간', '주간', '야간', '야간', '야간', '야간', '야간', '야간', '주간', '야간', '야간', '야간', '야간', '야간', '야간', '야간', '야간', '야간', '주간', '야간', '야간', '야간', '야간', '야간', '야간', '야간', '주간', '야간', '야간', '야간', '야간', '야간', '야간', '야간', '야간', '주간', '야간', '야간', '주간', '주간', '주간', '야간', '야간', '야간', '주간', '주간', '주간', '주간', '야간', '야간', '주간', '야간', '야간', '주간', '야간', '야간', '주간', '야간', '야간', '야간', '야간', '야간', '주간', '야간', '주간', '주간', '야간', '주간', '주간', '주간', '야간', '야간', '주간', '야간', '야간', '야간', '주간', '야간', '야간', '야간', '야간', '야간', '야간', '야간', '야간', '야간', '야간', '야간', '야간', '주간', '주간', '야간', '야간', '주간', '주간', '주간', '주간', '주간', '야간', '주간', '야간', '야간', '주간', '야간', '야간', '야간', '야간', '주간', '주간', '야간', '주간', '주간', '야간', '주간', '야간', '야간', '주간', '주간', '야간', '야간', '야간', '야간', '야간', '야간', '주간', '주간', '야간', '주간', '야간', '주간', '주간', '야간', '주간', '주간', '주간', '야간', '주간', '야간', '주간', '주간', '주간', '야간', '주간', '주간', '주간', '야간', '주간', '야간', '야간', '주간', '야간', '야간', '주간', '주간', '야간', '주간', '주간', '주간', '주간', '야간', '주간', '야간', '야간', '야간', '야간', '주간', '야간', '주간', '주간', '야간', '야간', '야간', '주간', '주간', '주간', '야간', '야간', '야간', '야간', '야간', '야간', '주간', '야간', '야간', '주간', '야간', '주간', '야간', '주간', '야간', '야간', '야간', '주간', '야간', '주간', '주간', '주간', '주간', '주간', '주간', '주간', '주간', '야간', '야간', '야간', '주간', '야간', '주간', '주간', '야간', '야간', '야간', '주간', '야간', '주간', '주간', '주간', '야간', '야간', '주간', '야간', '주간', '야간', '주간', '주간', '야간', '야간', '주간', '야간', '야간', '주간', '주간', '주간', '야간', '야간', '야간', '주간', '야간', '야간', '야간', '야간', '주간', '야간', '야간', '주간', '주간', '야간', '야간', '야간', '주간', '야간', '야간', '주간', '주간', '야간', '야간', '주간', '주간', '야간', '야간', '야간', '야간', '야간', '야간', '야간', '주간', '야간', '야간', '주간', '야간', '주간', '야간', '야간', '야간', '야간', '주간', '야간', '야간', '야간', '주간', '야간', '야간', '야간', '야간', '야간', '야간', '주간', '야간', '주간', '야간', '야간', '야간', '야간', '야간', '야간', '야간', '주간', '주간', '주간', '야간', '주간', '주간', '야간', '야간', '주간', '주간', '주간', '주간', '야간', '야간', '야간', '야간', '야간', '야간', '주간', '주간', '주간', '야간', '야간', '주간', '주간', '주간', '주간', '주간', '주간', '주간', '주간', '야간', '야간', '주간', '주간', '야간', '야간', '야간', '야간', '주간', '주간', '야간', '야간', '야간', '주간', '야간', '주간', '야간', '주간', '야간', '주간', '주간', '야간', '주간', '야간', '주간', '야간', '주간', '야간', '주간', '주간', '야간', '야간', '야간', '주간', '야간', '야간', '야간', '야간', '야간', '야간', '야간', '주간', '주간', '주간', '주간', '주간', '주간', '주간', '야간', '주간', '야간', '야간', '야간', '야간', '야간', '야간', '야간', '야간', '야간', '야간', '주간', '주간', '야간', '야간', '주간', '주간', '야간', '야간', '야간', '야간', '야간', '야간', '주간', '주간', '야간', '주간', '야간', '주간', '야간', '주간', '야간', '주간', '야간', '야간', '야간', '주간', '주간', '주간', '주간', '야간', '야간', '야간', '주간', '주간', '주간', '야간', '야간', '야간', '야간', '야간', '야간', '주간', '주간', '주간', '야간', '야간', '야간', '야간', '야간', '야간', '야간', '야간', '야간', '주간', '주간', '주간', '야간', '야간', '야간', '야간', '야간', '주간', '주간', '주간', '주간', '주간', '주간', '주간', '주간', '야간', '야간', '주간', '주간', '야간', '주간', '주간', '야간', '야간', '야간', '주간', '야간', '주간', '주간', '주간', '주간', '야간', '야간', '야간', '야간', '야간', '야간', '주간', '주간', '야간', '야간', '야간', '야간', '야간', '야간', '야간', '야간', '야간', '야간', '주간', '주간', '야간', '야간', '주간', '주간', '주간', '주간', '야간', '야간', '주간', '주간', '야간', '야간', '주간', '주간', '야간', '야간', '주간', '주간', '야간', '주간', '주간', '야간', '야간', '야간', '야간', '야간', '주간', '주간', '야간', '야간', '야간', '야간', '야간', '야간', '야간', '주간', '주간', '주간', '야간', '주간', '야간', '야간', '야간', '주간', '야간', '야간', '야간', '주간', '야간', '야간', '주간', '야간', '야간', '야간', '야간', '주간', '주간', '주간', '야간', '야간', '야간', '주간', '주간', '주간', '야간', '야간', '야간', '주간', '주간', '주간', '야간', '야간', '야간', '야간', '주간', '야간', '야간', '주간', '야간', '주간', '주간', '야간', '야간', '주간', '주간', '야간', '야간', '야간', '야간', '야간', '야간', '야간', '야간', '야간', '야간', '야간', '야간', '야간', '주간', '야간', '야간', '야간', '야간', '야간', '야간', '야간', '주간', '주간', '야간', '야간', '야간', '야간', '야간', '야간', '주간', '야간', '주간', '야간', '야간', '야간', '주간', '야간', '야간', '야간', '주간', '야간', '야간', '야간', '야간', '야간', '야간', '주간', '야간', '야간', '야간', '주간', '주간', '야간', '주간', '야간', '야간', '야간', '야간', '주간', '주간', '야간', '야간', '주간', '주간', '주간', '주간', '주간', '주간', '주간', '주간', '야간', '야간', '야간', '주간', '야간', '야간', '야간', '주간', '주간', '야간', '야간', '야간', '야간', '주간', '야간', '야간', '야간', '야간', '주간', '주간', '야간', '야간', '주간', '주간', '주간', '주간', '주간', '주간', '주간', '주간', '주간', '야간', '야간', '주간', '야간', '야간', '야간', '야간', '야간', '야간', '야간', '야간', '주간', '야간', '야간', '주간', '주간', '야간', '야간', '주간', '야간', '야간', '야간', '주간', '야간', '야간', '주간', '야간', '주간', '야간', '야간', '야간', '야간', '야간', '야간', '야간', '야간', '야간', '야간', '야간', '야간', '야간', '주간', '주간', '주간', '주간', '주간', '주간', '주간', '야간', '야간', '야간', '주간', '주간', '주간', '주간', '주간', '주간', '야간', '야간', '야간', '주간', '주간', '주간', '주간', '주간', '주간', '주간', '주간', '주간', '야간', '야간', '야간', '야간', '야간', '야간', '야간', '야간', '주간', '주간', '야간', '야간', '야간', '야간', '주간', '야간', '야간', '야간', '야간', '야간', '야간', '주간', '주간', '야간', '야간', '주간', '야간', '야간', '야간', '주간', '야간', '주간', '주간', '야간', '주간', '주간', '야간', '야간', '야간', '야간', '주간', '주간', '야간', '야간', '야간', '주간', '주간', '야간', '야간', '야간', '주간', '야간', '주간', '주간', '야간', '주간', '주간', '주간', '야간', '야간', '야간', '주간', '야간', '야간', '야간', '주간', '주간', '주간', '야간', '야간', '야간', '야간', '야간', '야간', '야간', '야간', '야간', '주간', '주간', '주간', '주간', '야간', '야간', '주간', '주간', '주간', '주간', '야간', '주간', '주간', '야간', '야간', '주간', '주간', '주간', '주간', '주간', '주간', '야간', '야간', '야간', '야간', '주간', '주간', '주간', '주간', '주간', '주간', '야간', '야간', '주간', '주간', '야간', '야간', '주간', '주간', '주간', '주간', '야간', '야간', '야간', '야간', '야간', '야간', '야간', '야간', '주간', '주간', '야간', '주간', '주간', '야간', '주간', '야간', '주간', '야간', '주간', '주간', '야간', '야간', '야간', '주간', '야간', '야간', '야간', '야간', '주간', '주간', '야간', '야간', '야간', '주간', '주간', '야간', '주간', '야간', '주간', '야간', '주간', '주간', '야간', '야간', '야간', '주간', '주간', '주간', '주간', '야간', '주간', '주간', '야간', '주간', '야간', '야간', '야간', '야간', '주간', '주간', '야간', '야간', '야간', '야간', '야간', '야간', '야간', '야간', '야간', '야간', '야간', '야간', '야간', '야간', '야간', '야간', '야간', '야간', '야간', '야간', '야간', '야간', '야간', '야간', '야간', '야간', '야간', '야간', '야간', '야간', '야간', '야간', '야간', '야간', '야간', '야간', '야간', '야간', '야간', '야간', '야간', '야간', '야간', '야간', '야간', '주간', '야간', '야간', '주간', '주간', '주간', '야간', '야간', '야간', '야간', '야간', '주간', '주간', '야간', '야간', '야간', '야간', '야간', '야간', '야간', '야간', '주간', '주간', '야간', '야간', '야간', '야간', '주간', '주간', '야간', '야간', '야간', '야간', '주간', '주간', '야간', '야간', '야간', '야간', '야간', '야간', '야간', '야간', '주간', '주간', '야간', '야간', '야간', '야간', '야간', '야간', '야간', '야간', '야간', '야간', '야간', '야간', '야간', '야간', '야간', '야간', '야간', '야간', '주간', '주간', '주간', '야간', '주간', '야간', '야간', '야간', '주간', '주간', '야간', '야간', '주간', '주간', '야간', '주간', '야간', '야간', '주간', '야간', '야간', '야간', '주간', '주간', '주간', '주간', '주간', '주간', '주간', '주간', '야간', '야간', '주간', '주간', '주간', '주간', '야간', '야간', '야간', '야간', '주간', '주간', '야간', '야간', '주간', '주간', '주간', '주간', '주간', '주간', '야간', '야간', '야간', '야간', '야간', '야간', '야간', '야간', '야간', '야간', '주간', '주간', '야간', '야간', '야간', '야간', '야간', '주간', '야간', '야간', '주간', '야간', '야간', '야간', '야간', '야간', '야간', '주간', '주간', '야간', '야간', '주간', '주간', '야간', '야간', '야간', '주간', '주간', '야간', '야간', '주간', '주간', '주간', '주간', '야간', '야간', '주간', '주간', '야간', '야간', '주간', '야간', '야간', '야간', '야간', '야간', '야간', '야간', '주간', '주간', '야간', '야간', '야간', '야간', '주간', '주간', '주간', '주간', '야간', '야간', '야간', '야간', '야간', '야간', '야간', '야간', '야간', '야간', '야간', '야간', '야간', '야간', '야간', '야간', '야간', '야간', '야간', '야간', '주간', '주간', '야간', '야간', '야간', '야간', '주간', '주간', '야간', '야간', '야간', '야간', '야간', '야간', '주간', '주간', '야간', '야간', '야간', '야간', '야간', '야간', '야간', '야간', '주간', '주간', '야간', '야간', '주간', '주간', '주간', '야간', '야간', '야간', '주간', '주간', '주간', '야간', '야간', '야간', '야간', '야간', '야간', '야간', '야간', '야간', '주간', '주간', '주간', '주간', '주간', '주간', '야간', '야간', '야간', '야간', '야간', '야간', '야간', '야간', '야간', '야간', '야간', '야간', '야간', '야간', '야간', '야간', '야간', '야간', '주간', '주간', '야간', '야간', '야간', '야간', '야간', '야간', '야간', '야간', '야간', '야간', '야간', '야간', '야간', '야간', '야간', '야간', '야간', '야간', '야간', '야간', '주간', '야간', '야간', '야간', '주간', '야간', '야간', '야간', '야간', '주간', '야간', '야간', '야간', '야간', '야간', '야간', '야간', '야간', '야간', '주간', '주간', '주간', '주간', '주간', '주간', '야간', '야간', '야간', '주간', '야간', '야간', '주간', '야간', '야간', '야간', '야간', '주간', '주간', '야간', '주간', '주간', '야간', '야간', '주간', '야간', '야간', '야간', '야간', '야간', '야간', '야간', '주간', '주간', '야간', '야간', '야간', '야간', '야간', '야간', '야간', '야간', '주간', '주간', '주간', '주간', '야간', '야간', '야간', '야간', '야간', '야간', '야간', '야간', '주간', '주간', '야간', '야간', '주간', '주간', '주간', '주간', '야간', '야간', '야간', '야간', '야간', '야간', '주간', '주간', '야간', '야간', '주간', '주간', '야간', '야간', '주간', '주간', '야간', '야간', '주간', '야간', '주간', '주간', '야간', '야간', '주간', '야간', '야간', '주간', '야간', '야간', '주간', '야간', '야간', '야간', '야간', '야간', '야간', '야간', '야간', '야간', '야간', '야간', '야간', '야간', '야간', '야간', '야간', '주간', '주간', '야간', '야간', '야간', '야간', '야간', '야간', '야간', '야간', '주간', '주간', '야간', '주간', '주간', '야간', '야간', '주간', '주간', '야간', '야간', '주간', '야간', '야간', '야간', '주간', '야간', '주간', '주간', '야간', '야간', '야간', '주간', '야간', '야간', '야간', '야간', '야간', '야간', '야간', '야간', '주간', '주간', '주간', '주간', '주간', '주간', '야간', '야간', '야간', '야간', '야간', '야간', '주간', '주간', '주간', '주간', '주간', '주간', '주간', '주간', '주간', '주간', '주간', '주간', '야간', '야간', '야간', '야간', '야간', '야간', '야간', '주간', '야간', '야간', '주간', '야간', '주간', '주간', '야간', '주간', '주간', '야간', '야간', '주간', '야간', '주간', '주간', '야간', '야간', '야간', '주간', '주간', '주간', '주간', '야간', '야간', '야간', '야간', '주간', '주간', '주간', '야간', '주간', '주간', '야간', '주간', '야간', '주간', '야간', '주간', '야간', '야간', '야간', '야간', '야간', '야간', '야간', '야간', '주간', '주간', '야간', '야간', '야간', '야간', '야간', '야간', '야간', '야간', '야간', '야간', '야간', '야간', '야간', '야간', '주간', '주간', '주간', '주간', '주간', '주간', '야간', '야간', '야간', '야간', '주간', '주간', '야간', '야간', '주간', '주간', '주간', '주간', '야간', '야간', '야간', '야간', '야간', '야간', '주간', '주간', '야간', '야간', '야간', '야간', '주간', '주간', '주간', '주간', '야간', '야간', '주간', '주간', '야간', '야간', '야간', '야간', '주간', '주간', '주간', '주간', '주간', '주간', '주간', '주간', '야간', '야간', '주간', '주간', '야간', '야간', '주간', '주간', '야간', '야간', '주간', '주간', '야간', '야간', '주간', '주간', '야간', '야간', '주간', '주간', '주간', '주간', '주간', '주간', '주간', '주간', '야간', '야간', '주간', '주간', '주간', '주간', '주간', '주간', '주간', '주간', '야간', '야간', '주간', '주간', '주간', '주간', '주간', '주간', '주간', '야간', '야간', '주간', '주간', '주간', '야간', '야간', '야간', '야간', '주간', '주간', '야간', '야간', '야간', '야간', '야간', '주간', '야간', '야간', '야간', '주간', '야간', '야간', '야간', '주간', '주간', '주간', '주간', '야간', '야간', '야간', '야간', '야간', '야간', '야간', '야간', '주간', '주간', '주간', '주간', '야간', '야간', '야간', '야간', '야간', '야간', '야간', '야간', '야간', '야간', '야간', '야간', '야간', '야간', '야간', '야간', '야간', '야간', '야간', '야간', '야간', '야간', '야간', '야간', '야간', '야간', '야간', '주간', '야간', '야간', '야간', '주간', '야간', '야간', '야간', '야간', '야간', '야간', '주간', '주간', '야간', '야간', '야간', '야간', '야간', '야간', '야간', '야간', '야간', '야간', '야간', '야간', '야간', '야간', '주간', '주간', '야간', '야간', '야간', '주간', '야간', '야간', '주간', '주간', '야간', '야간', '야간', '주간', '야간', '야간', '주간', '야간', '야간', '야간', '야간', '야간', '야간', '야간', '야간', '주간', '야간', '야간', '야간', '야간', '야간', '야간', '야간', '주간', '주간', '야간', '야간', '야간', '야간', '야간', '야간', '주간', '주간', '야간', '야간', '야간', '야간', '주간', '주간', '주간', '주간', '주간', '주간', '야간', '야간', '주간', '주간', '주간', '주간', '주간', '주간', '야간', '야간', '주간', '주간', '주간', '주간', '야간', '주간', '야간', '야간', '주간', '야간', '야간', '야간', '주간', '야간', '야간', '주간', '주간', '야간', '야간', '주간', '야간', '주간', '야간', '야간', '야간', '야간', '야간', '야간', '야간', '야간', '야간', '야간', '야간', '야간', '야간', '야간', '야간', '야간', '야간', '야간', '주간', '주간', '야간', '야간', '야간', '야간', '야간', '야간', '주간', '야간', '야간', '주간', '주간', '야간', '야간', '야간', '야간', '주간', '야간', '주간', '주간', '주간', '주간', '야간', '야간', '주간', '주간', '주간', '주간', '야간', '주간', '주간', '주간', '주간', '야간', '주간', '야간', '주간', '야간', '야간', '야간', '주간', '주간', '야간', '야간', '야간', '주간', '주간', '주간', '주간', '야간', '야간', '야간', '야간', '야간', '야간', '야간', '야간', '야간', '야간', '야간', '야간', '야간', '야간', '야간', '야간', '야간', '주간', '야간', '주간', '주간', '주간', '야간', '야간', '주간', '주간', '주간', '주간', '야간', '야간', '야간', '주간', '야간', '야간', '야간', '야간', '주간', '야간', '야간', '주간', '야간', '야간', '야간', '야간', '주간', '야간', '야간', '야간', '야간', '야간', '야간', '야간', '야간', '야간', '야간', '야간', '야간', '주간', '야간', '야간', '주간', '야간', '주간', '주간', '야간', '야간', '야간', '야간', '야간', '주간', '주간', '야간', '야간', '주간', '주간', '야간', '야간', '야간', '야간', '야간', '야간', '야간', '주간', '주간', '주간', '야간', '주간', '주간', '주간', '주간', '야간', '야간', '야간', '주간', '야간', '야간', '야간', '주간', '야간', '야간', '주간', '야간', '주간', '야간', '야간', '야간', '야간', '야간', '주간', '야간', '주간', '주간', '야간', '주간', '주간', '주간', '주간', '주간', '야간', '야간', '야간', '야간', '야간', '주간', '주간', '야간', '주간', '야간', '야간', '야간', '주간', '주간', '주간', '주간', '주간', '야간', '야간', '야간', '야간', '야간', '야간', '주간', '주간', '주간', '주간', '야간', '야간', '야간', '야간', '야간', '야간', '주간', '주간', '야간', '야간', '야간', '야간', '주간', '주간', '주간', '주간', '야간', '야간', '주간', '야간', '야간', '야간', '주간', '주간', '주간', '주간', '주간', '주간', '야간', '야간', '야간', '야간', '주간', '야간', '주간', '야간', '야간', '주간', '주간', '야간', '야간', '주간', '주간', '야간', '주간', '야간', '야간', '야간', '야간', '야간', '야간', '야간', '야간', '야간', '야간', '야간', '야간', '야간', '주간', '야간', '주간', '주간', '주간', '야간', '야간', '야간', '야간', '주간', '야간', '주간', '야간', '주간', '주간', '야간', '주간', '야간', '주간', '야간', '야간', '야간', '야간', '주간', '주간', '주간', '야간', '주간', '주간', '주간', '야간', '야간', '주간', '주간', '주간', '주간', '야간', '야간', '주간', '주간', '야간', '야간', '주간', '주간', '주간', '주간', '야간', '야간', '야간', '야간', '주간', '주간', '주간', '주간', '주간', '주간', '야간', '주간', '야간', '주간', '주간', '야간', '야간', '야간', '주간', '주간', '야간', '야간', '주간', '주간', '야간', '야간', '주간', '야간', '야간', '주간', '야간', '야간', '야간', '주간', '야간', '야간', '주간', '야간', '야간', '야간', '주간', '야간', '야간', '야간', '야간', '주간', '야간', '주간', '주간', '주간', '야간', '주간', '주간', '주간', '주간', '야간', '야간', '주간', '주간', '야간', '야간', '야간', '야간', '야간', '야간', '야간', '주간', '주간', '주간', '야간', '주간', '야간', '야간', '야간', '주간', '야간', '주간', '야간', '야간', '야간', '야간', '야간', '주간', '야간', '주간', '야간', '주간', '야간', '주간', '야간', '주간', '주간', '주간', '야간', '야간', '야간', '야간', '주간', '야간', '주간', '야간', '주간', '야간', '야간', '주간', '야간', '주간', '주간', '야간', '주간', '야간', '야간', '야간', '야간', '야간', '야간', '야간', '주간', '주간', '주간', '야간', '야간', '야간', '야간', '야간', '야간', '야간', '야간', '야간', '주간', '주간', '주간', '주간', '주간', '주간', '야간', '야간', '야간', '야간', '야간', '야간', '주간', '주간', '주간', '주간', '주간', '주간', '야간', '야간', '야간', '주간', '야간', '야간', '주간', '야간', '주간', '주간', '주간', '야간', '주간', '주간', '야간', '야간', '야간', '야간', '야간', '야간', '야간', '주간', '야간', '주간', '주간', '야간', '주간', '야간', '주간', '야간', '주간', '야간', '주간', '주간', '주간', '야간', '주간', '주간', '주간', '주간', '야간', '야간', '주간', '야간', '야간', '야간', '주간', '주간', '주간', '주간', '주간', '주간', '야간', '야간', '야간', '야간', '야간', '주간', '야간', '야간', '주간', '주간', '야간', '야간', '야간', '주간', '야간', '야간', '주간', '주간', '주간', '주간', '야간', '야간', '주간', '주간', '주간', '야간', '주간', '야간', '야간', '주간', '주간', '야간', '야간', '주간', '주간', '야간', '야간', '주간', '주간', '야간', '야간', '야간', '야간', '야간', '야간', '야간', '야간', '주간', '주간', '야간', '야간', '야간', '주간', '주간', '야간', '야간', '야간', '야간', '야간', '야간', '야간', '야간', '주간', '주간', '야간', '야간', '야간', '야간', '야간', '야간', '야간', '야간', '주간', '주간', '야간', '주간', '야간', '주간', '야간', '주간', '주간', '야간', '야간', '야간', '야간', '주간', '주간', '야간', '야간', '야간', '주간', '야간', '주간', '야간', '야간', '야간', '야간', '야간', '야간', '야간', '야간', '주간', '주간', '주간', '주간', '주간', '주간', '주간', '주간', '야간', '야간', '야간', '야간', '주간', '주간', '야간', '야간', '야간', '야간', '주간', '주간', '야간', '주간', '야간', '야간', '주간', '주간', '야간', '주간', '야간', '야간', '야간', '야간', '주간', '야간', '주간', '야간', '야간', '야간', '야간', '야간', '야간', '주간', '야간', '야간', '야간', '야간', '주간', '주간', '주간', '주간', '주간', '야간', '야간', '야간', '야간', '야간', '야간', '야간', '야간', '주간', '주간', '야간', '야간', '주간', '주간', '야간', '야간', '야간', '야간', '야간', '야간', '주간', '주간', '야간', '야간', '주간', '주간', '주간', '주간', '야간', '야간', '야간', '야간', '주간', '야간', '주간', '야간', '야간', '주간', '주간', '야간', '야간', '야간', '야간', '야간', '야간', '야간', '야간', '야간', '주간', '주간', '야간', '주간', '야간', '야간', '주간', '주간', '야간', '야간', '야간', '야간', '주간', '주간', '야간', '주간', '야간', '야간', '야간', '야간', '야간', '야간', '야간', '주간', '주간', '야간', '야간', '야간', '야간', '야간', '야간', '주간', '주간', '야간', '야간', '주간', '주간', '야간', '야간', '주간', '주간', '야간', '야간', '주간', '주간', '야간', '야간', '야간', '야간', '야간', '주간', '야간', '야간', '야간', '야간', '야간', '야간', '야간', '야간', '주간', '주간', '야간', '야간', '주간', '주간', '야간', '야간', '야간', '야간', '야간', '야간', '야간', '야간', '주간', '주간', '주간', '주간', '주간', '주간', '야간', '야간', '야간', '야간', '야간', '주간', '주간', '주간', '주간', '야간', '주간', '야간', '주간', '주간', '주간', '주간', '주간', '주간', '주간', '야간', '주간', '야간', '주간', '야간', '야간', '주간', '야간', '야간', '야간', '주간', '주간', '주간', '주간', '주간', '주간', '주간', '주간', '야간', '야간', '야간', '야간', '주간', '주간', '주간', '주간', '주간', '주간', '주간', '야간', '야간', '주간', '야간', '야간', '야간', '야간', '야간', '주간', '주간', '야간', '주간', '야간', '야간', '야간', '주간', '야간', '야간', '야간', '야간', '주간', '주간', '주간', '주간', '주간', '야간', '주간', '야간', '주간', '야간', '야간', '야간', '주간', '주간', '야간', '야간', '야간', '야간', '야간', '야간', '야간', '야간', '야간', '야간', '야간', '야간', '야간', '주간', '주간', '주간', '야간', '주간', '야간', '야간', '야간', '야간', '야간', '야간', '주간', '주간', '주간', '야간', '야간', '주간', '주간', '주간', '야간', '야간', '야간', '야간', '야간', '야간', '주간', '주간', '주간', '야간', '주간', '야간', '야간', '주간', '주간', '주간', '주간', '주간', '주간', '주간', '주간', '주간', '주간', '주간', '주간', '주간', '주간', '주간', '야간', '야간', '야간', '야간', '야간', '야간', '야간', '야간', '야간', '야간', '야간', '야간', '야간', '야간', '야간', '야간', '야간', '야간', '야간', '야간', '주간', '야간', '주간', '주간', '야간', '야간', '주간', '야간', '야간', '주간', '주간', '야간', '주간', '야간', '주간', '주간', '주간', '야간', '주간', '주간', '주간', '야간', '야간', '야간', '주간', '야간', '야간', '주간', '주간', '주간', '야간', '주간', '주간', '주간', '야간', '주간', '야간', '야간', '야간', '야간', '주간', '야간', '주간', '야간', '주간', '주간', '야간', '야간', '야간', '주간', '주간', '야간', '주간', '야간', '야간', '주간', '야간', '야간', '야간', '주간', '주간', '주간', '주간', '주간', '야간', '주간', '야간', '야간', '야간', '야간', '주간', '야간', '주간', '주간', '야간', '야간', '주간', '주간', '주간', '야간', '야간', '야간', '주간', '야간', '야간', '야간', '야간', '야간', '야간', '야간', '야간', '야간', '야간', '야간', '야간', '야간', '야간', '야간', '야간', '주간', '주간', '주간', '주간', '주간', '주간', '주간', '주간', '주간', '야간', '야간', '야간', '야간', '야간', '야간', '야간', '야간', '야간', '주간', '주간', '야간', '야간', '주간', '주간', '야간', '야간', '주간', '야간', '야간', '야간', '주간', '야간', '야간', '야간', '야간', '야간', '야간', '야간', '야간', '야간', '야간', '야간', '야간', '야간', '야간', '야간', '야간', '야간', '야간', '야간', '야간', '주간', '야간', '야간', '주간', '주간', '주간', '야간', '주간', '주간', '주간', '주간', '주간', '야간', '주간', '주간', '주간', '주간', '주간', '야간', '야간', '야간', '주간', '주간', '야간', '야간', '야간', '야간', '야간', '야간', '야간', '야간', '주간', '야간', '주간', '야간', '야간', '야간', '야간', '야간', '야간', '주간', '야간', '야간', '야간', '주간', '주간', '야간', '주간', '야간', '주간', '주간', '야간', '야간', '야간', '주간', '주간', '주간', '야간', '주간', '주간', '주간', '주간', '주간', '주간', '야간', '야간', '야간', '주간', '주간', '야간', '야간', '야간', '주간', '주간', '야간', '야간', '야간', '야간', '야간', '야간', '야간', '야간', '주간', '주간', '주간', '주간', '야간', '야간', '야간', '야간', '야간', '야간', '주간', '주간', '주간', '야간', '야간', '야간', '야간', '야간', '야간', '야간', '야간', '야간', '야간', '야간', '야간', '주간', '야간', '주간', '주간', '야간', '야간', '주간', '주간', '주간', '주간', '주간', '주간', '주간', '주간', '주간', '야간', '야간', '야간', '야간', '야간', '야간', '야간', '야간', '주간', '주간', '주간', '주간', '야간', '주간', '야간', '주간', '주간', '야간', '야간', '주간', '주간', '주간', '야간', '주간', '야간', '야간', '야간', '야간', '야간', '야간', '주간', '주간', '야간', '야간', '주간', '주간', '주간', '주간', '야간', '야간', '주간', '주간', '주간', '주간', '주간', '주간', '주간', '주간', '주간', '주간', '주간', '야간', '야간', '야간', '야간', '야간', '야간', '야간', '주간', '야간', '야간', '야간', '야간', '주간', '주간', '야간', '야간', '주간', '야간', '야간', '야간', '주간', '야간', '야간', '주간', '주간', '주간', '주간', '주간', '주간', '주간', '주간', '야간', '야간', '야간', '야간', '주간', '주간', '주간', '야간', '야간', '야간', '야간', '주간', '야간', '주간', '야간', '야간', '주간', '주간', '야간', '주간', '주간', '주간', '야간', '주간', '주간', '주간', '주간', '야간', '주간', '야간', '야간', '야간', '야간', '주간', '야간', '야간', '야간', '야간', '주간', '주간', '야간', '야간', '야간', '야간', '주간', '야간', '야간', '야간', '야간', '야간', '야간', '주간', '주간', '주간', '주간', '야간', '주간', '야간', '주간', '야간', '야간', '야간', '야간', '야간', '주간', '야간', '주간', '주간', '주간', '야간', '주간', '주간', '야간', '주간', '주간', '야간', '야간', '야간', '야간', '야간', '주간', '야간', '야간', '야간', '야간', '주간', '주간', '주간', '주간', '야간', '야간', '야간', '주간', '야간', '주간', '야간', '주간', '야간', '주간', '주간', '야간', '야간', '주간', '야간', '야간', '주간', '야간', '야간', '주간', '주간', '야간', '야간', '야간', '주간', '주간', '야간', '야간', '주간', '주간', '야간', '야간', '주간', '주간', '주간', '주간', '야간', '야간', '주간', '주간', '야간', '야간', '주간', '야간', '야간', '야간', '주간', '야간', '야간', '야간', '야간', '야간', '야간', '주간', '주간', '주간', '주간', '야간', '야간', '주간', '주간', '주간', '주간', '야간', '야간', '주간', '주간', '야간', '야간', '야간', '야간', '야간', '주간', '야간', '주간', '야간', '주간', '야간', '주간', '주간', '야간', '야간', '야간', '주간', '야간', '주간', '야간', '야간', '야간', '주간', '주간', '주간', '주간', '야간', '주간', '야간', '야간', '야간', '야간', '야간', '야간', '야간', '야간', '야간', '야간', '주간', '야간', '주간', '야간', '야간', '주간', '야간', '야간', '야간', '야간', '야간', '주간', '야간', '야간', '야간', '주간', '주간', '주간', '야간', '주간', '야간', '야간', '주간', '야간', '야간', '주간', '야간', '주간', '야간', '주간', '주간', '주간', '야간', '야간', '주간', '야간', '야간', '주간', '주간', '주간', '야간', '야간', '야간', '야간', '야간', '야간', '주간', '야간', '야간', '야간', '야간', '주간', '야간', '야간', '주간', '주간', '주간', '주간', '야간', '야간', '야간', '야간', '주간', '주간', '야간', '야간', '야간', '야간', '주간', '주간', '야간', '주간', '야간', '야간', '주간', '주간', '주간', '주간', '주간', '주간', '주간', '주간', '야간', '주간', '야간', '야간', '주간', '야간', '야간', '주간', '야간', '주간', '주간', '주간', '주간', '주간', '야간', '주간', '야간', '주간', '야간', '주간', '주간', '주간', '야간', '주간', '야간', '주간', '야간', '야간', '주간', '주간', '야간', '주간', '야간', '야간', '주간', '주간', '야간', '주간', '주간', '야간', '야간', '주간', '야간', '야간', '야간', '야간', '야간', '야간', '주간', '주간', '주간', '야간', '야간', '야간', '야간', '야간', '주간', '주간', '주간', '주간', '주간', '주간', '야간', '야간', '주간', '야간', '야간', '야간', '야간', '야간', '주간', '주간', '주간', '주간', '주간', '주간', '야간', '야간', '야간', '야간', '야간', '야간', '주간', '주간', '주간', '야간', '주간', '주간', '야간', '주간', '주간', '주간', '야간', '주간', '주간', '주간', '야간', '야간', '주간', '주간', '주간', '주간', '야간', '야간', '야간', '야간', '주간', '주간', '주간', '주간', '야간', '주간', '야간', '야간', '야간', '주간', '야간', '주간', '주간', '주간', '주간', '주간', '주간', '주간', '주간', '야간', '야간', '주간', '야간', '야간', '야간', '야간', '주간', '주간', '야간', '야간', '야간', '야간', '야간', '야간', '야간', '야간', '야간', '야간', '야간', '야간', '주간', '주간', '야간', '야간', '주간', '주간', '야간', '야간', '야간', '야간', '야간', '야간', '야간', '야간', '야간', '야간', '야간', '야간', '야간', '주간', '주간', '주간', '야간', '주간', '야간', '주간', '주간', '주간', '주간', '야간', '주간', '야간', '야간', '야간', '야간', '주간', '주간', '주간', '주간', '주간', '야간', '야간', '야간', '야간', '주간', '주간', '주간', '야간', '주간', '야간', '주간', '야간', '야간', '야간', '야간', '야간', '야간', '주간', '주간', '주간', '야간', '야간', '주간', '야간', '주간', '야간', '주간', '주간', '야간', '야간', '야간', '주간', '야간', '야간', '야간', '주간', '주간', '야간', '주간', '야간', '야간', '야간', '주간', '주간', '주간', '야간', '주간', '주간', '야간', '야간', '야간', '야간', '야간', '야간', '야간', '야간', '야간', '야간', '주간', '주간', '야간', '야간', '주간', '주간', '야간', '야간', '주간', '주간', '야간', '야간', '야간', '주간', '주간', '주간', '주간', '야간', '야간', '야간', '주간', '주간', '야간', '야간', '야간', '주간', '야간', '야간', '주간', '야간', '야간', '야간', '야간', '주간', '주간', '야간', '주간', '야간', '야간', '야간', '야간', '야간', '주간', '야간', '야간', '야간', '야간', '야간', '야간', '야간', '야간', '야간', '주간', '주간', '야간', '야간', '야간', '야간', '야간', '야간', '야간', '주간', '야간', '야간', '야간', '주간', '야간', '주간', '주간', '주간', '야간', '주간', '주간', '야간', '주간', '야간', '야간', '야간', '주간', '야간', '주간', '주간', '야간', '주간', '야간', '주간', '주간', '주간', '야간', '야간', '주간', '주간', '주간', '주간', '주간', '야간', '주간', '야간', '야간', '주간', '주간', '주간', '야간', '야간', '주간', '야간', '야간', '주간', '주간', '야간', '야간', '주간', '주간', '야간', '주간', '주간', '야간', '야간', '야간', '야간', '주간', '주간', '야간', '야간', '야간', '야간', '야간', '야간', '야간', '야간', '야간', '야간', '주간', '야간', '주간', '야간', '야간', '주간', '주간', '야간', '주간', '야간', '주간', '주간', '주간', '주간', '야간', '야간', '야간', '야간', '야간', '야간', '주간', '야간', '야간', '야간', '야간', '야간', '주간', '주간', '야간', '주간', '주간', '야간', '주간', '주간', '주간', '주간', '주간', '야간', '주간', '주간', '주간', '주간', '야간', '주간', '주간', '야간', '주간', '주간', '야간', '주간', '야간', '야간', '주간', '주간', '주간', '주간', '야간', '야간', '주간', '야간', '야간', '야간', '야간', '야간', '주간', '주간', '주간', '주간', '야간', '야간', '야간', '야간', '야간', '야간', '주간', '야간', '야간', '야간', '주간', '주간', '주간', '주간', '야간', '주간', '야간', '주간', '주간', '야간', '야간', '주간', '야간', '야간', '야간', '야간', '야간', '야간', '주간', '주간', '주간', '야간', '야간', '야간', '주간', '야간', '주간', '야간', '주간', '주간', '야간', '주간', '주간', '주간', '야간', '야간', '야간', '야간', '야간', '야간', '주간', '주간', '야간', '야간', '주간', '주간', '야간', '야간', '주간', '주간', '주간', '주간', '주간', '주간', '주간', '주간', '주간', '주간', '야간', '야간', '주간', '주간', '주간', '야간', '주간', '주간', '주간', '주간', '주간', '야간', '야간', '야간', '야간', '야간', '야간', '야간', '야간', '야간', '야간', '야간', '야간', '야간', '야간', '주간', '주간', '주간', '주간', '야간', '주간', '야간', '야간', '주간', '주간', '야간', '주간', '주간', '야간', '주간', '야간', '주간', '주간', '야간', '야간', '주간', '주간', '야간', '주간', '야간', '야간', '야간', '야간', '야간', '주간', '야간', '야간', '야간', '주간', '야간', '야간', '주간', '야간', '야간', '주간', '주간', '주간', '야간', '주간', '야간', '주간', '주간', '주간', '야간', '주간', '주간', '주간', '주간', '야간', '주간', '야간', '야간', '야간', '야간', '주간', '야간', '주간', '야간', '야간', '주간', '주간', '야간', '야간', '주간', '주간', '야간', '주간', '야간', '주간', '주간', '야간', '야간', '주간', '주간', '야간', '야간', '야간', '야간', '주간', '주간', '야간', '야간', '야간', '야간', '야간', '야간', '주간', '야간', '주간', '야간', '주간', '주간', '주간', '야간', '주간', '주간', '야간', '야간', '주간', '야간', '야간', '야간', '주간', '야간', '야간', '야간', '주간', '주간', '야간', '야간', '야간', '야간', '야간', '야간', '야간', '야간', '주간', '주간', '주간', '주간', '주간', '야간', '야간', '야간', '야간', '야간', '주간', '주간', '주간', '주간', '주간', '주간', '야간', '야간', '야간', '야간', '야간', '야간', '주간', '야간', '야간', '야간', '야간', '주간', '야간', '주간', '야간', '주간', '야간', '야간', '야간', '야간', '야간', '야간', '야간', '야간', '주간', '주간', '야간', '야간', '주간', '주간', '야간', '주간', '야간', '주간', '야간', '야간', '야간', '야간', '야간', '주간', '주간', '야간', '야간', '야간', '야간', '주간', '주간', '야간', '야간', '야간', '야간', '야간', '야간', '야간', '야간', '주간', '주간', '야간', '야간', '야간', '야간', '야간', '야간', '주간', '주간', '주간', '야간', '야간', '야간', '주간', '주간', '주간', '야간', '야간', '야간', '야간', '야간', '주간', '야간', '주간', '야간', '야간', '야간', '주간', '주간', '주간', '주간', '주간', '야간', '주간', '주간', '야간', '주간', '야간', '주간', '야간', '주간', '주간', '야간', '야간', '주간', '주간', '야간', '야간', '주간', '주간', '야간', '야간', '야간', '야간', '야간', '야간', '주간', '주간', '주간', '주간', '주간', '야간', '야간', '야간', '야간', '야간', '야간', '야간', '야간', '야간', '주간', '주간', '주간', '주간', '야간', '야간', '주간', '주간', '주간', '야간', '주간', '야간', '주간', '야간', '야간', '주간', '주간', '주간', '주간', '야간', '주간', '야간', '야간', '야간', '주간', '야간', '주간', '주간', '야간', '주간', '주간', '주간', '주간', '야간', '주간', '야간', '주간', '야간', '야간', '야간', '주간', '야간', '주간', '주간', '주간', '주간', '주간', '주간', '야간', '주간', '야간', '주간', '야간', '주간', '주간', '주간', '주간', '야간', '야간', '야간', '야간', '주간', '야간', '야간', '야간', '야간', '야간', '야간', '야간', '주간', '야간', '야간', '주간', '야간', '야간', '주간', '야간', '주간', '주간', '주간', '주간', '주간', '주간', '주간', '주간', '야간', '야간', '야간', '야간', '야간', '야간', '야간', '주간', '야간', '주간', '주간', '주간', '주간', '주간', '주간', '주간', '야간', '야간', '야간', '주간', '주간', '주간', '야간', '야간', '야간', '야간', '야간', '야간', '야간', '야간', '야간', '주간', '야간', '야간', '야간', '주간', '야간', '야간', '주간', '야간', '주간', '야간', '야간', '야간', '주간', '야간', '주간', '주간', '주간', '주간', '주간', '야간', '야간', '주간', '야간', '주간', '주간', '야간', '주간', '야간', '주간', '주간', '주간', '야간', '야간', '주간', '주간', '주간', '주간', '주간', '야간', '야간', '야간', '야간', '야간', '야간', '야간', '주간', '주간', '야간', '야간', '야간', '주간', '야간', '야간', '야간', '야간', '주간', '주간', '야간', '주간', '주간', '야간', '주간', '야간', '주간', '야간', '주간', '주간', '주간', '주간', '주간', '주간', '주간', '주간', '야간', '야간', '주간', '야간', '야간', '야간', '야간', '야간', '야간', '야간', '야간', '야간', '야간', '주간', '주간', '주간', '주간', '주간', '야간', '주간', '주간', '야간', '주간', '주간', '야간', '주간', '주간', '야간', '주간', '야간', '주간', '야간', '야간', '야간', '야간', '야간', '주간', '주간', '야간', '야간', '주간', '주간', '야간', '주간', '야간', '주간', '주간', '주간', '야간', '주간', '주간', '주간', '야간', '야간', '주간', '야간', '주간', '주간', '야간', '야간', '야간', '야간', '주간', '주간', '주간', '야간', '야간', '야간', '야간', '야간', '주간', '주간', '주간', '주간', '주간', '주간', '야간', '야간', '야간', '주간', '주간', '주간', '주간', '주간', '주간', '주간', '주간', '주간', '야간', '야간', '야간', '주간', '야간', '야간', '주간', '주간', '야간', '야간', '주간', '야간', '야간', '주간', '주간', '야간', '주간', '주간', '주간', '야간', '야간', '주간', '야간', '야간', '야간', '주간', '야간', '야간', '야간', '야간', '주간', '야간', '야간', '주간', '야간', '야간', '주간', '주간', '야간', '주간', '야간', '야간', '주간', '야간', '야간', '야간', '야간', '주간', '주간', '주간', '주간', '야간', '야간', '주간', '주간', '야간', '야간', '야간', '주간', '야간', '야간', '야간', '야간', '주간', '주간', '야간', '주간', '주간', '야간', '야간', '주간', '주간', '주간', '야간', '야간', '주간', '주간', '야간', '야간', '야간', '야간', '주간', '주간', '야간', '야간', '야간', '주간', '야간', '야간', '야간', '야간', '주간', '야간', '야간', '야간', '주간', '야간', '야간', '야간', '주간', '야간', '야간', '야간', '야간', '야간', '야간', '야간', '야간', '주간', '주간', '야간', '야간', '야간', '주간', '야간', '주간', '야간', '야간', '야간', '주간', '주간', '야간', '야간', '주간', '주간', '야간', '야간', '야간', '야간', '주간', '주간', '주간', '야간', '야간', '주간', '주간', '야간', '주간', '주간', '야간', '야간', '야간', '주간', '주간', '야간', '주간', '주간', '야간', '야간', '야간', '야간', '야간', '야간', '야간', '주간', '주간', '주간', '야간', '주간', '주간', '야간', '주간', '주간', '주간', '야간', '주간', '주간', '야간', '야간', '야간', '주간', '야간', '야간', '야간', '야간', '주간', '주간', '야간', '야간', '야간', '야간', '주간', '주간', '주간', '주간', '주간', '주간', '야간', '야간', '주간', '주간', '주간', '야간', '야간', '야간', '주간', '야간', '야간', '주간', '주간', '주간', '야간', '주간', '주간', '주간', '주간', '야간', '야간', '야간', '주간', '주간', '야간', '야간', '야간', '주간', '주간', '야간', '주간', '야간', '야간', '야간', '야간', '주간', '야간', '주간', '주간', '주간', '야간', '주간', '주간', '주간', '주간', '주간', '주간', '주간', '야간', '야간', '야간', '주간', '주간', '주간', '야간', '야간', '야간', '야간', '주간', '야간', '주간', '주간', '주간', '야간', '주간', '야간', '야간', '주간', '야간', '야간', '야간', '주간', '주간', '야간', '야간', '주간', '주간', '주간', '주간', '야간', '야간', '주간', '야간', '야간', '주간', '주간', '주간', '주간', '야간', '주간', '주간', '야간', '주간', '주간', '주간', '주간', '야간', '주간', '야간', '야간', '야간', '야간', '야간', '야간', '야간', '야간', '주간', '야간', '주간', '야간', '주간', '야간', '주간', '야간', '야간', '주간', '야간', '야간', '주간', '주간', '주간', '야간', '주간', '야간', '야간', '야간', '주간', '주간', '주간', '주간', '야간', '주간', '야간', '야간', '야간', '주간', '야간', '야간', '주간', '주간', '주간', '야간', '주간', '야간', '주간', '주간', '주간', '야간', '주간', '야간', '주간', '주간', '주간', '주간', '야간', '야간', '주간', '주간', '주간', '주간', '주간', '주간', '주간', '주간', '야간', '주간', '야간', '야간', '야간', '야간', '야간', '주간', '야간', '주간', '주간', '주간', '야간', '주간', '주간', '주간', '주간', '야간', '야간', '야간', '야간', '주간', '주간', '야간', '주간', '야간', '야간', '야간', '야간']\n"
          ]
        }
      ]
    },
    {
      "cell_type": "code",
      "source": [
        "df['주간야간'] = list_a"
      ],
      "metadata": {
        "id": "C8WTWwVepUMC"
      },
      "execution_count": 27,
      "outputs": []
    },
    {
      "cell_type": "markdown",
      "source": [
        "요일을 주말(1) / 평일(0)로 변경"
      ],
      "metadata": {
        "id": "eJe6onh8qBUn"
      }
    },
    {
      "cell_type": "code",
      "source": [
        "list_b = []"
      ],
      "metadata": {
        "id": "5AJHkc4Yp8LX"
      },
      "execution_count": 28,
      "outputs": []
    },
    {
      "cell_type": "code",
      "source": [
        "for i in range(len(df['요일'])):\n",
        "  if df['요일'][i] >= 6:\n",
        "    list_b.append('1') # 주말 = 1\n",
        "  else:\n",
        "    list_b.append('0') # 평일 = 0\n",
        "print(list_b) "
      ],
      "metadata": {
        "colab": {
          "base_uri": "https://localhost:8080/"
        },
        "id": "4ko1tZreqSl_",
        "outputId": "b23fb647-245d-4f87-e62a-8f5cd8912c36"
      },
      "execution_count": 29,
      "outputs": [
        {
          "output_type": "stream",
          "name": "stdout",
          "text": [
            "['0', '0', '0', '0', '0', '0', '0', '0', '0', '0', '0', '1', '0', '0', '0', '1', '0', '0', '0', '0', '0', '0', '0', '0', '0', '0', '0', '0', '0', '0', '0', '0', '0', '0', '0', '0', '0', '1', '0', '0', '0', '0', '0', '0', '0', '1', '1', '0', '0', '1', '1', '0', '0', '0', '1', '1', '0', '0', '0', '1', '1', '1', '0', '0', '0', '0', '0', '0', '1', '0', '1', '0', '0', '0', '0', '1', '1', '0', '0', '0', '0', '0', '0', '0', '0', '0', '0', '1', '1', '0', '0', '1', '0', '0', '1', '0', '0', '0', '0', '0', '0', '1', '0', '0', '0', '1', '0', '0', '0', '0', '0', '0', '0', '0', '0', '0', '0', '0', '1', '0', '0', '0', '0', '1', '0', '0', '1', '1', '0', '0', '1', '0', '0', '0', '0', '0', '1', '0', '0', '0', '0', '0', '1', '1', '1', '0', '0', '1', '0', '0', '0', '0', '0', '0', '1', '0', '0', '0', '0', '1', '0', '1', '0', '0', '0', '0', '1', '0', '0', '0', '0', '1', '0', '0', '0', '0', '0', '1', '0', '1', '0', '0', '0', '0', '0', '1', '0', '1', '1', '0', '0', '1', '0', '0', '1', '0', '1', '0', '0', '0', '0', '0', '0', '0', '0', '1', '0', '0', '0', '0', '0', '0', '0', '0', '0', '0', '0', '1', '0', '0', '0', '0', '0', '0', '0', '0', '1', '0', '1', '1', '0', '0', '0', '1', '1', '0', '0', '1', '0', '0', '0', '0', '0', '0', '0', '1', '0', '1', '0', '0', '0', '0', '0', '1', '0', '0', '0', '1', '0', '1', '0', '0', '1', '0', '0', '1', '0', '0', '1', '0', '1', '0', '0', '1', '0', '0', '0', '1', '0', '0', '0', '0', '0', '1', '0', '0', '0', '0', '1', '0', '0', '1', '0', '0', '1', '1', '0', '0', '0', '0', '0', '1', '0', '0', '0', '0', '1', '0', '0', '0', '1', '0', '0', '0', '1', '0', '1', '0', '0', '0', '0', '0', '0', '1', '0', '0', '0', '0', '0', '0', '0', '0', '0', '1', '0', '0', '0', '0', '0', '0', '0', '0', '0', '0', '1', '1', '0', '0', '0', '0', '0', '0', '0', '1', '0', '0', '0', '0', '0', '0', '1', '1', '0', '0', '0', '0', '0', '0', '0', '0', '0', '1', '0', '1', '0', '0', '0', '0', '0', '0', '1', '0', '0', '1', '1', '1', '0', '0', '0', '0', '0', '1', '0', '0', '1', '0', '0', '1', '1', '0', '0', '0', '0', '0', '1', '0', '0', '0', '0', '0', '0', '0', '0', '0', '0', '1', '0', '1', '1', '0', '0', '0', '0', '0', '0', '0', '1', '0', '0', '1', '0', '0', '1', '0', '0', '0', '1', '0', '0', '1', '0', '0', '0', '0', '1', '0', '1', '0', '0', '0', '0', '0', '0', '1', '0', '1', '0', '0', '0', '1', '0', '0', '0', '0', '0', '0', '1', '1', '0', '0', '0', '0', '0', '0', '0', '1', '0', '0', '0', '0', '1', '0', '1', '0', '1', '0', '0', '0', '1', '0', '0', '0', '1', '0', '1', '0', '0', '0', '0', '1', '0', '0', '0', '1', '0', '0', '0', '0', '0', '1', '0', '0', '1', '0', '0', '1', '0', '0', '0', '0', '0', '0', '0', '1', '1', '0', '1', '0', '1', '0', '0', '0', '0', '0', '0', '1', '0', '0', '1', '0', '1', '1', '0', '0', '0', '0', '1', '0', '0', '1', '0', '1', '1', '0', '1', '0', '0', '0', '0', '1', '1', '1', '0', '0', '0', '0', '0', '0', '1', '1', '1', '0', '1', '0', '0', '0', '0', '0', '0', '0', '0', '0', '0', '0', '1', '0', '0', '0', '1', '0', '0', '1', '0', '0', '1', '0', '0', '0', '1', '0', '0', '0', '1', '0', '0', '0', '1', '0', '0', '0', '0', '0', '0', '0', '0', '1', '1', '0', '0', '0', '0', '0', '0', '0', '0', '0', '0', '0', '0', '0', '0', '0', '0', '1', '0', '0', '1', '0', '0', '0', '1', '0', '1', '1', '1', '0', '0', '0', '0', '0', '1', '0', '0', '1', '0', '0', '0', '0', '1', '0', '1', '0', '0', '0', '1', '0', '0', '0', '0', '0', '0', '0', '0', '0', '0', '0', '1', '1', '1', '1', '0', '1', '0', '1', '0', '0', '1', '0', '0', '0', '0', '0', '0', '1', '0', '1', '0', '0', '1', '0', '0', '0', '0', '0', '1', '0', '0', '1', '0', '1', '1', '0', '1', '0', '0', '0', '0', '0', '0', '0', '0', '0', '0', '1', '0', '1', '1', '1', '0', '0', '0', '0', '0', '0', '0', '0', '0', '1', '0', '0', '0', '0', '1', '1', '0', '0', '1', '1', '0', '1', '0', '0', '0', '0', '0', '0', '0', '0', '0', '1', '0', '0', '0', '0', '0', '1', '0', '1', '1', '0', '0', '0', '0', '0', '0', '1', '1', '0', '0', '0', '1', '0', '0', '0', '0', '0', '1', '0', '1', '0', '0', '1', '0', '0', '0', '0', '0', '0', '0', '1', '1', '1', '0', '0', '0', '0', '0', '0', '0', '0', '1', '0', '1', '1', '0', '1', '0', '0', '0', '0', '0', '0', '0', '0', '0', '0', '0', '0', '1', '1', '0', '0', '0', '1', '0', '0', '0', '0', '0', '0', '0', '1', '1', '0', '0', '0', '0', '0', '0', '0', '0', '1', '0', '0', '0', '1', '1', '0', '0', '1', '1', '0', '0', '0', '0', '0', '1', '0', '0', '0', '0', '0', '0', '0', '0', '1', '0', '0', '0', '0', '0', '1', '0', '0', '0', '0', '0', '0', '0', '0', '0', '0', '0', '1', '0', '0', '0', '0', '0', '0', '0', '0', '0', '0', '0', '0', '1', '0', '1', '0', '0', '1', '0', '0', '0', '1', '1', '0', '0', '0', '0', '0', '1', '0', '0', '0', '0', '1', '0', '1', '1', '0', '0', '0', '0', '0', '0', '0', '0', '0', '0', '0', '1', '0', '0', '0', '0', '1', '0', '0', '0', '0', '0', '0', '0', '0', '0', '0', '1', '1', '1', '0', '1', '0', '1', '0', '0', '1', '1', '0', '0', '1', '0', '1', '0', '0', '1', '0', '1', '0', '0', '0', '0', '0', '1', '0', '0', '0', '0', '0', '0', '1', '0', '0', '0', '0', '1', '0', '0', '0', '1', '0', '0', '0', '0', '0', '0', '0', '0', '0', '1', '0', '0', '0', '0', '0', '0', '1', '0', '0', '1', '0', '0', '0', '1', '0', '0', '0', '0', '0', '1', '1', '1', '0', '0', '0', '0', '0', '0', '0', '0', '0', '0', '0', '0', '0', '0', '1', '0', '0', '1', '1', '0', '0', '0', '0', '0', '0', '1', '0', '0', '0', '0', '0', '0', '1', '1', '1', '1', '0', '1', '0', '0', '0', '1', '1', '0', '0', '1', '1', '0', '0', '0', '1', '0', '0', '0', '1', '0', '0', '0', '0', '0', '0', '0', '1', '1', '0', '0', '1', '0', '0', '1', '0', '0', '0', '0', '0', '0', '0', '0', '1', '0', '1', '0', '1', '0', '0', '0', '1', '1', '0', '0', '1', '0', '1', '1', '1', '0', '1', '0', '0', '0', '0', '0', '0', '1', '0', '0', '0', '0', '0', '0', '1', '0', '1', '0', '1', '0', '1', '0', '0', '0', '1', '0', '0', '0', '0', '0', '0', '0', '0', '1', '0', '0', '0', '0', '1', '0', '0', '0', '1', '0', '0', '0', '1', '0', '0', '1', '0', '0', '0', '0', '0', '0', '0', '0', '1', '0', '0', '1', '1', '1', '0', '0', '1', '1', '1', '0', '1', '0', '1', '0', '0', '1', '0', '0', '0', '0', '0', '1', '0', '0', '1', '0', '0', '0', '0', '0', '0', '0', '0', '0', '0', '0', '1', '0', '0', '0', '0', '0', '0', '0', '0', '0', '0', '0', '0', '0', '1', '1', '1', '0', '1', '1', '1', '1', '0', '0', '0', '1', '0', '1', '1', '0', '1', '0', '1', '0', '0', '0', '0', '0', '0', '0', '0', '0', '1', '0', '0', '0', '1', '0', '1', '1', '0', '1', '0', '0', '1', '0', '0', '0', '0', '1', '0', '0', '0', '0', '1', '1', '0', '0', '0', '0', '1', '1', '0', '0', '1', '0', '1', '0', '0', '1', '1', '1', '0', '1', '0', '0', '1', '1', '0', '0', '0', '1', '0', '0', '0', '1', '0', '1', '0', '0', '0', '1', '0', '0', '1', '0', '0', '0', '0', '0', '1', '0', '0', '1', '0', '0', '0', '0', '0', '0', '0', '0', '0', '1', '0', '0', '0', '0', '0', '0', '0', '0', '0', '0', '0', '0', '0', '1', '0', '0', '1', '0', '0', '0', '0', '0', '1', '0', '0', '0', '1', '0', '1', '0', '0', '0', '0', '1', '0', '0', '1', '0', '0', '1', '0', '0', '0', '0', '0', '0', '1', '0', '1', '0', '0', '1', '0', '1', '0', '0', '0', '0', '0', '1', '0', '0', '0', '0', '0', '0', '0', '0', '1', '0', '1', '0', '0', '0', '1', '0', '0', '1', '1', '0', '0', '0', '0', '1', '0', '0', '0', '0', '0', '0', '0', '0', '0', '1', '1', '1', '0', '0', '1', '0', '0', '0', '0', '0', '0', '0', '0', '1', '1', '0', '0', '0', '1', '1', '0', '0', '0', '0', '0', '1', '0', '0', '0', '0', '0', '0', '1', '0', '0', '1', '1', '0', '1', '0', '1', '0', '0', '1', '0', '0', '0', '0', '1', '1', '1', '1', '1', '0', '0', '0', '0', '0', '0', '0', '0', '0', '0', '0', '0', '0', '1', '0', '0', '0', '0', '1', '0', '0', '0', '0', '1', '0', '0', '0', '0', '0', '0', '1', '0', '0', '0', '0', '0', '0', '0', '0', '0', '0', '1', '1', '0', '0', '0', '1', '1', '0', '0', '0', '1', '0', '0', '0', '0', '0', '0', '0', '0', '0', '0', '0', '0', '0', '0', '1', '1', '0', '1', '0', '0', '1', '1', '0', '0', '0', '1', '0', '0', '0', '1', '1', '0', '0', '0', '0', '0', '0', '0', '0', '1', '0', '0', '0', '0', '0', '0', '0', '0', '0', '0', '0', '0', '0', '0', '0', '0', '0', '1', '0', '1', '0', '0', '0', '0', '0', '0', '0', '0', '1', '0', '1', '0', '1', '0', '0', '0', '1', '0', '0', '1', '0', '1', '1', '0', '0', '0', '0', '1', '1', '0', '0', '0', '0', '1', '1', '0', '0', '0', '0', '0', '0', '0', '0', '0', '0', '1', '1', '0', '0', '0', '1', '0', '0', '0', '0', '1', '1', '0', '1', '0', '0', '0', '0', '1', '1', '0', '0', '0', '1', '0', '0', '0', '0', '1', '0', '0', '0', '1', '0', '1', '1', '0', '1', '0', '0', '0', '0', '1', '1', '0', '0', '0', '1', '0', '0', '1', '1', '0', '0', '0', '0', '0', '1', '0', '0', '0', '0', '0', '0', '0', '0', '0', '1', '1', '0', '0', '1', '1', '1', '1', '0', '0', '1', '0', '1', '0', '0', '0', '0', '0', '0', '0', '0', '0', '0', '0', '0', '0', '1', '1', '0', '1', '0', '1', '0', '1', '0', '1', '0', '0', '0', '1', '0', '0', '0', '0', '0', '0', '0', '0', '0', '0', '1', '0', '0', '0', '0', '0', '0', '1', '0', '0', '0', '0', '0', '0', '0', '0', '0', '0', '0', '0', '0', '0', '1', '0', '0', '0', '1', '0', '0', '0', '0', '1', '0', '1', '0', '0', '1', '0', '0', '0', '0', '0', '1', '1', '0', '0', '1', '1', '1', '0', '0', '0', '1', '0', '0', '0', '1', '0', '1', '1', '1', '0', '0', '1', '1', '1', '0', '0', '1', '0', '0', '1', '0', '0', '0', '0', '0', '0', '0', '0', '0', '1', '1', '1', '0', '0', '0', '1', '1', '0', '1', '1', '0', '0', '0', '1', '1', '0', '0', '0', '0', '1', '0', '1', '0', '1', '1', '1', '0', '0', '1', '1', '0', '1', '0', '0', '0', '0', '1', '1', '0', '1', '0', '1', '0', '1', '1', '0', '0', '1', '0', '0', '0', '0', '0', '0', '1', '0', '0', '1', '0', '0', '1', '0', '0', '0', '1', '0', '0', '1', '0', '1', '0', '0', '0', '0', '0', '1', '1', '1', '0', '0', '0', '0', '0', '0', '0', '0', '0', '0', '0', '0', '0', '1', '0', '1', '0', '0', '0', '1', '0', '0', '1', '1', '1', '1', '0', '0', '0', '0', '0', '0', '0', '1', '0', '1', '0', '0', '0', '1', '0', '0', '0', '0', '1', '0', '0', '0', '0', '0', '1', '1', '0', '0', '1', '0', '0', '0', '0', '0', '1', '0', '0', '0', '0', '0', '0', '0', '1', '1', '1', '0', '0', '1', '0', '0', '0', '0', '0', '1', '0', '0', '0', '0', '0', '1', '1', '0', '0', '0', '0', '0', '0', '0', '0', '0', '0', '1', '0', '0', '0', '1', '0', '0', '0', '0', '0', '0', '0', '0', '0', '0', '0', '0', '1', '0', '0', '0', '0', '0', '0', '0', '1', '0', '0', '0', '0', '0', '0', '1', '1', '0', '0', '1', '0', '1', '0', '1', '0', '0', '1', '1', '0', '0', '0', '0', '0', '0', '0', '0', '0', '0', '1', '0', '0', '0', '1', '0', '0', '1', '0', '0', '0', '0', '1', '1', '0', '1', '0', '0', '0', '0', '0', '0', '1', '0', '0', '0', '0', '0', '0', '0', '0', '0', '1', '0', '1', '1', '0', '1', '0', '0', '0', '0', '1', '1', '0', '0', '1', '0', '0', '0', '0', '0', '0', '0', '0', '0', '0', '0', '0', '1', '0', '0', '0', '1', '1', '0', '0', '0', '0', '0', '0', '0', '0', '0', '0', '0', '0', '1', '1', '0', '0', '0', '1', '0', '1', '0', '1', '0', '0', '1', '0', '1', '0', '0', '0', '0', '0', '0', '1', '1', '1', '0', '0', '0', '0', '0', '0', '0', '0', '0', '0', '0', '1', '0', '0', '1', '0', '0', '0', '0', '1', '0', '0', '0', '0', '1', '0', '0', '0', '0', '0', '0', '1', '0', '0', '0', '1', '0', '0', '0', '0', '0', '0', '0', '1', '0', '0', '0', '0', '0', '0', '0', '0', '1', '0', '0', '0', '0', '0', '0', '0', '0', '0', '0', '0', '1', '1', '0', '0', '0', '0', '0', '1', '0', '0', '0', '0', '0', '0', '0', '1', '1', '0', '0', '0', '0', '1', '0', '0', '0', '1', '0', '0', '0', '0', '0', '0', '0', '0', '1', '0', '0', '0', '0', '0', '0', '0', '0', '0', '0', '0', '0', '0', '1', '0', '0', '0', '0', '1', '0', '0', '0', '1', '0', '0', '0', '0', '0', '0', '0', '0', '0', '1', '0', '1', '0', '0', '0', '0', '1', '1', '0', '0', '0', '0', '0', '0', '1', '1', '0', '1', '0', '1', '0', '1', '1', '0', '0', '1', '1', '0', '0', '1', '1', '0', '0', '0', '0', '0', '0', '1', '1', '0', '1', '0', '0', '0', '0', '0', '0', '1', '0', '1', '0', '1', '0', '0', '0', '0', '1', '0', '0', '1', '0', '0', '1', '1', '1', '1', '0', '0', '0', '0', '0', '0', '1', '1', '0', '0', '0', '0', '1', '1', '0', '0', '0', '0', '0', '1', '1', '0', '0', '0', '0', '0', '0', '1', '0', '1', '1', '0', '1', '1', '0', '0', '0', '0', '0', '1', '0', '0', '0', '1', '0', '1', '1', '1', '0', '0', '0', '1', '0', '0', '0', '0', '1', '1', '0', '0', '0', '0', '0', '0', '0', '0', '0', '0', '0', '0', '0', '0', '1', '1', '0', '0', '0', '0', '0', '0', '1', '0', '0', '1', '0', '0', '1', '0', '0', '0', '1', '0', '0', '0', '0', '0', '0', '1', '0', '1', '1', '0', '0', '1', '0', '0', '0', '1', '0', '0', '0', '1', '0', '0', '0', '0', '0', '0', '0', '0', '0', '0', '1', '0', '0', '0', '0', '0', '1', '0', '0', '1', '1', '0', '0', '1', '0', '1', '0', '0', '1', '0', '0', '1', '0', '0', '0', '0', '0', '0', '1', '0', '1', '0', '0', '1', '0', '1', '1', '0', '1', '0', '0', '0', '1', '0', '0', '0', '0', '0', '1', '0', '0', '0', '0', '1', '0', '0', '0', '0', '0', '1', '1', '0', '1', '1', '0', '0', '0', '0', '1', '0', '0', '1', '1', '0', '0', '0', '0', '0', '0', '1', '1', '1', '1', '0', '0', '0', '0', '0', '0', '0', '0', '1', '1', '0', '1', '0', '0', '0', '0', '0', '0', '0', '0', '0', '0', '0', '0', '0', '1', '0', '0', '0', '1', '0', '1', '0', '0', '0', '0', '0', '0', '0', '0', '0', '1', '1', '1', '0', '0', '0', '0', '0', '0', '0', '0', '0', '1', '1', '1', '0', '0', '0', '0', '0', '0', '0', '1', '0', '0', '0', '1', '0', '0', '0', '0', '1', '0', '0', '0', '0', '0', '0', '0', '0', '0', '0', '0', '0', '0', '1', '0', '0', '0', '0', '1', '0', '1', '0', '1', '0', '0', '0', '0', '0', '0', '0', '0', '1', '1', '0', '0', '1', '0', '0', '0', '1', '0', '1', '1', '1', '0', '1', '0', '0', '1', '1', '0', '0', '0', '1', '0', '0', '0', '0', '1', '0', '0', '0', '0', '0', '0', '0', '0', '0', '0', '1', '0', '0', '1', '0', '0', '0', '0', '0', '1', '0', '1', '0', '1', '0', '0', '0', '0', '0', '0', '1', '1', '0', '1', '0', '1', '1', '1', '0', '0', '0', '0', '0', '0', '0', '0', '1', '0', '0', '1', '0', '0', '1', '0', '0', '0', '1', '0', '0', '0', '0', '0', '0', '0', '0', '1', '0', '1', '0', '0', '0', '1', '0', '0', '0', '0', '0', '0', '0', '1', '1', '0', '0', '0', '1', '0', '1', '0', '0', '0', '0', '0', '1', '0', '0', '0', '0', '0', '0', '0', '0', '1', '1', '0', '0', '1', '1', '1', '0', '0', '0', '0', '0', '0', '1', '1', '1', '0', '0', '0', '0', '0', '0', '0', '0', '0', '0', '0', '0', '0', '0', '0', '0', '1', '0', '1', '0', '0', '0', '0', '1', '1', '1', '0', '0', '1', '0', '0', '0', '0', '0', '0', '0', '0', '1', '1', '0', '0', '1', '0', '0', '0', '0', '0', '0', '0', '0', '0', '0', '0', '0', '0', '0', '1', '1', '1', '0', '1', '1', '0', '1', '0', '0', '1', '1', '1', '0', '0', '1', '1', '0', '0', '0', '0', '0', '0', '0', '0', '0', '0', '1', '1', '1', '1', '0', '0', '1', '0', '0', '1', '0', '0', '1', '0', '1', '0', '0', '0', '0', '1', '0', '0', '0', '0', '0', '0', '0', '0', '0', '1', '0', '0', '0', '0', '0', '1', '0', '0', '0', '0', '1', '0', '0', '0', '1', '0', '0', '1', '0', '0', '0', '0', '0', '0', '0', '0', '0', '0', '1', '1', '0', '0', '0', '0', '1', '0', '0', '1', '1', '0', '1', '0', '0', '0', '1', '1', '0', '0', '0', '0', '0', '0', '0', '0', '0', '0', '0', '0', '0', '0', '1', '1', '0', '1', '1', '0', '0', '0', '0', '1', '0', '1', '1', '0', '0', '0', '0', '0', '1', '1', '0', '0', '0', '0', '0', '1', '0', '0', '0', '0', '0', '0', '0', '0', '0', '1', '0', '1', '0', '0', '0', '1', '0', '0', '0', '0', '0', '0', '0', '1', '0', '0', '1', '1', '1', '0', '0', '0', '0', '0', '1', '0', '0', '0', '0', '0', '0', '0', '1', '0', '1', '1', '0', '0', '1', '1', '0', '0', '0', '1', '0', '0', '0', '1', '1', '0', '0', '0', '0', '1', '0', '0', '0', '0', '1', '0', '1', '0', '0', '1', '0', '1', '1', '1', '1', '0', '0', '1', '1', '0', '0', '0', '0', '1', '0', '0', '1', '0', '0', '0', '0', '0', '0', '0', '0', '1', '1', '1', '1', '0', '0', '0', '0', '0', '0', '0', '0', '0', '0', '0', '1', '0', '0', '0', '1', '0', '0', '0', '0', '1', '0', '0', '1', '1', '0', '0', '1', '0', '0', '0', '1', '0', '0', '0', '0', '0', '1', '0', '0', '1', '1', '0', '0', '0', '0', '0', '0', '1', '1', '0', '0', '0', '0', '0', '0', '0', '0', '1', '0', '0', '1', '0', '0', '0', '0', '1', '0', '0', '0', '1', '0', '1', '0', '0', '0', '1', '0', '0', '0', '0', '0', '0', '0', '0', '1', '0', '0', '0', '1', '0', '0', '0', '1', '0', '0', '0', '0', '0', '0', '1', '1', '0', '0', '1', '0', '0', '0', '1', '1', '1', '0', '0', '0', '1', '0', '0', '1', '0', '0', '0', '0', '0', '0', '1', '0', '1', '1', '0', '0', '0', '0', '0', '0', '0', '0', '0', '1', '0', '0', '0', '0', '1', '0', '0', '1', '0', '0', '0', '0', '0', '0', '0', '0', '0', '0', '1', '0', '0', '0', '0', '1', '0', '1', '1', '0', '0', '1', '1', '1', '0', '0', '0', '1', '0', '0', '0', '1', '0', '0', '0', '0', '0', '0', '1', '1', '0', '1', '0', '0', '0', '0', '0', '0', '0', '0', '0', '0', '0', '0', '0', '0', '0', '0', '0', '0', '0', '1', '0', '0', '0', '0', '0', '0', '1', '1', '0', '0', '0', '0', '0', '1', '1', '1', '0', '0', '0', '0', '0', '0', '0', '0', '1', '0', '0', '0', '1', '0', '0', '0', '1', '0', '0', '0', '1', '1', '0', '0', '0', '0', '0', '1', '0', '1', '0', '0', '0', '0', '0', '1', '0', '0', '0', '0', '0', '0', '1', '0', '0', '1', '1', '0', '1', '0', '0', '0', '0', '0', '0', '0', '1', '0', '0', '0', '0', '1', '1', '0', '0', '0', '0', '0', '0', '1', '0', '0', '0', '0', '0', '1', '0', '0', '1', '1', '0', '0', '1', '0', '1', '1', '0', '1', '1', '0', '0', '1', '0', '0', '0', '1', '1', '0', '0', '0', '0', '0', '0', '0', '0', '0', '1', '0', '1', '0', '0', '0', '0', '0', '0', '0', '1', '0', '0', '0', '0', '0', '1', '0', '0', '1', '0', '0', '0', '1', '1', '0', '0', '0', '1', '0', '0', '0', '0', '0', '0', '0', '0', '0', '0', '1', '0', '0', '0', '1', '0', '0', '0', '0', '1', '1', '0', '0', '0', '0', '0', '1', '1', '0', '0', '0', '1', '0', '0', '0', '0', '0', '0', '0', '0', '0', '0', '0', '0', '0', '0', '0', '1', '1', '0', '0', '0', '1', '0', '1', '0', '0', '0', '0', '1', '0', '0', '0', '0', '0', '0', '0', '1', '0', '0', '0', '0', '0', '0', '0', '0', '1', '0', '0', '0', '1', '0', '0', '0', '1', '0', '0', '0', '0', '0', '0', '0', '0', '0', '0', '0', '0', '0', '0', '0', '0', '0', '0', '0', '0', '0', '1', '1', '0', '1', '1', '0', '0', '0', '1', '0', '0', '0', '0', '0', '0', '0', '0', '1', '0', '1', '0', '0', '0', '1', '1', '1', '1', '0', '1', '0', '0', '0', '1', '1', '0', '0', '0', '0', '1', '1', '1', '1', '0', '0', '1', '0', '0', '1', '1', '1', '1', '1', '0', '1', '0', '0', '0', '0', '0', '1', '1', '0', '0', '0', '1', '1', '0', '0', '1', '0', '0', '0', '1', '1', '1', '0', '0', '0', '1', '0', '0', '0', '0', '0', '0', '0', '1', '0', '1', '0', '0', '1', '0', '0', '0', '0', '0', '0', '0', '1', '1', '1', '1', '0', '1', '1', '0', '0', '0', '0', '0', '1', '0', '0', '0', '1', '0', '0', '0', '1', '1', '1', '1', '1', '0', '1', '0', '0', '1', '0', '0', '0', '1', '0', '0', '1', '0', '0', '0', '1', '0', '0', '0', '0', '0', '0', '1', '0', '0', '1', '0', '0', '1', '0', '0', '0', '1', '0', '0', '1', '0', '0', '0', '0', '1', '0', '1', '0', '0', '0', '1', '0', '0', '0', '1', '0', '0', '0', '0', '1', '0', '0', '0', '0', '1', '0', '0', '1', '0', '0', '0', '1', '0', '0', '0', '0', '0', '0', '1', '0', '0', '0', '0', '1', '0', '0', '0', '1', '0', '0', '0', '0', '0', '0', '1', '1', '0', '0', '0', '0', '0', '0', '0', '0', '0', '0', '1', '1', '0', '1', '0', '0', '0', '1', '0', '0', '0', '0', '1', '0', '1', '1', '0', '1', '0', '0', '0', '0', '0', '1', '0', '0', '0', '0', '0', '1', '0', '0', '0', '0', '0', '0', '0', '0', '0', '0', '0', '0', '0', '0', '0', '1', '0', '0', '0', '1', '0', '0', '0', '0', '0', '0', '1', '0', '1', '0', '1', '0', '0', '0', '0', '1', '0', '0', '1', '0', '1', '0', '0', '0', '1', '0', '0', '1', '0', '0', '0', '0', '1', '0', '0', '0', '1', '0', '1', '0', '1', '0', '0', '0', '0', '1', '0', '0', '0', '0', '0', '0', '0', '0', '0', '0', '0', '0', '1', '1', '1', '0', '0', '0', '0', '1', '0', '0', '0', '0', '1', '0', '0', '0', '1', '0', '0', '0', '0', '0', '0', '0', '0', '0', '0', '0', '1', '0', '0', '0', '0', '1', '0', '0', '1', '0', '0', '0', '0', '0', '0', '1', '0', '1', '0', '0', '1', '0', '0', '1', '0', '0', '0', '0', '0', '1', '0', '0', '0', '0', '0', '0', '1', '1', '0', '1', '0', '0', '0', '1', '1', '1', '1', '0', '0', '0', '0', '1', '0', '0', '0', '1', '1', '0', '0', '0', '0', '1', '1', '1', '0', '1', '0', '1', '1', '1', '0', '1', '0', '0', '0', '1', '1', '1', '0', '0', '1', '1', '0', '0', '0', '0', '0', '1', '0', '0', '0', '1', '0', '0', '0', '0', '0', '1', '0', '0', '0', '1', '0', '0', '0', '0', '0', '1', '1', '0', '0', '0', '0', '1', '0', '0', '0', '0', '0', '1', '0', '0', '0', '0', '0', '0', '0', '0', '1', '1', '0', '0', '1', '0', '0', '0', '1', '1', '0', '0', '0', '1', '0', '1', '1', '0', '0', '0', '0', '0', '0', '0', '0', '0', '1', '0', '0', '1', '1', '0', '0', '0', '0', '0', '1', '0', '0', '0', '0', '1', '1', '0', '1', '0', '1', '0', '0', '0', '0', '0', '1', '0', '1', '0', '0', '1', '0', '0', '0', '0', '1', '0', '0', '0', '0', '1', '0', '0', '0', '0', '0', '1', '0', '0', '0', '1', '0', '0', '1', '0', '0', '1', '0', '1', '0', '1', '0', '1', '0', '0', '1', '0', '0', '0', '0', '0', '0', '1', '0', '0', '1', '0', '1', '0', '0', '1', '0', '1', '0', '0', '1', '1', '0', '0', '0', '0', '0', '0', '0', '0', '0', '0', '1', '0', '0', '1', '0', '1', '0', '0', '0', '0', '0', '1', '0', '1', '0', '0', '0', '0', '0', '0', '0', '0', '0', '0', '1', '0', '0', '0', '0', '0', '0', '0', '1', '1', '1', '1', '1', '0', '0', '1', '0', '1', '0', '0', '0', '0', '0', '0', '1', '0', '0', '0', '0', '0', '0', '0', '0', '0', '0', '1', '0', '1', '0', '0', '0', '0', '0', '1', '0', '0', '0', '0', '0', '0', '0', '1', '0', '1', '0', '0', '1', '1', '1', '1', '0', '0', '1', '0', '1', '0', '0', '0', '1', '1', '0', '0', '0', '1', '1', '0', '0', '0', '1', '0', '1', '0', '0', '1', '0', '0', '1', '0', '0', '0', '0', '0', '0', '0', '0', '1', '1', '0', '0', '1', '0', '0', '0', '0', '1', '1', '0', '0', '0', '0', '0', '1', '0', '0', '0', '1', '0', '0', '1', '0', '1', '0', '0', '1', '0', '0', '0', '0', '1', '0', '0', '0', '0', '0', '0', '1', '0', '1', '0', '0', '0', '0', '0', '0', '0', '0', '1', '0', '0', '1', '0', '0', '0', '1', '0', '0', '1', '0', '0', '0', '0', '0', '0', '1', '0', '0', '1', '1', '0', '1', '1', '0', '0', '0', '0', '1', '1', '1', '1', '0', '0', '0', '0', '1', '0', '1', '1', '0', '0', '1', '0', '0', '1', '0', '0', '0', '0', '0', '0', '0', '0', '1', '1', '0', '0', '1', '0', '0', '0', '1', '0', '0', '0', '1', '1', '1', '1', '0', '0', '0', '1', '0', '0', '1', '0', '1', '0', '1', '1', '0', '1', '0', '0', '0', '0', '0', '1', '0', '1', '1', '0', '0', '0', '0', '0', '1', '0', '0', '1', '0', '1', '0', '0', '0', '0', '0', '0', '0', '1', '0', '0', '0', '0', '1', '1', '0', '0', '0', '0', '0', '1', '1', '0', '1', '0', '1', '0', '0', '1', '0', '0', '0', '1', '0', '0', '0', '0', '0', '0', '1', '0', '1', '0', '1', '0', '0', '0', '0', '0', '1', '0', '0', '0', '0', '0', '1', '0', '0', '0', '0', '1', '0', '0', '0', '0', '0', '1', '0', '0', '0', '0', '1', '0', '1', '0', '1', '1', '0', '0', '0', '0', '1', '0', '0', '0', '0', '0', '1', '1', '0', '0', '0', '0', '0', '0', '0', '1', '0', '0', '0', '0', '0', '0', '0', '0', '0', '0', '0', '1', '0', '0', '0', '0', '0', '1', '1', '1', '1', '0', '0', '0', '0', '0', '0', '0', '0', '1', '1', '1', '1', '1', '1', '0', '0', '0', '1', '1', '0', '0', '0', '0', '1', '0', '0', '0', '0', '0', '0', '0', '0', '0', '0', '0', '0', '1', '1', '0', '0', '0', '0', '1', '0', '1', '0', '0', '0', '0', '1', '0', '0', '0', '0', '0', '1', '0', '0', '0', '0', '1', '1', '0', '0', '0', '0', '0', '0', '0', '0', '0', '0', '0', '0', '0', '0', '0', '0', '1', '0', '0', '0', '0', '0', '0', '0', '1', '0', '0', '1', '1', '1', '1', '1', '1', '1', '0', '0', '0', '1', '1', '1', '1', '1', '1', '0', '0', '0', '0', '0', '0', '1', '1', '1', '1', '1', '1', '0', '0', '0', '0', '0', '0', '1', '1', '0', '0', '1', '1', '0', '0', '0', '0', '0', '0', '1', '1', '0', '0', '0', '0', '0', '1', '0', '0', '0', '0', '0', '0', '0', '0', '1', '1', '0', '0', '0', '0', '0', '0', '0', '0', '0', '0', '1', '1', '0', '0', '0', '0', '0', '0', '0', '0', '0', '0', '1', '1', '0', '0', '0', '0', '0', '0', '0', '0', '1', '1', '0', '0', '0', '1', '0', '1', '0', '0', '0', '0', '0', '1', '1', '0', '1', '1', '0', '0', '0', '0', '0', '0', '0', '1', '1', '1', '0', '0', '0', '0', '1', '0', '0', '0', '0', '0', '0', '0', '0', '0', '0', '0', '0', '1', '1', '1', '0', '0', '0', '0', '0', '0', '0', '0', '0', '1', '1', '0', '0', '1', '1', '1', '1', '0', '0', '1', '1', '1', '1', '0', '0', '1', '1', '1', '1', '0', '0', '0', '0', '1', '0', '0', '0', '0', '1', '1', '0', '0', '0', '0', '0', '0', '0', '1', '0', '0', '0', '0', '1', '1', '0', '0', '0', '0', '1', '0', '0', '0', '0', '0', '1', '0', '1', '1', '1', '0', '0', '1', '1', '0', '0', '0', '0', '1', '1', '0', '0', '0', '0', '0', '0', '0', '0', '1', '1', '0', '0', '1', '1', '0', '1', '0', '0', '0', '0', '0', '0', '0', '0', '0', '0', '0', '0', '0', '0', '0', '0', '0', '0', '0', '0', '1', '1', '0', '0', '0', '0', '1', '1', '0', '0', '0', '1', '1', '0', '1', '0', '0', '0', '0', '0', '0', '1', '0', '1', '0', '1', '0', '0', '0', '0', '1', '1', '1', '0', '0', '1', '0', '0', '0', '0', '0', '0', '0', '0', '0', '0', '0', '0', '0', '0', '0', '0', '0', '0', '0', '1', '1', '1', '1', '1', '1', '0', '0', '0', '0', '0', '0', '1', '1', '1', '0', '0', '0', '0', '0', '0', '0', '0', '0', '0', '0', '0', '0', '0', '0', '0', '0', '0', '1', '1', '0', '0', '0', '0', '0', '0', '0', '0', '0', '0', '1', '0', '1', '1', '1', '0', '0', '1', '0', '1', '0', '0', '0', '0', '0', '1', '0', '0', '0', '1', '1', '1', '0', '1', '0', '0', '0', '0', '0', '0', '0', '0', '1', '0', '0', '1', '0', '1', '0', '0', '0', '1', '1', '1', '1', '1', '1', '1', '1', '1', '0', '0', '0', '0', '0', '0', '0', '0', '0', '1', '0', '0', '1', '0', '0', '0', '1', '1', '0', '0', '0', '0', '0', '0', '1', '1', '0', '0', '1', '1', '0', '0', '0', '0', '0', '0', '1', '1', '0', '0', '1', '1', '1', '1', '1', '1', '1', '1', '1', '1', '0', '0', '0', '0', '0', '0', '0', '0', '0', '1', '1', '0', '1', '0', '0', '0', '0', '0', '0', '0', '0', '0', '0', '0', '0', '1', '0', '0', '0', '0', '0', '0', '0', '1', '1', '0', '0', '1', '0', '0', '0', '0', '0', '0', '0', '0', '0', '1', '0', '1', '0', '0', '0', '0', '0', '0', '0', '0', '0', '0', '0', '0', '0', '0', '0', '0', '0', '0', '0', '1', '1', '1', '1', '1', '0', '0', '0', '0', '0', '0', '0', '0', '0', '0', '0', '0', '0', '0', '0', '0', '0', '0', '0', '0', '0', '0', '0', '0', '0', '0', '1', '0', '0', '0', '0', '0', '0', '0', '0', '0', '0', '0', '1', '1', '0', '0', '0', '0', '0', '0', '1', '1', '0', '0', '0', '0', '0', '0', '1', '1', '1', '1', '0', '0', '0', '0', '0', '0', '0', '0', '0', '0', '0', '0', '1', '1', '0', '0', '0', '0', '0', '0', '0', '0', '0', '0', '1', '1', '0', '0', '1', '1', '0', '0', '0', '0', '0', '0', '0', '1', '0', '0', '1', '0', '0', '0', '0', '0', '0', '0', '0', '1', '1', '1', '1', '1', '1', '0', '0', '0', '0', '0', '0', '0', '0', '0', '0', '0', '1', '1', '0', '0', '0', '0', '1', '1', '0', '0', '0', '0', '0', '0', '0', '0', '0', '1', '1', '0', '0', '0', '1', '0', '0', '1', '0', '1', '0', '0', '0', '0', '0', '0', '1', '0', '0', '0', '0', '1', '0', '0', '0', '1', '0', '0', '0', '1', '0', '0', '0', '0', '0', '0', '0', '0', '0', '0', '0', '0', '0', '0', '1', '1', '0', '0', '1', '0', '1', '1', '0', '0', '0', '0', '0', '0', '1', '1', '0', '0', '0', '0', '0', '0', '0', '0', '0', '0', '1', '1', '1', '1', '1', '1', '0', '0', '0', '0', '1', '1', '1', '1', '0', '0', '0', '0', '0', '0', '0', '0', '1', '1', '0', '0', '1', '1', '1', '1', '0', '0', '1', '1', '1', '1', '0', '0', '1', '1', '0', '0', '1', '1', '1', '0', '0', '0', '0', '0', '0', '0', '0', '0', '0', '0', '0', '0', '0', '0', '0', '0', '0', '0', '0', '0', '0', '0', '0', '0', '0', '0', '0', '0', '0', '0', '0', '0', '0', '0', '0', '0', '1', '0', '0', '1', '0', '1', '1', '0', '0', '1', '0', '1', '1', '0', '0', '1', '0', '1', '0', '0', '0', '0', '0', '1', '0', '1', '0', '1', '0', '1', '0', '0', '0', '1', '0', '0', '0', '0', '0', '0', '0', '0', '0', '1', '1', '1', '1', '1', '1', '1', '1', '1', '0', '0', '1', '0', '1', '0', '0', '1', '0', '0', '1', '1', '0', '0', '0', '0', '0', '0', '0', '1', '1', '1', '1', '0', '0', '1', '1', '0', '0', '0', '0', '1', '1', '0', '0', '1', '1', '0', '0', '0', '0', '0', '0', '1', '1', '1', '1', '0', '0', '0', '0', '0', '0', '0', '0', '1', '1', '0', '0', '0', '0', '0', '0', '0', '0', '0', '0', '0', '0', '0', '0', '1', '1', '0', '0', '0', '0', '0', '1', '1', '0', '1', '0', '0', '0', '0', '1', '1', '1', '1', '1', '1', '0', '0', '0', '0', '0', '0', '0', '0', '1', '1', '0', '0', '0', '0', '0', '0', '0', '0', '0', '0', '0', '1', '0', '1', '1', '0', '0', '1', '1', '0', '0', '0', '0', '0', '0', '1', '0', '1', '0', '0', '0', '1', '1', '0', '0', '0', '0', '0', '0', '0', '0', '0', '0', '0', '0', '1', '1', '1', '0', '0', '0', '0', '0', '0', '1', '1', '1', '0', '0', '0', '0', '0', '0', '0', '0', '0', '0', '0', '0', '1', '0', '0', '0', '0', '0', '1', '0', '1', '0', '0', '0', '1', '1', '0', '1', '0', '1', '1', '0', '0', '0', '1', '0', '0', '1', '1', '1', '1', '1', '0', '0', '0', '0', '1', '0', '1', '0', '1', '1', '0', '0', '1', '1', '0', '0', '1', '1', '0', '0', '1', '1', '1', '1', '0', '0', '0', '0', '1', '1', '1', '1', '1', '1', '0', '0', '0', '0', '0', '0', '1', '1', '0', '0', '0', '0', '0', '0', '1', '1', '0', '0', '1', '1', '0', '0', '0', '0', '0', '0', '0', '0', '0', '0', '1', '1', '1', '1', '1', '1', '0', '0', '0', '0', '0', '0', '0', '0', '0', '0', '0', '0', '0', '0', '0', '0', '0', '0', '1', '1', '0', '0', '1', '1', '0', '0', '0', '0', '0', '0', '0', '0', '0', '0', '0', '0', '0', '0', '0', '0', '0', '0', '0', '0', '0', '0', '1', '1', '0', '0', '1', '1', '1', '1', '0', '0', '0', '0', '0', '0', '1', '0', '0', '0', '1', '1', '0', '0', '0', '0', '0', '0', '0', '0', '1', '0', '1', '1', '0', '0', '0', '0', '0', '0', '0', '0', '0', '1', '1', '1', '1', '0', '0', '0', '0', '0', '0', '0', '0', '0', '0', '0', '0', '1', '1', '1', '1', '0', '0', '0', '0', '1', '1', '1', '1', '0', '0', '0', '0', '1', '1', '1', '1', '0', '0', '0', '0', '0', '0', '0', '0', '0', '0', '0', '0', '0', '0', '0', '0', '1', '1', '1', '1', '1', '1', '0', '0', '0', '0', '0', '0', '0', '0', '0', '0', '0', '0', '0', '0', '0', '1', '1', '1', '0', '0', '1', '0', '0', '0', '0', '0', '0', '0', '0', '0', '0', '0', '1', '1', '0', '1', '0', '1', '0', '0', '0', '0', '0', '0', '0', '0', '0', '0', '0', '0', '0', '0', '0', '0', '0', '0', '0', '0', '0', '0', '0', '1', '1', '0', '0', '1', '1', '1', '1', '0', '1', '0', '0', '0', '0', '0', '0', '0', '0', '0', '0', '1', '0', '1', '0', '0', '1', '1', '0', '0', '0', '1', '0', '0', '0', '0', '1', '0', '1', '0', '1', '0', '0', '0', '0', '0', '1', '1', '0', '0', '0', '0', '1', '0', '1', '0', '0', '0', '0', '0', '1', '0', '0', '1', '0', '1', '0', '1', '0', '0', '0', '0', '0', '1', '0', '0', '1', '0', '0', '0', '1', '1', '1', '0', '0', '1', '1', '0', '0', '0', '1', '0', '0', '0', '0', '0', '0', '0', '0', '0', '0', '0', '0', '0', '0', '0', '1', '1', '1', '1', '1', '0', '0', '0', '0', '0', '0', '0', '0', '0', '0', '1', '0', '0', '0', '1', '0', '0', '0', '0', '1', '0', '0', '1', '0', '1', '0', '0', '0', '0', '0', '0', '0', '0', '0', '0', '0', '0', '0', '0', '0', '0', '1', '0', '1', '0', '1', '0', '0', '0', '0', '1', '1', '0', '1', '1', '0', '0', '0', '0', '0', '0', '0', '0', '0', '0', '1', '1', '1', '1', '1', '1', '1', '0', '1', '0', '0', '0', '1', '1', '1', '1', '1', '1', '0', '0', '1', '0', '1', '0', '0', '0', '0', '0', '0', '0', '1', '0', '1', '0', '1', '0', '0', '0', '0', '0', '0', '0', '0', '0', '0', '1', '0', '0', '0', '1', '1', '1', '0', '1', '0', '0', '0', '0', '0', '0', '1', '1', '0', '0', '0', '0', '1', '1', '0', '0', '0', '0', '0', '0', '0', '0', '0', '0', '0', '0', '0', '0', '0', '0', '0', '0', '0', '0', '1', '0', '1', '0', '1', '1', '0', '0', '0', '0', '1', '1', '1', '1', '0', '0', '0', '0', '0', '0', '1', '0', '0', '0', '0', '1', '0', '0', '1', '0', '0', '0', '0', '0', '0', '0', '0', '0', '0', '0', '0', '0', '0', '1', '0', '0', '1', '1', '1', '0', '1', '0', '0', '0', '0', '0', '1', '0', '0', '0', '1', '1', '0', '0', '0', '1', '0', '0', '0', '0', '0', '0', '1', '1', '0', '0', '0', '0', '0', '0', '1', '1', '0', '0', '0', '0', '1', '1', '0', '0', '1', '1', '1', '0', '0', '0', '0', '1', '0', '0', '1', '1', '0', '0', '0', '1', '0', '1', '1', '0', '0', '1', '1', '1', '0', '0', '0', '0', '0', '1', '0', '0', '1', '0', '0', '1', '1', '0', '0', '1', '1', '0', '0', '0', '0', '0', '1', '0', '0', '1', '1', '0', '0', '0', '0', '0', '0', '0', '1', '0', '1', '1', '0', '1', '0', '0', '0', '0', '1', '0', '0', '0', '0', '0', '0', '1', '0', '0', '0', '1', '1', '0', '0', '0', '1', '0', '0', '0', '0', '1', '1', '0', '0', '0', '0', '0', '0', '1', '0', '0', '0', '0', '1', '0', '0', '0', '0', '0', '0', '0', '0', '0', '0', '1', '1', '1', '0', '0', '0', '0', '0', '0', '0', '0', '0', '0', '0', '0', '0', '0', '0', '1', '1', '1', '0', '0', '0', '1', '1', '1', '0', '0', '0', '0', '0', '1', '0', '1', '1', '1', '0', '0', '0', '0', '1', '0', '0', '0', '0', '0', '0', '0', '0', '0', '0', '0', '0', '0', '1', '0', '1', '0', '0', '0', '0', '0', '0', '0', '1', '0', '0', '1', '0', '0', '1', '0', '1', '1', '1', '1', '0', '1', '1', '0', '0', '0', '0', '1', '0', '0', '0', '0', '1', '0', '0', '0', '1', '0', '0', '0', '0', '0', '0', '0', '0', '0', '1', '0', '1', '1', '1', '0', '0', '0', '1', '0', '1', '1', '0', '0', '0', '0', '0', '0', '0', '0', '0', '0', '0', '0', '0', '0', '0', '0', '0', '0', '0', '0', '1', '0', '1', '0', '0', '1', '1', '1', '1', '0', '0', '0', '0', '0', '0', '1', '1', '0', '0', '0', '0', '0', '0', '0', '1', '0', '0', '0', '0', '0', '1', '1', '0', '0', '1', '0', '0', '0', '0', '0', '0', '0', '0', '0', '1', '1', '0', '0', '0', '0', '0', '0', '0', '0', '0', '0', '0', '0', '0', '0', '0', '0', '1', '1', '0', '0', '0', '0', '0', '0', '0', '0', '0', '0', '0', '0', '1', '1', '0', '0', '0', '1', '0', '0', '0', '0', '0', '0', '0', '0', '1', '0', '0', '0', '1', '0', '0', '0', '1', '0', '0', '1', '1', '0', '0', '0', '0', '0', '0', '1', '1', '1', '1', '1', '1', '0', '0', '0', '0', '0', '0', '0', '0', '1', '1', '0', '0', '0', '0', '0', '0', '0', '1', '0', '0', '0', '0', '0', '0', '0', '0', '0', '0', '0', '1', '1', '0', '0', '0', '0', '0', '0', '0', '0', '0', '0', '1', '0', '0', '0', '0', '1', '0', '1', '0', '0', '0', '0', '1', '1', '0', '0', '1', '1', '1', '1', '1', '1', '0', '0', '0', '0', '0', '0', '0', '0', '0', '0', '0', '0', '0', '0', '0', '0', '0', '0', '0', '1', '0', '1', '1', '0', '0', '0', '0', '0', '0', '0', '0', '0', '0', '0', '0', '0', '0', '0', '1', '1', '1', '1', '0', '0', '1', '1', '1', '1', '1', '1', '0', '1', '1', '0', '0', '0', '1', '0', '0', '1', '0', '1', '0', '0', '1', '1', '1', '0', '0', '0', '0', '0', '0', '0', '1', '1', '1', '0', '0', '0', '0', '0', '0', '0', '0', '0', '0', '0', '0', '1', '1', '1', '1', '0', '1', '0', '0', '0', '0', '0', '1', '0', '0', '0', '0', '1', '1', '0', '0', '1', '0', '0', '0', '0', '0', '0', '0', '0', '0', '0', '0', '1', '0', '0', '0', '0', '0', '0', '1', '1', '0', '0', '1', '1', '0', '0', '0', '0', '0', '0', '1', '0', '0', '0', '0', '0', '0', '0', '0', '0', '0', '0', '0', '1', '1', '0', '0', '0', '0', '0', '0', '0', '0', '0', '0', '0', '0', '0', '0', '0', '0', '0', '0', '0', '0', '1', '1', '1', '1', '1', '1', '1', '1', '1', '1', '0', '0', '0', '0', '0', '1', '1', '1', '1', '1', '0', '0', '0', '0', '0', '0', '0', '0', '0', '0', '1', '1', '1', '1', '1', '0', '1', '1', '0', '0', '0', '0', '0', '0', '1', '1', '1', '0', '0', '0', '0', '0', '0', '0', '0', '0', '0', '0', '0', '0', '0', '0', '0', '0', '0', '1', '0', '1', '0', '0', '0', '0', '1', '1', '1', '0', '1', '0', '0', '1', '1', '0', '0', '0', '0', '1', '1', '0', '0', '0', '0', '1', '1', '0', '0', '0', '1', '1', '0', '1', '0', '0', '1', '1', '0', '0', '1', '0', '0', '0', '1', '0', '0', '0', '0', '0', '1', '0', '0', '0', '1', '0', '0', '0', '0', '1', '1', '1', '1', '1', '1', '0', '0', '0', '0', '0', '0', '0', '0', '0', '0', '0', '0', '0', '0', '0', '0', '0', '0', '0', '0', '0', '0', '0', '0', '0', '0', '0', '1', '1', '0', '0', '1', '0', '0', '0', '1', '1', '0', '0', '0', '0', '0', '0', '0', '0', '0', '0', '0', '0', '0', '0', '0', '0', '0', '1', '1', '1', '0', '0', '0', '0', '0', '1', '0', '0', '0', '0', '0', '1', '0', '0', '1', '0', '1', '0', '0', '0', '0', '0', '1', '1', '0', '0', '1', '1', '0', '1', '0', '1', '0', '0', '0', '0', '0', '0', '0', '1', '0', '0', '1', '1', '0', '1', '0', '0', '0', '0', '1', '0', '1', '0', '0', '0', '1', '0', '0', '1', '0', '1', '0', '1', '0', '0', '0', '0', '0', '0', '0', '1', '1', '0', '0', '0', '0', '0', '0', '0', '0', '0', '0', '0', '0', '0', '0', '0', '0', '1', '1', '1', '0', '0', '0', '0', '0', '0', '1', '1', '1', '0', '0', '0', '1', '0', '0', '0', '1', '0', '0', '0', '0', '1', '0', '0', '0', '1', '0', '1', '1', '0', '1', '0', '0', '0', '1', '0', '0', '0', '0', '0', '0', '0', '0', '0', '0', '0', '1', '0', '0', '0', '0', '0', '0', '0', '1', '0', '1', '0', '0', '0', '0', '0', '1', '0', '0', '0', '0', '0', '0', '1', '1', '1', '0', '0', '0', '1', '1', '1', '1', '1', '1', '1', '0', '1', '0', '0', '0', '0', '0', '1', '0', '0', '0', '0', '0', '1', '1', '0', '0', '0', '0', '1', '1', '1', '1', '0', '0', '1', '1', '0', '0', '1', '0', '0', '1', '0', '1', '0', '1', '0', '0', '1', '0', '0', '0', '0', '0', '0', '0', '0', '0', '1', '0', '1', '1', '0', '0', '0', '0', '0', '1', '1', '0', '1', '1', '1', '0', '0', '0', '0', '0', '0', '0', '0', '0', '0', '0', '0', '0', '0', '0', '0', '0', '0', '0', '0', '1', '0', '0', '1', '0', '0', '1', '0', '0', '1', '0', '0', '0', '0', '0', '0', '0', '0', '0', '1', '0', '1', '1', '0', '0', '0', '1', '0', '0', '1', '1', '0', '0', '0', '0', '0', '0', '1', '0', '1', '0', '0', '0', '0', '0', '0', '0', '0', '0', '0', '0', '0', '0', '1', '0', '0', '1', '1', '1', '1', '1', '1', '1', '1', '0', '0', '0', '0', '0', '0', '0', '0', '0', '0', '1', '0', '0', '1', '0', '0', '0', '1', '0', '1', '1', '0', '1', '0', '0', '0', '0', '1', '0', '0', '0', '0', '0', '0', '0', '1', '1', '1', '0', '0', '1', '0', '0', '0', '1', '0', '1', '0', '1', '0', '0', '0', '0', '0', '0', '0', '0', '1', '0', '0', '0', '1', '0', '0', '0', '0', '0', '1', '0', '0', '0', '1', '0', '1', '0', '0', '0', '0', '0', '0', '0', '1', '1', '0', '0', '0', '0', '0', '0', '0', '1', '0', '0', '1', '0', '0', '0', '1', '0', '0', '0', '0', '0', '0', '0', '1', '0', '0', '0', '1', '0', '0', '1', '1', '0', '0', '0', '0', '0', '0', '0', '0', '1', '0', '0', '1', '1', '0', '0', '0', '0', '0', '0', '0', '0', '1', '1', '0', '0', '1', '0', '0', '0', '0', '0', '0', '1', '0', '0', '0', '0', '0', '0', '0', '0', '0', '1', '0', '0', '0', '1', '1', '0', '0', '1', '1', '0', '0', '1', '0', '0', '1', '0', '0', '1', '1', '0', '0', '0', '0', '0', '0', '0', '1', '0', '0', '0', '1', '1', '0', '0', '0', '1', '0', '0', '0', '0', '0', '1', '0', '0', '1', '0', '0', '0', '1', '1', '0', '1', '0', '0', '0', '0', '0', '0', '0', '0', '0', '0', '0', '0', '0', '1', '1', '1', '0', '0', '0', '0', '0', '0', '1', '1', '1', '0', '0', '0', '0', '0', '0', '0', '0', '0', '1', '0', '0', '0', '0', '0', '0', '0', '0', '1', '0', '0', '0', '1', '1', '1', '1', '0', '1', '0', '1', '0', '0', '0', '0', '0', '0', '1', '1', '0', '0', '0', '0', '0', '0', '1', '0', '0', '0', '0', '0', '1', '1', '1', '0', '0', '0', '0', '1', '1', '0', '0', '0', '0', '0', '0', '1', '1', '0', '0', '0', '0', '1', '1', '0', '0', '0', '0', '0', '0', '0', '0', '0', '0', '1', '0', '1', '1', '0', '0', '1', '1', '1', '0', '0', '1', '0', '0', '0', '0', '0', '1', '1', '0', '0', '0', '0', '0', '0', '0', '0', '0', '0', '0', '0', '1', '0', '1', '1', '1', '1', '0', '0', '1', '0', '1', '0', '0', '0', '0', '1', '1', '0', '0', '0', '0', '1', '1', '0', '0', '0', '0', '0', '0', '0', '1', '0', '0', '0', '1', '0', '1', '0', '1', '1', '0', '0', '1', '0', '0', '0', '0', '0', '0', '0', '0', '0', '0', '0', '0', '0', '0', '0', '0', '0', '0', '1', '0', '0', '1', '0', '0', '0', '0', '0', '0', '0', '1', '0', '0', '1', '0', '0', '0', '0', '0', '0', '0', '1', '1', '0', '0', '1', '0', '1', '0', '0', '0', '1', '1', '0', '1', '1', '1', '0', '0', '0', '0', '0', '0', '0', '0', '0', '0', '0', '0', '0', '0', '0', '0', '0', '0', '0', '0', '0', '0', '0', '0', '0', '1', '0', '0', '0', '0', '0', '0', '1', '0', '1', '0', '0', '0', '0', '0', '1', '1', '0', '1', '0', '0', '0', '0', '0', '1', '0', '0', '0', '0', '0', '0', '1', '1', '0', '1', '0', '0', '0', '0', '0', '0', '1', '0', '0', '0', '0', '1', '0', '0', '1', '0', '0', '0', '1', '0', '1', '0', '0', '0', '0', '1', '1', '0', '0', '0', '0', '1', '0', '0', '0', '1', '0', '0', '0', '0', '0', '0', '0', '0', '0', '0', '0', '0', '0', '0', '0', '0', '0', '0', '0', '0', '0', '0', '0', '0', '0', '1', '0', '1', '0', '1', '1', '0', '0', '0', '0', '0', '0', '0', '0', '0', '0', '0', '0', '0', '0', '0', '0', '0', '1', '0', '1', '0', '0', '0', '1', '0', '0', '0', '0', '1', '0', '1', '0', '0', '1', '0', '0', '0', '0', '0', '1', '0', '1', '0', '0', '0', '1', '0', '0', '0', '1', '0', '0', '0', '0', '0', '0', '0', '0', '0', '0', '1', '1', '0', '0', '0', '1', '0', '0', '0', '0', '0', '0', '0', '1', '1', '0', '0', '0', '0', '0', '0', '1', '1', '0', '0', '0', '0', '0', '0', '0', '0', '0', '0', '1', '1', '0', '0', '0', '0', '0', '0', '1', '0', '1', '0', '0', '0', '0', '0', '0', '0', '0', '0', '0', '0', '0', '0', '0', '0', '0', '0', '0', '0', '1', '1', '0', '0', '0', '1', '1', '1', '1', '0', '0', '0', '0', '0', '1', '0', '1', '1', '0', '0', '0', '0', '1', '0', '1', '1', '0', '0', '0', '1', '0', '0', '0', '0', '1', '1', '0', '0', '1', '0', '1', '0', '0', '1', '1', '0', '1', '1', '0', '0', '0', '0', '0', '0', '0', '0', '0', '1', '0', '0', '1', '0', '1', '0', '0', '0', '0', '1', '0', '0', '0', '0', '0', '0', '0', '0', '1', '1', '0', '0', '0', '0', '0', '0', '1', '0', '0', '0', '0', '0', '0', '0', '0', '0', '1', '1', '1', '0', '1', '0', '0', '0', '0', '0', '0', '0', '0', '0', '0', '0', '1', '0', '0', '0', '0', '0', '1', '1', '1', '1', '1', '0', '0', '0', '0', '0', '1', '1', '1', '1', '1', '0', '0', '0', '1', '0', '1', '0', '1', '0', '1', '1', '0', '1', '1', '0', '0', '0', '1', '0', '0', '0', '0', '0', '0', '0', '0', '0', '0', '0', '0', '0', '0', '0', '0', '0', '0', '0', '0', '1', '1', '0', '0', '0', '0', '0', '0', '1', '1', '0', '0', '0', '0', '0', '0', '1', '1', '0', '0', '0', '0', '0', '0', '0', '0', '0', '0', '0', '1', '1', '1', '0', '0', '0', '1', '0', '1', '1', '0', '0', '1', '0', '1', '1', '0', '1', '0', '0', '0', '1', '0', '0', '0', '0', '0', '0', '0', '0', '1', '1', '0', '0', '0', '0', '0', '1', '0', '0', '0', '1', '1', '1', '1', '1', '0', '0', '0', '0', '1', '0', '0', '0', '0', '1', '0', '1', '1', '0', '0', '0', '0', '0', '0', '1', '0', '0', '0', '1', '0', '0', '0', '0', '0', '0', '0', '1', '0', '0', '0', '0', '0', '1', '1', '1', '1', '0', '0', '0', '0', '0', '0', '0', '0', '0', '0', '1', '0', '0', '0', '0', '1', '1', '0', '0', '0', '0', '0', '0', '0', '1', '0', '0', '0', '1', '0', '0', '1', '1', '0', '0', '1', '0', '0', '0', '0', '0', '1', '0', '0', '1', '1', '0', '1', '0', '0', '0', '0', '0', '0', '0', '0', '1', '0', '1', '0', '0', '1', '1', '0', '0', '0', '0', '0', '0', '0', '0', '0', '0', '0', '0', '0', '0', '0', '0', '0', '0', '0', '0', '0', '0', '0', '1', '1', '1', '1', '0', '1', '0', '1', '1', '0', '1', '1', '0', '0', '0', '1', '0', '1', '0', '0', '0', '0', '0', '0', '0', '0', '0', '0', '1', '1', '0', '1', '0', '0', '0', '0', '0', '0', '0', '1', '0', '0', '0', '0', '1', '0', '0', '0', '1', '0', '0', '1', '0', '0', '1', '0', '0', '0', '0', '0', '0', '0', '1', '0', '0', '0', '0', '0', '0', '0', '0', '0', '0', '0', '0', '1', '0', '0', '0', '0', '1', '0', '1', '0', '1', '1', '1', '1', '0', '1', '0', '0', '0', '1', '0', '0', '1', '1', '0', '0', '0', '1', '0', '1', '1', '0', '0', '1', '0', '0', '1', '1', '1', '0', '0', '1', '1', '0', '1', '1', '1', '0', '1', '0', '0', '0', '0', '0', '0', '1', '0', '1', '0', '0', '0', '0', '1', '0', '0', '0', '0', '1', '1', '0', '1', '0', '0', '0', '0', '0', '0', '0', '0', '1', '1', '1', '0', '0', '0', '0', '0', '0', '0', '0', '0', '1', '1', '1', '0', '0', '0', '0', '1', '1', '0', '0', '0', '0', '0', '1', '0', '1', '1', '1', '0', '0', '0', '1', '0', '0', '1', '1', '0', '0', '0', '0', '0', '0', '0', '1', '1', '1', '0', '1', '1', '0', '0', '0', '0', '1', '0', '0', '0', '0', '1', '1', '0', '0', '0', '0', '0', '1', '0', '1', '0', '1', '1', '0', '0', '0', '1', '0', '1', '0', '1', '1', '0', '1', '0', '0', '0', '0', '0', '0', '1', '1', '1', '0', '0', '0', '0', '0', '1', '0', '0', '0', '0', '0', '0', '0', '0', '1', '0', '0', '0', '1', '1', '0', '1', '1', '0', '0', '1', '0', '0', '1', '0', '0', '1', '1', '0', '0', '0', '0', '0', '0', '0', '1', '1', '0', '0', '1', '1', '0', '0', '0', '0', '0', '0', '0', '1', '0', '0', '0', '0', '0', '0', '0', '0', '0', '0', '0', '0', '1', '1', '0', '0', '0', '0', '1', '1', '0', '0', '0', '0', '0', '1', '0', '0', '1', '0', '0', '1', '0', '1', '1', '0', '0', '0', '0', '0', '0', '0', '0', '0', '0', '0', '0', '0', '0', '0', '0', '0', '0', '0', '0', '0', '0', '0', '0', '0', '0', '0', '0', '1', '0', '1', '0', '1', '0', '0', '0', '1', '0', '1', '0', '0', '1', '0', '0', '0', '0', '0', '1', '0', '1', '1', '0', '1', '0', '0', '0', '0', '0', '0', '0', '0', '0', '0', '0', '0', '0', '0', '0', '0', '0', '0', '0', '0', '0', '0', '0', '1', '0', '0', '0', '0', '0', '0', '1', '0', '0', '0', '0', '0', '0', '0', '0', '0', '0', '0', '0', '0', '0', '0', '1', '0', '1', '0', '0', '0', '0', '0', '0', '0', '0', '0', '0', '0', '0', '0', '0', '0', '0', '0', '1', '0', '0', '0', '1', '1', '1', '0', '0', '1', '0', '0', '0', '0', '0', '0', '0', '0', '0', '0', '0', '0', '1', '0', '0', '0', '0', '1', '0', '0', '0', '0', '0', '0', '0', '0', '0', '0', '0', '0', '0', '0', '0', '0', '1', '0', '1', '0', '0', '1', '1', '0', '0', '0', '0', '0', '0', '1', '1', '0', '0', '0', '0', '1', '0', '0', '0', '0', '0', '0', '0', '0', '0', '0', '0', '0', '0', '0', '0', '0', '0', '1', '0', '0', '0', '0', '0', '1', '0', '0']\n"
          ]
        }
      ]
    },
    {
      "cell_type": "code",
      "source": [
        "df['주말'] = list_b"
      ],
      "metadata": {
        "id": "BWrlIpzJqpm7"
      },
      "execution_count": 30,
      "outputs": []
    },
    {
      "cell_type": "markdown",
      "source": [
        "월을 계절로 변경"
      ],
      "metadata": {
        "id": "eDYfTUuuqyVU"
      }
    },
    {
      "cell_type": "code",
      "source": [
        "list_c = []"
      ],
      "metadata": {
        "id": "8jtQ5GeZq8Ok"
      },
      "execution_count": 31,
      "outputs": []
    },
    {
      "cell_type": "code",
      "source": [
        "for i in range(len(df['월'])):\n",
        "  if df['월'][i] in [12,1,2]:\n",
        "    list_c.append('겨울') \n",
        "  elif df['월'][i] in [3,4,5]:\n",
        "    list_c.append('봄')\n",
        "  elif df['월'][i] in [6,7,8]:\n",
        "    list_c.append('여름')\n",
        "  else:\n",
        "    list_c.append('가을')\n",
        "print(list_c) "
      ],
      "metadata": {
        "colab": {
          "base_uri": "https://localhost:8080/"
        },
        "id": "w1XD20iKq-yO",
        "outputId": "3bb0fa06-7beb-44ef-f24d-f42c4feeaeb5"
      },
      "execution_count": 32,
      "outputs": [
        {
          "output_type": "stream",
          "name": "stdout",
          "text": [
            "['겨울', '겨울', '봄', '봄', '봄', '봄', '여름', '가을', '가을', '겨울', '가을', '겨울', '겨울', '봄', '여름', '가을', '가을', '겨울', '봄', '봄', '가을', '여름', '여름', '여름', '가을', '봄', '봄', '봄', '여름', '겨울', '봄', '여름', '여름', '겨울', '봄', '여름', '가을', '겨울', '겨울', '겨울', '봄', '가을', '겨울', '겨울', '겨울', '여름', '가을', '겨울', '겨울', '봄', '봄', '가을', '가을', '봄', '봄', '가을', '여름', '여름', '가을', '겨울', '봄', '봄', '가을', '겨울', '겨울', '봄', '여름', '가을', '겨울', '여름', '겨울', '봄', '가을', '가을', '가을', '겨울', '겨울', '겨울', '겨울', '여름', '여름', '가을', '겨울', '겨울', '겨울', '봄', '봄', '봄', '가을', '가을', '여름', '여름', '가을', '가을', '가을', '겨울', '봄', '봄', '봄', '여름', '가을', '겨울', '봄', '여름', '여름', '가을', '가을', '가을', '여름', '여름', '여름', '가을', '가을', '가을', '겨울', '겨울', '겨울', '봄', '여름', '여름', '여름', '여름', '여름', '가을', '가을', '가을', '가을', '봄', '여름', '가을', '겨울', '봄', '봄', '봄', '가을', '봄', '여름', '겨울', '봄', '가을', '가을', '겨울', '봄', '여름', '가을', '겨울', '여름', '여름', '가을', '가을', '겨울', '봄', '여름', '여름', '가을', '가을', '겨울', '여름', '여름', '여름', '가을', '가을', '봄', '여름', '여름', '여름', '겨울', '가을', '가을', '봄', '봄', '여름', '여름', '겨울', '겨울', '가을', '겨울', '봄', '봄', '봄', '여름', '봄', '봄', '여름', '여름', '여름', '여름', '가을', '가을', '겨울', '겨울', '봄', '봄', '여름', '여름', '여름', '가을', '봄', '봄', '여름', '가을', '가을', '겨울', '봄', '봄', '여름', '여름', '가을', '겨울', '겨울', '겨울', '겨울', '여름', '가을', '겨울', '겨울', '봄', '가을', '가을', '겨울', '겨울', '여름', '여름', '가을', '가을', '봄', '여름', '가을', '가을', '겨울', '봄', '여름', '여름', '여름', '여름', '가을', '겨울', '봄', '봄', '봄', '봄', '여름', '여름', '가을', '가을', '겨울', '겨울', '겨울', '봄', '봄', '여름', '여름', '여름', '여름', '여름', '여름', '겨울', '봄', '봄', '봄', '봄', '여름', '여름', '여름', '여름', '가을', '가을', '겨울', '봄', '가을', '가을', '겨울', '겨울', '겨울', '가을', '가을', '가을', '가을', '봄', '가을', '가을', '가을', '겨울', '겨울', '겨울', '봄', '가을', '가을', '겨울', '겨울', '겨울', '여름', '겨울', '봄', '가을', '가을', '가을', '겨울', '겨울', '겨울', '봄', '여름', '여름', '여름', '여름', '봄', '여름', '봄', '여름', '여름', '겨울', '겨울', '여름', '봄', '봄', '봄', '가을', '가을', '겨울', '겨울', '여름', '여름', '겨울', '겨울', '봄', '여름', '여름', '봄', '봄', '가을', '여름', '봄', '봄', '여름', '겨울', '봄', '가을', '가을', '봄', '봄', '여름', '가을', '봄', '봄', '여름', '겨울', '겨울', '겨울', '겨울', '겨울', '겨울', '봄', '봄', '봄', '봄', '가을', '가을', '가을', '봄', '봄', '여름', '여름', '가을', '가을', '가을', '봄', '봄', '봄', '여름', '여름', '여름', '여름', '여름', '가을', '가을', '겨울', '겨울', '겨울', '겨울', '봄', '봄', '봄', '여름', '가을', '가을', '봄', '봄', '봄', '여름', '겨울', '봄', '봄', '봄', '여름', '가을', '가을', '봄', '여름', '가을', '가을', '봄', '가을', '겨울', '봄', '가을', '여름', '여름', '가을', '겨울', '봄', '여름', '여름', '가을', '겨울', '봄', '봄', '여름', '여름', '가을', '겨울', '겨울', '겨울', '겨울', '봄', '봄', '봄', '봄', '여름', '여름', '여름', '가을', '가을', '가을', '겨울', '겨울', '봄', '봄', '봄', '봄', '봄', '여름', '가을', '가을', '가을', '가을', '가을', '겨울', '겨울', '봄', '봄', '봄', '봄', '봄', '여름', '가을', '겨울', '겨울', '겨울', '겨울', '겨울', '겨울', '봄', '봄', '여름', '여름', '겨울', '겨울', '봄', '가을', '봄', '가을', '여름', '여름', '여름', '봄', '봄', '여름', '가을', '봄', '봄', '봄', '봄', '여름', '여름', '가을', '가을', '봄', '여름', '여름', '여름', '가을', '겨울', '겨울', '겨울', '봄', '봄', '가을', '가을', '겨울', '봄', '봄', '가을', '가을', '겨울', '겨울', '여름', '여름', '여름', '가을', '가을', '겨울', '봄', '여름', '가을', '가을', '여름', '여름', '가을', '겨울', '봄', '여름', '여름', '겨울', '가을', '가을', '가을', '봄', '여름', '겨울', '봄', '여름', '겨울', '가을', '가을', '여름', '여름', '겨울', '겨울', '봄', '봄', '가을', '가을', '겨울', '봄', '여름', '가을', '가을', '겨울', '겨울', '여름', '여름', '여름', '여름', '봄', '여름', '여름', '여름', '가을', '겨울', '봄', '봄', '가을', '겨울', '겨울', '겨울', '겨울', '겨울', '여름', '가을', '가을', '겨울', '여름', '여름', '겨울', '겨울', '여름', '겨울', '겨울', '가을', '겨울', '여름', '여름', '가을', '가을', '가을', '가을', '겨울', '겨울', '겨울', '봄', '봄', '가을', '봄', '가을', '가을', '겨울', '겨울', '겨울', '겨울', '여름', '여름', '여름', '여름', '가을', '겨울', '겨울', '봄', '여름', '여름', '가을', '가을', '봄', '봄', '봄', '여름', '여름', '여름', '봄', '봄', '여름', '봄', '봄', '여름', '가을', '가을', '가을', '봄', '겨울', '가을', '가을', '가을', '가을', '봄', '봄', '겨울', '여름', '여름', '여름', '가을', '가을', '겨울', '겨울', '여름', '가을', '겨울', '가을', '여름', '여름', '겨울', '가을', '가을', '가을', '여름', '여름', '겨울', '여름', '봄', '가을', '봄', '봄', '가을', '겨울', '가을', '봄', '가을', '겨울', '가을', '가을', '가을', '가을', '겨울', '봄', '여름', '가을', '가을', '가을', '겨울', '겨울', '겨울', '봄', '봄', '여름', '여름', '가을', '겨울', '여름', '가을', '가을', '겨울', '봄', '봄', '봄', '겨울', '가을', '가을', '겨울', '봄', '봄', '가을', '가을', '봄', '가을', '겨울', '여름', '여름', '겨울', '가을', '봄', '봄', '가을', '가을', '겨울', '겨울', '봄', '봄', '여름', '겨울', '봄', '봄', '여름', '여름', '여름', '가을', '가을', '겨울', '봄', '여름', '가을', '겨울', '봄', '봄', '여름', '가을', '가을', '가을', '가을', '여름', '봄', '봄', '여름', '겨울', '봄', '봄', '여름', '가을', '겨울', '여름', '가을', '가을', '가을', '가을', '겨울', '겨울', '봄', '겨울', '봄', '여름', '여름', '가을', '가을', '겨울', '봄', '여름', '여름', '가을', '가을', '겨울', '겨울', '봄', '여름', '봄', '봄', '봄', '여름', '가을', '가을', '겨울', '겨울', '겨울', '봄', '가을', '겨울', '봄', '여름', '여름', '가을', '봄', '봄', '가을', '겨울', '봄', '봄', '여름', '봄', '겨울', '겨울', '겨울', '가을', '겨울', '겨울', '여름', '여름', '여름', '가을', '겨울', '겨울', '겨울', '가을', '여름', '여름', '여름', '가을', '겨울', '겨울', '봄', '봄', '봄', '가을', '겨울', '겨울', '겨울', '여름', '겨울', '겨울', '봄', '가을', '가을', '가을', '겨울', '봄', '가을', '봄', '여름', '가을', '봄', '가을', '겨울', '여름', '여름', '가을', '겨울', '여름', '가을', '봄', '봄', '여름', '겨울', '봄', '봄', '봄', '여름', '여름', '가을', '봄', '가을', '봄', '여름', '겨울', '봄', '가을', '여름', '봄', '봄', '여름', '봄', '봄', '가을', '가을', '겨울', '겨울', '봄', '봄', '겨울', '겨울', '봄', '봄', '봄', '여름', '가을', '가을', '봄', '봄', '여름', '가을', '가을', '봄', '봄', '여름', '여름', '가을', '여름', '여름', '겨울', '봄', '봄', '봄', '가을', '가을', '겨울', '봄', '봄', '여름', '가을', '가을', '가을', '겨울', '겨울', '봄', '여름', '가을', '가을', '여름', '가을', '가을', '겨울', '가을', '가을', '겨울', '겨울', '봄', '봄', '여름', '여름', '가을', '가을', '가을', '겨울', '봄', '가을', '가을', '가을', '봄', '봄', '여름', '여름', '가을', '가을', '겨울', '봄', '겨울', '봄', '여름', '가을', '봄', '여름', '가을', '가을', '가을', '봄', '봄', '봄', '여름', '여름', '여름', '가을', '여름', '여름', '여름', '가을', '겨울', '봄', '가을', '가을', '겨울', '봄', '봄', '가을', '겨울', '봄', '가을', '가을', '가을', '겨울', '봄', '봄', '여름', '가을', '가을', '가을', '여름', '가을', '겨울', '겨울', '여름', '여름', '가을', '가을', '가을', '여름', '가을', '겨울', '봄', '여름', '여름', '가을', '가을', '가을', '겨울', '겨울', '여름', '봄', '봄', '여름', '여름', '가을', '겨울', '여름', '여름', '여름', '겨울', '가을', '겨울', '봄', '여름', '여름', '가을', '가을', '여름', '여름', '여름', '여름', '가을', '겨울', '겨울', '겨울', '봄', '가을', '가을', '겨울', '겨울', '여름', '여름', '겨울', '겨울', '겨울', '봄', '봄', '가을', '겨울', '봄', '여름', '여름', '가을', '가을', '겨울', '봄', '겨울', '봄', '여름', '겨울', '봄', '가을', '겨울', '여름', '가을', '봄', '여름', '가을', '가을', '겨울', '봄', '봄', '가을', '겨울', '봄', '가을', '겨울', '겨울', '봄', '가을', '겨울', '여름', '여름', '겨울', '봄', '여름', '가을', '겨울', '겨울', '봄', '봄', '가을', '가을', '가을', '여름', '가을', '겨울', '겨울', '겨울', '봄', '겨울', '여름', '겨울', '봄', '가을', '가을', '가을', '겨울', '겨울', '겨울', '여름', '봄', '봄', '겨울', '겨울', '봄', '여름', '여름', '봄', '가을', '가을', '가을', '겨울', '겨울', '봄', '여름', '여름', '겨울', '가을', '여름', '가을', '가을', '겨울', '겨울', '여름', '겨울', '여름', '여름', '겨울', '봄', '여름', '겨울', '여름', '가을', '가을', '겨울', '여름', '겨울', '여름', '가을', '가을', '여름', '가을', '가을', '봄', '여름', '겨울', '봄', '봄', '봄', '가을', '봄', '봄', '여름', '가을', '봄', '겨울', '가을', '가을', '가을', '여름', '가을', '봄', '여름', '여름', '가을', '여름', '가을', '가을', '여름', '봄', '봄', '봄', '봄', '여름', '가을', '여름', '가을', '봄', '여름', '여름', '여름', '여름', '가을', '가을', '겨울', '봄', '봄', '여름', '가을', '겨울', '봄', '가을', '여름', '가을', '겨울', '봄', '봄', '여름', '겨울', '봄', '겨울', '봄', '가을', '봄', '가을', '여름', '가을', '봄', '봄', '봄', '가을', '겨울', '봄', '여름', '가을', '가을', '여름', '봄', '가을', '가을', '가을', '겨울', '겨울', '겨울', '가을', '가을', '여름', '가을', '가을', '여름', '봄', '여름', '가을', '겨울', '여름', '여름', '가을', '가을', '여름', '겨울', '겨울', '봄', '가을', '겨울', '봄', '봄', '봄', '가을', '겨울', '겨울', '봄', '봄', '여름', '봄', '가을', '여름', '겨울', '여름', '가을', '여름', '가을', '여름', '여름', '봄', '가을', '겨울', '봄', '봄', '가을', '겨울', '겨울', '여름', '봄', '가을', '가을', '겨울', '겨울', '여름', '겨울', '겨울', '봄', '겨울', '여름', '겨울', '여름', '겨울', '가을', '가을', '겨울', '봄', '가을', '여름', '겨울', '봄', '봄', '가을', '겨울', '가을', '가을', '여름', '여름', '겨울', '여름', '겨울', '봄', '봄', '봄', '가을', '겨울', '가을', '가을', '봄', '겨울', '겨울', '가을', '봄', '봄', '겨울', '봄', '겨울', '여름', '여름', '봄', '가을', '가을', '봄', '가을', '겨울', '겨울', '여름', '봄', '가을', '봄', '가을', '가을', '겨울', '봄', '봄', '여름', '가을', '봄', '가을', '겨울', '봄', '여름', '여름', '여름', '여름', '여름', '가을', '겨울', '겨울', '봄', '여름', '여름', '여름', '가을', '겨울', '겨울', '봄', '여름', '여름', '여름', '가을', '가을', '가을', '가을', '겨울', '겨울', '여름', '여름', '봄', '여름', '가을', '겨울', '여름', '여름', '가을', '가을', '겨울', '여름', '여름', '가을', '가을', '가을', '가을', '가을', '가을', '가을', '겨울', '여름', '가을', '가을', '여름', '여름', '봄', '봄', '여름', '가을', '봄', '여름', '겨울', '봄', '여름', '봄', '여름', '겨울', '봄', '여름', '여름', '가을', '가을', '봄', '봄', '봄', '여름', '여름', '가을', '겨울', '겨울', '겨울', '봄', '여름', '가을', '겨울', '여름', '가을', '봄', '겨울', '겨울', '봄', '봄', '가을', '봄', '가을', '봄', '여름', '가을', '겨울', '봄', '봄', '봄', '겨울', '여름', '겨울', '봄', '여름', '가을', '겨울', '겨울', '봄', '여름', '가을', '가을', '겨울', '봄', '봄', '봄', '가을', '가을', '가을', '가을', '겨울', '겨울', '겨울', '겨울', '겨울', '여름', '여름', '겨울', '봄', '봄', '봄', '봄', '봄', '봄', '여름', '여름', '가을', '가을', '겨울', '가을', '가을', '가을', '겨울', '겨울', '겨울', '봄', '봄', '여름', '가을', '가을', '겨울', '봄', '여름', '여름', '여름', '가을', '가을', '가을', '가을', '겨울', '가을', '겨울', '여름', '여름', '가을', '가을', '가을', '가을', '여름', '겨울', '봄', '여름', '여름', '여름', '겨울', '겨울', '가을', '겨울', '봄', '봄', '봄', '봄', '가을', '가을', '가을', '겨울', '겨울', '여름', '여름', '여름', '봄', '봄', '봄', '겨울', '여름', '가을', '가을', '겨울', '봄', '여름', '가을', '가을', '겨울', '여름', '여름', '겨울', '겨울', '봄', '여름', '겨울', '가을', '가을', '겨울', '봄', '여름', '가을', '여름', '가을', '봄', '여름', '여름', '겨울', '여름', '가을', '가을', '겨울', '여름', '봄', '여름', '여름', '봄', '겨울', '여름', '여름', '가을', '겨울', '봄', '겨울', '봄', '봄', '가을', '봄', '가을', '겨울', '겨울', '여름', '가을', '봄', '봄', '가을', '봄', '봄', '여름', '봄', '봄', '여름', '여름', '겨울', '봄', '가을', '봄', '여름', '가을', '여름', '봄', '겨울', '봄', '봄', '여름', '가을', '겨울', '겨울', '겨울', '겨울', '겨울', '여름', '가을', '가을', '봄', '여름', '여름', '여름', '가을', '겨울', '봄', '여름', '봄', '가을', '겨울', '여름', '겨울', '봄', '여름', '봄', '여름', '여름', '가을', '가을', '가을', '봄', '가을', '겨울', '여름', '가을', '가을', '가을', '겨울', '봄', '겨울', '봄', '봄', '여름', '가을', '겨울', '겨울', '겨울', '여름', '가을', '가을', '겨울', '봄', '봄', '겨울', '봄', '여름', '가을', '겨울', '겨울', '겨울', '여름', '가을', '여름', '겨울', '겨울', '겨울', '여름', '가을', '겨울', '겨울', '봄', '가을', '가을', '봄', '봄', '가을', '가을', '겨울', '겨울', '봄', '봄', '봄', '겨울', '봄', '여름', '여름', '봄', '겨울', '겨울', '가을', '봄', '가을', '겨울', '겨울', '봄', '여름', '봄', '여름', '봄', '여름', '가을', '봄', '봄', '가을', '여름', '여름', '여름', '가을', '가을', '봄', '봄', '가을', '봄', '겨울', '봄', '여름', '봄', '겨울', '봄', '봄', '봄', '겨울', '겨울', '겨울', '여름', '겨울', '여름', '가을', '겨울', '여름', '여름', '겨울', '겨울', '여름', '여름', '가을', '가을', '봄', '봄', '여름', '여름', '봄', '여름', '여름', '여름', '여름', '가을', '겨울', '가을', '겨울', '봄', '가을', '가을', '여름', '봄', '봄', '여름', '가을', '봄', '봄', '여름', '봄', '가을', '가을', '여름', '겨울', '겨울', '봄', '겨울', '가을', '가을', '봄', '가을', '봄', '여름', '봄', '봄', '봄', '가을', '가을', '겨울', '가을', '겨울', '겨울', '가을', '겨울', '여름', '겨울', '가을', '가을', '가을', '겨울', '겨울', '여름', '여름', '여름', '가을', '봄', '봄', '여름', '겨울', '봄', '가을', '겨울', '봄', '여름', '봄', '봄', '여름', '여름', '여름', '가을', '가을', '봄', '여름', '여름', '겨울', '겨울', '봄', '여름', '겨울', '여름', '가을', '겨울', '가을', '봄', '가을', '봄', '여름', '가을', '겨울', '여름', '가을', '겨울', '여름', '가을', '봄', '가을', '겨울', '겨울', '가을', '봄', '가을', '가을', '가을', '겨울', '봄', '가을', '겨울', '봄', '봄', '봄', '여름', '겨울', '봄', '여름', '가을', '겨울', '겨울', '봄', '가을', '가을', '겨울', '여름', '여름', '여름', '가을', '가을', '겨울', '겨울', '봄', '봄', '봄', '겨울', '여름', '여름', '가을', '봄', '봄', '가을', '봄', '봄', '여름', '가을', '겨울', '봄', '봄', '여름', '가을', '겨울', '봄', '겨울', '봄', '여름', '여름', '가을', '가을', '겨울', '봄', '겨울', '봄', '가을', '봄', '여름', '가을', '겨울', '봄', '여름', '가을', '가을', '봄', '봄', '여름', '여름', '가을', '가을', '겨울', '봄', '여름', '가을', '겨울', '겨울', '겨울', '겨울', '여름', '여름', '가을', '겨울', '겨울', '봄', '여름', '가을', '가을', '겨울', '겨울', '봄', '여름', '여름', '여름', '가을', '가을', '겨울', '여름', '여름', '여름', '가을', '겨울', '겨울', '겨울', '가을', '봄', '봄', '봄', '겨울', '겨울', '겨울', '봄', '가을', '겨울', '겨울', '겨울', '여름', '겨울', '겨울', '겨울', '봄', '여름', '여름', '여름', '가을', '겨울', '겨울', '여름', '겨울', '봄', '봄', '봄', '여름', '봄', '봄', '가을', '겨울', '여름', '여름', '가을', '겨울', '겨울', '여름', '가을', '봄', '겨울', '봄', '여름', '여름', '봄', '봄', '여름', '여름', '가을', '가을', '봄', '봄', '가을', '가을', '봄', '봄', '봄', '여름', '겨울', '봄', '겨울', '겨울', '여름', '여름', '여름', '가을', '가을', '겨울', '봄', '가을', '가을', '겨울', '봄', '봄', '여름', '가을', '가을', '가을', '겨울', '겨울', '겨울', '봄', '여름', '여름', '여름', '가을', '겨울', '겨울', '여름', '여름', '가을', '가을', '봄', '겨울', '가을', '겨울', '봄', '봄', '여름', '가을', '겨울', '봄', '여름', '봄', '봄', '여름', '여름', '가을', '가을', '가을', '겨울', '봄', '봄', '봄', '여름', '여름', '여름', '가을', '가을', '겨울', '봄', '봄', '여름', '여름', '여름', '가을', '가을', '가을', '겨울', '겨울', '봄', '여름', '가을', '겨울', '여름', '가을', '가을', '가을', '겨울', '겨울', '여름', '가을', '가을', '겨울', '겨울', '겨울', '봄', '봄', '가을', '겨울', '봄', '가을', '가을', '가을', '겨울', '겨울', '겨울', '겨울', '봄', '봄', '봄', '가을', '가을', '겨울', '봄', '봄', '여름', '가을', '겨울', '봄', '가을', '겨울', '겨울', '봄', '봄', '겨울', '여름', '봄', '여름', '가을', '겨울', '여름', '여름', '여름', '가을', '겨울', '봄', '겨울', '여름', '여름', '여름', '가을', '겨울', '겨울', '여름', '겨울', '겨울', '여름', '여름', '겨울', '봄', '봄', '여름', '가을', '가을', '겨울', '봄', '봄', '여름', '여름', '여름', '가을', '봄', '봄', '여름', '가을', '가을', '여름', '가을', '가을', '겨울', '봄', '가을', '가을', '겨울', '봄', '여름', '여름', '가을', '가을', '여름', '봄', '봄', '여름', '여름', '여름', '겨울', '가을', '봄', '여름', '여름', '여름', '가을', '가을', '가을', '여름', '가을', '여름', '여름', '가을', '가을', '가을', '여름', '여름', '가을', '여름', '여름', '여름', '봄', '봄', '가을', '가을', '겨울', '봄', '여름', '가을', '가을', '겨울', '봄', '봄', '봄', '가을', '봄', '가을', '가을', '겨울', '봄', '봄', '겨울', '겨울', '봄', '봄', '여름', '가을', '봄', '봄', '봄', '여름', '가을', '겨울', '겨울', '봄', '여름', '가을', '가을', '봄', '여름', '겨울', '여름', '겨울', '봄', '여름', '가을', '겨울', '봄', '겨울', '겨울', '가을', '가을', '가을', '가을', '봄', '가을', '가을', '가을', '겨울', '여름', '가을', '겨울', '겨울', '겨울', '겨울', '겨울', '여름', '여름', '여름', '여름', '겨울', '겨울', '여름', '여름', '가을', '가을', '봄', '봄', '가을', '여름', '여름', '가을', '겨울', '봄', '가을', '가을', '가을', '여름', '여름', '봄', '여름', '여름', '가을', '겨울', '가을', '겨울', '겨울', '여름', '여름', '겨울', '봄', '가을', '겨울', '봄', '가을', '여름', '가을', '가을', '봄', '겨울', '봄', '여름', '겨울', '가을', '겨울', '여름', '가을', '가을', '겨울', '봄', '여름', '여름', '여름', '가을', '겨울', '여름', '가을', '겨울', '겨울', '봄', '봄', '여름', '겨울', '가을', '가을', '겨울', '겨울', '겨울', '겨울', '겨울', '여름', '여름', '여름', '여름', '겨울', '가을', '가을', '겨울', '가을', '겨울', '봄', '여름', '가을', '봄', '여름', '여름', '가을', '가을', '가을', '봄', '봄', '가을', '겨울', '여름', '가을', '봄', '가을', '봄', '봄', '여름', '가을', '여름', '여름', '여름', '가을', '겨울', '겨울', '봄', '겨울', '봄', '겨울', '겨울', '겨울', '가을', '가을', '봄', '여름', '가을', '가을', '봄', '여름', '봄', '여름', '가을', '여름', '가을', '가을', '가을', '겨울', '봄', '가을', '봄', '겨울', '가을', '봄', '봄', '여름', '여름', '여름', '겨울', '여름', '가을', '여름', '겨울', '가을', '겨울', '봄', '겨울', '여름', '가을', '여름', '여름', '여름', '여름', '가을', '가을', '봄', '봄', '봄', '여름', '봄', '봄', '겨울', '겨울', '겨울', '가을', '겨울', '가을', '가을', '가을', '가을', '여름', '봄', '여름', '여름', '겨울', '겨울', '봄', '여름', '여름', '겨울', '가을', '가을', '봄', '가을', '가을', '겨울', '여름', '겨울', '가을', '가을', '겨울', '겨울', '여름', '가을', '봄', '가을', '겨울', '봄', '겨울', '겨울', '봄', '여름', '가을', '가을', '겨울', '봄', '봄', '가을', '겨울', '여름', '여름', '가을', '여름', '가을', '가을', '가을', '봄', '겨울', '겨울', '봄', '봄', '가을', '봄', '가을', '봄', '여름', '봄', '가을', '겨울', '가을', '가을', '겨울', '가을', '겨울', '겨울', '가을', '가을', '여름', '봄', '가을', '봄', '가을', '여름', '봄', '봄', '여름', '가을', '가을', '가을', '겨울', '가을', '가을', '여름', '봄', '여름', '가을', '가을', '여름', '가을', '겨울', '봄', '여름', '겨울', '가을', '겨울', '봄', '여름', '겨울', '여름', '가을', '가을', '여름', '여름', '가을', '겨울', '가을', '여름', '여름', '여름', '여름', '여름', '여름', '가을', '겨울', '겨울', '겨울', '봄', '봄', '봄', '가을', '봄', '봄', '가을', '가을', '봄', '가을', '가을', '가을', '겨울', '여름', '가을', '가을', '봄', '가을', '여름', '여름', '가을', '가을', '겨울', '봄', '여름', '여름', '겨울', '겨울', '겨울', '여름', '봄', '여름', '가을', '겨울', '겨울', '여름', '겨울', '봄', '가을', '겨울', '가을', '겨울', '겨울', '여름', '가을', '여름', '가을', '겨울', '봄', '여름', '가을', '가을', '겨울', '봄', '겨울', '봄', '가을', '여름', '봄', '여름', '겨울', '봄', '여름', '여름', '여름', '가을', '봄', '여름', '여름', '겨울', '겨울', '봄', '봄', '봄', '가을', '겨울', '겨울', '겨울', '봄', '봄', '여름', '가을', '가을', '겨울', '겨울', '겨울', '봄', '봄', '가을', '겨울', '봄', '여름', '가을', '가을', '겨울', '겨울', '가을', '겨울', '겨울', '가을', '봄', '봄', '가을', '가을', '겨울', '봄', '봄', '여름', '가을', '가을', '봄', '봄', '여름', '여름', '가을', '가을', '여름', '가을', '봄', '여름', '가을', '여름', '겨울', '봄', '봄', '여름', '가을', '겨울', '가을', '가을', '봄', '여름', '가을', '가을', '겨울', '겨울', '여름', '가을', '겨울', '겨울', '봄', '여름', '가을', '겨울', '여름', '여름', '가을', '겨울', '봄', '봄', '여름', '가을', '겨울', '겨울', '겨울', '여름', '겨울', '봄', '여름', '겨울', '여름', '여름', '겨울', '봄', '봄', '여름', '여름', '가을', '가을', '여름', '여름', '가을', '가을', '가을', '가을', '겨울', '겨울', '가을', '겨울', '겨울', '봄', '여름', '봄', '봄', '봄', '가을', '겨울', '가을', '여름', '여름', '가을', '가을', '겨울', '봄', '봄', '여름', '가을', '겨울', '봄', '가을', '겨울', '봄', '가을', '가을', '가을', '가을', '봄', '봄', '여름', '가을', '여름', '겨울', '여름', '겨울', '여름', '여름', '여름', '가을', '가을', '겨울', '봄', '여름', '겨울', '가을', '겨울', '가을', '가을', '겨울', '여름', '여름', '봄', '가을', '여름', '겨울', '겨울', '여름', '여름', '가을', '봄', '여름', '겨울', '여름', '가을', '여름', '여름', '봄', '여름', '가을', '여름', '가을', '겨울', '봄', '가을', '봄', '여름', '겨울', '봄', '여름', '봄', '봄', '여름', '봄', '봄', '여름', '가을', '봄', '봄', '여름', '여름', '겨울', '겨울', '겨울', '겨울', '가을', '겨울', '봄', '봄', '봄', '여름', '봄', '겨울', '겨울', '봄', '봄', '여름', '봄', '여름', '가을', '여름', '봄', '가을', '가을', '겨울', '봄', '봄', '여름', '가을', '겨울', '봄', '여름', '겨울', '가을', '겨울', '봄', '봄', '여름', '봄', '봄', '여름', '봄', '겨울', '겨울', '봄', '가을', '가을', '가을', '겨울', '봄', '가을', '겨울', '봄', '여름', '봄', '가을', '겨울', '겨울', '가을', '여름', '겨울', '겨울', '겨울', '봄', '여름', '봄', '봄', '여름', '겨울', '겨울', '여름', '겨울', '봄', '가을', '가을', '가을', '겨울', '겨울', '여름', '봄', '봄', '겨울', '겨울', '가을', '봄', '가을', '가을', '봄', '여름', '가을', '여름', '가을', '겨울', '여름', '가을', '겨울', '겨울', '봄', '봄', '가을', '가을', '겨울', '봄', '여름', '가을', '여름', '겨울', '가을', '가을', '겨울', '봄', '여름', '봄', '겨울', '겨울', '봄', '가을', '여름', '여름', '가을', '여름', '겨울', '가을', '겨울', '봄', '봄', '가을', '봄', '여름', '가을', '겨울', '봄', '여름', '겨울', '봄', '여름', '가을', '겨울', '겨울', '겨울', '가을', '가을', '겨울', '겨울', '여름', '여름', '여름', '겨울', '겨울', '여름', '가을', '가을', '봄', '봄', '봄', '여름', '가을', '겨울', '봄', '여름', '여름', '가을', '겨울', '가을', '겨울', '가을', '겨울', '여름', '여름', '가을', '겨울', '겨울', '가을', '겨울', '겨울', '겨울', '가을', '가을', '겨울', '여름', '여름', '가을', '겨울', '겨울', '가을', '겨울', '겨울', '봄', '가을', '가을', '가을', '봄', '봄', '봄', '봄', '겨울', '여름', '가을', '겨울', '봄', '가을', '봄', '봄', '여름', '겨울', '가을', '가을', '겨울', '가을', '겨울', '여름', '가을', '겨울', '겨울', '가을', '겨울', '가을', '가을', '봄', '봄', '가을', '여름', '가을', '봄', '여름', '여름', '겨울', '여름', '가을', '봄', '겨울', '겨울', '가을', '여름', '가을', '겨울', '봄', '여름', '여름', '여름', '여름', '겨울', '여름', '여름', '여름', '여름', '가을', '겨울', '가을', '가을', '여름', '가을', '봄', '가을', '가을', '겨울', '겨울', '봄', '여름', '가을', '여름', '가을', '봄', '겨울', '여름', '여름', '가을', '봄', '봄', '가을', '가을', '가을', '가을', '가을', '가을', '가을', '여름', '여름', '가을', '가을', '여름', '가을', '여름', '가을', '겨울', '여름', '겨울', '겨울', '봄', '봄', '봄', '가을', '겨울', '봄', '가을', '겨울', '겨울', '가을', '겨울', '여름', '여름', '가을', '가을', '겨울', '겨울', '봄', '봄', '가을', '봄', '가을', '가을', '봄', '가을', '가을', '봄', '여름', '가을', '봄', '가을', '겨울', '여름', '겨울', '겨울', '겨울', '봄', '봄', '여름', '가을', '봄', '가을', '겨울', '가을', '봄', '여름', '가을', '겨울', '가을', '봄', '봄', '가을', '여름', '가을', '여름', '겨울', '가을', '겨울', '여름', '여름', '가을', '가을', '겨울', '가을', '가을', '겨울', '겨울', '봄', '여름', '여름', '봄', '가을', '봄', '가을', '봄', '여름', '겨울', '가을', '가을', '가을', '가을', '가을', '봄', '봄', '여름', '가을', '겨울', '여름', '봄', '여름', '겨울', '봄', '봄', '봄', '가을', '겨울', '겨울', '여름', '여름', '가을', '가을', '겨울', '여름', '겨울', '봄', '봄', '가을', '겨울', '봄', '가을', '가을', '가을', '봄', '여름', '가을', '겨울', '봄', '여름', '여름', '봄', '여름', '가을', '겨울', '봄', '가을', '겨울', '겨울', '여름', '여름', '겨울', '여름', '겨울', '봄', '가을', '가을', '겨울', '봄', '봄', '가을', '가을', '봄', '가을', '봄', '봄', '가을', '겨울', '봄', '봄', '가을', '가을', '겨울', '겨울', '봄', '가을', '봄', '봄', '봄', '여름', '여름', '여름', '겨울', '겨울', '봄', '여름', '여름', '봄', '겨울', '가을', '가을', '여름', '여름', '여름', '봄', '봄', '여름', '여름', '가을', '여름', '여름', '여름', '가을', '겨울', '가을', '겨울', '가을', '가을', '가을', '가을', '겨울', '여름', '가을', '봄', '봄', '봄', '여름', '겨울', '여름', '여름', '가을', '가을', '겨울', '봄', '가을', '겨울', '겨울', '여름', '겨울', '가을', '여름', '봄', '겨울', '봄', '여름', '여름', '가을', '봄', '여름', '가을', '봄', '가을', '가을', '겨울', '봄', '여름', '여름', '겨울', '봄', '겨울', '봄', '가을', '봄', '봄', '겨울', '가을', '여름', '가을', '겨울', '가을', '겨울', '여름', '가을', '봄', '겨울', '봄', '가을', '겨울', '여름', '가을', '여름', '가을', '가을', '겨울', '봄', '여름', '여름', '여름', '겨울', '여름', '가을', '가을', '겨울', '겨울', '겨울', '봄', '여름', '여름', '봄', '겨울', '봄', '여름', '여름', '겨울', '겨울', '여름', '겨울', '가을', '봄', '여름', '겨울', '봄', '가을', '가을', '겨울', '봄', '겨울', '봄', '여름', '봄', '여름', '가을', '봄', '가을', '봄', '여름', '겨울', '가을', '가을', '겨울', '여름', '가을', '여름', '겨울', '가을', '가을', '여름', '겨울', '여름', '가을', '봄', '가을', '봄', '여름', '겨울', '봄', '봄', '봄', '여름', '봄', '겨울', '겨울', '여름', '겨울', '봄', '봄', '여름', '여름', '가을', '가을', '가을', '봄', '봄', '봄', '여름', '여름', '여름', '여름', '여름', '가을', '가을', '겨울', '봄', '봄', '봄', '가을', '겨울', '봄', '봄', '봄', '여름', '겨울', '봄', '봄', '봄', '여름', '가을', '가을', '봄', '봄', '여름', '가을', '가을', '가을', '겨울', '봄', '여름', '가을', '겨울', '봄', '봄', '봄', '여름', '가을', '겨울', '여름', '여름', '가을', '겨울', '겨울', '봄', '봄', '여름', '여름', '겨울', '봄', '가을', '가을', '봄', '가을', '겨울', '봄', '가을', '겨울', '봄', '가을', '여름', '겨울', '봄', '가을', '겨울', '봄', '봄', '여름', '여름', '가을', '겨울', '봄', '여름', '봄', '봄', '봄', '봄', '봄', '여름', '여름', '여름', '가을', '가을', '여름', '여름', '여름', '가을', '겨울', '겨울', '겨울', '겨울', '여름', '여름', '가을', '봄', '봄', '봄', '여름', '봄', '봄', '겨울', '봄', '봄', '여름', '가을', '겨울', '겨울', '봄', '봄', '여름', '가을', '겨울', '여름', '가을', '가을', '가을', '봄', '봄', '여름', '여름', '여름', '여름', '여름', '여름', '가을', '가을', '여름', '가을', '겨울', '겨울', '겨울', '봄', '봄', '봄', '가을', '가을', '겨울', '겨울', '겨울', '겨울', '봄', '봄', '가을', '겨울', '봄', '겨울', '겨울', '봄', '봄', '가을', '가을', '가을', '겨울', '겨울', '봄', '봄', '여름', '가을', '가을', '겨울', '겨울', '겨울', '여름', '여름', '가을', '봄', '여름', '가을', '가을', '겨울', '겨울', '겨울', '여름', '가을', '가을', '겨울', '여름', '여름', '가을', '가을', '가을', '가을', '겨울', '여름', '여름', '가을', '가을', '가을', '겨울', '봄', '겨울', '봄', '여름', '가을', '봄', '가을', '가을', '가을', '겨울', '겨울', '겨울', '봄', '가을', '겨울', '겨울', '겨울', '겨울', '여름', '가을', '봄', '봄', '겨울', '겨울', '겨울', '겨울', '봄', '봄', '겨울', '가을', '여름', '가을', '가을', '가을', '겨울', '겨울', '여름', '봄', '봄', '여름', '가을', '가을', '여름', '여름', '여름', '가을', '겨울', '가을', '가을', '봄', '봄', '봄', '가을', '여름', '여름', '봄', '봄', '여름', '가을', '봄', '가을', '여름', '여름', '겨울', '가을', '봄', '봄', '여름', '가을', '가을', '봄', '가을', '겨울', '여름', '봄', '가을', '여름', '여름', '여름', '봄', '여름', '가을', '여름', '봄', '겨울', '여름', '여름', '겨울', '겨울', '겨울', '봄', '봄', '봄', '봄', '여름', '여름', '여름', '가을', '가을', '가을', '겨울', '겨울', '봄', '봄', '봄', '봄', '봄', '여름', '가을', '가을', '가을', '가을', '가을', '겨울', '겨울', '봄', '여름', '여름', '가을', '가을', '가을', '겨울', '봄', '봄', '여름', '여름', '여름', '여름', '여름', '가을', '봄', '봄', '봄', '여름', '여름', '여름', '여름', '가을', '겨울', '봄', '가을', '가을', '겨울', '겨울', '봄', '가을', '겨울', '봄', '여름', '여름', '가을', '겨울', '겨울', '겨울', '겨울', '겨울', '봄', '봄', '여름', '여름', '겨울', '겨울', '봄', '가을', '겨울', '봄', '가을', '겨울', '봄', '여름', '가을', '가을', '겨울', '겨울', '봄', '봄', '여름', '가을', '가을', '가을', '가을', '겨울', '겨울', '봄', '봄', '봄', '봄', '여름', '봄', '여름', '가을', '봄', '봄', '봄', '봄', '여름', '겨울', '여름', '가을', '가을', '겨울', '겨울', '겨울', '가을', '봄', '여름', '여름', '겨울', '여름', '가을', '가을', '겨울', '여름', '가을', '가을', '겨울', '겨울', '봄', '가을', '가을', '겨울', '겨울', '여름', '가을', '겨울', '봄', '봄', '여름', '가을', '가을', '겨울', '겨울', '봄', '여름', '여름', '가을', '겨울', '겨울', '봄', '가을', '가을', '봄', '봄', '겨울', '여름', '여름', '여름', '겨울', '봄', '여름', '겨울', '봄', '가을', '여름', '가을', '봄', '봄', '봄', '여름', '겨울', '겨울', '여름', '여름', '가을', '겨울', '겨울', '봄', '봄', '가을', '가을', '여름', '가을', '겨울', '봄', '여름', '가을', '봄', '가을', '봄', '봄', '여름', '가을', '봄', '가을', '겨울', '여름', '가을', '여름', '여름', '여름', '여름', '여름', '가을', '겨울', '봄', '봄', '여름', '겨울', '겨울', '겨울', '여름', '여름', '가을', '가을', '겨울', '가을', '겨울', '겨울', '겨울', '봄', '여름', '여름', '가을', '봄', '겨울', '겨울', '겨울', '봄', '봄', '봄', '봄', '봄', '여름', '여름', '여름', '여름', '가을', '가을', '겨울', '봄', '봄', '봄', '봄', '봄', '가을', '봄', '봄', '봄', '여름', '여름', '가을', '가을', '겨울', '겨울', '봄', '가을', '가을', '가을', '겨울', '겨울', '겨울', '겨울', '겨울', '겨울', '봄', '봄', '가을', '가을', '봄', '가을', '겨울', '겨울', '여름', '여름', '여름', '여름', '겨울', '여름', '여름', '여름', '가을', '겨울', '봄', '봄', '여름', '가을', '겨울', '겨울', '여름', '여름', '가을', '봄', '여름', '가을', '가을', '겨울', '봄', '봄', '여름', '겨울', '겨울', '여름', '가을', '겨울', '봄', '가을', '가을', '봄', '여름', '여름', '여름', '가을', '가을', '가을', '겨울', '가을', '가을', '겨울', '봄', '가을', '겨울', '봄', '여름', '여름', '여름', '겨울', '여름', '봄', '여름', '가을', '겨울', '봄', '봄', '봄', '가을', '가을', '가을', '봄', '봄', '가을', '가을', '겨울', '여름', '여름', '겨울', '겨울', '겨울', '겨울', '겨울', '봄', '봄', '여름', '여름', '여름', '여름', '가을', '가을', '겨울', '봄', '봄', '봄', '봄', '봄', '여름', '여름', '여름', '여름', '가을', '가을', '가을', '가을', '겨울', '겨울', '겨울', '봄', '여름', '여름', '여름', '가을', '가을', '가을', '가을', '가을', '겨울', '여름', '여름', '가을', '봄', '여름', '여름', '겨울', '봄', '가을', '겨울', '겨울', '봄', '가을', '가을', '가을', '겨울', '겨울', '가을', '가을', '가을', '가을', '가을', '겨울', '겨울', '여름', '여름', '겨울', '겨울', '여름', '겨울', '겨울', '겨울', '봄', '여름', '봄', '가을', '봄', '겨울', '봄', '여름', '가을', '겨울', '가을', '겨울', '봄', '여름', '가을', '가을', '가을', '겨울', '여름', '봄', '겨울', '겨울', '여름', '여름', '가을', '가을', '봄', '봄', '여름', '여름', '여름', '가을', '봄', '여름', '여름', '여름', '가을', '봄', '여름', '여름', '여름', '가을', '가을', '가을', '겨울', '봄', '겨울', '겨울', '겨울', '겨울', '봄', '봄', '여름', '봄', '여름', '가을', '겨울', '봄', '여름', '가을', '가을', '겨울', '겨울', '봄', '겨울', '봄', '봄', '봄', '여름', '여름', '여름', '가을', '겨울', '겨울', '봄', '봄', '봄', '여름', '여름', '여름', '여름', '봄', '봄', '겨울', '가을', '봄', '겨울', '가을', '여름', '여름', '가을', '가을', '겨울', '봄', '여름', '여름', '가을', '봄', '봄', '봄', '봄', '가을', '가을', '겨울', '봄', '가을', '봄', '가을', '가을', '가을', '가을', '겨울', '봄', '봄', '여름', '여름', '봄', '여름', '가을', '겨울', '봄', '봄', '가을', '겨울', '겨울', '봄', '봄', '여름', '봄', '봄', '여름', '여름', '여름', '가을', '가을', '봄', '봄', '여름', '가을', '겨울', '겨울', '봄', '여름', '가을', '가을', '겨울', '여름', '여름', '가을', '겨울', '겨울', '봄', '여름', '가을', '가을', '겨울', '겨울', '겨울', '봄', '여름', '겨울', '봄', '여름', '여름', '가을', '가을', '겨울', '가을', '겨울', '가을', '가을', '겨울', '여름', '가을', '겨울', '봄', '봄', '봄', '여름', '여름', '가을', '겨울', '봄', '가을', '겨울', '겨울', '여름', '여름', '가을', '가을', '여름', '겨울', '봄', '봄', '여름', '봄', '여름', '봄', '봄', '여름', '여름', '겨울', '겨울', '여름', '가을', '겨울', '겨울', '가을', '가을', '가을', '겨울', '가을', '봄', '가을', '가을', '여름', '겨울', '겨울', '봄', '봄', '봄', '봄', '겨울', '봄', '봄', '봄', '여름', '봄', '봄', '여름', '가을', '가을', '겨울', '겨울', '여름', '여름', '가을', '가을', '겨울', '봄', '가을', '여름', '겨울', '가을', '겨울', '여름', '겨울', '가을', '가을', '가을', '봄', '가을', '겨울', '겨울', '겨울', '겨울', '봄', '가을', '가을', '가을', '겨울', '겨울', '겨울', '봄', '봄', '여름', '가을', '가을', '겨울', '봄', '가을', '가을', '가을', '봄', '봄', '봄', '봄', '여름', '가을', '봄', '여름', '여름', '가을', '가을', '가을', '겨울', '여름', '여름', '가을', '봄', '봄', '봄', '여름', '봄', '봄', '여름', '가을', '여름', '겨울', '겨울', '겨울', '봄', '여름', '여름', '여름', '가을', '가을', '겨울', '겨울', '겨울', '겨울', '가을', '겨울', '봄', '가을', '겨울', '봄', '겨울', '겨울', '봄', '가을', '겨울', '봄', '봄', '봄', '여름', '가을', '겨울', '봄', '가을', '여름', '가을', '겨울', '겨울', '여름', '여름', '여름', '가을', '여름', '여름', '겨울', '봄', '봄', '봄', '여름', '가을', '가을', '봄', '여름', '여름', '여름', '가을', '겨울', '겨울', '봄', '봄', '여름', '여름', '여름', '여름', '가을', '가을', '가을', '겨울', '겨울', '겨울', '겨울', '봄', '봄', '가을', '가을', '겨울', '겨울', '겨울', '겨울', '겨울', '봄', '봄', '여름', '여름', '여름', '여름', '가을', '겨울', '겨울', '겨울', '여름', '여름', '여름', '가을', '겨울', '봄', '가을', '가을', '가을', '겨울', '봄', '가을', '여름', '가을', '겨울', '여름', '봄', '봄', '여름', '가을', '가을', '겨울', '겨울', '봄', '여름', '가을', '겨울', '봄', '여름', '여름', '여름', '여름', '가을', '가을', '가을', '가을', '봄', '겨울', '봄', '가을', '봄', '봄', '가을', '가을', '여름', '여름', '여름', '여름', '봄', '봄', '겨울', '겨울', '여름', '봄', '겨울', '여름', '여름', '봄', '봄', '봄', '봄', '봄', '봄', '가을', '가을', '여름', '여름', '여름', '여름', '겨울', '겨울', '여름', '여름', '봄', '봄', '여름', '여름', '봄', '봄', '겨울', '여름', '여름', '여름', '봄', '가을', '봄', '여름', '여름', '여름', '가을', '가을', '겨울', '여름', '봄', '가을', '가을', '여름', '겨울', '봄', '봄', '봄', '봄', '봄', '겨울', '겨울', '봄', '여름', '가을', '가을', '여름', '가을', '겨울', '여름', '겨울', '여름', '가을', '봄', '겨울', '겨울', '봄', '봄', '가을', '가을', '가을', '가을', '겨울', '겨울', '여름', '여름', '봄', '봄', '가을', '가을', '겨울', '겨울', '가을', '봄', '가을', '봄', '가을', '가을', '봄', '겨울', '겨울', '봄', '겨울', '봄', '겨울', '봄', '봄', '가을', '봄', '봄', '봄', '여름', '여름', '여름', '겨울', '겨울', '겨울', '봄', '봄', '봄', '봄', '봄', '봄', '가을', '가을', '가을', '봄', '봄', '봄', '봄', '봄', '봄', '가을', '가을', '가을', '겨울', '겨울', '겨울', '여름', '여름', '여름', '봄', '봄', '겨울', '겨울', '봄', '봄', '가을', '가을', '겨울', '겨울', '여름', '여름', '여름', '여름', '봄', '여름', '가을', '가을', '겨울', '가을', '가을', '여름', '여름', '가을', '가을', '봄', '여름', '여름', '가을', '가을', '봄', '봄', '겨울', '겨울', '겨울', '겨울', '여름', '여름', '가을', '가을', '가을', '가을', '겨울', '겨울', '겨울', '겨울', '겨울', '겨울', '봄', '봄', '여름', '여름', '여름', '여름', '여름', '여름', '봄', '봄', '봄', '봄', '가을', '가을', '가을', '가을', '봄', '여름', '여름', '여름', '가을', '가을', '겨울', '겨울', '여름', '가을', '겨울', '봄', '봄', '봄', '봄', '여름', '가을', '겨울', '봄', '봄', '가을', '봄', '여름', '여름', '여름', '여름', '여름', '겨울', '봄', '여름', '겨울', '여름', '겨울', '가을', '봄', '봄', '봄', '봄', '봄', '봄', '가을', '가을', '가을', '겨울', '겨울', '겨울', '봄', '봄', '봄', '봄', '봄', '봄', '가을', '가을', '가을', '여름', '가을', '겨울', '겨울', '가을', '봄', '봄', '가을', '겨울', '겨울', '가을', '가을', '겨울', '겨울', '여름', '여름', '가을', '가을', '겨울', '겨울', '봄', '봄', '봄', '봄', '가을', '가을', '겨울', '겨울', '가을', '겨울', '겨울', '봄', '봄', '가을', '가을', '가을', '가을', '봄', '봄', '가을', '봄', '봄', '여름', '가을', '봄', '가을', '여름', '가을', '겨울', '여름', '겨울', '봄', '겨울', '여름', '가을', '가을', '겨울', '겨울', '겨울', '여름', '가을', '겨울', '겨울', '겨울', '봄', '봄', '여름', '여름', '겨울', '겨울', '봄', '봄', '봄', '봄', '봄', '봄', '가을', '가을', '가을', '가을', '여름', '여름', '가을', '가을', '봄', '가을', '겨울', '가을', '봄', '여름', '겨울', '겨울', '봄', '봄', '여름', '가을', '봄', '봄', '가을', '가을', '겨울', '겨울', '여름', '여름', '가을', '가을', '가을', '가을', '봄', '여름', '여름', '가을', '여름', '여름', '가을', '봄', '겨울', '여름', '여름', '여름', '가을', '겨울', '겨울', '겨울', '겨울', '겨울', '봄', '봄', '가을', '가을', '겨울', '겨울', '가을', '봄', '여름', '가을', '겨울', '봄', '봄', '여름', '가을', '가을', '여름', '여름', '여름', '여름', '가을', '가을', '겨울', '겨울', '겨울', '겨울', '봄', '봄', '봄', '봄', '여름', '여름', '봄', '봄', '봄', '가을', '가을', '가을', '가을', '가을', '가을', '겨울', '겨울', '겨울', '겨울', '겨울', '겨울', '봄', '봄', '봄', '겨울', '겨울', '겨울', '겨울', '겨울', '겨울', '봄', '봄', '봄', '봄', '봄', '봄', '여름', '여름', '여름', '여름', '여름', '여름', '가을', '가을', '여름', '여름', '봄', '여름', '가을', '겨울', '겨울', '봄', '가을', '가을', '겨울', '봄', '봄', '여름', '겨울', '봄', '여름', '가을', '가을', '봄', '봄', '가을', '봄', '봄', '봄', '가을', '가을', '겨울', '여름', '여름', '겨울', '봄', '가을', '가을', '여름', '여름', '겨울', '가을', '봄', '겨울', '가을', '봄', '가을', '겨울', '겨울', '봄', '여름', '여름', '여름', '여름', '여름', '가을', '가을', '가을', '봄', '봄', '봄', '여름', '여름', '여름', '겨울', '겨울', '겨울', '봄', '가을', '가을', '겨울', '여름', '겨울', '여름', '가을', '봄', '가을', '여름', '여름', '가을', '봄', '봄', '봄', '봄', '여름', '여름', '여름', '여름', '겨울', '겨울', '여름', '여름', '가을', '가을', '겨울', '겨울', '봄', '봄', '여름', '여름', '여름', '여름', '가을', '가을', '겨울', '겨울', '봄', '봄', '여름', '여름', '가을', '가을', '가을', '가을', '겨울', '겨울', '겨울', '가을', '겨울', '봄', '여름', '가을', '겨울', '여름', '여름', '가을', '여름', '여름', '가을', '겨울', '봄', '여름', '봄', '봄', '가을', '봄', '여름', '여름', '봄', '여름', '봄', '가을', '가을', '가을', '가을', '여름', '겨울', '봄', '가을', '가을', '봄', '봄', '가을', '가을', '여름', '봄', '여름', '가을', '가을', '겨울', '겨울', '봄', '여름', '가을', '겨울', '봄', '가을', '가을', '겨울', '겨울', '겨울', '겨울', '겨울', '봄', '봄', '봄', '봄', '봄', '여름', '여름', '여름', '여름', '여름', '가을', '가을', '가을', '가을', '가을', '가을', '가을', '가을', '가을', '가을', '가을', '가을', '가을', '가을', '가을', '여름', '여름', '여름', '여름', '여름', '겨울', '겨울', '겨울', '겨울', '겨울', '겨울', '겨울', '겨울', '겨울', '겨울', '겨울', '봄', '여름', '봄', '봄', '여름', '가을', '겨울', '겨울', '봄', '봄', '가을', '가을', '봄', '봄', '겨울', '겨울', '겨울', '겨울', '겨울', '겨울', '겨울', '겨울', '봄', '봄', '봄', '봄', '봄', '봄', '여름', '여름', '여름', '여름', '여름', '여름', '가을', '가을', '겨울', '겨울', '겨울', '겨울', '겨울', '겨울', '봄', '봄', '봄', '봄', '봄', '봄', '여름', '여름', '여름', '여름', '가을', '가을', '겨울', '겨울', '여름', '여름', '가을', '가을', '겨울', '겨울', '봄', '여름', '여름', '가을', '겨울', '겨울', '봄', '여름', '여름', '가을', '겨울', '봄', '겨울', '겨울', '겨울', '봄', '가을', '겨울', '봄', '봄', '봄', '봄', '봄', '봄', '봄', '여름', '여름', '여름', '가을', '가을', '가을', '가을', '봄', '봄', '여름', '여름', '여름', '여름', '봄', '봄', '여름', '여름', '가을', '가을', '겨울', '겨울', '겨울', '겨울', '겨울', '겨울', '봄', '봄', '봄', '봄', '봄', '봄', '봄', '가을', '겨울', '가을', '겨울', '겨울', '봄', '봄', '봄', '여름', '겨울', '겨울', '봄', '봄', '봄', '가을', '가을', '가을', '여름', '가을', '겨울', '겨울', '봄', '가을', '가을', '가을', '가을', '겨울', '가을', '가을', '가을', '가을', '겨울', '겨울', '봄', '봄', '가을', '가을', '겨울', '겨울', '봄', '봄', '여름', '여름', '겨울', '여름', '여름', '가을', '겨울', '겨울', '겨울', '겨울', '봄', '봄', '여름', '여름', '여름', '여름', '여름', '여름', '가을', '가을', '가을', '가을', '겨울', '겨울', '겨울', '겨울', '봄', '봄', '봄', '봄', '봄', '봄', '봄', '봄', '봄', '봄', '봄', '봄', '여름', '여름', '여름', '여름', '가을', '가을', '가을', '가을', '가을', '가을', '겨울', '겨울', '봄', '봄', '여름', '여름', '여름', '여름', '여름', '여름', '가을', '가을', '겨울', '겨울', '봄', '봄', '봄', '봄', '봄', '봄', '봄', '봄', '봄', '가을', '가을', '가을', '가을', '가을', '가을', '겨울', '겨울', '겨울', '봄', '봄', '봄', '봄', '봄', '봄', '여름', '여름', '여름', '겨울', '겨울', '겨울', '봄', '봄', '봄', '여름', '여름', '여름', '겨울', '겨울', '겨울', '여름', '여름', '여름', '가을', '가을', '가을', '봄', '봄', '봄', '봄', '여름', '여름', '겨울', '겨울', '겨울', '겨울', '여름', '여름', '여름', '겨울', '봄', '봄', '여름', '여름', '가을', '가을', '가을', '가을', '가을', '봄', '여름', '가을', '겨울', '겨울', '봄', '여름', '가을', '가을', '겨울', '겨울', '겨울', '겨울', '겨울', '겨울', '가을', '가을', '가을', '가을', '가을', '가을', '봄', '봄', '봄', '가을', '가을', '가을', '가을', '가을', '가을', '겨울', '봄', '봄', '가을', '겨울', '겨울', '겨울', '봄', '봄', '겨울', '겨울', '봄', '여름', '가을', '가을', '가을', '여름', '여름', '가을', '겨울', '겨울', '여름', '여름', '겨울', '겨울', '여름', '여름', '여름', '여름', '여름', '여름', '가을', '가을', '겨울', '겨울', '겨울', '겨울', '봄', '봄', '여름', '여름', '겨울', '겨울', '겨울', '겨울', '겨울', '겨울', '겨울', '겨울', '봄', '봄', '여름', '여름', '가을', '가을', '겨울', '겨울', '가을', '가을', '가을', '가을', '가을', '가을', '가을', '가을', '가을', '가을', '겨울', '겨울', '겨울', '겨울', '여름', '여름', '봄', '봄', '여름', '겨울', '봄', '여름', '겨울', '여름', '겨울', '봄', '가을', '겨울', '겨울', '겨울', '겨울', '봄', '봄', '봄', '봄', '여름', '여름', '여름', '여름', '여름', '여름', '여름', '여름', '가을', '가을', '가을', '가을', '봄', '봄', '봄', '봄', '여름', '여름', '겨울', '겨울', '가을', '겨울', '가을', '겨울', '가을', '겨울', '겨울', '겨울', '겨울', '겨울', '봄', '봄', '여름', '가을', '여름', '가을', '겨울', '봄', '여름', '가을', '겨울', '겨울', '여름', '겨울', '겨울', '겨울', '봄', '봄', '봄', '봄', '봄', '봄', '가을', '가을', '가을', '봄', '봄', '봄', '가을', '가을', '가을', '겨울', '겨울', '겨울', '겨울', '겨울', '겨울', '봄', '봄', '봄', '여름', '여름', '여름', '가을', '가을', '가을', '가을', '가을', '가을', '여름', '봄', '봄', '가을', '겨울', '가을', '겨울', '봄', '여름', '가을', '겨울', '봄', '여름', '여름', '여름', '가을', '가을', '가을', '여름', '가을', '봄', '봄', '여름', '가을', '가을', '겨울', '봄', '봄', '봄', '여름', '여름', '겨울', '겨울', '봄', '봄', '여름', '겨울', '봄', '여름', '여름', '겨울', '겨울', '여름', '여름', '여름', '여름', '여름', '여름', '가을', '가을', '가을', '가을', '겨울', '겨울', '봄', '봄', '봄', '봄', '여름', '여름', '가을', '가을', '겨울', '겨울', '봄', '봄', '여름', '여름', '가을', '가을', '가을', '가을', '겨울', '겨울', '겨울', '겨울', '봄', '봄', '봄', '봄', '가을', '가을', '가을', '가을', '겨울', '겨울', '겨울', '겨울', '겨울', '겨울', '여름', '여름', '가을', '가을', '겨울', '겨울', '봄', '봄', '봄', '봄', '여름', '여름', '여름', '여름', '겨울', '겨울', '봄', '봄', '봄', '봄', '여름', '여름', '여름', '여름', '가을', '가을', '겨울', '겨울', '봄', '봄', '봄', '봄', '봄', '봄', '가을', '가을', '가을', '가을', '겨울', '겨울', '겨울', '겨울', '봄', '봄', '겨울', '겨울', '겨울', '겨울', '봄', '봄', '봄', '봄', '봄', '봄', '가을', '가을', '가을', '가을', '여름', '여름', '가을', '가을', '가을', '가을', '가을', '가을', '가을', '겨울', '가을', '가을', '가을', '봄', '여름', '여름', '여름', '여름', '여름', '여름', '가을', '가을', '여름', '여름', '겨울', '겨울', '겨울', '봄', '가을', '겨울', '봄', '가을', '가을', '가을', '가을', '겨울', '겨울', '겨울', '겨울', '봄', '봄', '봄', '봄', '여름', '여름', '여름', '여름', '가을', '가을', '가을', '가을', '가을', '가을', '가을', '가을', '봄', '봄', '봄', '봄', '여름', '여름', '여름', '여름', '가을', '가을', '가을', '가을', '겨울', '겨울', '겨울', '겨울', '여름', '여름', '여름', '여름', '겨울', '봄', '여름', '가을', '봄', '봄', '여름', '가을', '겨울', '겨울', '봄', '봄', '가을', '가을', '가을', '가을', '겨울', '겨울', '겨울', '겨울', '겨울', '겨울', '여름', '여름', '여름', '여름', '가을', '가을', '봄', '봄', '봄', '봄', '가을', '가을', '겨울', '봄', '여름', '가을', '가을', '겨울', '봄', '겨울', '가을', '겨울', '봄', '여름', '여름', '겨울', '봄', '여름', '여름', '여름', '가을', '겨울', '겨울', '여름', '여름', '겨울', '가을', '봄', '여름', '여름', '봄', '여름', '여름', '겨울', '겨울', '봄', '봄', '여름', '여름', '여름', '여름', '여름', '여름', '가을', '가을', '가을', '가을', '봄', '봄', '봄', '봄', '여름', '여름', '가을', '가을', '겨울', '겨울', '가을', '가을', '봄', '봄', '봄', '여름', '여름', '봄', '봄', '겨울', '가을', '가을', '겨울', '겨울', '봄', '여름', '여름', '여름', '가을', '겨울', '봄', '겨울', '겨울', '여름', '여름', '여름', '여름', '겨울', '겨울', '겨울', '봄', '여름', '여름', '가을', '가을', '여름', '여름', '여름', '여름', '가을', '가을', '겨울', '봄', '가을', '가을', '가을', '봄', '여름', '여름', '여름', '여름', '여름', '가을', '겨울', '여름', '겨울', '봄', '여름', '여름', '겨울', '봄', '여름', '봄', '여름', '여름', '가을', '가을', '가을', '겨울', '봄', '봄', '봄', '가을', '가을', '겨울', '겨울', '봄', '봄', '여름', '여름', '봄', '가을', '겨울', '여름', '가을', '겨울', '가을', '봄', '여름', '가을', '여름', '봄', '여름', '봄', '봄', '봄', '봄', '봄', '봄', '여름', '여름', '여름', '여름', '여름', '가을', '가을', '가을', '가을', '가을', '겨울', '봄', '봄', '가을', '봄', '봄', '여름', '가을', '겨울', '겨울', '겨울', '여름', '여름', '가을', '가을', '봄', '가을', '봄', '여름', '여름', '여름', '겨울', '봄', '가을', '가을', '가을', '겨울', '겨울', '겨울', '봄', '봄', '여름', '여름', '가을', '겨울', '겨울', '여름', '가을', '겨울', '겨울', '봄', '봄', '여름', '겨울', '여름', '가을', '가을', '봄', '겨울', '봄', '여름', '가을', '겨울', '겨울', '겨울', '겨울', '봄', '봄', '봄', '봄', '여름', '여름', '가을', '가을', '가을', '겨울', '봄', '봄', '봄', '봄', '여름', '가을', '봄', '봄', '봄', '봄', '봄', '봄', '겨울', '봄', '여름', '여름', '겨울', '가을', '겨울', '봄', '겨울', '봄', '여름', '봄', '봄', '여름', '여름', '봄', '겨울', '봄', '가을', '가을', '겨울', '겨울', '겨울', '봄', '봄', '여름', '겨울', '봄', '여름', '여름', '여름', '겨울', '봄', '여름', '여름', '여름', '가을', '가을', '봄', '봄', '여름', '여름', '겨울', '겨울', '겨울', '겨울', '겨울', '겨울', '겨울', '겨울', '봄', '봄', '여름', '여름', '봄', '봄', '봄', '봄', '봄', '봄', '여름', '여름', '겨울', '겨울', '겨울', '겨울', '겨울', '겨울', '여름', '여름', '여름', '봄', '겨울', '봄', '겨울', '겨울', '봄', '봄', '봄', '봄', '봄', '봄', '가을', '가을', '겨울', '여름', '겨울', '가을', '봄', '여름', '가을', '가을', '가을', '봄', '여름', '가을', '겨울', '봄', '봄', '봄', '가을', '여름', '여름', '여름', '여름', '봄', '봄', '가을', '가을', '여름', '겨울', '봄', '겨울', '여름', '가을', '가을', '가을', '여름', '여름', '가을', '가을', '여름', '가을', '겨울', '봄', '봄', '여름', '가을', '겨울', '봄', '봄', '봄', '가을', '가을', '겨울', '봄', '봄', '겨울', '여름', '여름', '여름', '여름', '가을', '가을', '가을', '가을', '겨울', '겨울', '겨울', '겨울', '겨울', '겨울', '봄', '봄', '여름', '여름', '겨울', '겨울', '여름', '여름', '가을', '가을', '가을', '겨울', '겨울', '겨울', '겨울', '봄', '봄', '겨울', '봄', '봄', '봄', '여름', '봄', '봄', '봄', '여름', '겨울', '여름', '여름', '가을', '봄', '겨울', '봄', '여름', '겨울', '봄', '여름', '봄', '여름', '겨울', '겨울', '겨울', '가을', '가을', '겨울', '겨울', '겨울', '겨울', '봄', '여름', '봄', '겨울', '겨울', '여름', '겨울', '봄', '봄', '겨울', '겨울', '여름', '여름', '봄', '봄', '여름', '여름', '가을', '여름', '겨울', '겨울', '봄', '봄', '겨울', '겨울', '겨울', '여름', '가을', '겨울', '가을', '가을', '가을', '겨울', '겨울', '겨울', '봄', '봄', '봄', '여름', '가을', '가을', '봄', '봄', '여름', '여름', '가을', '가을', '가을', '가을', '봄', '봄', '가을', '가을', '봄', '여름', '봄', '가을', '가을', '봄', '봄', '봄', '여름', '가을', '봄', '가을', '겨울', '겨울', '겨울', '겨울', '겨울', '가을', '가을', '가을', '가을', '가을', '가을', '봄', '봄', '봄', '여름', '여름', '여름', '겨울', '겨울', '겨울', '여름', '여름', '여름', '겨울', '겨울', '겨울', '봄', '봄', '봄', '봄', '봄', '봄', '가을', '가을', '가을', '가을', '가을', '가을', '봄', '여름', '겨울', '겨울', '겨울', '봄', '봄', '여름', '봄', '봄', '봄', '봄', '가을', '가을', '여름', '봄', '여름', '여름', '여름', '가을', '겨울', '여름', '가을', '겨울', '겨울', '봄', '봄', '봄', '가을', '가을', '겨울', '겨울', '봄', '겨울', '가을', '가을', '겨울', '겨울', '봄', '여름', '가을', '봄', '가을', '봄', '여름', '여름', '가을', '겨울', '가을', '가을', '가을', '가을', '가을', '가을', '겨울', '여름', '여름', '가을', '봄', '가을', '가을', '겨울', '여름', '여름', '겨울', '봄', '봄', '여름', '여름', '가을', '겨울', '겨울', '여름', '봄', '여름', '겨울', '봄', '봄', '여름', '여름', '겨울', '겨울', '봄', '봄', '가을', '가을', '여름', '가을', '여름', '가을', '겨울', '봄', '여름', '여름', '여름', '가을', '겨울', '겨울', '여름', '겨울', '봄', '봄', '겨울', '봄', '겨울', '겨울', '봄', '여름', '여름', '겨울', '여름', '겨울', '가을', '가을', '겨울', '겨울', '겨울', '겨울', '여름', '여름', '가을', '가을', '가을', '가을', '겨울', '겨울', '여름', '봄', '봄', '겨울', '가을', '봄', '봄', '봄', '봄', '봄', '봄', '가을', '가을', '봄', '봄', '겨울', '겨울', '봄', '봄', '가을', '가을', '여름', '여름', '여름', '여름', '여름', '여름', '겨울', '겨울', '봄', '봄', '봄', '봄', '가을', '가을', '여름', '여름', '여름', '여름', '봄', '봄', '여름', '여름', '가을', '가을', '가을', '가을', '봄', '봄', '가을', '겨울', '겨울', '봄', '봄', '봄', '여름', '가을', '겨울', '봄', '여름', '가을', '가을', '봄', '봄', '봄', '봄', '봄', '봄', '겨울', '봄', '봄', '겨울', '겨울', '여름', '겨울', '겨울', '봄', '가을', '겨울', '겨울', '봄', '봄', '봄', '봄', '봄', '봄', '여름', '여름', '가을', '가을', '가을', '가을', '겨울', '겨울', '봄', '봄', '봄', '봄', '가을', '가을', '가을', '가을', '가을', '가을', '가을', '가을', '겨울', '겨울', '가을', '가을', '겨울', '가을', '여름', '겨울', '겨울', '봄', '봄', '봄', '봄', '가을', '가을', '겨울', '겨울', '겨울', '겨울', '겨울', '겨울', '겨울', '겨울', '봄', '봄', '봄', '겨울', '겨울', '봄', '겨울', '봄', '가을', '봄', '여름', '가을', '겨울', '가을', '겨울', '겨울', '봄', '봄', '여름', '여름', '가을', '가을', '겨울', '겨울', '봄', '봄', '봄', '봄', '여름', '여름', '여름', '여름', '겨울', '겨울', '봄', '봄', '봄', '봄', '여름', '여름', '가을', '가을', '여름', '여름', '여름', '가을', '겨울', '여름', '여름', '겨울', '겨울', '여름', '여름', '여름', '겨울', '겨울', '가을', '가을', '봄', '봄', '봄', '봄', '봄', '봄', '가을', '가을', '가을', '가을', '겨울', '겨울', '겨울', '겨울', '봄', '봄', '가을', '가을', '가을', '가을', '봄', '봄', '봄', '가을', '가을', '겨울', '봄', '봄', '겨울', '겨울', '겨울', '봄', '가을', '가을', '봄', '봄', '봄', '여름', '가을', '봄', '여름', '가을', '봄', '봄', '여름', '겨울', '겨울', '여름', '여름', '여름', '여름', '가을', '가을', '가을', '가을', '가을', '가을', '가을', '가을', '가을', '가을', '가을', '가을', '봄', '봄', '가을', '가을', '가을', '가을', '겨울', '겨울', '가을', '겨울', '겨울', '가을', '겨울', '여름', '여름', '여름', '봄', '가을', '봄', '여름', '여름', '겨울', '겨울', '겨울', '봄', '봄', '여름', '봄', '봄', '가을', '겨울', '봄', '가을', '봄', '봄', '여름', '여름', '가을', '가을', '가을', '가을', '가을', '가을', '가을', '가을', '겨울', '겨울', '겨울', '봄', '가을', '겨울', '봄', '봄', '봄', '여름', '가을', '가을', '겨울', '봄', '봄', '가을', '겨울', '겨울', '겨울', '봄', '겨울', '봄', '봄', '봄', '여름', '여름', '여름', '여름', '여름', '여름', '가을', '가을', '가을', '봄', '봄', '여름', '가을', '겨울', '겨울', '겨울', '겨울', '겨울', '겨울', '겨울', '겨울', '겨울', '겨울', '봄', '봄', '봄', '봄', '봄', '여름', '여름', '여름', '여름', '여름', '여름', '여름', '여름', '여름', '여름', '가을', '가을', '가을', '가을', '가을', '겨울', '겨울', '겨울', '겨울', '겨울', '겨울', '봄', '여름', '가을', '가을', '가을', '겨울', '봄', '여름', '여름', '가을', '가을', '여름', '여름', '가을', '겨울', '겨울', '겨울', '봄', '여름', '여름', '봄', '봄', '여름', '가을', '겨울', '겨울', '겨울', '겨울', '겨울', '여름', '겨울', '겨울', '봄', '봄', '여름', '겨울', '봄', '봄', '여름', '여름', '여름', '여름', '가을', '겨울', '겨울', '봄', '가을', '가을', '가을', '겨울', '겨울', '겨울', '봄', '여름', '가을', '가을', '가을', '겨울', '겨울', '여름', '겨울', '겨울', '봄', '봄', '봄', '가을', '가을', '겨울', '봄', '봄', '봄', '여름', '여름', '가을', '가을', '봄', '봄', '여름', '가을', '가을', '가을', '겨울', '봄', '가을', '겨울', '겨울', '겨울', '겨울', '겨울', '여름', '여름', '여름', '여름', '가을', '가을', '봄', '봄', '봄', '봄', '봄', '봄', '봄', '봄', '봄', '여름', '여름', '여름', '여름', '여름', '여름', '가을', '가을', '가을', '가을', '가을', '가을', '봄', '여름', '가을', '겨울', '겨울', '겨울', '봄', '봄', '봄', '여름', '여름', '여름', '여름', '가을', '겨울', '겨울', '봄', '봄', '여름', '여름', '가을', '가을', '가을', '가을', '가을', '가을', '겨울', '봄', '여름', '여름', '가을', '가을', '겨울', '겨울', '여름', '여름', '여름', '봄', '여름', '가을', '가을', '겨울', '가을', '가을', '겨울', '겨울', '여름', '여름', '가을', '가을', '가을', '겨울', '겨울', '봄', '가을', '가을', '겨울', '겨울', '봄', '봄', '봄', '봄', '가을', '가을', '봄', '봄', '봄', '여름', '겨울', '겨울', '여름', '가을', '가을', '겨울', '봄', '여름', '여름', '가을', '가을', '가을', '겨울', '봄', '여름', '여름', '가을', '가을', '가을', '겨울', '겨울', '봄', '봄', '가을', '가을', '봄', '여름', '가을', '가을', '겨울', '겨울', '가을', '겨울', '겨울', '여름', '가을', '겨울', '봄', '봄', '봄', '봄', '봄', '봄', '봄', '봄', '여름', '여름', '가을', '가을', '겨울', '겨울', '겨울', '겨울', '겨울', '봄', '봄', '봄', '봄', '봄', '봄', '여름', '여름', '여름', '여름', '여름', '여름', '가을', '가을', '가을', '겨울', '겨울', '겨울', '겨울', '겨울', '봄', '여름', '여름', '가을', '가을', '가을', '겨울', '겨울', '겨울', '봄', '봄', '여름', '가을', '겨울', '봄', '봄', '가을', '겨울', '여름', '가을', '겨울', '겨울', '여름', '여름', '여름', '겨울', '봄', '여름', '가을', '봄', '가을', '겨울', '겨울', '겨울', '여름', '가을', '여름', '여름', '여름', '겨울', '겨울', '겨울', '겨울', '봄', '봄', '여름', '여름', '여름', '여름', '가을', '가을', '봄', '여름', '여름', '가을', '겨울', '겨울', '겨울', '봄', '봄', '봄', '가을', '가을', '가을', '겨울', '겨울', '겨울', '겨울', '봄', '봄', '여름', '가을', '가을', '겨울', '겨울', '봄', '가을', '겨울', '봄', '봄', '봄', '봄', '여름', '가을', '가을', '겨울', '겨울', '봄', '봄', '봄', '봄', '봄', '봄', '여름', '여름', '여름', '여름', '겨울', '봄', '봄', '봄', '봄', '여름', '여름', '여름', '여름', '가을', '겨울', '겨울', '봄', '봄', '여름', '가을', '가을', '겨울', '겨울', '봄', '여름', '여름', '여름', '가을', '여름', '여름', '가을', '가을', '겨울', '겨울', '봄', '봄', '봄', '가을', '겨울', '봄', '봄', '여름', '가을', '겨울', '겨울', '봄', '가을', '겨울', '겨울', '겨울', '여름', '겨울', '겨울', '겨울', '여름', '가을', '가을', '겨울', '겨울', '봄', '봄', '봄', '가을', '겨울', '겨울', '겨울', '봄', '여름', '여름', '겨울', '겨울', '봄', '봄', '여름', '가을', '겨울', '봄', '여름', '여름', '겨울', '겨울', '겨울', '겨울', '봄', '봄', '여름', '가을', '겨울', '겨울', '겨울', '봄', '여름', '가을', '겨울', '봄', '봄', '가을', '겨울', '여름', '여름', '겨울', '겨울', '봄', '봄', '여름', '겨울', '봄', '여름', '가을', '가을', '봄', '봄', '여름', '가을', '겨울', '겨울', '겨울', '겨울', '겨울', '봄', '봄', '봄', '봄', '봄', '봄', '여름', '여름', '여름', '여름', '여름', '여름', '가을', '가을', '겨울', '봄', '봄', '여름', '여름', '가을', '겨울', '겨울', '겨울', '가을', '겨울', '여름', '여름', '가을', '가을', '겨울', '봄', '봄', '여름', '가을', '여름', '가을', '가을', '겨울', '겨울', '겨울', '겨울', '봄', '여름', '가을', '가을', '가을', '겨울', '겨울', '겨울', '봄', '봄', '봄', '가을', '겨울', '겨울', '봄', '가을', '가을', '겨울', '봄', '여름', '여름', '가을', '봄', '봄', '여름', '여름', '겨울', '겨울', '겨울', '겨울', '봄', '여름', '여름', '겨울', '봄', '봄', '여름', '여름', '가을', '겨울', '겨울', '겨울', '봄', '여름', '여름', '여름', '가을', '가을', '겨울', '봄', '봄', '여름', '가을', '가을', '가을', '겨울', '봄', '여름', '가을', '겨울', '겨울', '겨울', '봄', '여름', '여름', '겨울', '겨울', '봄', '봄', '봄', '가을', '가을', '겨울', '겨울', '봄', '봄', '여름', '겨울', '겨울', '봄', '봄', '여름', '가을', '봄', '봄', '여름', '여름', '가을', '겨울', '겨울', '봄', '봄', '봄', '봄', '봄', '봄', '가을', '가을', '가을', '가을', '겨울', '겨울', '겨울', '겨울', '봄', '봄', '겨울', '봄', '여름', '여름', '겨울', '봄', '봄', '가을', '겨울', '봄', '봄', '여름', '여름', '여름', '가을', '봄', '여름', '겨울', '겨울', '봄', '여름', '여름', '가을', '봄', '봄', '봄', '봄', '여름', '가을', '가을', '봄', '봄', '봄', '봄', '가을', '가을', '겨울', '겨울', '봄', '봄', '봄', '겨울', '겨울', '봄', '봄', '겨울', '겨울', '겨울', '봄', '봄', '여름', '가을', '여름', '여름', '가을', '겨울', '겨울', '겨울', '봄', '가을', '겨울', '겨울', '겨울', '가을', '가을', '가을', '가을', '겨울', '겨울', '봄', '봄', '여름', '여름', '봄', '봄', '여름', '여름', '가을', '겨울', '겨울', '겨울', '겨울', '겨울', '겨울', '겨울', '봄', '봄', '봄', '여름', '여름', '여름', '여름', '여름', '여름', '겨울', '겨울', '겨울', '겨울', '겨울', '여름', '여름', '겨울', '겨울', '여름', '여름', '여름', '여름', '봄', '여름', '여름', '여름', '겨울', '겨울', '봄', '가을', '가을', '가을', '봄', '여름', '가을', '겨울', '봄', '봄', '봄', '봄', '여름', '봄', '봄', '가을', '가을', '겨울', '겨울', '봄', '봄', '여름', '여름', '가을', '겨울', '겨울', '봄', '여름', '여름', '겨울', '겨울', '봄', '봄', '봄', '봄', '봄', '봄', '봄', '봄', '봄', '봄', '여름', '여름', '가을', '가을', '가을', '가을', '여름', '여름', '여름', '여름', '가을', '가을', '가을', '가을', '가을', '가을', '겨울', '겨울', '겨울', '겨울', '봄', '봄', '여름', '여름', '여름', '겨울', '봄', '봄', '봄', '가을', '겨울', '봄', '여름', '여름', '가을', '봄', '봄', '봄', '봄', '봄', '봄', '여름', '여름', '겨울', '겨울', '겨울', '봄', '여름', '가을', '겨울', '겨울', '겨울', '봄', '여름', '여름', '여름', '여름', '겨울', '겨울', '겨울', '여름', '여름', '가을', '겨울', '겨울', '가을', '겨울', '겨울', '겨울', '봄', '봄', '봄', '겨울', '겨울', '봄', '여름', '여름', '여름', '가을', '가을', '가을', '겨울', '겨울', '겨울', '봄', '봄', '여름', '가을', '겨울', '겨울', '봄', '봄', '봄', '가을', '겨울', '겨울', '겨울', '겨울', '겨울', '겨울', '봄', '봄', '봄', '봄', '봄', '봄', '가을', '가을', '겨울', '겨울', '겨울', '봄', '봄', '여름', '여름', '여름', '가을', '겨울', '여름', '가을', '가을', '가을', '겨울', '봄', '봄', '가을', '겨울', '여름', '겨울', '겨울', '봄', '봄', '여름', '여름', '가을', '가을', '겨울', '겨울', '겨울', '봄', '여름', '여름', '가을', '겨울', '봄', '봄', '여름', '가을', '가을', '겨울', '가을', '가을', '겨울', '겨울', '봄', '봄', '봄', '봄', '봄', '봄', '여름', '여름', '겨울', '봄', '여름', '여름', '가을', '가을', '가을', '겨울', '겨울', '여름', '여름', '여름', '가을', '봄', '봄', '여름', '여름', '가을', '봄', '여름', '여름', '가을', '봄', '여름', '가을', '겨울', '겨울', '겨울', '겨울', '봄', '여름', '가을', '가을', '겨울', '봄', '여름', '가을', '겨울', '봄', '여름', '가을', '겨울', '봄', '봄', '가을', '봄', '봄', '여름', '여름', '겨울', '겨울', '봄', '여름', '봄', '봄', '봄', '봄', '여름', '가을', '가을', '겨울', '겨울', '봄', '봄', '봄', '여름', '가을', '가을', '가을', '겨울', '여름', '여름', '가을', '가을', '가을', '가을', '겨울', '봄', '여름', '가을', '봄', '봄', '여름', '겨울', '겨울', '겨울', '겨울', '겨울', '겨울', '겨울', '여름', '여름', '겨울', '겨울', '봄', '여름', '여름', '겨울', '여름', '가을', '가을', '겨울', '여름', '가을', '겨울', '겨울', '봄', '봄', '봄', '겨울', '겨울', '봄', '여름', '가을', '겨울', '여름', '가을', '가을', '가을', '겨울', '봄', '봄', '봄', '봄', '여름', '여름', '가을', '겨울', '겨울', '봄', '봄', '봄', '여름', '여름', '여름', '가을', '겨울', '겨울', '여름', '여름', '여름', '가을', '겨울', '겨울', '봄', '봄', '여름', '가을', '가을', '겨울', '겨울', '봄', '봄', '겨울', '봄', '봄', '봄', '여름', '봄', '여름', '가을', '겨울', '겨울', '겨울', '봄', '여름', '여름', '여름', '가을', '가을', '겨울', '봄', '봄', '여름', '가을', '봄', '여름', '여름', '가을', '봄', '봄', '가을', '겨울', '겨울', '봄', '봄', '봄', '봄', '봄', '봄', '봄', '봄', '여름', '여름', '여름', '여름', '여름', '여름', '가을', '가을', '겨울', '겨울', '봄', '봄', '봄', '봄', '봄', '봄', '봄', '봄', '겨울', '겨울', '겨울', '겨울', '겨울', '봄', '여름', '겨울', '봄', '봄', '여름', '겨울', '겨울', '겨울', '겨울', '봄', '봄', '봄', '봄', '봄', '봄', '봄', '봄', '여름', '여름', '여름', '여름', '봄', '여름', '여름', '가을', '봄', '봄', '봄', '여름', '가을', '겨울', '겨울', '봄', '봄', '봄', '여름', '가을', '가을', '가을', '가을', '겨울', '겨울', '봄', '봄', '봄', '여름', '가을', '겨울', '겨울', '겨울', '겨울', '봄', '봄', '가을', '겨울', '겨울', '봄', '봄', '가을', '겨울', '봄', '여름', '여름', '여름', '겨울', '가을', '가을', '가을', '겨울', '봄', '봄', '봄', '여름', '겨울', '겨울', '겨울', '봄', '여름', '가을', '가을', '가을', '겨울', '봄', '여름', '여름', '겨울', '겨울', '봄', '여름', '가을', '봄', '봄', '가을', '가을', '가을', '가을', '가을', '가을', '겨울', '겨울', '봄', '봄', '봄', '봄', '가을', '가을', '봄', '여름', '가을', '가을', '봄', '봄', '여름', '여름', '여름', '봄', '봄', '여름', '여름', '가을', '겨울', '겨울', '가을', '가을', '겨울', '겨울', '봄', '여름', '가을', '겨울', '겨울', '봄', '겨울', '겨울', '겨울', '겨울', '겨울', '겨울', '봄', '봄', '봄', '봄', '봄', '여름', '여름', '여름', '여름', '여름', '가을', '가을', '가을', '가을', '가을', '봄', '여름', '여름', '여름', '가을', '가을', '겨울', '겨울', '겨울', '봄', '가을', '겨울', '겨울', '여름', '여름', '여름', '봄', '겨울', '겨울', '겨울', '겨울', '겨울', '겨울', '봄', '봄', '봄', '봄', '여름', '여름', '여름', '여름', '봄', '여름', '여름', '여름', '겨울', '봄', '봄', '봄', '봄', '여름', '여름', '가을', '가을', '겨울', '겨울', '겨울', '겨울', '가을', '가을', '가을', '가을', '가을', '가을', '겨울', '겨울', '겨울', '봄', '봄', '봄', '겨울', '봄', '봄', '봄', '봄', '봄', '봄', '여름', '여름', '여름', '여름', '여름', '여름', '겨울', '겨울', '겨울', '가을', '겨울', '봄', '봄', '여름', '여름', '가을', '겨울', '겨울', '봄', '봄', '여름', '겨울', '겨울', '봄', '봄', '여름', '가을', '겨울', '겨울', '여름', '여름', '겨울', '겨울', '봄', '봄', '여름', '가을', '겨울', '겨울', '겨울', '겨울', '봄', '봄', '여름', '여름', '겨울', '겨울', '봄', '여름', '여름', '여름', '여름', '겨울', '겨울', '겨울', '여름', '가을', '가을', '겨울', '겨울', '겨울', '봄', '여름', '여름', '가을', '가을', '겨울', '겨울', '봄', '봄', '가을', '가을', '겨울', '겨울', '봄', '봄', '가을', '가을', '가을', '겨울', '봄', '봄', '여름', '가을', '겨울', '봄', '봄', '여름', '가을', '봄', '봄', '가을', '가을', '가을', '봄', '봄', '가을', '가을', '겨울', '가을', '가을', '겨울', '봄', '여름', '가을', '겨울', '봄', '여름', '여름', '가을', '가을', '여름', '여름', '가을', '가을', '가을', '겨울', '겨울', '겨울', '봄', '봄', '봄', '봄', '여름', '여름', '봄', '여름', '가을', '가을', '가을', '가을', '겨울', '봄', '봄', '여름', '여름', '여름', '봄', '봄', '여름', '가을', '가을', '겨울', '봄', '여름', '여름', '봄', '봄', '여름', '여름', '겨울', '겨울', '겨울', '겨울', '겨울', '봄', '여름', '여름', '봄', '봄', '봄', '여름', '여름', '여름', '여름', '여름', '여름', '여름', '여름', '여름', '여름', '여름', '여름', '겨울', '겨울', '겨울', '겨울', '겨울', '봄', '겨울', '겨울', '겨울', '봄', '가을', '가을', '겨울', '봄', '봄', '봄', '봄', '봄', '여름', '여름', '겨울', '겨울', '봄', '봄', '봄', '여름', '여름', '가을', '가을', '겨울', '겨울', '봄', '봄', '여름', '가을', '가을', '겨울', '봄', '봄', '가을', '겨울', '겨울', '겨울', '여름', '여름', '가을', '겨울', '봄', '봄', '가을', '가을', '겨울', '겨울', '봄', '봄', '봄', '가을', '가을', '가을', '가을', '가을', '겨울', '겨울', '겨울', '봄', '봄', '여름', '여름', '겨울', '겨울', '봄', '봄', '여름', '가을', '겨울', '겨울', '봄', '여름', '여름', '겨울', '겨울', '겨울', '봄', '여름', '여름', '여름', '가을', '가을', '겨울', '겨울', '가을', '가을', '가을', '겨울', '겨울', '봄', '봄', '여름', '여름', '겨울', '봄', '봄', '봄', '봄', '봄', '여름', '가을', '가을', '가을', '겨울', '겨울', '겨울', '겨울', '봄', '가을', '겨울', '봄', '봄', '봄', '가을', '겨울', '겨울', '봄', '여름', '여름', '가을', '가을', '겨울', '겨울', '여름', '여름', '가을', '가을', '봄', '여름', '가을', '겨울', '겨울', '겨울', '봄', '여름', '여름', '봄', '봄', '여름', '가을', '가을', '봄', '봄', '봄', '봄', '봄', '봄', '봄', '봄', '봄', '여름', '여름', '여름', '가을', '가을', '가을', '가을', '가을', '가을', '가을', '가을', '가을', '봄', '봄', '봄', '겨울', '겨울', '겨울', '봄', '여름', '여름', '가을', '가을', '봄', '봄', '봄', '여름', '가을', '겨울', '겨울', '여름', '여름', '가을', '봄', '여름', '가을', '가을', '봄', '봄', '여름', '겨울', '봄', '여름', '여름', '가을', '가을', '가을', '가을', '겨울', '겨울', '봄', '여름', '여름', '여름', '겨울', '겨울', '봄', '봄', '봄', '봄', '가을', '가을', '겨울', '겨울', '겨울', '여름', '여름', '겨울', '봄', '여름', '여름', '가을', '겨울', '겨울', '여름', '가을', '겨울', '봄', '여름', '여름', '겨울', '겨울', '겨울', '겨울', '봄', '봄', '여름', '여름', '가을', '가을', '겨울', '겨울', '여름', '여름', '봄', '여름', '여름', '가을', '겨울', '여름', '가을', '가을', '여름', '여름', '여름', '가을', '가을', '봄', '여름', '여름', '가을', '가을', '겨울', '겨울', '봄', '가을', '봄', '봄', '여름', '여름', '여름', '여름', '여름', '여름', '겨울', '봄', '여름', '여름', '겨울', '겨울', '겨울', '여름', '여름', '겨울', '겨울', '여름', '여름', '가을', '겨울', '여름', '가을', '가을', '가을', '겨울', '겨울', '여름', '가을', '봄', '여름', '여름', '가을', '가을', '가을', '겨울', '겨울', '여름', '여름', '겨울', '겨울', '봄', '봄', '가을', '가을', '가을', '가을', '봄', '여름', '여름', '가을', '봄', '봄', '여름', '가을', '겨울', '봄', '봄', '봄', '가을', '가을', '가을', '봄', '봄', '여름', '여름', '여름', '여름', '여름', '여름', '가을', '가을', '가을', '가을', '겨울', '여름', '가을', '겨울', '겨울', '봄', '가을', '가을', '겨울', '봄', '여름', '가을', '겨울', '겨울', '봄', '여름', '가을', '겨울', '겨울', '겨울', '봄', '여름', '겨울', '봄', '봄', '봄', '여름', '여름', '여름', '겨울', '봄', '여름', '여름', '봄', '여름', '가을', '가을', '겨울', '여름', '가을', '겨울', '겨울', '봄', '여름', '겨울', '겨울', '겨울', '겨울', '겨울', '봄', '봄', '봄', '여름', '여름', '여름', '여름', '여름', '여름', '가을', '가을', '가을', '겨울', '겨울', '봄', '여름', '겨울', '겨울', '봄', '봄', '여름', '겨울', '여름', '여름', '가을', '가을', '봄', '봄', '여름', '여름', '여름', '여름', '가을', '가을', '겨울', '겨울', '겨울', '봄', '여름', '여름', '겨울', '여름', '여름', '가을', '가을', '겨울', '여름', '여름', '가을', '겨울', '겨울', '봄', '여름', '여름', '가을', '가을', '겨울', '봄', '봄', '가을', '가을', '겨울', '봄', '가을', '가을', '겨울', '겨울', '가을', '가을', '겨울', '겨울', '여름', '가을', '겨울', '여름', '여름', '가을', '겨울', '겨울', '여름', '여름', '가을', '가을', '겨울', '봄', '가을', '가을', '겨울', '겨울', '가을', '가을', '겨울', '겨울', '여름', '여름', '여름', '가을', '봄', '가을', '겨울', '겨울', '겨울', '겨울', '여름', '가을', '겨울', '겨울', '봄', '봄', '봄', '봄', '봄', '봄', '여름', '여름', '여름', '여름', '가을', '가을', '겨울', '겨울', '여름', '가을', '겨울', '봄', '봄', '여름', '겨울', '겨울', '겨울', '여름', '겨울', '봄', '여름', '여름', '겨울', '겨울', '겨울', '봄', '여름', '여름', '겨울', '여름', '가을', '가을', '가을', '가을', '겨울']\n"
          ]
        }
      ]
    },
    {
      "cell_type": "code",
      "source": [
        "df['계절'] = list_c"
      ],
      "metadata": {
        "id": "t72-uw8Srb-w"
      },
      "execution_count": 33,
      "outputs": []
    },
    {
      "cell_type": "markdown",
      "source": [
        "도로형태를 단일로 / 교차로 / 기타로 구분"
      ],
      "metadata": {
        "id": "ukhYol-FtM8k"
      }
    },
    {
      "cell_type": "code",
      "source": [
        "list_d = []"
      ],
      "metadata": {
        "id": "dmo5DTpZsyr2"
      },
      "execution_count": 34,
      "outputs": []
    },
    {
      "cell_type": "code",
      "source": [
        "for i in range(len(df['월'])):\n",
        "  if '교차로' in df['도로형태'][i]:\n",
        "    list_d.append('교차로')\n",
        "  elif '단일로' in df['도로형태'][i]:\n",
        "    list_d.append('단일로')\n",
        "  else:\n",
        "    list_d.append('기타')\n",
        "print(list_d)"
      ],
      "metadata": {
        "colab": {
          "base_uri": "https://localhost:8080/"
        },
        "id": "7pfrfjpktSHa",
        "outputId": "b1a99449-38d6-42b1-a71c-b6b5dc25fb3b"
      },
      "execution_count": 35,
      "outputs": [
        {
          "output_type": "stream",
          "name": "stdout",
          "text": [
            "['단일로', '단일로', '단일로', '단일로', '단일로', '단일로', '단일로', '단일로', '단일로', '단일로', '단일로', '단일로', '단일로', '단일로', '단일로', '교차로', '교차로', '교차로', '단일로', '단일로', '단일로', '단일로', '단일로', '교차로', '단일로', '단일로', '단일로', '교차로', '교차로', '교차로', '교차로', '단일로', '단일로', '단일로', '단일로', '단일로', '단일로', '단일로', '교차로', '단일로', '교차로', '단일로', '단일로', '단일로', '교차로', '단일로', '단일로', '단일로', '단일로', '단일로', '단일로', '단일로', '교차로', '교차로', '교차로', '단일로', '단일로', '단일로', '단일로', '단일로', '단일로', '단일로', '단일로', '단일로', '단일로', '단일로', '단일로', '교차로', '교차로', '단일로', '단일로', '단일로', '단일로', '단일로', '단일로', '단일로', '단일로', '단일로', '단일로', '단일로', '단일로', '단일로', '단일로', '단일로', '단일로', '단일로', '단일로', '교차로', '단일로', '단일로', '단일로', '단일로', '단일로', '단일로', '단일로', '단일로', '단일로', '교차로', '단일로', '단일로', '단일로', '단일로', '단일로', '단일로', '단일로', '단일로', '단일로', '단일로', '단일로', '단일로', '단일로', '단일로', '단일로', '교차로', '단일로', '단일로', '단일로', '단일로', '단일로', '단일로', '단일로', '단일로', '단일로', '단일로', '단일로', '단일로', '단일로', '교차로', '단일로', '단일로', '단일로', '단일로', '단일로', '교차로', '교차로', '단일로', '교차로', '단일로', '단일로', '단일로', '단일로', '단일로', '단일로', '교차로', '단일로', '단일로', '단일로', '교차로', '단일로', '단일로', '단일로', '단일로', '단일로', '단일로', '단일로', '단일로', '단일로', '단일로', '단일로', '단일로', '단일로', '단일로', '단일로', '단일로', '단일로', '단일로', '단일로', '교차로', '단일로', '단일로', '단일로', '단일로', '단일로', '단일로', '단일로', '단일로', '단일로', '단일로', '단일로', '단일로', '단일로', '단일로', '단일로', '단일로', '기타', '교차로', '단일로', '단일로', '교차로', '단일로', '단일로', '단일로', '단일로', '단일로', '단일로', '단일로', '단일로', '단일로', '단일로', '단일로', '단일로', '단일로', '단일로', '단일로', '단일로', '단일로', '단일로', '단일로', '교차로', '단일로', '단일로', '단일로', '단일로', '기타', '단일로', '단일로', '단일로', '교차로', '단일로', '단일로', '단일로', '단일로', '단일로', '단일로', '교차로', '단일로', '단일로', '단일로', '교차로', '단일로', '단일로', '단일로', '단일로', '단일로', '단일로', '단일로', '단일로', '단일로', '단일로', '단일로', '단일로', '단일로', '단일로', '단일로', '단일로', '단일로', '단일로', '단일로', '교차로', '단일로', '단일로', '단일로', '교차로', '단일로', '교차로', '단일로', '단일로', '단일로', '단일로', '단일로', '단일로', '단일로', '단일로', '단일로', '교차로', '단일로', '단일로', '단일로', '단일로', '단일로', '단일로', '단일로', '단일로', '단일로', '교차로', '단일로', '단일로', '단일로', '교차로', '단일로', '단일로', '단일로', '단일로', '단일로', '단일로', '단일로', '단일로', '단일로', '기타', '단일로', '단일로', '단일로', '단일로', '단일로', '단일로', '교차로', '단일로', '교차로', '교차로', '단일로', '단일로', '단일로', '단일로', '단일로', '교차로', '단일로', '교차로', '단일로', '단일로', '단일로', '단일로', '단일로', '단일로', '단일로', '단일로', '단일로', '단일로', '단일로', '단일로', '단일로', '교차로', '교차로', '단일로', '단일로', '단일로', '단일로', '단일로', '단일로', '교차로', '단일로', '단일로', '단일로', '단일로', '단일로', '단일로', '교차로', '교차로', '교차로', '단일로', '교차로', '단일로', '교차로', '단일로', '단일로', '단일로', '단일로', '단일로', '단일로', '단일로', '단일로', '단일로', '단일로', '단일로', '단일로', '단일로', '단일로', '단일로', '단일로', '단일로', '단일로', '단일로', '단일로', '단일로', '단일로', '단일로', '단일로', '교차로', '단일로', '단일로', '단일로', '단일로', '단일로', '단일로', '단일로', '단일로', '단일로', '단일로', '단일로', '단일로', '단일로', '교차로', '교차로', '단일로', '교차로', '단일로', '단일로', '단일로', '단일로', '단일로', '단일로', '단일로', '단일로', '단일로', '단일로', '교차로', '단일로', '단일로', '단일로', '단일로', '단일로', '교차로', '교차로', '단일로', '단일로', '단일로', '단일로', '단일로', '단일로', '단일로', '단일로', '단일로', '단일로', '단일로', '단일로', '단일로', '단일로', '단일로', '교차로', '단일로', '단일로', '단일로', '단일로', '교차로', '단일로', '단일로', '단일로', '단일로', '기타', '교차로', '단일로', '단일로', '단일로', '단일로', '단일로', '단일로', '단일로', '단일로', '단일로', '단일로', '단일로', '단일로', '단일로', '단일로', '단일로', '단일로', '단일로', '단일로', '단일로', '단일로', '단일로', '단일로', '단일로', '단일로', '단일로', '단일로', '단일로', '단일로', '단일로', '단일로', '단일로', '단일로', '단일로', '단일로', '교차로', '단일로', '단일로', '단일로', '단일로', '단일로', '단일로', '단일로', '교차로', '단일로', '단일로', '단일로', '단일로', '단일로', '단일로', '기타', '단일로', '단일로', '기타', '단일로', '교차로', '단일로', '단일로', '단일로', '단일로', '단일로', '단일로', '기타', '단일로', '교차로', '단일로', '기타', '교차로', '단일로', '단일로', '단일로', '단일로', '단일로', '기타', '단일로', '단일로', '단일로', '교차로', '기타', '교차로', '단일로', '교차로', '단일로', '단일로', '단일로', '단일로', '단일로', '단일로', '단일로', '단일로', '교차로', '단일로', '단일로', '교차로', '단일로', '단일로', '단일로', '단일로', '단일로', '단일로', '교차로', '교차로', '교차로', '단일로', '단일로', '교차로', '단일로', '단일로', '단일로', '단일로', '단일로', '교차로', '교차로', '단일로', '단일로', '단일로', '단일로', '단일로', '단일로', '단일로', '단일로', '단일로', '교차로', '단일로', '단일로', '단일로', '단일로', '단일로', '단일로', '단일로', '단일로', '단일로', '단일로', '단일로', '교차로', '단일로', '교차로', '단일로', '단일로', '단일로', '단일로', '단일로', '단일로', '단일로', '단일로', '단일로', '단일로', '단일로', '단일로', '단일로', '단일로', '단일로', '단일로', '단일로', '단일로', '단일로', '단일로', '단일로', '단일로', '단일로', '교차로', '교차로', '단일로', '단일로', '단일로', '단일로', '교차로', '단일로', '단일로', '단일로', '교차로', '단일로', '교차로', '단일로', '단일로', '단일로', '단일로', '단일로', '단일로', '단일로', '단일로', '단일로', '교차로', '단일로', '단일로', '교차로', '단일로', '단일로', '단일로', '교차로', '단일로', '단일로', '단일로', '단일로', '단일로', '단일로', '단일로', '교차로', '단일로', '단일로', '단일로', '단일로', '단일로', '단일로', '단일로', '단일로', '단일로', '단일로', '단일로', '단일로', '단일로', '단일로', '단일로', '단일로', '교차로', '교차로', '단일로', '교차로', '단일로', '단일로', '단일로', '단일로', '단일로', '교차로', '단일로', '단일로', '단일로', '단일로', '단일로', '단일로', '단일로', '단일로', '단일로', '단일로', '단일로', '단일로', '단일로', '단일로', '교차로', '단일로', '단일로', '단일로', '단일로', '단일로', '단일로', '단일로', '단일로', '교차로', '단일로', '단일로', '단일로', '단일로', '교차로', '단일로', '단일로', '단일로', '교차로', '교차로', '단일로', '교차로', '단일로', '단일로', '단일로', '단일로', '단일로', '단일로', '단일로', '단일로', '교차로', '단일로', '단일로', '단일로', '단일로', '단일로', '단일로', '단일로', '단일로', '단일로', '교차로', '단일로', '단일로', '교차로', '단일로', '단일로', '교차로', '교차로', '단일로', '단일로', '교차로', '단일로', '단일로', '단일로', '교차로', '단일로', '단일로', '단일로', '기타', '단일로', '교차로', '단일로', '단일로', '단일로', '교차로', '단일로', '교차로', '단일로', '단일로', '단일로', '교차로', '단일로', '단일로', '단일로', '단일로', '단일로', '교차로', '기타', '교차로', '단일로', '단일로', '단일로', '단일로', '단일로', '단일로', '단일로', '단일로', '단일로', '단일로', '교차로', '단일로', '단일로', '단일로', '단일로', '단일로', '단일로', '단일로', '교차로', '단일로', '교차로', '단일로', '교차로', '교차로', '단일로', '단일로', '단일로', '단일로', '단일로', '교차로', '단일로', '단일로', '교차로', '단일로', '교차로', '단일로', '단일로', '단일로', '단일로', '교차로', '단일로', '단일로', '단일로', '단일로', '교차로', '단일로', '단일로', '교차로', '단일로', '단일로', '단일로', '교차로', '단일로', '단일로', '교차로', '단일로', '단일로', '단일로', '단일로', '단일로', '교차로', '단일로', '단일로', '단일로', '단일로', '단일로', '단일로', '단일로', '단일로', '교차로', '교차로', '단일로', '단일로', '단일로', '단일로', '교차로', '단일로', '단일로', '교차로', '단일로', '단일로', '단일로', '교차로', '단일로', '단일로', '교차로', '단일로', '단일로', '교차로', '단일로', '교차로', '단일로', '단일로', '단일로', '교차로', '단일로', '단일로', '단일로', '교차로', '교차로', '단일로', '단일로', '단일로', '단일로', '교차로', '단일로', '단일로', '단일로', '단일로', '단일로', '교차로', '교차로', '단일로', '단일로', '단일로', '단일로', '단일로', '단일로', '단일로', '단일로', '단일로', '단일로', '단일로', '단일로', '단일로', '단일로', '교차로', '단일로', '단일로', '단일로', '단일로', '단일로', '단일로', '단일로', '단일로', '단일로', '단일로', '단일로', '단일로', '단일로', '단일로', '기타', '단일로', '교차로', '단일로', '단일로', '단일로', '단일로', '교차로', '단일로', '교차로', '단일로', '단일로', '단일로', '단일로', '단일로', '단일로', '단일로', '단일로', '단일로', '단일로', '단일로', '단일로', '단일로', '단일로', '단일로', '단일로', '단일로', '단일로', '단일로', '단일로', '단일로', '단일로', '단일로', '교차로', '단일로', '단일로', '단일로', '단일로', '교차로', '단일로', '교차로', '단일로', '단일로', '단일로', '단일로', '단일로', '단일로', '단일로', '단일로', '교차로', '교차로', '단일로', '단일로', '단일로', '단일로', '단일로', '단일로', '단일로', '단일로', '교차로', '단일로', '단일로', '단일로', '단일로', '단일로', '단일로', '단일로', '단일로', '단일로', '단일로', '단일로', '단일로', '단일로', '단일로', '단일로', '단일로', '교차로', '단일로', '교차로', '교차로', '단일로', '단일로', '교차로', '단일로', '단일로', '단일로', '교차로', '단일로', '단일로', '단일로', '교차로', '단일로', '기타', '기타', '단일로', '교차로', '단일로', '단일로', '기타', '단일로', '교차로', '단일로', '단일로', '단일로', '단일로', '단일로', '단일로', '단일로', '단일로', '단일로', '단일로', '단일로', '단일로', '단일로', '단일로', '단일로', '단일로', '단일로', '단일로', '단일로', '단일로', '단일로', '단일로', '단일로', '단일로', '단일로', '단일로', '단일로', '단일로', '단일로', '단일로', '단일로', '단일로', '교차로', '단일로', '단일로', '단일로', '단일로', '단일로', '단일로', '단일로', '단일로', '단일로', '단일로', '단일로', '교차로', '단일로', '단일로', '단일로', '단일로', '단일로', '단일로', '단일로', '단일로', '단일로', '교차로', '단일로', '단일로', '교차로', '단일로', '교차로', '교차로', '교차로', '단일로', '단일로', '단일로', '단일로', '교차로', '단일로', '단일로', '단일로', '단일로', '단일로', '단일로', '단일로', '교차로', '교차로', '교차로', '단일로', '단일로', '단일로', '단일로', '단일로', '기타', '단일로', '단일로', '단일로', '단일로', '단일로', '단일로', '단일로', '단일로', '단일로', '단일로', '단일로', '교차로', '단일로', '단일로', '단일로', '단일로', '교차로', '단일로', '단일로', '단일로', '단일로', '단일로', '단일로', '단일로', '단일로', '단일로', '교차로', '단일로', '단일로', '단일로', '단일로', '단일로', '단일로', '단일로', '교차로', '교차로', '교차로', '단일로', '단일로', '단일로', '단일로', '교차로', '단일로', '교차로', '단일로', '교차로', '교차로', '교차로', '교차로', '단일로', '단일로', '단일로', '단일로', '단일로', '단일로', '교차로', '단일로', '단일로', '단일로', '단일로', '단일로', '단일로', '단일로', '단일로', '단일로', '단일로', '단일로', '단일로', '단일로', '단일로', '단일로', '교차로', '단일로', '단일로', '단일로', '단일로', '단일로', '교차로', '단일로', '단일로', '단일로', '단일로', '단일로', '교차로', '교차로', '교차로', '기타', '교차로', '단일로', '단일로', '단일로', '교차로', '단일로', '단일로', '교차로', '단일로', '단일로', '단일로', '단일로', '단일로', '단일로', '단일로', '교차로', '교차로', '단일로', '단일로', '기타', '단일로', '단일로', '단일로', '교차로', '단일로', '단일로', '단일로', '단일로', '기타', '단일로', '단일로', '단일로', '단일로', '교차로', '단일로', '단일로', '단일로', '단일로', '단일로', '단일로', '교차로', '단일로', '단일로', '단일로', '교차로', '단일로', '단일로', '단일로', '교차로', '단일로', '단일로', '단일로', '단일로', '단일로', '교차로', '단일로', '단일로', '단일로', '단일로', '단일로', '단일로', '단일로', '단일로', '단일로', '단일로', '교차로', '단일로', '교차로', '교차로', '단일로', '기타', '단일로', '단일로', '단일로', '단일로', '단일로', '교차로', '단일로', '기타', '단일로', '단일로', '단일로', '단일로', '단일로', '단일로', '단일로', '교차로', '교차로', '단일로', '단일로', '단일로', '단일로', '단일로', '교차로', '단일로', '단일로', '단일로', '단일로', '단일로', '단일로', '교차로', '단일로', '단일로', '교차로', '단일로', '단일로', '단일로', '단일로', '단일로', '단일로', '단일로', '단일로', '단일로', '단일로', '단일로', '단일로', '단일로', '교차로', '단일로', '단일로', '단일로', '교차로', '단일로', '단일로', '교차로', '단일로', '단일로', '교차로', '교차로', '단일로', '단일로', '단일로', '교차로', '단일로', '단일로', '교차로', '단일로', '단일로', '단일로', '단일로', '단일로', '단일로', '단일로', '단일로', '단일로', '단일로', '단일로', '단일로', '단일로', '단일로', '단일로', '단일로', '단일로', '단일로', '교차로', '단일로', '단일로', '단일로', '단일로', '단일로', '단일로', '단일로', '단일로', '기타', '단일로', '단일로', '단일로', '단일로', '교차로', '단일로', '단일로', '단일로', '단일로', '단일로', '단일로', '교차로', '단일로', '단일로', '교차로', '단일로', '단일로', '단일로', '단일로', '교차로', '단일로', '단일로', '단일로', '단일로', '단일로', '교차로', '단일로', '단일로', '단일로', '단일로', '단일로', '교차로', '단일로', '단일로', '단일로', '단일로', '단일로', '단일로', '단일로', '단일로', '단일로', '단일로', '단일로', '단일로', '단일로', '교차로', '단일로', '단일로', '단일로', '단일로', '단일로', '단일로', '단일로', '단일로', '단일로', '교차로', '기타', '단일로', '단일로', '단일로', '단일로', '교차로', '단일로', '단일로', '단일로', '교차로', '단일로', '단일로', '단일로', '단일로', '단일로', '단일로', '교차로', '단일로', '단일로', '단일로', '단일로', '단일로', '단일로', '단일로', '단일로', '교차로', '교차로', '교차로', '교차로', '교차로', '단일로', '단일로', '단일로', '단일로', '단일로', '교차로', '단일로', '단일로', '교차로', '단일로', '단일로', '단일로', '교차로', '교차로', '단일로', '교차로', '단일로', '단일로', '단일로', '단일로', '단일로', '단일로', '교차로', '교차로', '단일로', '교차로', '교차로', '단일로', '단일로', '교차로', '단일로', '교차로', '단일로', '단일로', '교차로', '단일로', '단일로', '단일로', '단일로', '단일로', '단일로', '교차로', '교차로', '교차로', '단일로', '단일로', '단일로', '단일로', '단일로', '단일로', '단일로', '단일로', '단일로', '단일로', '단일로', '단일로', '단일로', '교차로', '단일로', '단일로', '단일로', '단일로', '단일로', '단일로', '단일로', '단일로', '단일로', '단일로', '단일로', '교차로', '단일로', '단일로', '단일로', '단일로', '단일로', '단일로', '단일로', '단일로', '단일로', '단일로', '단일로', '교차로', '단일로', '단일로', '단일로', '교차로', '단일로', '단일로', '단일로', '단일로', '단일로', '단일로', '단일로', '단일로', '단일로', '단일로', '단일로', '단일로', '단일로', '단일로', '단일로', '단일로', '단일로', '단일로', '단일로', '단일로', '단일로', '단일로', '단일로', '단일로', '교차로', '교차로', '단일로', '단일로', '단일로', '단일로', '단일로', '단일로', '단일로', '교차로', '단일로', '단일로', '단일로', '단일로', '단일로', '단일로', '단일로', '단일로', '단일로', '단일로', '단일로', '단일로', '단일로', '단일로', '단일로', '단일로', '단일로', '교차로', '단일로', '단일로', '단일로', '단일로', '단일로', '단일로', '단일로', '단일로', '단일로', '단일로', '단일로', '단일로', '교차로', '단일로', '교차로', '단일로', '단일로', '단일로', '단일로', '단일로', '단일로', '단일로', '단일로', '단일로', '단일로', '단일로', '단일로', '단일로', '단일로', '단일로', '교차로', '단일로', '단일로', '단일로', '단일로', '단일로', '교차로', '단일로', '단일로', '단일로', '단일로', '단일로', '단일로', '단일로', '교차로', '단일로', '교차로', '교차로', '단일로', '단일로', '교차로', '단일로', '단일로', '교차로', '단일로', '단일로', '단일로', '단일로', '단일로', '교차로', '단일로', '단일로', '단일로', '단일로', '교차로', '단일로', '단일로', '단일로', '단일로', '교차로', '단일로', '단일로', '단일로', '단일로', '단일로', '단일로', '단일로', '단일로', '단일로', '단일로', '단일로', '단일로', '단일로', '교차로', '교차로', '단일로', '교차로', '단일로', '단일로', '단일로', '단일로', '단일로', '단일로', '단일로', '단일로', '단일로', '단일로', '단일로', '단일로', '단일로', '단일로', '단일로', '단일로', '단일로', '단일로', '단일로', '단일로', '단일로', '교차로', '기타', '교차로', '단일로', '단일로', '교차로', '단일로', '단일로', '단일로', '단일로', '단일로', '교차로', '단일로', '단일로', '교차로', '단일로', '단일로', '단일로', '교차로', '단일로', '단일로', '단일로', '교차로', '단일로', '기타', '단일로', '단일로', '교차로', '단일로', '단일로', '단일로', '교차로', '단일로', '단일로', '교차로', '단일로', '단일로', '교차로', '교차로', '교차로', '단일로', '교차로', '단일로', '단일로', '단일로', '단일로', '교차로', '교차로', '교차로', '교차로', '교차로', '단일로', '단일로', '교차로', '단일로', '교차로', '단일로', '단일로', '단일로', '단일로', '단일로', '단일로', '단일로', '단일로', '교차로', '단일로', '단일로', '단일로', '교차로', '단일로', '단일로', '단일로', '교차로', '단일로', '단일로', '단일로', '기타', '단일로', '단일로', '단일로', '단일로', '단일로', '단일로', '교차로', '단일로', '교차로', '단일로', '교차로', '단일로', '교차로', '단일로', '단일로', '단일로', '교차로', '교차로', '교차로', '단일로', '단일로', '단일로', '단일로', '단일로', '교차로', '단일로', '단일로', '단일로', '교차로', '단일로', '단일로', '단일로', '단일로', '단일로', '단일로', '단일로', '단일로', '단일로', '단일로', '단일로', '단일로', '단일로', '단일로', '교차로', '기타', '단일로', '단일로', '단일로', '단일로', '교차로', '교차로', '단일로', '단일로', '단일로', '단일로', '단일로', '단일로', '단일로', '단일로', '단일로', '단일로', '단일로', '단일로', '단일로', '단일로', '단일로', '단일로', '단일로', '단일로', '단일로', '단일로', '단일로', '교차로', '단일로', '단일로', '교차로', '단일로', '단일로', '교차로', '단일로', '단일로', '단일로', '단일로', '단일로', '단일로', '단일로', '단일로', '단일로', '교차로', '단일로', '단일로', '단일로', '단일로', '단일로', '단일로', '단일로', '단일로', '단일로', '단일로', '단일로', '단일로', '단일로', '단일로', '교차로', '교차로', '단일로', '교차로', '단일로', '교차로', '단일로', '단일로', '교차로', '단일로', '단일로', '단일로', '교차로', '단일로', '단일로', '단일로', '단일로', '단일로', '단일로', '교차로', '단일로', '단일로', '단일로', '단일로', '단일로', '교차로', '단일로', '단일로', '단일로', '단일로', '단일로', '단일로', '단일로', '단일로', '단일로', '단일로', '교차로', '단일로', '단일로', '단일로', '단일로', '단일로', '단일로', '교차로', '단일로', '단일로', '교차로', '단일로', '단일로', '교차로', '교차로', '단일로', '단일로', '단일로', '단일로', '교차로', '단일로', '단일로', '단일로', '단일로', '단일로', '교차로', '단일로', '교차로', '단일로', '교차로', '교차로', '단일로', '단일로', '단일로', '교차로', '교차로', '단일로', '단일로', '단일로', '교차로', '교차로', '단일로', '단일로', '단일로', '교차로', '단일로', '단일로', '교차로', '단일로', '단일로', '단일로', '단일로', '단일로', '교차로', '단일로', '단일로', '교차로', '단일로', '교차로', '교차로', '교차로', '단일로', '단일로', '교차로', '단일로', '단일로', '단일로', '단일로', '단일로', '기타', '단일로', '단일로', '단일로', '단일로', '교차로', '단일로', '단일로', '교차로', '단일로', '단일로', '단일로', '단일로', '단일로', '단일로', '교차로', '단일로', '단일로', '단일로', '단일로', '단일로', '교차로', '단일로', '단일로', '단일로', '교차로', '단일로', '단일로', '교차로', '단일로', '교차로', '단일로', '단일로', '단일로', '교차로', '단일로', '단일로', '단일로', '교차로', '단일로', '단일로', '단일로', '단일로', '단일로', '단일로', '교차로', '단일로', '단일로', '교차로', '단일로', '단일로', '교차로', '단일로', '단일로', '교차로', '단일로', '단일로', '단일로', '교차로', '단일로', '교차로', '단일로', '단일로', '단일로', '단일로', '단일로', '단일로', '단일로', '단일로', '교차로', '단일로', '단일로', '단일로', '단일로', '단일로', '교차로', '단일로', '단일로', '단일로', '교차로', '교차로', '단일로', '단일로', '교차로', '단일로', '단일로', '교차로', '단일로', '교차로', '단일로', '교차로', '단일로', '교차로', '교차로', '단일로', '단일로', '단일로', '단일로', '단일로', '단일로', '단일로', '교차로', '단일로', '단일로', '단일로', '단일로', '단일로', '단일로', '단일로', '단일로', '단일로', '단일로', '단일로', '교차로', '단일로', '교차로', '교차로', '단일로', '단일로', '단일로', '교차로', '교차로', '교차로', '단일로', '교차로', '단일로', '교차로', '단일로', '단일로', '단일로', '교차로', '단일로', '단일로', '단일로', '단일로', '단일로', '단일로', '단일로', '단일로', '단일로', '단일로', '단일로', '교차로', '단일로', '단일로', '단일로', '단일로', '단일로', '단일로', '단일로', '단일로', '단일로', '단일로', '단일로', '단일로', '단일로', '단일로', '단일로', '단일로', '단일로', '단일로', '단일로', '교차로', '단일로', '단일로', '단일로', '단일로', '단일로', '단일로', '단일로', '단일로', '단일로', '단일로', '단일로', '단일로', '단일로', '단일로', '단일로', '단일로', '단일로', '단일로', '교차로', '단일로', '단일로', '교차로', '단일로', '단일로', '단일로', '단일로', '단일로', '단일로', '단일로', '단일로', '단일로', '단일로', '교차로', '단일로', '단일로', '단일로', '단일로', '교차로', '단일로', '단일로', '단일로', '단일로', '단일로', '단일로', '단일로', '단일로', '단일로', '단일로', '교차로', '단일로', '교차로', '교차로', '교차로', '교차로', '단일로', '단일로', '단일로', '단일로', '단일로', '단일로', '단일로', '단일로', '단일로', '단일로', '단일로', '단일로', '단일로', '단일로', '단일로', '단일로', '단일로', '단일로', '단일로', '단일로', '단일로', '단일로', '단일로', '단일로', '단일로', '단일로', '단일로', '단일로', '단일로', '단일로', '교차로', '단일로', '교차로', '단일로', '단일로', '단일로', '단일로', '단일로', '단일로', '단일로', '단일로', '단일로', '교차로', '교차로', '교차로', '교차로', '단일로', '단일로', '단일로', '단일로', '단일로', '단일로', '단일로', '단일로', '교차로', '교차로', '단일로', '단일로', '단일로', '단일로', '교차로', '단일로', '단일로', '단일로', '단일로', '단일로', '단일로', '단일로', '단일로', '단일로', '교차로', '교차로', '단일로', '단일로', '단일로', '교차로', '단일로', '단일로', '단일로', '단일로', '단일로', '단일로', '단일로', '단일로', '교차로', '단일로', '단일로', '단일로', '단일로', '단일로', '단일로', '단일로', '교차로', '단일로', '교차로', '교차로', '단일로', '단일로', '단일로', '단일로', '단일로', '단일로', '교차로', '단일로', '단일로', '단일로', '단일로', '단일로', '단일로', '단일로', '단일로', '단일로', '단일로', '단일로', '교차로', '단일로', '단일로', '단일로', '교차로', '단일로', '단일로', '단일로', '단일로', '단일로', '단일로', '단일로', '교차로', '단일로', '단일로', '단일로', '단일로', '교차로', '단일로', '단일로', '교차로', '단일로', '단일로', '단일로', '단일로', '단일로', '단일로', '단일로', '단일로', '단일로', '단일로', '단일로', '단일로', '단일로', '단일로', '단일로', '단일로', '단일로', '단일로', '교차로', '교차로', '단일로', '단일로', '단일로', '단일로', '단일로', '단일로', '단일로', '단일로', '단일로', '교차로', '단일로', '단일로', '단일로', '단일로', '단일로', '단일로', '교차로', '기타', '단일로', '교차로', '교차로', '단일로', '단일로', '단일로', '단일로', '단일로', '교차로', '단일로', '단일로', '단일로', '단일로', '단일로', '단일로', '단일로', '단일로', '교차로', '단일로', '단일로', '단일로', '단일로', '단일로', '단일로', '단일로', '단일로', '단일로', '단일로', '단일로', '단일로', '단일로', '단일로', '단일로', '단일로', '단일로', '단일로', '단일로', '단일로', '단일로', '단일로', '단일로', '단일로', '단일로', '단일로', '단일로', '단일로', '교차로', '교차로', '단일로', '단일로', '기타', '기타', '단일로', '단일로', '교차로', '교차로', '단일로', '단일로', '단일로', '교차로', '단일로', '단일로', '단일로', '단일로', '단일로', '단일로', '단일로', '단일로', '단일로', '단일로', '단일로', '단일로', '단일로', '단일로', '단일로', '단일로', '단일로', '단일로', '단일로', '단일로', '단일로', '단일로', '단일로', '단일로', '단일로', '교차로', '교차로', '단일로', '단일로', '단일로', '단일로', '단일로', '단일로', '단일로', '단일로', '단일로', '단일로', '단일로', '단일로', '단일로', '단일로', '단일로', '단일로', '단일로', '교차로', '단일로', '단일로', '기타', '단일로', '단일로', '단일로', '단일로', '단일로', '단일로', '단일로', '단일로', '단일로', '단일로', '단일로', '단일로', '단일로', '단일로', '교차로', '단일로', '단일로', '단일로', '단일로', '교차로', '단일로', '단일로', '교차로', '단일로', '단일로', '단일로', '단일로', '단일로', '교차로', '단일로', '단일로', '단일로', '단일로', '단일로', '교차로', '단일로', '단일로', '단일로', '교차로', '단일로', '단일로', '단일로', '단일로', '단일로', '교차로', '교차로', '단일로', '단일로', '단일로', '단일로', '단일로', '교차로', '단일로', '단일로', '단일로', '단일로', '교차로', '교차로', '교차로', '단일로', '단일로', '단일로', '단일로', '단일로', '교차로', '단일로', '단일로', '단일로', '단일로', '단일로', '단일로', '단일로', '단일로', '교차로', '교차로', '단일로', '교차로', '단일로', '교차로', '단일로', '교차로', '단일로', '교차로', '단일로', '교차로', '단일로', '단일로', '교차로', '단일로', '교차로', '교차로', '단일로', '단일로', '단일로', '단일로', '단일로', '단일로', '단일로', '교차로', '단일로', '단일로', '단일로', '교차로', '단일로', '단일로', '단일로', '단일로', '단일로', '단일로', '단일로', '단일로', '단일로', '교차로', '단일로', '단일로', '단일로', '단일로', '단일로', '단일로', '단일로', '단일로', '단일로', '단일로', '교차로', '단일로', '단일로', '단일로', '단일로', '단일로', '단일로', '단일로', '단일로', '교차로', '교차로', '단일로', '단일로', '단일로', '단일로', '단일로', '단일로', '단일로', '단일로', '단일로', '단일로', '단일로', '교차로', '단일로', '단일로', '단일로', '단일로', '교차로', '단일로', '단일로', '단일로', '단일로', '단일로', '단일로', '단일로', '단일로', '단일로', '단일로', '단일로', '단일로', '단일로', '단일로', '교차로', '단일로', '단일로', '단일로', '단일로', '단일로', '단일로', '단일로', '단일로', '단일로', '단일로', '단일로', '교차로', '단일로', '단일로', '단일로', '교차로', '단일로', '단일로', '단일로', '단일로', '단일로', '단일로', '단일로', '단일로', '단일로', '단일로', '단일로', '단일로', '교차로', '단일로', '단일로', '단일로', '단일로', '단일로', '단일로', '단일로', '단일로', '단일로', '단일로', '단일로', '단일로', '단일로', '교차로', '단일로', '단일로', '단일로', '교차로', '단일로', '교차로', '단일로', '단일로', '단일로', '교차로', '단일로', '단일로', '단일로', '단일로', '단일로', '단일로', '단일로', '단일로', '단일로', '단일로', '단일로', '단일로', '단일로', '단일로', '단일로', '교차로', '단일로', '단일로', '단일로', '단일로', '교차로', '단일로', '교차로', '단일로', '단일로', '교차로', '단일로', '단일로', '교차로', '단일로', '단일로', '단일로', '단일로', '단일로', '단일로', '교차로', '단일로', '단일로', '교차로', '단일로', '단일로', '단일로', '단일로', '단일로', '단일로', '교차로', '단일로', '단일로', '교차로', '단일로', '교차로', '단일로', '단일로', '단일로', '단일로', '단일로', '단일로', '단일로', '단일로', '교차로', '단일로', '단일로', '단일로', '단일로', '단일로', '단일로', '교차로', '단일로', '단일로', '단일로', '단일로', '단일로', '교차로', '단일로', '단일로', '단일로', '단일로', '단일로', '단일로', '단일로', '단일로', '단일로', '단일로', '단일로', '교차로', '단일로', '단일로', '교차로', '교차로', '단일로', '단일로', '단일로', '단일로', '단일로', '단일로', '단일로', '교차로', '단일로', '단일로', '단일로', '단일로', '단일로', '단일로', '단일로', '단일로', '단일로', '단일로', '단일로', '단일로', '단일로', '교차로', '단일로', '단일로', '단일로', '단일로', '단일로', '단일로', '단일로', '단일로', '단일로', '단일로', '단일로', '단일로', '단일로', '단일로', '단일로', '단일로', '교차로', '단일로', '단일로', '단일로', '단일로', '단일로', '단일로', '교차로', '단일로', '단일로', '단일로', '단일로', '단일로', '단일로', '단일로', '단일로', '단일로', '단일로', '단일로', '단일로', '교차로', '단일로', '단일로', '단일로', '단일로', '단일로', '단일로', '교차로', '단일로', '단일로', '단일로', '단일로', '단일로', '교차로', '교차로', '교차로', '단일로', '단일로', '단일로', '교차로', '단일로', '교차로', '교차로', '단일로', '단일로', '단일로', '단일로', '교차로', '단일로', '교차로', '단일로', '단일로', '교차로', '교차로', '단일로', '단일로', '단일로', '단일로', '단일로', '단일로', '단일로', '단일로', '단일로', '교차로', '교차로', '단일로', '단일로', '단일로', '단일로', '단일로', '단일로', '단일로', '단일로', '교차로', '교차로', '교차로', '교차로', '단일로', '교차로', '단일로', '단일로', '단일로', '교차로', '단일로', '단일로', '단일로', '단일로', '단일로', '교차로', '단일로', '기타', '교차로', '단일로', '단일로', '단일로', '단일로', '단일로', '단일로', '단일로', '단일로', '교차로', '교차로', '교차로', '단일로', '단일로', '단일로', '단일로', '단일로', '단일로', '단일로', '단일로', '단일로', '기타', '단일로', '교차로', '단일로', '단일로', '단일로', '단일로', '단일로', '단일로', '단일로', '단일로', '단일로', '단일로', '단일로', '단일로', '단일로', '단일로', '단일로', '단일로', '단일로', '단일로', '단일로', '단일로', '단일로', '단일로', '교차로', '단일로', '단일로', '단일로', '단일로', '단일로', '단일로', '교차로', '교차로', '단일로', '단일로', '교차로', '단일로', '단일로', '교차로', '단일로', '단일로', '단일로', '단일로', '단일로', '단일로', '단일로', '단일로', '단일로', '단일로', '교차로', '단일로', '교차로', '단일로', '단일로', '단일로', '단일로', '단일로', '단일로', '단일로', '기타', '단일로', '단일로', '단일로', '단일로', '단일로', '교차로', '단일로', '단일로', '단일로', '교차로', '단일로', '교차로', '교차로', '단일로', '단일로', '단일로', '단일로', '단일로', '단일로', '교차로', '단일로', '단일로', '단일로', '단일로', '단일로', '단일로', '교차로', '단일로', '단일로', '단일로', '단일로', '단일로', '단일로', '단일로', '단일로', '단일로', '교차로', '단일로', '단일로', '교차로', '교차로', '단일로', '단일로', '교차로', '교차로', '단일로', '교차로', '교차로', '단일로', '단일로', '교차로', '단일로', '단일로', '단일로', '단일로', '단일로', '단일로', '단일로', '단일로', '교차로', '단일로', '단일로', '단일로', '단일로', '단일로', '교차로', '단일로', '교차로', '단일로', '단일로', '단일로', '단일로', '단일로', '단일로', '교차로', '단일로', '단일로', '단일로', '단일로', '단일로', '단일로', '단일로', '단일로', '단일로', '단일로', '교차로', '단일로', '교차로', '교차로', '교차로', '단일로', '단일로', '단일로', '교차로', '단일로', '단일로', '단일로', '단일로', '단일로', '단일로', '교차로', '교차로', '단일로', '단일로', '단일로', '교차로', '교차로', '단일로', '단일로', '교차로', '단일로', '교차로', '단일로', '단일로', '단일로', '단일로', '단일로', '단일로', '교차로', '교차로', '교차로', '단일로', '단일로', '단일로', '단일로', '단일로', '단일로', '단일로', '단일로', '단일로', '교차로', '단일로', '단일로', '단일로', '단일로', '단일로', '교차로', '단일로', '단일로', '단일로', '단일로', '교차로', '단일로', '교차로', '단일로', '단일로', '단일로', '교차로', '단일로', '단일로', '단일로', '교차로', '교차로', '단일로', '단일로', '단일로', '단일로', '단일로', '단일로', '교차로', '단일로', '단일로', '단일로', '단일로', '단일로', '단일로', '단일로', '교차로', '단일로', '단일로', '교차로', '단일로', '단일로', '교차로', '단일로', '단일로', '교차로', '단일로', '단일로', '교차로', '단일로', '단일로', '단일로', '단일로', '교차로', '단일로', '단일로', '단일로', '단일로', '단일로', '기타', '단일로', '단일로', '단일로', '교차로', '단일로', '단일로', '단일로', '단일로', '단일로', '단일로', '단일로', '단일로', '교차로', '단일로', '단일로', '교차로', '교차로', '단일로', '단일로', '단일로', '단일로', '단일로', '교차로', '단일로', '교차로', '교차로', '단일로', '교차로', '단일로', '단일로', '단일로', '단일로', '단일로', '교차로', '단일로', '교차로', '교차로', '단일로', '교차로', '단일로', '교차로', '단일로', '단일로', '단일로', '단일로', '단일로', '단일로', '단일로', '단일로', '단일로', '단일로', '단일로', '단일로', '단일로', '단일로', '단일로', '단일로', '단일로', '교차로', '단일로', '단일로', '단일로', '단일로', '교차로', '단일로', '단일로', '단일로', '단일로', '단일로', '교차로', '단일로', '단일로', '단일로', '단일로', '단일로', '단일로', '단일로', '단일로', '단일로', '교차로', '교차로', '교차로', '단일로', '단일로', '교차로', '단일로', '단일로', '단일로', '단일로', '단일로', '단일로', '교차로', '단일로', '단일로', '단일로', '단일로', '단일로', '교차로', '단일로', '단일로', '단일로', '단일로', '단일로', '단일로', '단일로', '단일로', '교차로', '단일로', '단일로', '단일로', '단일로', '단일로', '단일로', '단일로', '교차로', '단일로', '단일로', '단일로', '교차로', '단일로', '교차로', '단일로', '단일로', '교차로', '교차로', '교차로', '교차로', '단일로', '교차로', '단일로', '교차로', '단일로', '단일로', '단일로', '단일로', '단일로', '단일로', '교차로', '단일로', '단일로', '단일로', '단일로', '단일로', '단일로', '교차로', '교차로', '단일로', '단일로', '단일로', '단일로', '단일로', '단일로', '단일로', '단일로', '단일로', '단일로', '단일로', '교차로', '교차로', '단일로', '단일로', '단일로', '단일로', '단일로', '교차로', '단일로', '단일로', '단일로', '단일로', '단일로', '교차로', '단일로', '단일로', '단일로', '단일로', '단일로', '단일로', '단일로', '단일로', '단일로', '단일로', '단일로', '교차로', '단일로', '교차로', '교차로', '교차로', '교차로', '단일로', '교차로', '단일로', '교차로', '단일로', '단일로', '교차로', '단일로', '단일로', '단일로', '단일로', '교차로', '단일로', '교차로', '단일로', '단일로', '단일로', '단일로', '교차로', '교차로', '단일로', '단일로', '단일로', '단일로', '단일로', '단일로', '교차로', '단일로', '단일로', '단일로', '교차로', '단일로', '단일로', '단일로', '단일로', '단일로', '단일로', '단일로', '단일로', '단일로', '단일로', '단일로', '단일로', '단일로', '단일로', '교차로', '단일로', '교차로', '단일로', '교차로', '단일로', '단일로', '교차로', '단일로', '단일로', '단일로', '단일로', '단일로', '단일로', '교차로', '단일로', '단일로', '단일로', '단일로', '단일로', '교차로', '단일로', '단일로', '단일로', '단일로', '단일로', '단일로', '교차로', '단일로', '단일로', '단일로', '단일로', '교차로', '교차로', '교차로', '단일로', '단일로', '단일로', '단일로', '단일로', '단일로', '교차로', '단일로', '교차로', '단일로', '단일로', '교차로', '단일로', '단일로', '단일로', '단일로', '단일로', '단일로', '단일로', '단일로', '단일로', '단일로', '단일로', '단일로', '단일로', '단일로', '단일로', '교차로', '단일로', '단일로', '교차로', '단일로', '단일로', '기타', '단일로', '단일로', '단일로', '단일로', '단일로', '단일로', '단일로', '단일로', '단일로', '단일로', '단일로', '단일로', '단일로', '단일로', '교차로', '단일로', '단일로', '단일로', '단일로', '단일로', '단일로', '단일로', '단일로', '단일로', '단일로', '단일로', '교차로', '단일로', '단일로', '단일로', '단일로', '단일로', '단일로', '단일로', '단일로', '단일로', '단일로', '단일로', '교차로', '단일로', '단일로', '단일로', '단일로', '단일로', '단일로', '단일로', '단일로', '단일로', '단일로', '단일로', '단일로', '단일로', '단일로', '단일로', '단일로', '단일로', '단일로', '단일로', '단일로', '단일로', '단일로', '교차로', '기타', '단일로', '단일로', '단일로', '단일로', '단일로', '단일로', '단일로', '교차로', '교차로', '단일로', '단일로', '단일로', '교차로', '교차로', '단일로', '단일로', '단일로', '단일로', '단일로', '단일로', '단일로', '단일로', '단일로', '단일로', '단일로', '단일로', '단일로', '교차로', '단일로', '단일로', '단일로', '단일로', '단일로', '단일로', '단일로', '단일로', '단일로', '단일로', '단일로', '단일로', '단일로', '단일로', '기타', '단일로', '교차로', '단일로', '교차로', '단일로', '교차로', '단일로', '단일로', '단일로', '단일로', '단일로', '기타', '단일로', '단일로', '단일로', '단일로', '단일로', '단일로', '단일로', '단일로', '단일로', '단일로', '단일로', '단일로', '단일로', '단일로', '교차로', '단일로', '단일로', '기타', '단일로', '단일로', '단일로', '단일로', '단일로', '단일로', '단일로', '단일로', '단일로', '교차로', '단일로', '단일로', '단일로', '단일로', '교차로', '단일로', '단일로', '단일로', '단일로', '단일로', '단일로', '단일로', '단일로', '단일로', '단일로', '단일로', '단일로', '단일로', '단일로', '단일로', '단일로', '단일로', '단일로', '단일로', '단일로', '단일로', '단일로', '단일로', '단일로', '단일로', '교차로', '단일로', '단일로', '단일로', '단일로', '단일로', '단일로', '단일로', '단일로', '단일로', '기타', '단일로', '단일로', '단일로', '단일로', '교차로', '단일로', '단일로', '단일로', '단일로', '단일로', '단일로', '단일로', '단일로', '단일로', '단일로', '단일로', '교차로', '단일로', '단일로', '단일로', '단일로', '단일로', '단일로', '단일로', '단일로', '단일로', '단일로', '단일로', '단일로', '단일로', '단일로', '단일로', '단일로', '단일로', '교차로', '단일로', '단일로', '단일로', '교차로', '단일로', '단일로', '단일로', '기타', '단일로', '단일로', '단일로', '단일로', '교차로', '단일로', '교차로', '교차로', '교차로', '단일로', '단일로', '단일로', '단일로', '단일로', '단일로', '단일로', '단일로', '단일로', '단일로', '단일로', '단일로', '교차로', '단일로', '단일로', '단일로', '단일로', '단일로', '교차로', '단일로', '단일로', '단일로', '단일로', '단일로', '단일로', '단일로', '단일로', '단일로', '단일로', '단일로', '단일로', '단일로', '단일로', '교차로', '교차로', '교차로', '교차로', '교차로', '교차로', '단일로', '단일로', '단일로', '단일로', '단일로', '단일로', '단일로', '단일로', '단일로', '단일로', '단일로', '교차로', '단일로', '교차로', '단일로', '단일로', '단일로', '단일로', '교차로', '단일로', '단일로', '단일로', '단일로', '기타', '교차로', '단일로', '단일로', '단일로', '단일로', '단일로', '단일로', '단일로', '단일로', '단일로', '단일로', '단일로', '단일로', '단일로', '단일로', '단일로', '단일로', '단일로', '단일로', '교차로', '단일로', '단일로', '교차로', '단일로', '단일로', '단일로', '단일로', '단일로', '교차로', '단일로', '교차로', '단일로', '교차로', '단일로', '단일로', '단일로', '단일로', '단일로', '단일로', '단일로', '단일로', '교차로', '단일로', '교차로', '단일로', '단일로', '단일로', '단일로', '단일로', '단일로', '단일로', '단일로', '단일로', '단일로', '단일로', '기타', '단일로', '단일로', '단일로', '단일로', '단일로', '단일로', '단일로', '교차로', '단일로', '단일로', '단일로', '단일로', '단일로', '단일로', '단일로', '단일로', '교차로', '단일로', '단일로', '단일로', '단일로', '단일로', '단일로', '단일로', '단일로', '단일로', '교차로', '단일로', '교차로', '단일로', '단일로', '단일로', '단일로', '교차로', '단일로', '단일로', '단일로', '단일로', '교차로', '교차로', '단일로', '단일로', '단일로', '단일로', '단일로', '단일로', '단일로', '단일로', '단일로', '단일로', '단일로', '교차로', '단일로', '단일로', '단일로', '단일로', '단일로', '교차로', '단일로', '교차로', '교차로', '단일로', '단일로', '교차로', '교차로', '단일로', '단일로', '단일로', '단일로', '단일로', '단일로', '단일로', '단일로', '단일로', '교차로', '단일로', '단일로', '단일로', '단일로', '단일로', '단일로', '단일로', '단일로', '단일로', '기타', '단일로', '단일로', '기타', '단일로', '단일로', '단일로', '단일로', '단일로', '단일로', '단일로', '단일로', '교차로', '교차로', '단일로', '단일로', '교차로', '교차로', '단일로', '단일로', '단일로', '단일로', '단일로', '교차로', '단일로', '단일로', '단일로', '단일로', '단일로', '교차로', '교차로', '단일로', '단일로', '단일로', '단일로', '교차로', '단일로', '단일로', '단일로', '단일로', '단일로', '교차로', '단일로', '단일로', '교차로', '단일로', '교차로', '단일로', '단일로', '단일로', '단일로', '단일로', '단일로', '단일로', '단일로', '단일로', '단일로', '단일로', '교차로', '교차로', '단일로', '단일로', '단일로', '교차로', '단일로', '단일로', '단일로', '기타', '단일로', '단일로', '단일로', '단일로', '단일로', '단일로', '단일로', '단일로', '단일로', '단일로', '단일로', '단일로', '단일로', '단일로', '단일로', '단일로', '교차로', '단일로', '단일로', '단일로', '단일로', '단일로', '단일로', '단일로', '단일로', '단일로', '기타', '단일로', '단일로', '단일로', '교차로', '단일로', '교차로', '단일로', '단일로', '단일로', '단일로', '교차로', '단일로', '단일로', '단일로', '단일로', '단일로', '단일로', '단일로', '단일로', '단일로', '단일로', '단일로', '단일로', '단일로', '단일로', '단일로', '단일로', '단일로', '단일로', '단일로', '단일로', '단일로', '단일로', '단일로', '단일로', '단일로', '단일로', '단일로', '교차로', '단일로', '단일로', '단일로', '단일로', '단일로', '기타', '단일로', '단일로', '단일로', '단일로', '단일로', '단일로', '단일로', '단일로', '단일로', '기타', '단일로', '단일로', '단일로', '교차로', '단일로', '단일로', '단일로', '단일로', '단일로', '단일로', '교차로', '교차로', '단일로', '교차로', '단일로', '단일로', '단일로', '단일로', '교차로', '단일로', '단일로', '단일로', '교차로', '단일로', '단일로', '단일로', '단일로', '단일로', '교차로', '단일로', '교차로', '기타', '단일로', '단일로', '단일로', '단일로', '단일로', '단일로', '단일로', '단일로', '단일로', '단일로', '단일로', '단일로', '단일로', '교차로', '교차로', '단일로', '단일로', '교차로', '단일로', '단일로', '단일로', '교차로', '단일로', '단일로', '단일로', '단일로', '단일로', '단일로', '단일로', '교차로', '단일로', '단일로', '단일로', '단일로', '단일로', '단일로', '단일로', '단일로', '단일로', '단일로', '단일로', '단일로', '단일로', '단일로', '단일로', '단일로', '단일로', '단일로', '단일로', '단일로', '단일로', '단일로', '단일로', '단일로', '단일로', '단일로', '단일로', '교차로', '교차로', '단일로', '단일로', '단일로', '단일로', '단일로', '단일로', '단일로', '단일로', '단일로', '단일로', '단일로', '단일로', '교차로', '단일로', '단일로', '단일로', '단일로', '단일로', '단일로', '교차로', '단일로', '단일로', '교차로', '단일로', '교차로', '교차로', '단일로', '단일로', '단일로', '단일로', '단일로', '단일로', '단일로', '단일로', '단일로', '단일로', '단일로', '단일로', '단일로', '단일로', '단일로', '단일로', '단일로', '단일로', '단일로', '단일로', '단일로', '단일로', '단일로', '단일로', '단일로', '단일로', '단일로', '단일로', '교차로', '단일로', '단일로', '단일로', '단일로', '단일로', '단일로', '단일로', '단일로', '단일로', '단일로', '단일로', '단일로', '교차로', '단일로', '단일로', '단일로', '단일로', '교차로', '단일로', '교차로', '단일로', '단일로', '단일로', '단일로', '단일로', '단일로', '단일로', '단일로', '단일로', '단일로', '단일로', '단일로', '단일로', '단일로', '단일로', '단일로', '단일로', '단일로', '단일로', '단일로', '단일로', '단일로', '교차로', '단일로', '단일로', '단일로', '단일로', '단일로', '단일로', '단일로', '단일로', '단일로', '단일로', '단일로', '단일로', '단일로', '단일로', '단일로', '단일로', '교차로', '단일로', '단일로', '단일로', '단일로', '단일로', '단일로', '단일로', '단일로', '교차로', '교차로', '교차로', '교차로', '단일로', '교차로', '단일로', '단일로', '단일로', '단일로', '단일로', '교차로', '단일로', '단일로', '단일로', '단일로', '단일로', '단일로', '단일로', '단일로', '단일로', '단일로', '단일로', '단일로', '단일로', '단일로', '단일로', '단일로', '교차로', '교차로', '단일로', '단일로', '단일로', '단일로', '단일로', '단일로', '단일로', '단일로', '교차로', '교차로', '교차로', '교차로', '기타', '기타', '단일로', '단일로', '단일로', '단일로', '기타', '단일로', '교차로', '기타', '단일로', '단일로', '단일로', '단일로', '단일로', '단일로', '단일로', '단일로', '단일로', '교차로', '단일로', '단일로', '단일로', '단일로', '단일로', '단일로', '단일로', '단일로', '단일로', '단일로', '단일로', '단일로', '기타', '교차로', '단일로', '교차로', '교차로', '단일로', '단일로', '단일로', '단일로', '단일로', '단일로', '단일로', '단일로', '단일로', '단일로', '단일로', '단일로', '단일로', '단일로', '단일로', '단일로', '단일로', '단일로', '단일로', '단일로', '단일로', '단일로', '단일로', '단일로', '단일로', '단일로', '단일로', '단일로', '단일로', '단일로', '단일로', '단일로', '단일로', '단일로', '단일로', '단일로', '단일로', '교차로', '교차로', '단일로', '교차로', '교차로', '단일로', '단일로', '단일로', '단일로', '단일로', '단일로', '단일로', '단일로', '단일로', '교차로', '단일로', '단일로', '단일로', '단일로', '교차로', '교차로', '교차로', '단일로', '단일로', '단일로', '단일로', '단일로', '단일로', '단일로', '단일로', '단일로', '단일로', '교차로', '단일로', '교차로', '단일로', '교차로', '단일로', '교차로', '교차로', '단일로', '단일로', '단일로', '단일로', '단일로', '단일로', '단일로', '단일로', '단일로', '단일로', '단일로', '교차로', '교차로', '교차로', '단일로', '교차로', '단일로', '단일로', '단일로', '단일로', '단일로', '단일로', '단일로', '단일로', '단일로', '단일로', '단일로', '단일로', '단일로', '단일로', '단일로', '단일로', '단일로', '단일로', '단일로', '단일로', '단일로', '단일로', '단일로', '단일로', '단일로', '단일로', '단일로', '단일로', '단일로', '교차로', '교차로', '단일로', '단일로', '단일로', '단일로', '단일로', '단일로', '단일로', '단일로', '교차로', '단일로', '단일로', '교차로', '단일로', '단일로', '단일로', '단일로', '교차로', '단일로', '단일로', '단일로', '단일로', '단일로', '단일로', '단일로', '단일로', '단일로', '단일로', '단일로', '단일로', '단일로', '단일로', '단일로', '단일로', '단일로', '단일로', '단일로', '단일로', '단일로', '단일로', '단일로', '교차로', '단일로', '단일로', '단일로', '단일로', '단일로', '단일로', '단일로', '단일로', '단일로', '단일로', '단일로', '단일로', '단일로', '단일로', '단일로', '단일로', '단일로', '단일로', '교차로', '단일로', '단일로', '교차로', '단일로', '단일로', '교차로', '단일로', '단일로', '단일로', '단일로', '단일로', '단일로', '단일로', '단일로', '교차로', '단일로', '단일로', '단일로', '단일로', '단일로', '단일로', '단일로', '단일로', '단일로', '단일로', '단일로', '단일로', '단일로', '단일로', '단일로', '단일로', '단일로', '교차로', '단일로', '단일로', '단일로', '단일로', '단일로', '단일로', '단일로', '교차로', '단일로', '단일로', '단일로', '교차로', '단일로', '단일로', '단일로', '단일로', '단일로', '단일로', '단일로', '단일로', '단일로', '단일로', '단일로', '교차로', '단일로', '단일로', '기타', '단일로', '단일로', '단일로', '단일로', '교차로', '단일로', '단일로', '단일로', '교차로', '교차로', '단일로', '단일로', '단일로', '단일로', '단일로', '단일로', '단일로', '단일로', '단일로', '단일로', '단일로', '단일로', '단일로', '단일로', '단일로', '단일로', '단일로', '기타', '기타', '교차로', '교차로', '교차로', '교차로', '단일로', '단일로', '교차로', '교차로', '단일로', '단일로', '단일로', '단일로', '단일로', '단일로', '교차로', '교차로', '단일로', '단일로', '단일로', '단일로', '단일로', '단일로', '단일로', '단일로', '교차로', '단일로', '기타', '단일로', '단일로', '단일로', '단일로', '단일로', '교차로', '단일로', '단일로', '단일로', '단일로', '교차로', '교차로', '단일로', '단일로', '교차로', '교차로', '단일로', '단일로', '단일로', '단일로', '단일로', '단일로', '단일로', '단일로', '교차로', '단일로', '단일로', '교차로', '단일로', '단일로', '단일로', '단일로', '단일로', '교차로', '교차로', '교차로', '교차로', '단일로', '단일로', '단일로', '단일로', '단일로', '단일로', '단일로', '단일로', '단일로', '단일로', '단일로', '단일로', '단일로', '단일로', '단일로', '단일로', '단일로', '교차로', '단일로', '교차로', '교차로', '단일로', '단일로', '단일로', '단일로', '교차로', '단일로', '단일로', '교차로', '교차로', '교차로', '단일로', '단일로', '단일로', '단일로', '단일로', '단일로', '단일로', '단일로', '단일로', '단일로', '단일로', '단일로', '교차로', '교차로', '교차로', '단일로', '단일로', '단일로', '교차로', '교차로', '교차로', '단일로', '단일로', '단일로', '단일로', '단일로', '단일로', '교차로', '교차로', '교차로', '교차로', '교차로', '단일로', '단일로', '단일로', '단일로', '교차로', '교차로', '단일로', '단일로', '단일로', '단일로', '단일로', '단일로', '단일로', '단일로', '교차로', '교차로', '단일로', '교차로', '교차로', '단일로', '단일로', '교차로', '교차로', '단일로', '단일로', '단일로', '기타', '기타', '단일로', '단일로', '단일로', '단일로', '단일로', '단일로', '단일로', '단일로', '단일로', '단일로', '단일로', '단일로', '단일로', '단일로', '단일로', '단일로', '단일로', '단일로', '단일로', '단일로', '교차로', '교차로', '단일로', '단일로', '단일로', '단일로', '교차로', '교차로', '단일로', '단일로', '단일로', '단일로', '교차로', '교차로', '단일로', '단일로', '단일로', '단일로', '단일로', '단일로', '단일로', '단일로', '단일로', '단일로', '단일로', '단일로', '단일로', '교차로', '단일로', '단일로', '단일로', '단일로', '기타', '단일로', '단일로', '교차로', '교차로', '단일로', '교차로', '교차로', '교차로', '단일로', '단일로', '단일로', '단일로', '단일로', '단일로', '단일로', '단일로', '단일로', '단일로', '단일로', '단일로', '단일로', '단일로', '단일로', '단일로', '단일로', '단일로', '단일로', '단일로', '단일로', '단일로', '단일로', '단일로', '단일로', '단일로', '단일로', '단일로', '단일로', '단일로', '단일로', '단일로', '단일로', '단일로', '교차로', '단일로', '단일로', '단일로', '단일로', '단일로', '단일로', '단일로', '교차로', '교차로', '단일로', '단일로', '교차로', '교차로', '교차로', '교차로', '단일로', '단일로', '교차로', '단일로', '단일로', '단일로', '교차로', '단일로', '단일로', '단일로', '단일로', '단일로', '단일로', '단일로', '단일로', '단일로', '교차로', '단일로', '교차로', '단일로', '교차로', '단일로', '단일로', '교차로', '단일로', '단일로', '단일로', '단일로', '단일로', '단일로', '기타', '단일로', '교차로', '단일로', '교차로', '교차로', '교차로', '교차로', '단일로', '단일로', '단일로', '단일로', '단일로', '단일로', '단일로', '단일로', '단일로', '단일로', '교차로', '교차로', '단일로', '단일로', '단일로', '단일로', '교차로', '교차로', '단일로', '단일로', '단일로', '단일로', '단일로', '단일로', '단일로', '단일로', '단일로', '단일로', '교차로', '단일로', '단일로', '단일로', '단일로', '단일로', '교차로', '단일로', '단일로', '단일로', '단일로', '단일로', '단일로', '단일로', '단일로', '단일로', '단일로', '단일로', '단일로', '단일로', '단일로', '단일로', '단일로', '단일로', '단일로', '단일로', '단일로', '단일로', '단일로', '단일로', '단일로', '단일로', '교차로', '단일로', '단일로', '단일로', '단일로', '단일로', '단일로', '단일로', '단일로', '교차로', '단일로', '단일로', '단일로', '단일로', '단일로', '단일로', '단일로', '단일로', '단일로', '단일로', '단일로', '단일로', '단일로', '단일로', '단일로', '단일로', '교차로', '교차로', '단일로', '단일로', '단일로', '단일로', '교차로', '교차로', '단일로', '단일로', '단일로', '단일로', '단일로', '단일로', '단일로', '단일로', '단일로', '단일로', '교차로', '교차로', '교차로', '교차로', '교차로', '교차로', '단일로', '단일로', '단일로', '교차로', '교차로', '교차로', '단일로', '단일로', '단일로', '단일로', '단일로', '단일로', '교차로', '교차로', '단일로', '단일로', '단일로', '단일로', '단일로', '단일로', '단일로', '단일로', '교차로', '교차로', '교차로', '교차로', '단일로', '단일로', '단일로', '단일로', '교차로', '단일로', '단일로', '교차로', '단일로', '교차로', '교차로', '단일로', '단일로', '단일로', '교차로', '단일로', '교차로', '교차로', '단일로', '단일로', '교차로', '단일로', '교차로', '단일로', '단일로', '단일로', '기타', '단일로', '단일로', '단일로', '단일로', '단일로', '단일로', '단일로', '단일로', '단일로', '단일로', '단일로', '단일로', '단일로', '단일로', '단일로', '단일로', '단일로', '단일로', '교차로', '단일로', '단일로', '단일로', '단일로', '단일로', '단일로', '단일로', '단일로', '단일로', '단일로', '단일로', '교차로', '교차로', '교차로', '단일로', '단일로', '단일로', '단일로', '단일로', '단일로', '단일로', '단일로', '단일로', '교차로', '교차로', '교차로', '교차로', '단일로', '단일로', '단일로', '단일로', '단일로', '단일로', '단일로', '단일로', '단일로', '단일로', '단일로', '교차로', '교차로', '교차로', '교차로', '단일로', '단일로', '단일로', '단일로', '교차로', '교차로', '단일로', '단일로', '단일로', '단일로', '단일로', '단일로', '단일로', '단일로', '단일로', '단일로', '단일로', '단일로', '단일로', '단일로', '교차로', '교차로', '단일로', '단일로', '단일로', '교차로', '단일로', '단일로', '단일로', '단일로', '단일로', '단일로', '단일로', '단일로', '단일로', '단일로', '단일로', '교차로', '교차로', '단일로', '단일로', '교차로', '단일로', '교차로', '단일로', '교차로', '단일로', '단일로', '단일로', '단일로', '교차로', '단일로', '단일로', '교차로', '교차로', '단일로', '교차로', '단일로', '단일로', '교차로', '교차로', '단일로', '단일로', '단일로', '단일로', '단일로', '교차로', '단일로', '교차로', '교차로', '단일로', '단일로', '교차로', '교차로', '단일로', '단일로', '교차로', '교차로', '교차로', '교차로', '교차로', '단일로', '단일로', '단일로', '단일로', '단일로', '단일로', '단일로', '단일로', '단일로', '단일로', '단일로', '단일로', '단일로', '단일로', '단일로', '단일로', '단일로', '단일로', '단일로', '단일로', '단일로', '단일로', '단일로', '단일로', '단일로', '단일로', '단일로', '단일로', '단일로', '단일로', '단일로', '단일로', '단일로', '단일로', '단일로', '단일로', '단일로', '단일로', '단일로', '단일로', '단일로', '단일로', '단일로', '단일로', '단일로', '단일로', '단일로', '단일로', '단일로', '교차로', '교차로', '교차로', '교차로', '단일로', '단일로', '단일로', '단일로', '단일로', '단일로', '단일로', '단일로', '단일로', '단일로', '단일로', '단일로', '단일로', '단일로', '단일로', '단일로', '단일로', '단일로', '단일로', '단일로', '단일로', '단일로', '단일로', '단일로', '단일로', '단일로', '단일로', '단일로', '단일로', '단일로', '단일로', '단일로', '단일로', '단일로', '단일로', '단일로', '단일로', '단일로', '단일로', '단일로', '단일로', '단일로', '단일로', '단일로', '기타', '기타', '단일로', '단일로', '단일로', '단일로', '단일로', '단일로', '단일로', '단일로', '단일로', '교차로', '단일로', '단일로', '단일로', '단일로', '단일로', '단일로', '단일로', '교차로', '교차로', '단일로', '교차로', '교차로', '단일로', '교차로', '교차로', '교차로', '단일로', '단일로', '단일로', '단일로', '단일로', '단일로', '단일로', '단일로', '교차로', '교차로', '단일로', '단일로', '교차로', '교차로', '교차로', '교차로', '단일로', '단일로', '단일로', '단일로', '교차로', '교차로', '단일로', '단일로', '단일로', '단일로', '단일로', '단일로', '단일로', '단일로', '단일로', '단일로', '단일로', '단일로', '단일로', '단일로', '단일로', '기타', '교차로', '단일로', '단일로', '교차로', '단일로', '단일로', '단일로', '교차로', '단일로', '단일로', '교차로', '교차로', '단일로', '단일로', '교차로', '단일로', '단일로', '단일로', '단일로', '단일로', '단일로', '교차로', '단일로', '교차로', '단일로', '단일로', '단일로', '단일로', '단일로', '단일로', '단일로', '단일로', '단일로', '단일로', '단일로', '단일로', '단일로', '단일로', '단일로', '단일로', '단일로', '단일로', '단일로', '교차로', '단일로', '단일로', '단일로', '단일로', '단일로', '단일로', '단일로', '단일로', '단일로', '단일로', '단일로', '단일로', '단일로', '단일로', '단일로', '단일로', '단일로', '단일로', '단일로', '단일로', '단일로', '단일로', '단일로', '단일로', '단일로', '단일로', '교차로', '교차로', '단일로', '단일로', '단일로', '단일로', '단일로', '단일로', '단일로', '단일로', '단일로', '단일로', '단일로', '단일로', '단일로', '단일로', '단일로', '단일로', '단일로', '단일로', '단일로', '단일로', '단일로', '단일로', '교차로', '교차로', '단일로', '단일로', '단일로', '단일로', '단일로', '단일로', '단일로', '단일로', '교차로', '교차로', '교차로', '교차로', '교차로', '교차로', '교차로', '교차로', '교차로', '교차로', '교차로', '단일로', '단일로', '단일로', '단일로', '단일로', '단일로', '단일로', '단일로', '단일로', '단일로', '단일로', '단일로', '단일로', '단일로', '단일로', '단일로', '단일로', '단일로', '단일로', '단일로', '단일로', '단일로', '단일로', '단일로', '단일로', '단일로', '단일로', '단일로', '단일로', '단일로', '단일로', '단일로', '교차로', '교차로', '단일로', '단일로', '단일로', '단일로', '단일로', '단일로', '단일로', '교차로', '단일로', '단일로', '단일로', '단일로', '단일로', '단일로', '단일로', '단일로', '단일로', '단일로', '단일로', '단일로', '단일로', '단일로', '단일로', '단일로', '기타', '단일로', '교차로', '기타', '단일로', '기타', '기타', '단일로', '단일로', '단일로', '기타', '기타', '기타', '단일로', '단일로', '단일로', '단일로', '단일로', '단일로', '단일로', '단일로', '단일로', '단일로', '단일로', '단일로', '교차로', '단일로', '단일로', '단일로', '교차로', '단일로', '단일로', '단일로', '교차로', '교차로', '단일로', '단일로', '단일로', '단일로', '단일로', '단일로', '단일로', '단일로', '단일로', '단일로', '단일로', '단일로', '단일로', '단일로', '단일로', '단일로', '단일로', '단일로', '단일로', '단일로', '단일로', '단일로', '단일로', '단일로', '단일로', '단일로', '단일로', '단일로', '단일로', '단일로', '단일로', '단일로', '단일로', '단일로', '단일로', '단일로', '단일로', '단일로', '단일로', '단일로', '단일로', '단일로', '단일로', '단일로', '단일로', '교차로', '교차로', '단일로', '단일로', '교차로', '교차로', '단일로', '단일로', '단일로', '단일로', '단일로', '단일로', '단일로', '단일로', '단일로', '단일로', '단일로', '교차로', '단일로', '단일로', '단일로', '단일로', '교차로', '단일로', '단일로', '교차로', '교차로', '교차로', '교차로', '단일로', '단일로', '단일로', '단일로', '단일로', '단일로', '교차로', '교차로', '교차로', '교차로', '단일로', '단일로', '단일로', '단일로', '단일로', '단일로', '단일로', '단일로', '기타', '기타', '교차로', '교차로', '교차로', '교차로', '단일로', '단일로', '단일로', '단일로', '단일로', '단일로', '단일로', '단일로', '단일로', '단일로', '교차로', '단일로', '교차로', '단일로', '단일로', '단일로', '단일로', '단일로', '교차로', '단일로', '단일로', '단일로', '단일로', '단일로', '단일로', '단일로', '단일로', '단일로', '단일로', '단일로', '단일로', '단일로', '단일로', '단일로', '단일로', '단일로', '단일로', '단일로', '단일로', '단일로', '단일로', '단일로', '단일로', '단일로', '단일로', '단일로', '단일로', '단일로', '단일로', '단일로', '단일로', '단일로', '단일로', '단일로', '단일로', '단일로', '단일로', '단일로', '단일로', '단일로', '단일로', '단일로', '단일로', '교차로', '단일로', '단일로', '단일로', '단일로', '단일로', '교차로', '단일로', '단일로', '단일로', '교차로', '단일로', '단일로', '단일로', '단일로', '교차로', '단일로', '단일로', '단일로', '단일로', '교차로', '단일로', '교차로', '단일로', '단일로', '단일로', '단일로', '단일로', '단일로', '단일로', '교차로', '교차로', '단일로', '단일로', '단일로', '단일로', '단일로', '단일로', '단일로', '단일로', '단일로', '단일로', '단일로', '단일로', '단일로', '단일로', '교차로', '교차로', '단일로', '단일로', '단일로', '단일로', '교차로', '교차로', '단일로', '단일로', '교차로', '교차로', '교차로', '교차로', '교차로', '교차로', '단일로', '단일로', '단일로', '단일로', '교차로', '교차로', '단일로', '단일로', '교차로', '교차로', '단일로', '단일로', '단일로', '단일로', '단일로', '단일로', '단일로', '단일로', '단일로', '단일로', '교차로', '교차로', '단일로', '단일로', '단일로', '단일로', '기타', '기타', '단일로', '단일로', '단일로', '단일로', '단일로', '단일로', '교차로', '교차로', '단일로', '단일로', '단일로', '단일로', '단일로', '단일로', '단일로', '단일로', '단일로', '단일로', '교차로', '교차로', '단일로', '단일로', '교차로', '교차로', '교차로', '교차로', '단일로', '단일로', '교차로', '교차로', '단일로', '단일로', '단일로', '단일로', '단일로', '단일로', '단일로', '단일로', '교차로', '교차로', '단일로', '단일로', '단일로', '단일로', '단일로', '단일로', '단일로', '단일로', '교차로', '교차로', '단일로', '단일로', '단일로', '단일로', '교차로', '교차로', '단일로', '단일로', '단일로', '단일로', '단일로', '단일로', '단일로', '단일로', '교차로', '교차로', '단일로', '단일로', '단일로', '교차로', '단일로', '교차로', '단일로', '단일로', '교차로', '교차로', '단일로', '단일로', '단일로', '단일로', '단일로', '단일로', '단일로', '단일로', '단일로', '단일로', '단일로', '단일로', '단일로', '단일로', '교차로', '단일로', '단일로', '단일로', '단일로', '단일로', '단일로', '단일로', '단일로', '단일로', '단일로', '단일로', '단일로', '단일로', '단일로', '단일로', '단일로', '단일로', '단일로', '단일로', '단일로', '단일로', '단일로', '교차로', '교차로', '교차로', '교차로', '단일로', '단일로', '단일로', '단일로', '단일로', '단일로', '단일로', '단일로', '단일로', '단일로', '단일로', '단일로', '교차로', '교차로', '교차로', '교차로', '단일로', '단일로', '단일로', '단일로', '단일로', '단일로', '교차로', '단일로', '단일로', '단일로', '단일로', '단일로', '단일로', '단일로', '단일로', '단일로', '단일로', '단일로', '교차로', '교차로', '단일로', '단일로', '단일로', '단일로', '단일로', '단일로', '단일로', '단일로', '단일로', '단일로', '단일로', '단일로', '교차로', '교차로', '단일로', '단일로', '교차로', '단일로', '단일로', '단일로', '단일로', '단일로', '단일로', '교차로', '단일로', '단일로', '단일로', '단일로', '단일로', '단일로', '단일로', '단일로', '교차로', '단일로', '교차로', '교차로', '단일로', '단일로', '기타', '단일로', '단일로', '교차로', '교차로', '단일로', '단일로', '단일로', '단일로', '단일로', '단일로', '교차로', '교차로', '교차로', '교차로', '단일로', '단일로', '단일로', '단일로', '단일로', '단일로', '교차로', '교차로', '단일로', '단일로', '단일로', '단일로', '단일로', '단일로', '단일로', '단일로', '교차로', '교차로', '교차로', '단일로', '단일로', '단일로', '단일로', '단일로', '단일로', '단일로', '단일로', '단일로', '단일로', '단일로', '교차로', '단일로', '단일로', '단일로', '기타', '단일로', '단일로', '교차로', '단일로', '단일로', '단일로', '단일로', '단일로', '단일로', '단일로', '단일로', '단일로', '단일로', '단일로', '단일로', '단일로', '단일로', '단일로', '단일로', '단일로', '단일로', '단일로', '단일로', '단일로', '단일로', '단일로', '단일로', '단일로', '단일로', '단일로', '단일로', '단일로', '단일로', '단일로', '단일로', '단일로', '단일로', '교차로', '교차로', '단일로', '단일로', '단일로', '단일로', '단일로', '단일로', '단일로', '단일로', '단일로', '단일로', '단일로', '단일로', '단일로', '단일로', '단일로', '단일로', '단일로', '단일로', '단일로', '교차로', '단일로', '교차로', '교차로', '단일로', '교차로', '교차로', '교차로', '단일로', '단일로', '단일로', '단일로', '단일로', '단일로', '단일로', '단일로', '단일로', '단일로', '단일로', '단일로', '단일로', '단일로', '교차로', '교차로', '교차로', '교차로', '교차로', '단일로', '단일로', '단일로', '단일로', '단일로', '단일로', '단일로', '단일로', '교차로', '단일로', '교차로', '단일로', '단일로', '단일로', '단일로', '단일로', '단일로', '단일로', '단일로', '단일로', '교차로', '교차로', '단일로', '단일로', '단일로', '단일로', '교차로', '단일로', '단일로', '단일로', '단일로', '단일로', '단일로', '단일로', '단일로', '단일로', '단일로', '단일로', '단일로', '단일로', '단일로', '기타', '단일로', '단일로', '단일로', '단일로', '교차로', '단일로', '단일로', '단일로', '교차로', '단일로', '단일로', '단일로', '교차로', '단일로', '단일로', '단일로', '단일로', '교차로', '교차로', '단일로', '단일로', '단일로', '단일로', '단일로', '단일로', '단일로', '단일로', '단일로', '교차로', '단일로', '단일로', '단일로', '교차로', '교차로', '단일로', '교차로', '교차로', '교차로', '교차로', '교차로', '교차로', '단일로', '단일로', '교차로', '단일로', '교차로', '단일로', '교차로', '단일로', '교차로', '단일로', '단일로', '단일로', '단일로', '단일로', '교차로', '단일로', '단일로', '교차로', '기타', '교차로', '교차로', '교차로', '단일로', '교차로', '단일로', '단일로', '단일로', '교차로', '단일로', '교차로', '교차로', '단일로', '교차로', '단일로', '단일로', '교차로', '단일로', '단일로', '단일로', '단일로', '단일로', '단일로', '교차로', '교차로', '단일로', '단일로', '단일로', '단일로', '단일로', '단일로', '단일로', '단일로', '단일로', '단일로', '교차로', '교차로', '단일로', '단일로', '단일로', '단일로', '단일로', '단일로', '교차로', '교차로', '단일로', '단일로', '단일로', '단일로', '단일로', '교차로', '단일로', '단일로', '단일로', '단일로', '단일로', '단일로', '단일로', '단일로', '단일로', '단일로', '교차로', '교차로', '단일로', '단일로', '단일로', '단일로', '교차로', '교차로', '단일로', '단일로', '단일로', '단일로', '단일로', '단일로', '단일로', '교차로', '단일로', '단일로', '단일로', '단일로', '단일로', '단일로', '단일로', '교차로', '교차로', '단일로', '단일로', '단일로', '단일로', '단일로', '단일로', '단일로', '교차로', '단일로', '단일로', '단일로', '교차로', '단일로', '단일로', '단일로', '단일로', '단일로', '단일로', '단일로', '단일로', '단일로', '단일로', '단일로', '단일로', '단일로', '단일로', '단일로', '기타', '단일로', '단일로', '단일로', '기타', '단일로', '단일로', '단일로', '교차로', '교차로', '단일로', '단일로', '단일로', '단일로', '단일로', '단일로', '단일로', '단일로', '교차로', '교차로', '단일로', '단일로', '단일로', '단일로', '교차로', '교차로', '단일로', '단일로', '단일로', '단일로', '단일로', '교차로', '교차로', '교차로', '단일로', '단일로', '단일로', '단일로', '단일로', '단일로', '단일로', '단일로', '단일로', '단일로', '단일로', '단일로', '단일로', '단일로', '단일로', '단일로', '교차로', '단일로', '교차로', '단일로', '단일로', '단일로', '단일로', '단일로', '교차로', '기타', '기타', '단일로', '단일로', '단일로', '교차로', '단일로', '단일로', '단일로', '단일로', '기타', '단일로', '단일로', '교차로', '단일로', '교차로', '단일로', '단일로', '교차로', '교차로', '교차로', '교차로', '단일로', '단일로', '단일로', '단일로', '단일로', '단일로', '교차로', '단일로', '교차로', '단일로', '단일로', '단일로', '단일로', '단일로', '단일로', '교차로', '단일로', '교차로', '단일로', '단일로', '단일로', '단일로', '단일로', '단일로', '단일로', '단일로', '단일로', '단일로', '단일로', '교차로', '단일로', '단일로', '단일로', '교차로', '교차로', '교차로', '단일로', '단일로', '단일로', '단일로', '단일로', '단일로', '단일로', '단일로', '단일로', '단일로', '교차로', '단일로', '교차로', '단일로', '교차로', '단일로', '교차로', '단일로', '교차로', '교차로', '교차로', '단일로', '단일로', '단일로', '단일로', '단일로', '단일로', '단일로', '단일로', '단일로', '교차로', '교차로', '교차로', '단일로', '단일로', '단일로', '단일로', '단일로', '단일로', '단일로', '단일로', '단일로', '단일로', '단일로', '단일로', '단일로', '단일로', '단일로', '단일로', '단일로', '단일로', '교차로', '교차로', '교차로', '기타', '단일로', '교차로', '교차로', '단일로', '단일로', '교차로', '교차로', '단일로', '기타', '교차로', '단일로', '교차로', '교차로', '교차로', '단일로', '교차로', '교차로', '단일로', '단일로', '단일로', '단일로', '단일로', '단일로', '단일로', '교차로', '단일로', '단일로', '단일로', '단일로', '교차로', '단일로', '단일로', '단일로', '교차로', '교차로', '단일로', '단일로', '단일로', '단일로', '단일로', '단일로', '단일로', '교차로', '단일로', '단일로', '교차로', '단일로', '단일로', '단일로', '교차로', '교차로', '단일로', '단일로', '교차로', '교차로', '교차로', '단일로', '단일로', '단일로', '기타', '단일로', '단일로', '단일로', '단일로', '단일로', '단일로', '교차로', '단일로', '단일로', '단일로', '단일로', '단일로', '단일로', '단일로', '단일로', '교차로', '단일로', '단일로', '단일로', '단일로', '단일로', '단일로', '교차로', '단일로', '단일로', '단일로', '단일로', '단일로', '단일로', '교차로', '단일로', '교차로', '교차로', '단일로', '단일로', '단일로', '단일로', '교차로', '단일로', '교차로', '단일로', '기타', '단일로', '단일로', '단일로', '교차로', '교차로', '단일로', '단일로', '교차로', '단일로', '단일로', '교차로', '교차로', '교차로', '단일로', '단일로', '교차로', '교차로', '교차로', '교차로', '단일로', '단일로', '교차로', '교차로', '단일로', '단일로', '교차로', '단일로', '단일로', '교차로', '교차로', '단일로', '단일로', '단일로', '단일로', '교차로', '교차로', '단일로', '단일로', '단일로', '단일로', '단일로', '단일로', '단일로', '단일로', '단일로', '단일로', '단일로', '단일로', '단일로', '단일로', '교차로', '교차로', '단일로', '단일로', '단일로', '단일로', '단일로', '단일로', '단일로', '단일로', '교차로', '교차로', '단일로', '단일로', '교차로', '교차로', '단일로', '단일로', '교차로', '교차로', '단일로', '단일로', '교차로', '단일로', '교차로', '교차로', '단일로', '단일로', '단일로', '단일로', '단일로', '단일로', '교차로', '단일로', '단일로', '단일로', '단일로', '단일로', '단일로', '단일로', '단일로', '교차로', '단일로', '단일로', '단일로', '교차로', '단일로', '단일로', '교차로', '기타', '단일로', '단일로', '단일로', '단일로', '단일로', '단일로', '단일로', '단일로', '단일로', '단일로', '단일로', '단일로', '단일로', '단일로', '단일로', '단일로', '단일로', '단일로', '단일로', '단일로', '단일로', '단일로', '단일로', '단일로', '단일로', '단일로', '단일로', '단일로', '단일로', '단일로', '단일로', '단일로', '단일로', '교차로', '단일로', '교차로', '단일로', '단일로', '단일로', '단일로', '단일로', '단일로', '단일로', '단일로', '단일로', '단일로', '단일로', '단일로', '교차로', '교차로', '교차로', '단일로', '단일로', '단일로', '단일로', '단일로', '단일로', '단일로', '교차로', '교차로', '단일로', '단일로', '단일로', '교차로', '단일로', '단일로', '교차로', '교차로', '단일로', '단일로', '단일로', '단일로', '단일로', '단일로', '단일로', '단일로', '단일로', '단일로', '단일로', '단일로', '단일로', '단일로', '단일로', '단일로', '단일로', '단일로', '단일로', '단일로', '단일로', '단일로', '단일로', '단일로', '단일로', '단일로', '단일로', '단일로', '단일로', '교차로', '단일로', '교차로', '단일로', '단일로', '단일로', '단일로', '단일로', '단일로', '단일로', '단일로', '교차로', '교차로', '교차로', '교차로', '단일로', '단일로', '단일로', '단일로', '단일로', '단일로', '교차로', '교차로', '교차로', '교차로', '단일로', '단일로', '단일로', '단일로', '단일로', '단일로', '단일로', '단일로', '단일로', '단일로', '단일로', '단일로', '단일로', '단일로', '단일로', '기타', '단일로', '단일로', '단일로', '단일로', '단일로', '단일로', '단일로', '단일로', '단일로', '교차로', '단일로', '단일로', '교차로', '교차로', '단일로', '단일로', '단일로', '교차로', '단일로', '교차로', '교차로', '교차로', '교차로', '교차로', '교차로', '교차로', '교차로', '단일로', '단일로', '단일로', '단일로', '단일로', '단일로', '단일로', '단일로', '단일로', '단일로', '교차로', '단일로', '교차로', '교차로', '단일로', '단일로', '단일로', '교차로', '단일로', '단일로', '교차로', '교차로', '단일로', '단일로', '단일로', '단일로', '단일로', '단일로', '단일로', '단일로', '단일로', '단일로', '단일로', '단일로', '단일로', '교차로', '교차로', '단일로', '단일로', '단일로', '단일로', '단일로', '단일로', '단일로', '단일로', '단일로', '단일로', '단일로', '단일로', '단일로', '단일로', '교차로', '교차로', '교차로', '교차로', '단일로', '단일로', '교차로', '교차로', '단일로', '단일로', '단일로', '단일로', '단일로', '단일로', '교차로', '교차로', '단일로', '교차로', '교차로', '단일로', '단일로', '단일로', '단일로', '단일로', '단일로', '단일로', '단일로', '단일로', '단일로', '교차로', '교차로', '교차로', '교차로', '교차로', '교차로', '기타', '단일로', '단일로', '교차로', '교차로', '교차로', '교차로', '교차로', '교차로', '교차로', '교차로', '교차로', '교차로', '교차로', '단일로', '단일로', '단일로', '단일로', '단일로', '단일로', '단일로', '단일로', '단일로', '단일로', '단일로', '단일로', '단일로', '단일로', '단일로', '단일로', '단일로', '단일로', '단일로', '단일로', '단일로', '단일로', '단일로', '단일로', '단일로', '교차로', '교차로', '교차로', '교차로', '교차로', '단일로', '교차로', '단일로', '단일로', '단일로', '단일로', '단일로', '단일로', '단일로', '단일로', '교차로', '단일로', '교차로', '교차로', '단일로', '단일로', '단일로', '단일로', '단일로', '단일로', '교차로', '단일로', '단일로', '단일로', '교차로', '기타', '교차로', '단일로', '단일로', '단일로', '단일로', '단일로', '단일로', '교차로', '단일로', '단일로', '단일로', '단일로', '단일로', '단일로', '교차로', '교차로', '단일로', '단일로', '단일로', '단일로', '단일로', '단일로', '단일로', '단일로', '단일로', '단일로', '단일로', '단일로', '단일로', '단일로', '단일로', '단일로', '단일로', '단일로', '단일로', '단일로', '단일로', '교차로', '단일로', '단일로', '단일로', '교차로', '단일로', '단일로', '단일로', '단일로', '단일로', '단일로', '단일로', '단일로', '단일로', '단일로', '단일로', '교차로', '교차로', '단일로', '단일로', '단일로', '단일로', '단일로', '단일로', '단일로', '단일로', '단일로', '단일로', '단일로', '단일로', '단일로', '교차로', '교차로', '교차로', '교차로', '교차로', '교차로', '교차로', '교차로', '교차로', '단일로', '단일로', '단일로', '교차로', '교차로', '교차로', '단일로', '단일로', '단일로', '단일로', '단일로', '단일로', '단일로', '단일로', '단일로', '단일로', '단일로', '기타', '단일로', '단일로', '단일로', '단일로', '단일로', '교차로', '교차로', '교차로', '교차로', '단일로', '단일로', '교차로', '교차로', '교차로', '교차로', '교차로', '교차로', '단일로', '단일로', '교차로', '교차로', '단일로', '단일로', '기타', '기타', '교차로', '단일로', '단일로', '단일로', '기타', '단일로', '단일로', '기타', '단일로', '교차로', '단일로', '교차로', '단일로', '단일로', '교차로', '교차로', '단일로', '기타', '교차로', '단일로', '기타', '단일로', '교차로', '교차로', '단일로', '단일로', '교차로', '교차로', '단일로', '단일로', '단일로', '단일로', '단일로', '단일로', '교차로', '단일로', '단일로', '단일로', '단일로', '단일로', '단일로', '단일로', '단일로', '단일로', '단일로', '단일로', '단일로', '교차로', '단일로', '단일로', '교차로', '단일로', '단일로', '단일로', '교차로', '단일로', '단일로', '단일로', '교차로', '단일로', '단일로', '단일로', '단일로', '단일로', '교차로', '교차로', '교차로', '단일로', '단일로', '기타', '단일로', '단일로', '단일로', '단일로', '단일로', '기타', '기타', '단일로', '단일로', '단일로', '단일로', '교차로', '교차로', '교차로', '교차로', '교차로', '교차로', '교차로', '단일로', '단일로', '단일로', '단일로', '단일로', '단일로', '단일로', '단일로', '단일로', '교차로', '교차로', '교차로', '단일로', '단일로', '단일로', '단일로', '단일로', '단일로', '단일로', '단일로', '단일로', '단일로', '교차로', '단일로', '단일로', '단일로', '단일로', '단일로', '단일로', '단일로', '단일로', '교차로', '단일로', '단일로', '단일로', '교차로', '교차로', '단일로', '단일로', '교차로', '단일로', '단일로', '교차로', '단일로', '교차로', '교차로', '교차로', '교차로', '단일로', '교차로', '교차로', '교차로', '단일로', '단일로', '단일로', '교차로', '교차로', '교차로', '교차로', '교차로', '단일로', '단일로', '교차로', '단일로', '단일로', '교차로', '단일로', '단일로', '교차로', '단일로', '단일로', '교차로', '교차로', '단일로', '단일로', '단일로', '단일로', '단일로', '단일로', '단일로', '단일로', '교차로', '교차로', '교차로', '단일로', '단일로', '단일로', '단일로', '단일로', '단일로', '단일로', '단일로', '단일로', '단일로', '단일로', '단일로', '단일로', '단일로', '교차로', '교차로', '교차로', '단일로', '교차로', '단일로', '교차로', '단일로', '단일로', '교차로', '교차로', '단일로', '단일로', '교차로', '교차로', '단일로', '단일로', '단일로', '단일로', '교차로', '단일로', '단일로', '단일로', '단일로', '단일로', '교차로', '교차로', '단일로', '단일로', '교차로', '교차로', '교차로', '기타', '교차로', '교차로', '단일로', '단일로', '단일로', '단일로', '단일로', '단일로', '단일로', '단일로', '단일로', '교차로', '기타', '단일로', '교차로', '교차로', '단일로', '교차로', '단일로', '단일로', '단일로', '단일로', '교차로', '교차로', '단일로', '교차로', '교차로', '단일로', '교차로', '기타', '단일로', '단일로', '단일로', '단일로', '교차로', '교차로', '단일로', '단일로', '단일로', '단일로', '단일로', '단일로', '단일로', '단일로', '단일로', '단일로', '단일로', '단일로', '단일로', '단일로', '단일로', '단일로', '단일로', '단일로', '단일로', '단일로', '단일로', '단일로', '단일로', '단일로', '교차로', '단일로', '교차로', '교차로', '단일로', '단일로', '단일로', '단일로', '교차로', '단일로', '단일로', '단일로', '단일로', '단일로', '단일로', '단일로', '교차로', '교차로', '단일로', '단일로', '단일로', '단일로', '교차로', '단일로', '단일로', '단일로', '단일로', '단일로', '단일로', '교차로', '기타', '단일로', '교차로', '단일로', '교차로', '교차로', '단일로', '단일로', '단일로', '교차로', '교차로', '교차로', '교차로', '교차로', '교차로', '단일로', '단일로', '단일로', '단일로', '단일로', '단일로', '단일로', '단일로', '단일로', '단일로', '교차로', '단일로', '교차로', '단일로', '교차로', '교차로', '교차로', '단일로', '교차로', '교차로', '단일로', '교차로', '교차로', '교차로', '교차로', '교차로', '단일로', '단일로', '교차로', '단일로', '단일로', '교차로', '단일로', '교차로', '단일로', '단일로', '단일로', '교차로', '단일로', '단일로', '단일로', '단일로', '단일로', '단일로', '교차로', '단일로', '교차로', '단일로', '교차로', '단일로', '교차로', '단일로', '교차로', '단일로', '단일로', '교차로', '교차로', '단일로', '단일로', '단일로', '교차로', '단일로', '단일로', '교차로', '교차로', '단일로', '단일로', '단일로', '단일로', '단일로', '단일로', '교차로', '단일로', '단일로', '단일로', '교차로', '단일로', '단일로', '단일로', '단일로', '단일로', '단일로', '단일로', '단일로', '단일로', '단일로', '단일로', '단일로', '교차로', '단일로', '교차로', '교차로', '단일로', '교차로', '단일로', '단일로', '단일로', '단일로', '단일로', '단일로', '단일로', '단일로', '단일로', '단일로', '교차로', '기타', '교차로', '교차로', '기타', '단일로', '교차로', '단일로', '단일로', '단일로', '교차로', '교차로', '단일로', '교차로', '단일로', '단일로', '단일로', '단일로', '교차로', '교차로', '교차로', '단일로', '단일로', '단일로', '단일로', '교차로', '교차로', '단일로', '단일로', '단일로', '단일로', '단일로', '단일로', '단일로', '단일로', '교차로', '교차로', '단일로', '교차로', '교차로', '교차로', '교차로', '단일로', '단일로', '교차로', '기타', '단일로', '교차로', '교차로', '단일로', '교차로', '교차로', '단일로', '기타', '교차로', '기타', '기타', '기타', '단일로', '단일로', '단일로', '단일로', '교차로', '단일로', '교차로', '단일로', '교차로', '교차로', '단일로', '단일로', '교차로', '교차로', '교차로', '단일로', '단일로', '단일로', '교차로', '교차로', '단일로', '단일로', '단일로', '단일로', '단일로', '단일로', '교차로', '단일로', '단일로', '교차로', '교차로', '단일로', '교차로', '단일로', '단일로', '단일로', '교차로', '단일로', '단일로', '단일로', '교차로', '교차로', '단일로', '단일로', '단일로', '단일로', '단일로', '단일로', '단일로', '단일로', '기타', '단일로', '교차로', '단일로', '교차로', '단일로', '교차로', '단일로', '교차로', '교차로', '단일로', '단일로', '단일로', '단일로', '단일로', '단일로', '단일로', '단일로', '단일로', '기타', '기타', '기타', '단일로', '단일로', '단일로', '단일로', '단일로', '단일로', '교차로', '단일로', '교차로', '단일로', '교차로', '교차로', '교차로', '단일로', '단일로', '교차로', '단일로', '단일로', '단일로', '단일로', '단일로', '교차로', '교차로', '단일로', '단일로', '단일로', '단일로', '교차로', '교차로', '교차로', '교차로', '단일로', '단일로', '교차로', '단일로', '기타', '기타', '교차로', '단일로', '교차로', '단일로', '단일로', '교차로', '교차로', '교차로', '단일로', '교차로', '교차로', '교차로', '교차로', '단일로', '단일로', '단일로', '기타', '기타', '교차로', '교차로', '교차로', '교차로', '단일로', '단일로', '교차로', '교차로', '교차로', '교차로', '교차로', '교차로', '교차로', '교차로', '기타', '기타', '단일로', '단일로', '교차로', '교차로', '단일로', '단일로', '단일로', '단일로', '교차로', '교차로', '단일로', '단일로', '단일로', '교차로', '교차로', '단일로', '교차로', '단일로', '단일로', '교차로', '단일로', '교차로', '단일로', '교차로', '단일로', '단일로', '교차로', '교차로', '교차로', '단일로', '단일로', '단일로', '단일로', '교차로', '교차로', '교차로', '교차로', '교차로', '단일로', '단일로', '단일로', '교차로', '교차로', '단일로', '교차로', '교차로', '단일로', '단일로', '단일로', '단일로', '단일로', '단일로', '교차로', '단일로', '단일로', '단일로', '단일로', '교차로', '교차로', '교차로', '단일로', '단일로', '교차로', '단일로', '교차로', '단일로', '단일로', '단일로', '단일로', '단일로', '교차로', '단일로', '단일로', '단일로', '교차로', '단일로', '단일로', '교차로', '기타', '단일로', '단일로', '단일로', '단일로', '단일로', '단일로', '단일로', '교차로', '단일로', '단일로', '단일로', '단일로', '단일로', '단일로', '단일로', '교차로', '교차로', '교차로', '교차로', '단일로', '단일로', '단일로', '단일로', '교차로', '단일로', '단일로', '단일로', '기타', '단일로', '단일로', '교차로', '교차로', '단일로', '단일로', '단일로', '교차로', '단일로', '교차로', '교차로', '단일로', '단일로', '교차로', '교차로', '단일로', '단일로', '단일로', '단일로', '단일로', '단일로', '단일로', '교차로', '단일로', '단일로', '단일로', '기타', '교차로', '단일로', '교차로', '단일로', '교차로', '교차로', '단일로', '단일로', '단일로', '단일로', '단일로', '단일로', '교차로', '교차로', '교차로', '교차로', '교차로', '교차로', '단일로', '단일로', '단일로', '단일로', '단일로', '단일로', '단일로', '단일로', '단일로', '단일로', '단일로', '교차로', '교차로', '단일로', '단일로', '교차로', '교차로', '단일로', '단일로', '단일로', '단일로', '단일로', '단일로', '단일로', '교차로', '단일로', '단일로', '단일로', '단일로', '단일로', '단일로', '교차로', '교차로', '교차로', '교차로', '교차로', '단일로', '단일로', '단일로', '단일로', '교차로', '기타', '단일로', '교차로', '단일로', '교차로', '단일로', '단일로', '단일로', '교차로', '교차로', '단일로', '단일로', '단일로', '단일로', '단일로', '단일로', '단일로', '교차로', '단일로', '단일로', '교차로', '단일로', '교차로', '단일로', '기타', '단일로', '단일로', '교차로', '단일로', '단일로', '단일로', '단일로', '단일로', '단일로', '기타', '기타', '교차로', '단일로', '교차로', '교차로', '단일로', '교차로', '단일로', '교차로', '단일로', '단일로', '단일로', '교차로', '교차로', '단일로', '단일로', '교차로', '교차로', '교차로', '교차로', '단일로', '교차로', '교차로', '단일로', '단일로', '교차로', '단일로', '단일로', '교차로', '단일로', '교차로', '교차로', '교차로', '교차로', '단일로', '단일로', '교차로', '교차로', '교차로', '단일로', '단일로', '단일로', '교차로', '교차로', '단일로', '단일로', '기타', '단일로', '기타', '교차로', '교차로', '단일로', '교차로', '단일로', '단일로', '단일로', '교차로', '교차로', '단일로', '단일로', '단일로', '교차로', '단일로', '교차로', '단일로', '단일로', '교차로', '단일로', '기타', '단일로', '교차로', '단일로', '교차로', '단일로', '단일로', '단일로', '교차로', '교차로', '교차로', '교차로', '단일로', '교차로', '기타', '교차로', '교차로', '단일로', '단일로', '단일로', '단일로', '단일로', '단일로', '교차로', '단일로', '단일로', '단일로', '단일로', '교차로', '교차로', '단일로', '교차로', '교차로', '단일로', '교차로', '교차로', '단일로', '단일로', '교차로', '교차로', '교차로', '교차로', '단일로', '단일로', '교차로', '교차로', '교차로', '교차로', '단일로', '단일로', '단일로', '단일로', '교차로', '교차로', '교차로', '교차로', '단일로', '단일로', '단일로', '단일로', '단일로', '단일로', '단일로', '단일로', '단일로', '단일로', '단일로', '단일로', '교차로', '교차로', '교차로', '교차로', '단일로', '교차로', '교차로', '단일로', '교차로', '교차로', '단일로', '단일로', '단일로', '단일로', '단일로', '단일로', '단일로', '단일로', '단일로', '단일로', '단일로', '단일로', '단일로', '교차로', '교차로', '교차로', '교차로', '단일로', '교차로', '교차로', '교차로', '교차로', '단일로', '교차로', '교차로', '단일로', '단일로', '교차로', '교차로', '교차로', '단일로', '단일로', '교차로', '단일로', '교차로', '단일로', '단일로', '단일로', '단일로', '교차로', '단일로', '단일로', '교차로', '교차로', '단일로', '단일로', '단일로', '단일로', '교차로', '교차로', '단일로', '단일로', '단일로', '단일로', '단일로', '교차로', '교차로', '교차로', '단일로', '단일로', '교차로', '단일로', '단일로', '단일로', '교차로', '단일로', '단일로', '교차로', '단일로', '교차로', '교차로', '단일로', '교차로', '교차로', '교차로', '단일로', '교차로', '단일로', '교차로', '교차로', '교차로', '교차로', '교차로', '단일로', '단일로', '단일로', '단일로', '단일로', '교차로', '교차로', '교차로', '교차로', '교차로', '교차로', '교차로', '교차로', '단일로', '단일로', '단일로', '단일로', '교차로', '교차로', '단일로', '단일로', '교차로', '교차로', '단일로', '교차로', '교차로', '교차로', '단일로', '교차로', '단일로', '단일로', '교차로', '단일로', '단일로', '단일로', '단일로', '교차로', '단일로', '단일로', '교차로', '단일로', '단일로', '단일로', '교차로', '교차로', '단일로', '단일로', '단일로', '단일로', '단일로', '단일로', '교차로', '교차로', '교차로', '교차로', '교차로', '단일로', '단일로', '단일로', '단일로', '단일로', '단일로', '단일로', '단일로', '단일로', '단일로', '기타', '단일로', '단일로', '단일로', '단일로', '단일로', '단일로', '단일로', '단일로', '교차로', '단일로', '기타', '단일로', '교차로', '교차로', '단일로', '기타', '단일로', '단일로', '교차로', '교차로', '교차로', '교차로', '교차로', '교차로', '단일로', '단일로', '단일로', '단일로', '교차로', '교차로', '단일로', '단일로', '교차로', '교차로', '단일로', '단일로', '단일로', '교차로', '교차로', '교차로', '교차로', '교차로', '교차로', '단일로', '단일로', '단일로', '단일로', '단일로', '단일로', '단일로', '단일로', '단일로', '단일로', '단일로', '단일로', '교차로', '단일로', '단일로', '교차로', '교차로', '단일로', '단일로', '단일로', '교차로', '교차로', '교차로', '단일로', '단일로', '단일로', '단일로', '단일로', '단일로', '단일로', '단일로', '단일로', '단일로', '단일로', '교차로', '교차로', '단일로', '교차로', '단일로', '교차로', '단일로', '단일로', '단일로', '교차로', '교차로', '단일로', '교차로', '단일로', '단일로', '단일로', '교차로', '교차로', '단일로', '단일로', '단일로', '교차로', '교차로', '교차로', '교차로', '단일로', '교차로', '교차로', '단일로', '교차로', '단일로', '단일로', '교차로', '단일로', '교차로', '단일로', '교차로', '교차로', '교차로', '단일로', '단일로', '단일로', '단일로', '단일로', '교차로', '교차로', '교차로', '교차로', '단일로', '기타', '교차로', '교차로', '단일로', '단일로', '교차로', '단일로', '단일로', '단일로', '교차로', '단일로', '교차로', '교차로', '교차로', '단일로', '단일로', '교차로', '교차로', '교차로', '단일로', '단일로', '단일로', '교차로', '교차로', '교차로', '교차로', '교차로', '교차로', '교차로', '단일로', '교차로', '단일로', '교차로', '교차로', '단일로', '교차로', '교차로', '단일로', '단일로', '단일로', '교차로', '교차로', '교차로', '단일로', '교차로', '교차로', '교차로', '교차로', '단일로', '단일로', '교차로', '교차로', '교차로', '교차로', '교차로', '교차로', '단일로', '단일로', '단일로', '교차로', '교차로', '단일로', '단일로', '단일로', '교차로', '교차로', '단일로', '단일로', '단일로', '교차로', '교차로', '교차로', '교차로', '단일로', '단일로', '단일로', '교차로', '단일로', '교차로', '교차로', '단일로', '단일로', '교차로', '교차로', '기타', '단일로', '기타', '기타', '교차로', '교차로', '단일로', '단일로', '교차로', '단일로', '단일로', '단일로', '교차로', '기타', '단일로', '단일로', '단일로', '교차로', '교차로', '교차로', '교차로', '교차로', '교차로', '단일로', '단일로', '단일로', '단일로', '단일로', '단일로', '교차로', '교차로', '교차로', '단일로', '단일로', '단일로', '교차로', '교차로', '단일로', '기타', '단일로', '단일로', '단일로', '단일로', '교차로', '단일로', '교차로', '기타', '단일로', '단일로', '단일로', '단일로', '단일로', '교차로', '교차로', '단일로', '단일로', '단일로', '단일로', '단일로', '교차로', '교차로', '단일로', '교차로', '단일로', '교차로', '교차로', '교차로', '단일로', '단일로', '단일로', '단일로', '단일로', '교차로', '단일로', '교차로', '교차로', '단일로', '단일로', '교차로', '단일로', '교차로', '교차로', '단일로', '단일로', '단일로', '단일로', '단일로', '교차로', '단일로', '교차로', '단일로', '교차로', '교차로', '단일로', '단일로', '단일로', '단일로', '교차로', '교차로', '단일로', '기타', '단일로', '교차로', '교차로', '교차로', '교차로', '교차로', '단일로', '교차로', '단일로', '교차로', '기타', '단일로', '교차로', '단일로', '단일로', '기타', '단일로', '단일로', '기타', '교차로', '기타', '교차로', '단일로', '교차로', '단일로', '교차로', '단일로', '단일로', '단일로', '단일로', '단일로', '단일로', '단일로', '단일로', '교차로', '교차로', '단일로', '교차로', '교차로', '교차로', '단일로', '단일로', '단일로', '교차로', '교차로', '기타', '교차로', '단일로', '교차로', '단일로', '교차로', '교차로', '단일로', '교차로', '교차로', '단일로', '단일로', '교차로', '단일로', '교차로', '단일로', '단일로', '교차로', '교차로', '교차로', '교차로', '교차로', '단일로', '교차로', '교차로', '단일로', '단일로', '단일로', '단일로', '단일로', '단일로', '단일로', '단일로', '단일로', '단일로', '단일로', '단일로', '단일로', '단일로', '단일로', '단일로', '단일로', '교차로', '교차로', '교차로', '교차로', '교차로', '교차로', '단일로', '단일로', '단일로', '단일로', '교차로', '단일로', '교차로', '교차로', '단일로', '단일로', '단일로', '교차로', '교차로', '교차로', '단일로', '단일로', '교차로', '단일로', '단일로', '교차로', '교차로', '교차로', '교차로', '교차로', '교차로', '교차로', '교차로', '교차로', '단일로', '기타', '단일로', '단일로', '단일로', '단일로', '단일로', '교차로', '기타', '단일로', '단일로', '단일로', '단일로', '단일로', '교차로', '단일로', '교차로', '단일로', '단일로', '단일로', '단일로', '교차로', '교차로', '교차로', '교차로', '교차로', '교차로', '단일로', '단일로', '단일로', '단일로', '단일로', '교차로', '단일로', '단일로', '교차로', '단일로', '단일로', '단일로', '교차로', '단일로', '단일로', '단일로', '단일로', '단일로', '교차로', '교차로', '교차로', '교차로', '교차로', '교차로', '교차로', '교차로', '단일로', '교차로', '단일로', '단일로', '단일로', '교차로', '단일로', '교차로', '교차로', '교차로', '단일로', '교차로', '교차로', '교차로', '단일로', '교차로', '단일로', '기타', '교차로', '단일로', '단일로', '단일로', '단일로', '단일로', '교차로', '교차로', '교차로', '단일로', '기타', '교차로', '교차로', '단일로', '교차로', '단일로', '단일로', '단일로', '교차로', '교차로', '교차로', '단일로', '기타', '단일로', '교차로', '단일로', '교차로', '교차로', '기타', '교차로', '교차로', '단일로', '기타', '단일로', '교차로', '교차로', '단일로', '교차로', '단일로', '교차로', '단일로', '단일로', '단일로', '교차로', '교차로', '단일로', '교차로', '단일로', '단일로', '단일로', '단일로', '단일로', '단일로', '단일로', '단일로', '교차로', '교차로', '단일로', '단일로', '단일로', '단일로', '교차로', '단일로', '단일로', '기타', '교차로', '교차로', '교차로', '교차로', '교차로', '교차로', '단일로', '단일로', '단일로', '교차로', '교차로', '단일로', '단일로', '교차로', '교차로', '단일로', '단일로', '단일로', '단일로', '교차로', '단일로', '단일로', '교차로', '교차로', '교차로', '교차로', '교차로', '교차로', '기타', '단일로', '교차로', '교차로', '교차로', '교차로', '교차로', '단일로', '단일로', '단일로', '단일로', '교차로', '단일로', '교차로', '단일로', '교차로', '교차로', '단일로', '단일로', '교차로', '교차로', '교차로', '단일로', '교차로', '단일로', '단일로', '단일로', '단일로', '단일로', '기타', '단일로', '교차로', '교차로', '단일로', '교차로', '교차로', '단일로', '교차로', '교차로', '교차로', '교차로', '교차로', '교차로', '단일로', '단일로', '단일로', '단일로', '단일로', '단일로', '단일로', '단일로', '단일로', '단일로', '단일로', '교차로', '교차로', '단일로', '단일로', '단일로', '교차로', '교차로', '단일로', '교차로', '단일로', '단일로', '단일로', '단일로', '단일로', '단일로', '단일로', '단일로', '단일로', '교차로', '교차로', '단일로', '단일로', '교차로', '단일로', '교차로', '교차로', '교차로', '교차로', '기타', '교차로', '단일로', '교차로', '단일로', '교차로', '교차로', '단일로', '단일로', '교차로', '교차로', '교차로', '단일로', '교차로', '단일로', '교차로', '교차로', '교차로', '교차로', '교차로', '단일로', '단일로', '교차로', '단일로', '교차로', '단일로', '단일로', '교차로', '기타', '교차로', '교차로', '교차로', '교차로', '교차로', '단일로', '단일로', '교차로', '단일로', '교차로', '단일로', '단일로', '단일로', '단일로', '교차로', '교차로', '교차로', '단일로', '단일로', '단일로', '단일로', '교차로', '단일로', '단일로', '기타', '교차로', '단일로', '단일로', '교차로', '교차로', '단일로', '교차로', '교차로', '교차로', '단일로', '단일로', '교차로', '교차로', '교차로', '교차로', '교차로', '교차로', '단일로', '단일로', '교차로', '교차로', '기타', '기타', '교차로', '교차로', '교차로', '교차로', '단일로', '교차로', '기타', '교차로', '교차로', '단일로', '교차로', '교차로', '단일로', '단일로', '교차로', '기타', '기타', '단일로', '단일로', '기타', '단일로', '단일로', '교차로', '교차로', '단일로', '단일로', '교차로', '교차로', '단일로']\n"
          ]
        }
      ]
    },
    {
      "cell_type": "code",
      "source": [
        "df['도로형태구분'] = list_d"
      ],
      "metadata": {
        "id": "Mfbu9BnItvOl"
      },
      "execution_count": 36,
      "outputs": []
    },
    {
      "cell_type": "markdown",
      "source": [
        "가해자차종 구분"
      ],
      "metadata": {
        "id": "evnALthVuoF5"
      }
    },
    {
      "cell_type": "code",
      "source": [
        "list_e = []\n",
        "car_1 = ['승용']\n",
        "car_2 = ['이륜','자전거','개인형이동수단(PM)']\n",
        "car_3 = ['승합']\n",
        "car_4 = ['화물', '원동기', '건설기계']\n",
        "car_5 = ['기타불명', '특수']"
      ],
      "metadata": {
        "id": "UeegqW0yt1z6"
      },
      "execution_count": 37,
      "outputs": []
    },
    {
      "cell_type": "code",
      "source": [
        "for i in range(len(df['월'])):\n",
        "  if df['가해운전자 차종'][i] in car_1:\n",
        "    list_e.append('승용') \n",
        "  elif df['가해운전자 차종'][i] in car_2:\n",
        "    list_e.append('이륜')\n",
        "  elif df['가해운전자 차종'][i] in car_3:\n",
        "    list_e.append('승합')\n",
        "  elif df['가해운전자 차종'][i] in car_4:\n",
        "    list_e.append('화물')\n",
        "  else:\n",
        "    list_e.append('기타')\n",
        "print(list_e) "
      ],
      "metadata": {
        "colab": {
          "base_uri": "https://localhost:8080/"
        },
        "id": "oNvgLUhquv49",
        "outputId": "620835f5-be5c-4276-e15a-0fd6f4e4335f"
      },
      "execution_count": 38,
      "outputs": [
        {
          "output_type": "stream",
          "name": "stdout",
          "text": [
            "['승용', '승용', '승용', '승용', '이륜', '승용', '승용', '승합', '이륜', '승용', '이륜', '승용', '승용', '승용', '승합', '화물', '화물', '승용', '승합', '승용', '승합', '승용', '승용', '승용', '승용', '승용', '화물', '승용', '이륜', '이륜', '승용', '승용', '이륜', '승합', '화물', '승용', '화물', '화물', '승합', '승용', '승용', '승용', '화물', '승용', '승용', '승용', '승용', '승용', '승용', '승용', '기타', '승용', '승용', '승용', '승용', '승용', '승용', '이륜', '화물', '승용', '승용', '승합', '승용', '승용', '승용', '승용', '승용', '이륜', '승용', '화물', '승용', '승용', '화물', '승용', '승용', '승용', '승용', '승용', '화물', '화물', '승용', '승용', '승용', '승용', '이륜', '승용', '승합', '승용', '승용', '승용', '승용', '승용', '화물', '승용', '승용', '승합', '승용', '승용', '승용', '승용', '승용', '승합', '기타', '승용', '승용', '이륜', '승용', '승용', '승용', '승용', '이륜', '화물', '승용', '승용', '화물', '이륜', '승용', '화물', '승용', '승용', '이륜', '화물', '화물', '승용', '승용', '화물', '화물', '승용', '승용', '승용', '이륜', '이륜', '승용', '승용', '화물', '승용', '승용', '승합', '승용', '승용', '승용', '화물', '승용', '승용', '승합', '이륜', '승용', '승용', '화물', '승용', '이륜', '승용', '승용', '승합', '승합', '이륜', '승용', '승용', '승용', '승용', '승합', '승용', '승용', '승용', '승용', '화물', '승용', '승용', '승용', '승용', '승합', '승용', '승용', '승용', '승합', '승합', '승용', '승용', '승용', '승용', '승용', '승용', '승용', '이륜', '승용', '승용', '승용', '승용', '기타', '승용', '승용', '승용', '승용', '이륜', '승용', '이륜', '승용', '승용', '승용', '이륜', '화물', '화물', '승용', '화물', '승용', '화물', '화물', '승용', '승용', '승용', '승용', '승용', '승용', '화물', '승합', '승용', '승합', '승용', '승용', '승용', '승용', '화물', '화물', '승합', '승용', '승용', '승용', '승용', '승용', '승용', '승용', '화물', '화물', '승용', '승용', '기타', '승용', '승용', '이륜', '승용', '승합', '승용', '승용', '화물', '승용', '승용', '승용', '승용', '승용', '승용', '승용', '승용', '승용', '화물', '화물', '승합', '승용', '승용', '승용', '화물', '승용', '이륜', '승용', '이륜', '승합', '승용', '이륜', '화물', '승용', '승용', '승용', '화물', '승용', '승합', '승용', '승용', '이륜', '승용', '승용', '승합', '승용', '승용', '승용', '승용', '승용', '승용', '승용', '승용', '승용', '화물', '화물', '승용', '승용', '승합', '승용', '승용', '승용', '승용', '승합', '승용', '승용', '승용', '승용', '승용', '승용', '승합', '승합', '승용', '승용', '승합', '승용', '승용', '승합', '화물', '승합', '이륜', '화물', '승용', '승용', '이륜', '승용', '승용', '이륜', '승용', '승용', '이륜', '화물', '승합', '승용', '화물', '승용', '이륜', '승용', '승용', '화물', '이륜', '승용', '이륜', '승용', '화물', '승용', '이륜', '승합', '승용', '승용', '승용', '승용', '승용', '화물', '승용', '승합', '이륜', '승합', '승용', '승합', '이륜', '화물', '승용', '승합', '승합', '승용', '화물', '승용', '승용', '승용', '승합', '승용', '이륜', '승용', '이륜', '화물', '승합', '승용', '승용', '승용', '승합', '이륜', '이륜', '승용', '승합', '승용', '승용', '승용', '기타', '이륜', '승용', '이륜', '승용', '승합', '승용', '승용', '승용', '승용', '승합', '승용', '승용', '이륜', '승용', '승용', '승용', '이륜', '승용', '승용', '승용', '승용', '승용', '승용', '승용', '화물', '승용', '승용', '승합', '승합', '승용', '이륜', '승합', '승용', '승용', '승합', '승용', '승용', '승용', '화물', '이륜', '승용', '이륜', '승합', '승용', '승합', '이륜', '승용', '승합', '화물', '화물', '승용', '이륜', '승용', '화물', '승용', '승용', '이륜', '화물', '승용', '승용', '승용', '승합', '승용', '승용', '승용', '승용', '승용', '승합', '승용', '이륜', '승용', '승용', '승합', '승합', '승용', '승용', '승합', '승합', '승용', '승용', '승용', '승용', '승용', '승용', '승용', '승용', '승용', '승용', '승용', '승용', '승용', '승용', '승용', '승용', '승합', '승합', '승용', '승용', '승합', '승용', '승용', '승용', '화물', '승합', '승합', '승용', '승용', '승합', '승용', '승합', '승합', '화물', '승용', '승합', '이륜', '이륜', '승용', '승용', '승용', '화물', '승용', '승용', '승용', '이륜', '화물', '화물', '승용', '승용', '승용', '승용', '승용', '승용', '화물', '이륜', '승용', '화물', '승용', '승용', '승용', '승합', '승용', '승합', '이륜', '이륜', '승용', '승용', '승용', '이륜', '이륜', '화물', '화물', '이륜', '승용', '승용', '승용', '승용', '승용', '승합', '승용', '승합', '화물', '승합', '승용', '이륜', '승합', '승용', '승용', '승용', '승용', '승용', '이륜', '승합', '승용', '승합', '승합', '승용', '이륜', '이륜', '승용', '승합', '화물', '승용', '승합', '승용', '승용', '승용', '화물', '승용', '승용', '승용', '승합', '승용', '승용', '승용', '승합', '승용', '승용', '승합', '이륜', '승합', '승용', '승용', '승용', '승용', '화물', '승용', '승용', '화물', '승용', '승용', '승용', '승합', '승용', '승용', '승용', '승용', '승용', '승용', '승용', '승용', '승용', '승용', '이륜', '승용', '승용', '승용', '승용', '승용', '승합', '승용', '승합', '승용', '승용', '승용', '승용', '승용', '화물', '승용', '승용', '이륜', '승용', '승용', '승용', '승용', '화물', '이륜', '승용', '승용', '화물', '화물', '승용', '승용', '승용', '승용', '승용', '승용', '승용', '승용', '화물', '승용', '승용', '화물', '승용', '승용', '승용', '승용', '승용', '승합', '승합', '승합', '승용', '승용', '승용', '승용', '승용', '승용', '화물', '승용', '승용', '승합', '승용', '승용', '승합', '승용', '승합', '승용', '승합', '승합', '승합', '승합', '승용', '승용', '승용', '승용', '승용', '승용', '승용', '승용', '화물', '이륜', '승용', '이륜', '승용', '이륜', '승용', '승용', '승용', '승용', '승용', '승용', '승용', '승용', '화물', '승용', '화물', '승용', '승용', '승용', '승용', '승용', '승용', '승용', '승합', '승합', '승용', '승용', '승용', '승용', '승용', '승합', '승용', '승합', '승용', '승용', '승합', '승합', '이륜', '이륜', '화물', '이륜', '승합', '승용', '승용', '이륜', '승합', '승용', '승용', '이륜', '승용', '승용', '승합', '승합', '기타', '승용', '화물', '승용', '승용', '이륜', '승합', '승용', '승용', '승용', '승용', '승용', '화물', '승용', '화물', '승용', '이륜', '승용', '화물', '승용', '승용', '승용', '승합', '승용', '승용', '승용', '승용', '승합', '승용', '이륜', '승용', '이륜', '승용', '승용', '승용', '이륜', '승용', '이륜', '승용', '승용', '승용', '승용', '승용', '승용', '승용', '승합', '화물', '승합', '화물', '승용', '승용', '화물', '승용', '화물', '승용', '이륜', '승용', '승용', '승용', '승용', '승용', '승합', '승합', '승합', '승용', '승용', '승용', '승용', '승용', '승용', '승용', '화물', '승용', '승용', '승용', '승합', '승용', '승용', '승용', '승용', '화물', '기타', '승용', '승용', '승합', '승용', '이륜', '승용', '승용', '승용', '승합', '승용', '승용', '승용', '화물', '화물', '승합', '승용', '화물', '승용', '화물', '승용', '화물', '승용', '승용', '승용', '승용', '승용', '승합', '승용', '승용', '승용', '화물', '화물', '승용', '승용', '승용', '승합', '승용', '이륜', '승용', '승용', '승용', '승용', '승용', '화물', '승용', '승용', '승용', '승용', '승용', '이륜', '승용', '화물', '승용', '승용', '승합', '승합', '승용', '승용', '승합', '화물', '승용', '이륜', '승용', '승용', '승용', '승용', '승합', '승용', '승용', '승용', '승합', '승용', '승합', '승합', '승합', '승용', '승합', '승용', '이륜', '승합', '승합', '승합', '승합', '승합', '승용', '승합', '승용', '승용', '승용', '승용', '승용', '화물', '승용', '이륜', '승용', '승용', '승용', '승용', '승합', '이륜', '이륜', '승용', '이륜', '승합', '승용', '승용', '승용', '승합', '화물', '승용', '승용', '승용', '승용', '승용', '승용', '승용', '승용', '승합', '승용', '화물', '승용', '승용', '승용', '화물', '이륜', '승용', '화물', '승용', '화물', '승용', '승합', '승용', '승용', '이륜', '승용', '승용', '승용', '이륜', '승용', '승용', '승용', '승용', '화물', '승용', '승용', '승용', '승용', '승용', '승용', '승용', '승용', '승용', '승용', '승용', '승용', '승용', '승용', '승용', '승용', '승합', '승용', '승용', '승용', '승용', '승합', '승용', '승용', '승용', '승용', '승합', '화물', '화물', '승용', '화물', '승용', '승용', '승용', '승용', '승용', '승용', '승용', '승용', '승용', '승용', '이륜', '승용', '승용', '승용', '승용', '이륜', '승용', '승용', '승용', '화물', '승용', '승용', '승용', '화물', '승용', '승용', '승용', '승용', '승용', '승용', '승용', '승용', '승용', '승용', '승용', '승용', '승용', '승합', '승합', '승용', '승합', '승용', '승용', '승용', '승합', '승용', '승용', '승합', '승합', '승용', '기타', '승합', '승합', '승합', '승용', '화물', '승합', '승합', '승용', '승용', '이륜', '승용', '승용', '이륜', '이륜', '승용', '승용', '승용', '승용', '승합', '승합', '승용', '승용', '승용', '승용', '승용', '승용', '승용', '승용', '승용', '이륜', '화물', '이륜', '승합', '승합', '승용', '승용', '승용', '승용', '승용', '승용', '화물', '승용', '승용', '승용', '승용', '승용', '승용', '이륜', '화물', '화물', '승용', '승용', '승용', '승용', '화물', '승용', '승용', '화물', '승용', '승용', '이륜', '승용', '승용', '승용', '화물', '승용', '승용', '이륜', '화물', '승용', '승용', '승용', '승용', '승용', '화물', '승용', '승용', '승용', '승용', '이륜', '승용', '승용', '승용', '승용', '승용', '승용', '승용', '승용', '화물', '승용', '승용', '승용', '승용', '승용', '승용', '이륜', '승용', '이륜', '승용', '승용', '승용', '승합', '이륜', '승용', '승용', '승합', '승용', '승용', '승용', '승용', '승용', '승용', '화물', '이륜', '승용', '승용', '승용', '승용', '화물', '이륜', '승합', '승용', '승용', '승합', '승용', '승합', '승용', '승합', '승용', '승용', '승용', '화물', '승용', '승용', '승합', '승용', '이륜', '승용', '승용', '승용', '이륜', '승용', '승용', '승용', '승용', '승용', '승용', '승용', '승용', '승용', '기타', '승용', '승용', '승용', '승합', '승합', '승용', '화물', '승용', '이륜', '승합', '승용', '승합', '화물', '화물', '승용', '승용', '승용', '이륜', '승합', '이륜', '승용', '승용', '승용', '승용', '이륜', '승용', '화물', '화물', '승용', '승용', '승용', '승용', '승용', '승용', '이륜', '화물', '승합', '승용', '승용', '승용', '승용', '승용', '승용', '승용', '화물', '승용', '승용', '승용', '승용', '승용', '승용', '승용', '화물', '화물', '승용', '승용', '승용', '승용', '승합', '승용', '승용', '이륜', '승용', '승용', '승용', '승용', '승용', '승용', '승용', '승용', '승용', '승용', '승용', '이륜', '승용', '이륜', '승용', '이륜', '승용', '이륜', '승합', '이륜', '승용', '이륜', '승용', '승용', '승용', '승용', '화물', '이륜', '승용', '승용', '승용', '승용', '승합', '승용', '화물', '화물', '이륜', '승용', '승용', '승용', '승용', '승용', '승용', '승용', '승합', '승합', '승용', '승용', '승용', '승용', '승용', '승용', '화물', '승용', '승용', '승용', '승용', '승용', '화물', '승용', '승합', '승용', '승합', '승용', '승용', '승용', '승용', '화물', '승용', '화물', '승용', '이륜', '승용', '승용', '승합', '승용', '승용', '승용', '승용', '승용', '승용', '승용', '승용', '승용', '승합', '승용', '승용', '승용', '승용', '승용', '승용', '화물', '승용', '화물', '이륜', '이륜', '승합', '화물', '승용', '승용', '승용', '승용', '승용', '화물', '승용', '화물', '승용', '이륜', '화물', '승용', '화물', '승용', '승용', '이륜', '승용', '승용', '승합', '승합', '승합', '승합', '승합', '승용', '승합', '승합', '승용', '승용', '승용', '승용', '승용', '승용', '승용', '승용', '승용', '승용', '승용', '이륜', '이륜', '화물', '화물', '이륜', '화물', '승용', '승용', '승합', '이륜', '이륜', '승용', '승용', '승용', '승용', '승용', '승용', '이륜', '승용', '승용', '승용', '승용', '승용', '승합', '승용', '승합', '승용', '승합', '승합', '승용', '이륜', '승용', '화물', '승용', '승용', '승용', '승합', '승용', '승용', '승합', '이륜', '승용', '승용', '승용', '승용', '승용', '승용', '승용', '승용', '화물', '화물', '화물', '승용', '승합', '승용', '승용', '승용', '승용', '승용', '승용', '승용', '승용', '승용', '승용', '승용', '승용', '승용', '승합', '승합', '승합', '승용', '이륜', '승합', '화물', '승용', '이륜', '승합', '승용', '승용', '승용', '승합', '승용', '승용', '승합', '승용', '승용', '승합', '승합', '승용', '승용', '승용', '승용', '승용', '화물', '승합', '승합', '화물', '승용', '승용', '승용', '승용', '승용', '승합', '승용', '승용', '승용', '이륜', '승용', '승용', '승용', '승용', '승용', '승합', '승용', '승용', '승합', '이륜', '승합', '승용', '승용', '승용', '승용', '승용', '승용', '승용', '승용', '승용', '화물', '화물', '화물', '승합', '승용', '승용', '승합', '승용', '승용', '승용', '승용', '승용', '화물', '승용', '승용', '승용', '승용', '승용', '승용', '승용', '승용', '승용', '승용', '승용', '화물', '승용', '승용', '화물', '승용', '승용', '승용', '승합', '승용', '승용', '승용', '승용', '승용', '승용', '화물', '승용', '승용', '승용', '화물', '승용', '승용', '승용', '승용', '승용', '승용', '승용', '승용', '승용', '승합', '승용', '승용', '이륜', '승합', '화물', '승용', '승용', '승합', '승용', '승합', '승용', '승용', '승용', '승용', '이륜', '승용', '승용', '승용', '승용', '승용', '승용', '승합', '이륜', '승용', '승합', '승용', '승용', '승용', '승용', '승합', '이륜', '승합', '이륜', '승용', '이륜', '이륜', '승용', '승용', '승용', '승용', '승합', '화물', '승용', '승용', '승합', '승용', '승합', '기타', '화물', '이륜', '승용', '승용', '승용', '승용', '승용', '승용', '이륜', '화물', '승합', '승용', '승합', '승용', '승용', '이륜', '승용', '승용', '이륜', '승용', '승용', '승용', '승용', '승용', '화물', '승용', '승용', '승용', '승용', '승용', '승용', '이륜', '이륜', '화물', '승합', '승용', '승용', '승용', '승합', '승용', '승용', '승합', '승합', '승용', '승용', '승합', '승용', '승용', '화물', '승용', '승용', '이륜', '화물', '승용', '승용', '승합', '이륜', '승용', '승용', '승합', '승용', '승합', '승합', '승용', '승용', '이륜', '승합', '승용', '승용', '승용', '승용', '승용', '승합', '승용', '승용', '승합', '승용', '승용', '승합', '화물', '승용', '승합', '승용', '이륜', '승합', '승용', '승용', '승합', '승용', '이륜', '승용', '승용', '이륜', '승용', '승용', '승용', '승용', '승합', '이륜', '이륜', '화물', '이륜', '이륜', '승용', '화물', '승용', '승합', '화물', '승용', '승합', '승합', '승용', '승용', '승합', '승합', '승용', '기타', '이륜', '승용', '승용', '승용', '승용', '승용', '이륜', '승용', '승용', '승용', '승용', '승용', '화물', '승용', '승용', '승용', '승용', '승용', '화물', '승용', '화물', '승용', '승용', '승용', '승용', '이륜', '이륜', '승용', '승용', '승용', '화물', '승용', '승용', '이륜', '이륜', '승용', '승용', '화물', '승용', '승용', '화물', '승용', '이륜', '승용', '승용', '화물', '승합', '승용', '승용', '승용', '화물', '승용', '승용', '승용', '승용', '이륜', '승용', '승합', '승용', '승합', '화물', '승용', '승용', '승용', '승용', '승용', '승합', '화물', '승용', '승용', '승용', '승용', '승용', '승합', '승용', '승용', '승합', '승용', '승합', '승합', '승용', '승용', '화물', '승용', '이륜', '이륜', '화물', '승합', '이륜', '승용', '승용', '승용', '승용', '승용', '승용', '승용', '승용', '화물', '승용', '승용', '화물', '승용', '화물', '승용', '승용', '승합', '승용', '승용', '승용', '이륜', '승용', '승용', '승합', '승용', '승용', '승합', '승합', '승용', '승용', '승용', '승용', '승용', '승용', '이륜', '승용', '승용', '승용', '승용', '화물', '승용', '승용', '승용', '승용', '승용', '승용', '승용', '승용', '승용', '승합', '승합', '이륜', '승용', '승합', '승용', '승용', '승용', '승용', '승용', '화물', '승용', '화물', '이륜', '승용', '승용', '화물', '승용', '승용', '이륜', '승용', '화물', '승용', '승용', '승용', '승용', '승용', '이륜', '승용', '승용', '승용', '승용', '승용', '승합', '승용', '승용', '승합', '승용', '승용', '화물', '화물', '승합', '승용', '화물', '승용', '승합', '이륜', '승합', '이륜', '승용', '승용', '승합', '승용', '이륜', '이륜', '승용', '승용', '승용', '승용', '승용', '승용', '승용', '승용', '승용', '화물', '승합', '승용', '승합', '화물', '승용', '승용', '승용', '승용', '화물', '이륜', '승합', '승용', '승용', '승용', '승합', '승용', '승용', '승용', '승용', '승용', '승용', '승용', '화물', '이륜', '승용', '승용', '승용', '승용', '승용', '승용', '승용', '승합', '승용', '승합', '승용', '승용', '이륜', '승용', '승용', '승용', '이륜', '승용', '승용', '승용', '승용', '승용', '승합', '승용', '승용', '승용', '승합', '승용', '승용', '승용', '화물', '승용', '화물', '승용', '승용', '승용', '이륜', '승용', '승용', '이륜', '승용', '승용', '승합', '화물', '화물', '승용', '승용', '승용', '승합', '승용', '승용', '승용', '승용', '승용', '화물', '승합', '승용', '승용', '승용', '이륜', '승용', '승합', '승용', '승용', '승용', '화물', '이륜', '승용', '화물', '승용', '승용', '승용', '이륜', '승용', '화물', '승용', '승용', '화물', '이륜', '승용', '화물', '승용', '승용', '화물', '승용', '승용', '화물', '승용', '화물', '승합', '승용', '화물', '승용', '승합', '승합', '승용', '이륜', '승용', '승용', '화물', '승용', '승용', '승용', '승용', '승용', '승합', '승용', '승용', '승용', '승용', '승용', '승용', '화물', '승용', '승용', '승용', '승용', '승용', '화물', '승용', '승용', '승용', '화물', '승용', '승합', '승용', '승용', '승용', '화물', '승용', '승용', '승용', '승용', '이륜', '승용', '승용', '승용', '화물', '승용', '승용', '이륜', '화물', '승용', '승용', '이륜', '승용', '화물', '화물', '승용', '이륜', '이륜', '승합', '승용', '승용', '승용', '승합', '승용', '승용', '승용', '승용', '이륜', '기타', '이륜', '승용', '승용', '승용', '이륜', '화물', '승용', '화물', '이륜', '승합', '이륜', '승합', '승용', '기타', '화물', '승용', '승용', '승용', '승용', '승용', '승용', '화물', '승용', '승용', '승용', '승합', '화물', '승용', '승용', '승용', '승용', '승용', '승용', '승용', '이륜', '승용', '승용', '승용', '승용', '승용', '승합', '승용', '승용', '승용', '승용', '이륜', '승용', '이륜', '승용', '승용', '승용', '이륜', '화물', '화물', '승용', '승용', '이륜', '승용', '승용', '승용', '승합', '화물', '화물', '승용', '승용', '승용', '승용', '화물', '승용', '승용', '승용', '승용', '화물', '승용', '화물', '화물', '화물', '승용', '화물', '승용', '승용', '승용', '이륜', '승합', '화물', '승용', '승용', '승용', '이륜', '이륜', '승합', '승용', '승용', '이륜', '승용', '승용', '승합', '이륜', '승합', '승합', '승용', '승용', '승합', '승합', '승용', '이륜', '승용', '승합', '승합', '승용', '승용', '이륜', '승용', '승용', '승용', '승합', '승합', '승합', '승용', '승용', '승용', '승용', '승용', '승용', '승합', '승용', '화물', '승용', '승용', '승용', '화물', '승용', '승용', '승용', '화물', '이륜', '화물', '이륜', '승합', '승합', '승용', '승합', '승용', '승합', '승용', '승용', '이륜', '승용', '승용', '승합', '승용', '승용', '승용', '이륜', '이륜', '승용', '승용', '승용', '승용', '승용', '승용', '화물', '승용', '승용', '승용', '승용', '승용', '승용', '승용', '승용', '승용', '승용', '승용', '승용', '승용', '승용', '승용', '승용', '승용', '승용', '승용', '승용', '승용', '승용', '화물', '승용', '승용', '승용', '승용', '승용', '승용', '승용', '승용', '승용', '승용', '승용', '승용', '승용', '승용', '승용', '승용', '승용', '승용', '승용', '승용', '승용', '승용', '승용', '승용', '승용', '승용', '승용', '승용', '승용', '화물', '승용', '승용', '기타', '승용', '승용', '승용', '승용', '승용', '승용', '승용', '승합', '승용', '승용', '승합', '승용', '승용', '승용', '화물', '승용', '승합', '승용', '승용', '승용', '승용', '승용', '승용', '승용', '승용', '승용', '승용', '화물', '이륜', '승용', '화물', '승용', '승용', '화물', '승용', '승용', '승용', '승용', '승용', '승합', '이륜', '승용', '화물', '승용', '승용', '승용', '승합', '이륜', '승용', '승용', '승용', '승용', '승용', '승용', '이륜', '승용', '화물', '승합', '승용', '화물', '승용', '승합', '승합', '승용', '승합', '승용', '승용', '승용', '승용', '승용', '승용', '승용', '화물', '승용', '승용', '이륜', '승용', '승용', '승용', '승용', '승용', '승용', '화물', '승용', '화물', '승용', '승용', '승용', '승용', '승용', '화물', '화물', '이륜', '이륜', '이륜', '이륜', '화물', '화물', '승용', '화물', '화물', '승용', '승용', '승용', '이륜', '승용', '승용', '승용', '승용', '승합', '승용', '승용', '이륜', '승용', '승용', '승용', '승합', '화물', '이륜', '화물', '이륜', '승용', '승용', '승합', '승용', '승용', '승용', '승용', '승용', '승용', '승용', '승용', '승용', '이륜', '승용', '승용', '이륜', '승용', '승용', '승용', '승합', '이륜', '화물', '승용', '승합', '승용', '승용', '승용', '승합', '화물', '화물', '승용', '승합', '승용', '승합', '승용', '승합', '승용', '승용', '승합', '승용', '승합', '승용', '승합', '승용', '승용', '승용', '승용', '승용', '승용', '승용', '승용', '승용', '승용', '승용', '화물', '승용', '승용', '승용', '승용', '승용', '승용', '승용', '승용', '화물', '승합', '승용', '승용', '승합', '승용', '승용', '승용', '화물', '승용', '화물', '승용', '승합', '이륜', '승용', '화물', '승합', '승용', '승용', '승용', '승용', '화물', '승용', '승용', '승용', '승용', '승용', '승용', '승용', '이륜', '승용', '이륜', '화물', '승용', '승용', '승용', '승용', '승용', '화물', '승용', '승용', '승용', '승용', '승용', '승용', '승용', '승용', '승용', '승합', '승용', '승용', '승용', '승용', '승용', '승용', '이륜', '승용', '승용', '승용', '승용', '승용', '승용', '이륜', '승용', '승용', '승용', '이륜', '승용', '승용', '화물', '승용', '승용', '승용', '승합', '승용', '승용', '승용', '승용', '승용', '승용', '승용', '승용', '화물', '화물', '승용', '승용', '승용', '화물', '승용', '화물', '이륜', '승용', '승용', '승용', '승용', '승용', '승용', '승용', '승용', '승합', '승용', '승용', '승용', '승용', '승용', '승용', '승용', '화물', '승용', '화물', '승용', '화물', '화물', '승용', '이륜', '이륜', '이륜', '승합', '승용', '승합', '승용', '승합', '승용', '승합', '이륜', '화물', '화물', '승용', '승용', '승합', '화물', '승합', '승용', '승용', '승용', '승용', '승합', '승용', '승용', '승합', '승합', '기타', '승합', '승합', '화물', '승합', '승용', '승용', '승용', '이륜', '승용', '이륜', '승용', '승용', '화물', '승용', '승용', '이륜', '승용', '화물', '이륜', '승용', '승용', '승용', '승용', '승용', '이륜', '승용', '승용', '승용', '이륜', '이륜', '승용', '승용', '승용', '승용', '화물', '승용', '승용', '화물', '승용', '승용', '승용', '이륜', '승합', '승용', '승용', '승용', '승용', '승용', '화물', '승합', '승용', '승용', '승용', '승용', '승용', '이륜', '승용', '승용', '승용', '승용', '승용', '화물', '승용', '승용', '승용', '화물', '승용', '승용', '승용', '화물', '화물', '승용', '승용', '승용', '이륜', '승합', '승합', '승용', '승용', '승용', '승합', '승용', '승용', '이륜', '승용', '승용', '승합', '화물', '승용', '화물', '승합', '이륜', '승용', '승용', '이륜', '승용', '승용', '승용', '승용', '승용', '승용', '이륜', '승용', '화물', '승합', '승용', '승용', '화물', '승용', '승용', '이륜', '이륜', '이륜', '승용', '승용', '이륜', '승용', '기타', '승용', '승용', '승용', '승용', '승합', '승합', '승용', '승용', '승용', '승용', '이륜', '승용', '승용', '승용', '승용', '승용', '승용', '승용', '승용', '승용', '승용', '승용', '승용', '승용', '화물', '승용', '승용', '승용', '승용', '승용', '승용', '이륜', '승합', '이륜', '승용', '승용', '승용', '승용', '승용', '승합', '승합', '승용', '승용', '승합', '승용', '승용', '승용', '승용', '승용', '승용', '승합', '승합', '승합', '승용', '승용', '승합', '승합', '승용', '승용', '승용', '승용', '승합', '승합', '승용', '승용', '승용', '승용', '승용', '승합', '승용', '승용', '이륜', '화물', '승합', '화물', '승용', '승용', '승용', '승용', '승용', '화물', '화물', '승용', '승용', '승용', '승용', '승용', '승용', '화물', '승용', '화물', '승용', '승용', '이륜', '승용', '이륜', '승용', '승용', '승용', '승합', '승용', '승용', '승용', '승용', '이륜', '승용', '승용', '승용', '승용', '승용', '승용', '승합', '승용', '승용', '승용', '이륜', '화물', '화물', '승용', '승용', '승용', '승용', '승용', '승용', '이륜', '승용', '이륜', '화물', '승용', '승용', '승용', '승용', '승용', '승용', '승용', '화물', '승용', '승용', '이륜', '승용', '승용', '승용', '이륜', '화물', '화물', '승용', '승용', '승용', '승용', '승용', '승용', '승용', '승용', '승용', '화물', '승용', '승합', '화물', '이륜', '승합', '승용', '승용', '승용', '승용', '승용', '이륜', '화물', '승용', '승합', '화물', '승용', '승용', '승합', '화물', '승합', '승용', '승용', '승용', '승용', '화물', '승용', '승용', '승용', '승용', '승용', '승용', '승용', '화물', '승합', '이륜', '승용', '승용', '승용', '승용', '승용', '승용', '승용', '화물', '화물', '화물', '승용', '승합', '승용', '이륜', '승용', '승용', '승용', '승용', '승용', '승용', '화물', '승용', '이륜', '이륜', '이륜', '승용', '승용', '이륜', '화물', '승용', '승용', '승용', '이륜', '승용', '승용', '승용', '이륜', '승합', '승용', '승용', '승용', '승용', '승용', '화물', '승용', '승용', '승용', '이륜', '화물', '승용', '승용', '승용', '승용', '승용', '승용', '승합', '승용', '승용', '승용', '승용', '승용', '승용', '승용', '승용', '승용', '화물', '승용', '승용', '승용', '승용', '승용', '승용', '화물', '승용', '승용', '이륜', '화물', '승용', '승합', '화물', '승용', '이륜', '승용', '승합', '승용', '승용', '승용', '승용', '승용', '승용', '승합', '승용', '이륜', '승용', '승합', '승용', '화물', '승용', '승합', '승합', '이륜', '화물', '승용', '승용', '승합', '승용', '승용', '승용', '이륜', '화물', '승용', '화물', '승용', '승용', '승용', '승용', '승용', '승용', '승용', '승용', '화물', '승합', '승용', '이륜', '이륜', '승용', '승용', '승용', '이륜', '승용', '승용', '승합', '승용', '승용', '승용', '기타', '승용', '승용', '승용', '승용', '승용', '승용', '이륜', '승용', '이륜', '승용', '화물', '승용', '승용', '승용', '승용', '승합', '승용', '이륜', '승합', '승용', '승용', '승합', '화물', '승용', '화물', '승용', '화물', '화물', '승합', '승합', '이륜', '승합', '화물', '이륜', '승합', '승합', '이륜', '승용', '승합', '승용', '승용', '승합', '화물', '승용', '승합', '승합', '승용', '승용', '화물', '화물', '승합', '승용', '승용', '승용', '승용', '승합', '화물', '화물', '승용', '승용', '승용', '승용', '승용', '승용', '승용', '승용', '화물', '화물', '화물', '화물', '승용', '승용', '승합', '승용', '승용', '화물', '승용', '승용', '승용', '승용', '승합', '화물', '승용', '승용', '승용', '승용', '승용', '승합', '이륜', '승용', '승용', '기타', '승합', '승용', '승용', '승용', '승용', '승용', '승용', '승용', '승용', '승용', '승용', '승용', '승용', '승용', '화물', '승합', '승용', '이륜', '이륜', '승용', '승용', '이륜', '화물', '승용', '승용', '승용', '화물', '승용', '이륜', '이륜', '이륜', '승용', '승용', '승용', '승합', '승용', '승용', '승용', '승용', '승용', '승용', '승용', '승용', '이륜', '이륜', '승용', '승용', '승용', '화물', '승용', '승용', '승용', '화물', '승합', '승용', '승용', '승용', '승용', '승용', '승용', '승용', '화물', '이륜', '승용', '승용', '승용', '승용', '승합', '승용', '승용', '화물', '승용', '승용', '승합', '승합', '승합', '승용', '이륜', '기타', '승용', '승용', '승합', '승용', '승합', '승용', '승용', '승용', '이륜', '승용', '승용', '이륜', '화물', '기타', '승용', '승용', '승용', '화물', '승용', '승용', '화물', '승용', '승용', '승용', '승용', '승합', '승용', '승용', '승용', '화물', '승용', '승용', '승합', '승용', '승합', '승용', '승합', '승용', '승용', '승용', '승용', '승용', '화물', '승용', '이륜', '승용', '승용', '승용', '화물', '승용', '이륜', '승용', '승용', '승용', '승용', '승용', '승합', '승합', '이륜', '승용', '승용', '승합', '승합', '이륜', '승용', '승용', '승용', '승용', '이륜', '승용', '승합', '이륜', '승용', '이륜', '승용', '승용', '승용', '승용', '승용', '승용', '승용', '승합', '승용', '이륜', '승용', '승용', '승용', '이륜', '이륜', '승용', '승용', '승용', '화물', '승용', '승용', '승용', '승합', '승용', '이륜', '승합', '승용', '승용', '승용', '승용', '승용', '승합', '승용', '승용', '승합', '승용', '승용', '화물', '승용', '승용', '승용', '승용', '승용', '승용', '승합', '승용', '승용', '승합', '승합', '승합', '승용', '승용', '화물', '이륜', '승용', '이륜', '승용', '이륜', '승용', '승용', '승용', '화물', '승용', '승용', '화물', '승용', '이륜', '승용', '기타', '이륜', '승용', '이륜', '승용', '승용', '화물', '승용', '승용', '기타', '승용', '승용', '승용', '승용', '승용', '이륜', '승용', '승용', '승용', '이륜', '승용', '승용', '승합', '승용', '화물', '화물', '승용', '승용', '승합', '승합', '승용', '화물', '승용', '승용', '승용', '승합', '승용', '이륜', '승용', '이륜', '화물', '승합', '승용', '승용', '승용', '승합', '승용', '승합', '승용', '승용', '승용', '승용', '화물', '승용', '승합', '승용', '승용', '승용', '승용', '승합', '승용', '승용', '승용', '승용', '승합', '화물', '이륜', '승용', '승용', '승용', '화물', '화물', '승용', '승용', '승합', '화물', '승용', '승합', '승용', '승용', '화물', '이륜', '승용', '승용', '승용', '승용', '이륜', '이륜', '승용', '승용', '승용', '승용', '이륜', '승용', '승용', '승용', '승용', '승용', '화물', '승합', '승용', '승용', '승용', '화물', '승용', '승용', '승용', '승용', '승합', '승합', '승용', '화물', '승용', '이륜', '승합', '승용', '이륜', '승용', '승용', '이륜', '승합', '승용', '승용', '승용', '승용', '승용', '승용', '승용', '승용', '승용', '승용', '승용', '이륜', '이륜', '승용', '승용', '승용', '화물', '승용', '승용', '승용', '이륜', '승용', '승용', '이륜', '승용', '승용', '승용', '승용', '승용', '승합', '승용', '승용', '승용', '화물', '이륜', '이륜', '승용', '화물', '화물', '승용', '승용', '승용', '화물', '화물', '이륜', '승용', '이륜', '승용', '승용', '승합', '이륜', '승용', '승용', '승용', '화물', '승용', '승합', '승용', '승합', '승용', '승용', '승용', '승용', '승용', '이륜', '승용', '화물', '이륜', '화물', '화물', '승용', '승용', '화물', '이륜', '승용', '승용', '승용', '승용', '승용', '승용', '승용', '승용', '화물', '이륜', '승용', '승합', '승용', '이륜', '화물', '승용', '승용', '승합', '승합', '승합', '승합', '승용', '화물', '승용', '승용', '승용', '승합', '이륜', '승용', '승용', '승용', '승합', '이륜', '이륜', '이륜', '승용', '승합', '승용', '승합', '승용', '승용', '승용', '승합', '이륜', '승용', '승용', '승합', '승용', '화물', '승용', '이륜', '화물', '이륜', '화물', '화물', '승용', '승용', '승용', '승용', '승합', '승합', '승용', '승용', '이륜', '화물', '승용', '승용', '승용', '승용', '승용', '이륜', '승용', '승용', '승용', '승용', '승합', '승용', '승용', '승합', '승용', '승용', '승합', '승용', '승용', '승용', '승용', '승합', '승용', '화물', '승용', '승용', '승용', '승용', '승용', '승용', '승용', '승용', '승용', '승용', '이륜', '이륜', '승용', '이륜', '승용', '승용', '승용', '이륜', '승용', '승용', '승합', '승용', '승용', '승용', '승용', '승용', '화물', '이륜', '승용', '승용', '승용', '승용', '승용', '승용', '화물', '이륜', '승용', '이륜', '승합', '승용', '승합', '이륜', '승용', '승합', '화물', '화물', '승용', '이륜', '승용', '화물', '승용', '승용', '이륜', '화물', '승용', '승용', '승용', '승합', '승용', '승합', '승합', '승용', '승용', '승합', '이륜', '이륜', '승용', '승용', '승용', '승용', '승용', '화물', '화물', '승합', '승용', '승용', '화물', '승용', '이륜', '승용', '이륜', '승합', '이륜', '승용', '승용', '승합', '승용', '승용', '화물', '승용', '승용', '화물', '승용', '승용', '승용', '승용', '승합', '승합', '승용', '승용', '승합', '승합', '승용', '승용', '승용', '승용', '승용', '승용', '승용', '화물', '승용', '승용', '화물', '승용', '승용', '승용', '승용', '승용', '승용', '승용', '승용', '승용', '화물', '이륜', '승용', '승용', '승용', '승용', '승용', '승용', '승용', '이륜', '승용', '승용', '이륜', '화물', '승용', '승용', '승용', '승용', '이륜', '승용', '이륜', '승용', '승용', '승합', '화물', '승합', '이륜', '승용', '화물', '승용', '승합', '승용', '승용', '승용', '승용', '승합', '승용', '승합', '승용', '승용', '승용', '승용', '승용', '승용', '승용', '이륜', '승용', '승용', '승용', '승용', '화물', '승용', '이륜', '승용', '승용', '화물', '승합', '승용', '승용', '승합', '승합', '승합', '승용', '승합', '승용', '승합', '승용', '화물', '승합', '화물', '승용', '화물', '승용', '승용', '승용', '이륜', '승용', '화물', '승용', '승합', '승용', '승용', '승용', '승합', '화물', '승합', '승용', '승용', '승용', '승합', '화물', '승용', '승용', '승용', '승합', '화물', '승용', '승용', '승용', '이륜', '승용', '승용', '승용', '승용', '화물', '승용', '화물', '승합', '승용', '승용', '화물', '승용', '화물', '승용', '승용', '이륜', '승용', '승용', '승합', '승용', '승용', '승용', '승합', '이륜', '승합', '화물', '이륜', '승합', '승합', '이륜', '승합', '화물', '승용', '승용', '승용', '승용', '화물', '승용', '승용', '화물', '화물', '승합', '승용', '이륜', '승용', '이륜', '화물', '승합', '승용', '승용', '승용', '승합', '승용', '승용', '승합', '승합', '승용', '승용', '승용', '승합', '승용', '이륜', '화물', '승합', '승합', '승용', '승합', '승용', '승용', '승용', '승합', '승용', '이륜', '승용', '승용', '승용', '승합', '승용', '승합', '승용', '승용', '승합', '승용', '승합', '화물', '승용', '승용', '승용', '화물', '승용', '화물', '승용', '이륜', '승용', '승합', '승용', '화물', '승합', '승합', '승용', '승용', '승용', '화물', '이륜', '승용', '승합', '승용', '이륜', '화물', '이륜', '승합', '승용', '승합', '승용', '승합', '이륜', '승용', '승용', '승용', '이륜', '승용', '승용', '승용', '승용', '승용', '승용', '승용', '승용', '승용', '승용', '승용', '화물', '승용', '승용', '승용', '승용', '승용', '승용', '승용', '승용', '승용', '기타', '승용', '승용', '이륜', '승용', '화물', '승용', '승용', '승용', '화물', '승용', '승용', '이륜', '화물', '승용', '승용', '화물', '승용', '이륜', '승합', '승합', '승합', '승용', '승용', '승용', '승용', '이륜', '승용', '승용', '승용', '승합', '승용', '승용', '승합', '승용', '승용', '승용', '승용', '이륜', '승용', '승합', '승용', '승용', '승용', '승용', '화물', '승용', '승합', '승용', '이륜', '승용', '승용', '승합', '승용', '승용', '승용', '승용', '화물', '화물', '승용', '승용', '승용', '승용', '승용', '승용', '승용', '승합', '승용', '승용', '승합', '승용', '승용', '승용', '승용', '이륜', '승용', '승용', '승합', '기타', '승용', '승용', '승용', '승용', '승용', '승합', '승용', '승용', '화물', '승용', '승용', '승용', '승용', '승용', '화물', '승용', '화물', '승용', '이륜', '승용', '승용', '승합', '승합', '화물', '승용', '승용', '승합', '승합', '이륜', '승용', '승합', '승용', '기타', '화물', '화물', '승용', '승용', '승용', '승용', '승용', '승용', '승용', '화물', '승용', '승용', '승용', '승용', '승합', '승용', '승용', '승합', '승용', '화물', '승용', '승합', '승용', '승용', '승합', '이륜', '승합', '화물', '승용', '화물', '승합', '승용', '화물', '승합', '승합', '이륜', '승합', '승합', '승용', '승용', '승용', '승용', '승용', '승용', '승용', '이륜', '승용', '이륜', '승용', '승용', '승용', '승용', '화물', '이륜', '승용', '이륜', '승용', '화물', '승용', '승용', '이륜', '승용', '승합', '승용', '이륜', '승용', '승용', '승용', '승용', '승용', '승용', '승용', '승합', '승용', '이륜', '승용', '승합', '승합', '승용', '승용', '승용', '승합', '승합', '이륜', '승합', '승용', '승합', '승용', '승용', '승용', '승합', '승용', '승용', '승용', '승용', '승용', '승용', '승용', '승합', '승합', '승합', '승용', '승합', '승용', '승합', '승용', '승용', '승용', '승용', '승용', '승용', '승용', '승용', '승용', '승용', '승용', '승용', '승용', '이륜', '승용', '승용', '화물', '승용', '승용', '승용', '승용', '승용', '승용', '화물', '승용', '승용', '화물', '승용', '승용', '이륜', '승용', '승용', '승용', '승용', '승용', '승용', '승용', '승용', '승용', '승용', '승용', '화물', '화물', '승합', '승용', '승합', '승용', '승용', '승용', '승용', '승용', '승용', '승용', '승용', '승용', '승용', '승용', '승용', '승합', '승용', '화물', '화물', '승용', '이륜', '승용', '승용', '이륜', '승용', '승합', '승용', '이륜', '승용', '이륜', '승용', '승용', '승용', '승용', '승용', '승용', '승용', '승용', '승용', '이륜', '승용', '승용', '승용', '승용', '승용', '승용', '승용', '승용', '승용', '승용', '승용', '승용', '이륜', '승용', '승용', '승용', '승용', '이륜', '승용', '승용', '승용', '승용', '승용', '승용', '승용', '이륜', '승용', '승용', '승용', '승용', '승용', '화물', '승용', '승용', '승합', '승용', '승합', '승합', '화물', '승용', '승용', '승용', '승용', '승용', '승용', '승용', '승용', '화물', '승용', '승용', '승용', '화물', '승용', '승용', '화물', '승용', '승용', '승용', '승합', '승용', '승용', '승용', '승용', '승용', '승용', '이륜', '승용', '이륜', '승용', '승용', '승용', '승합', '승용', '승용', '승용', '이륜', '승용', '승용', '승용', '승용', '승용', '승용', '이륜', '승용', '승용', '이륜', '승합', '승용', '승용', '승합', '승용', '승용', '승합', '승용', '승합', '승용', '승합', '승용', '승용', '승용', '화물', '승용', '승용', '승용', '화물', '승용', '승용', '승용', '화물', '승용', '승합', '승용', '화물', '승용', '승용', '승용', '승용', '이륜', '승용', '승합', '승용', '승용', '승용', '승용', '화물', '승용', '승용', '승용', '승용', '승용', '승용', '승용', '승용', '승용', '승용', '승용', '화물', '승용', '승용', '기타', '승용', '승용', '승용', '화물', '승용', '승용', '승용', '승용', '화물', '승용', '승용', '승용', '승용', '이륜', '화물', '승용', '승용', '승용', '승용', '승용', '승용', '이륜', '승용', '승용', '화물', '이륜', '승용', '승용', '화물', '화물', '승용', '승용', '승용', '화물', '이륜', '승용', '화물', '승합', '승합', '화물', '승용', '승용', '이륜', '화물', '승용', '승합', '이륜', '이륜', '승용', '승합', '승용', '화물', '승용', '승용', '승용', '이륜', '승합', '승용', '승용', '승용', '승용', '승용', '이륜', '승용', '승용', '승용', '이륜', '승용', '승용', '승용', '승합', '화물', '이륜', '승용', '승용', '승용', '승용', '승용', '승용', '승용', '화물', '화물', '승용', '승용', '승용', '승용', '승합', '승용', '승합', '이륜', '이륜', '승합', '승합', '화물', '화물', '승용', '승용', '승합', '승합', '승용', '승용', '이륜', '이륜', '승용', '승용', '승용', '승용', '승용', '승용', '승합', '승합', '이륜', '승용', '승용', '화물', '승용', '화물', '화물', '승용', '승용', '화물', '승용', '화물', '화물', '이륜', '승용', '승용', '이륜', '이륜', '승합', '이륜', '승용', '승용', '이륜', '화물', '승용', '승용', '승용', '승합', '승용', '화물', '승합', '승용', '화물', '승용', '승용', '승용', '승용', '승용', '화물', '승용', '이륜', '이륜', '승용', '승용', '화물', '화물', '승용', '승용', '승용', '승용', '화물', '화물', '승용', '승용', '승용', '승용', '승용', '승용', '승용', '이륜', '승합', '승합', '승용', '승합', '승용', '승용', '승용', '승합', '승용', '승용', '승용', '승용', '이륜', '이륜', '승용', '승용', '승용', '승용', '승용', '승용', '승용', '승용', '승용', '승용', '승용', '승용', '승용', '승용', '승용', '승용', '승용', '승용', '승용', '승용', '승용', '이륜', '이륜', '이륜', '승용', '승용', '승용', '승용', '승용', '승용', '화물', '화물', '화물', '이륜', '이륜', '승용', '승용', '승용', '승용', '승합', '승합', '승용', '승용', '화물', '화물', '승용', '승용', '승용', '승용', '승용', '승용', '승용', '승용', '승용', '이륜', '이륜', '승용', '화물', '이륜', '승용', '승용', '승용', '승용', '승용', '승용', '승용', '승용', '승용', '승용', '승용', '승용', '이륜', '이륜', '화물', '화물', '승용', '승용', '승용', '승용', '이륜', '이륜', '승용', '승용', '승용', '승용', '화물', '화물', '승용', '승용', '화물', '화물', '승용', '승용', '승용', '승용', '승용', '승용', '이륜', '승용', '화물', '승용', '승용', '승용', '승용', '승용', '이륜', '승용', '승용', '승용', '승용', '승용', '이륜', '승용', '승용', '승용', '승용', '승용', '승용', '승용', '화물', '승용', '승용', '승용', '승용', '승용', '승용', '승용', '승용', '승용', '승용', '승용', '승합', '승합', '승합', '승용', '승용', '승용', '승용', '승용', '승용', '승용', '승용', '승용', '승합', '승합', '승합', '화물', '화물', '화물', '승합', '승합', '승합', '승용', '화물', '이륜', '화물', '승용', '승용', '화물', '승용', '이륜', '이륜', '승용', '승용', '승용', '승용', '승용', '승용', '승용', '승용', '승용', '승용', '승용', '승용', '이륜', '이륜', '승용', '승용', '승용', '승합', '승용', '승용', '승용', '이륜', '이륜', '승용', '승용', '승합', '승합', '승용', '승용', '승용', '승용', '승용', '승용', '승용', '승용', '승용', '승용', '화물', '승용', '이륜', '승용', '승용', '승용', '승용', '승용', '승용', '화물', '승합', '승용', '승용', '승용', '승용', '승용', '화물', '화물', '승용', '승용', '승용', '승용', '승용', '승용', '승용', '화물', '화물', '이륜', '이륜', '승용', '승용', '승합', '승합', '화물', '화물', '승용', '승용', '승용', '이륜', '승용', '이륜', '승용', '승용', '화물', '승용', '승용', '승용', '승용', '승용', '승합', '승합', '승합', '승합', '승합', '승합', '승용', '승용', '승용', '승용', '승합', '승합', '승용', '승용', '승용', '승용', '화물', '승용', '승용', '화물', '승용', '승용', '승합', '승용', '승용', '승용', '승용', '승용', '이륜', '화물', '승용', '승용', '승용', '승용', '승용', '화물', '승용', '승용', '이륜', '승용', '승용', '승용', '화물', '승용', '승용', '승용', '화물', '승용', '승용', '승용', '승용', '승용', '승용', '승용', '승용', '승용', '화물', '화물', '승용', '승용', '승용', '승용', '승용', '승용', '승용', '승용', '승용', '승용', '이륜', '이륜', '이륜', '승용', '승용', '승용', '승용', '승용', '승용', '승용', '승용', '승용', '승합', '승합', '승합', '승용', '승용', '승용', '승용', '승용', '승용', '승용', '승합', '승합', '이륜', '이륜', '화물', '화물', '승용', '승용', '승용', '승용', '승용', '화물', '승용', '승용', '승용', '승용', '승용', '이륜', '승합', '승용', '승용', '화물', '승용', '승용', '승용', '승합', '승합', '승합', '승합', '승용', '승합', '화물', '승용', '승합', '이륜', '화물', '승합', '승용', '승용', '화물', '승용', '화물', '승용', '승용', '화물', '승용', '승용', '승용', '승용', '승용', '화물', '승용', '승합', '승합', '승합', '이륜', '승용', '승용', '기타', '기타', '기타', '승용', '승용', '승용', '승용', '승용', '승용', '승용', '승용', '승용', '승용', '승용', '승용', '승용', '화물', '승용', '승합', '승용', '화물', '승용', '화물', '이륜', '승용', '승용', '화물', '이륜', '승용', '승용', '이륜', '이륜', '화물', '화물', '화물', '화물', '승용', '승용', '승합', '승합', '승용', '승용', '승용', '승용', '승용', '승용', '이륜', '이륜', '화물', '화물', '승용', '승용', '승용', '승용', '승용', '승용', '승용', '승용', '승합', '승합', '승용', '승용', '승용', '승용', '승합', '승용', '화물', '이륜', '화물', '승합', '이륜', '이륜', '승용', '승용', '승용', '승용', '승용', '승용', '승용', '승용', '승용', '승용', '승용', '승용', '승용', '승용', '승용', '승용', '이륜', '승용', '이륜', '승용', '승용', '이륜', '이륜', '승용', '화물', '승용', '승용', '승용', '승용', '승용', '이륜', '승용', '승용', '승합', '승합', '승용', '승용', '승용', '승용', '승용', '승용', '승용', '승용', '승용', '승용', '승용', '승용', '승용', '승용', '승용', '승용', '승용', '승용', '승용', '화물', '화물', '화물', '화물', '화물', '승용', '승용', '승용', '승용', '승용', '승용', '승용', '승용', '승용', '승용', '승용', '승용', '승용', '승용', '승용', '승용', '승용', '승용', '승용', '승용', '승용', '승용', '승용', '승용', '승용', '승용', '승용', '승용', '승용', '승용', '승용', '승합', '승용', '승용', '승용', '화물', '승용', '이륜', '이륜', '승용', '승용', '승용', '승용', '승용', '승용', '승용', '승용', '승용', '승용', '승용', '승용', '화물', '화물', '승용', '승용', '승용', '승용', '이륜', '이륜', '승용', '승용', '이륜', '이륜', '승용', '승용', '승용', '승용', '승용', '승용', '승용', '승용', '승용', '승용', '화물', '화물', '승용', '승용', '승용', '승용', '승용', '승용', '승용', '승용', '승용', '승용', '승용', '승용', '승용', '승용', '승용', '승용', '이륜', '이륜', '승용', '승합', '승용', '승용', '승용', '승용', '승합', '승용', '승용', '승합', '화물', '승용', '화물', '승용', '승용', '승합', '승용', '승용', '승용', '승용', '승용', '승용', '승용', '승용', '승용', '승용', '승용', '승용', '승용', '승용', '화물', '화물', '승용', '승용', '승용', '승용', '승합', '승합', '승용', '승용', '승합', '승합', '승용', '승용', '승용', '승용', '승용', '화물', '화물', '화물', '승용', '승용', '승용', '승용', '승용', '화물', '승용', '승용', '승용', '이륜', '승용', '승합', '승용', '이륜', '승용', '승용', '승용', '화물', '승용', '이륜', '승용', '승합', '승용', '승용', '승용', '승합', '승용', '승용', '승용', '승용', '승용', '화물', '기타', '승용', '승용', '이륜', '승합', '승합', '승용', '승용', '승용', '승용', '승용', '승용', '승용', '승용', '승용', '승용', '승용', '승용', '승용', '이륜', '이륜', '승용', '승용', '승용', '승용', '승용', '승용', '승용', '승용', '승용', '승용', '승용', '이륜', '이륜', '승용', '승용', '승용', '승용', '승용', '승용', '승용', '승용', '승용', '승용', '승용', '승용', '승용', '승용', '승용', '승용', '승용', '승용', '이륜', '이륜', '승용', '승용', '승용', '승용', '승용', '승용', '승용', '승용', '승용', '승용', '승용', '승용', '승용', '승용', '이륜', '이륜', '승용', '승용', '승용', '승용', '승합', '승합', '화물', '화물', '승용', '승용', '화물', '화물', '승용', '승용', '승용', '승용', '승용', '승용', '승용', '승용', '승용', '승용', '승용', '승합', '승합', '승합', '승용', '승용', '승용', '화물', '화물', '화물', '승용', '승용', '승용', '승용', '승용', '승용', '이륜', '이륜', '이륜', '승합', '승합', '승합', '승합', '승합', '승합', '승용', '승용', '승용', '승용', '승용', '승용', '이륜', '승용', '승용', '승용', '승합', '승용', '승용', '승용', '승용', '이륜', '승용', '이륜', '승용', '승용', '승용', '승용', '승용', '화물', '승용', '승용', '이륜', '이륜', '화물', '승용', '승용', '승용', '승용', '승용', '승용', '이륜', '승용', '승용', '화물', '승용', '승용', '승용', '승용', '승용', '승용', '승용', '승용', '승합', '승합', '승합', '화물', '화물', '화물', '승용', '승용', '승용', '승용', '승용', '승용', '화물', '승용', '승용', '승용', '승용', '승용', '기타', '승용', '승용', '승합', '승합', '승합', '승용', '화물', '승용', '승용', '승용', '승용', '화물', '승용', '승용', '승용', '승용', '화물', '화물', '승용', '승용', '승용', '승용', '승용', '승용', '승용', '승용', '화물', '화물', '화물', '화물', '이륜', '이륜', '승용', '승용', '승합', '승합', '승용', '승용', '승용', '승용', '기타', '기타', '승용', '승용', '승용', '승용', '승용', '승용', '승용', '승용', '승용', '승용', '승용', '승용', '승용', '승용', '승용', '승용', '승용', '승용', '화물', '화물', '승용', '승용', '승용', '승용', '승용', '승용', '승용', '승용', '승용', '승용', '이륜', '승합', '승용', '승용', '승용', '승용', '승용', '승용', '승용', '승용', '승용', '승용', '승용', '승용', '승용', '승용', '승용', '이륜', '이륜', '승용', '승용', '승용', '승용', '승용', '승용', '승용', '승용', '승용', '승용', '승용', '승용', '승용', '승용', '승합', '승용', '이륜', '승용', '승용', '이륜', '승합', '승용', '승용', '화물', '승용', '승용', '승합', '승합', '승용', '승용', '승용', '승용', '승용', '승용', '기타', '승용', '승용', '승용', '승용', '승용', '화물', '화물', '화물', '승용', '승용', '승용', '승용', '승용', '승용', '승용', '승용', '승용', '승용', '승용', '승용', '승용', '승용', '승용', '화물', '화물', '화물', '승용', '승용', '승용', '승용', '승용', '승용', '승용', '승용', '승용', '승용', '승용', '승용', '승용', '승용', '승용', '승합', '승용', '승용', '승용', '화물', '승용', '화물', '화물', '승용', '승용', '승용', '승용', '화물', '승용', '승용', '승용', '승용', '승용', '승용', '승용', '승용', '이륜', '승용', '이륜', '이륜', '승용', '이륜', '승용', '승용', '이륜', '승용', '이륜', '승용', '승용', '승용', '승용', '승용', '승용', '승용', '승용', '승용', '승용', '승용', '승합', '승합', '승용', '승용', '승합', '승합', '승용', '승용', '승용', '승용', '이륜', '이륜', '승용', '승용', '승용', '승용', '승용', '승용', '승용', '승용', '승용', '승용', '이륜', '이륜', '승용', '승용', '승용', '승용', '이륜', '이륜', '승용', '승용', '승용', '승용', '승용', '승용', '승용', '승용', '승용', '승용', '승용', '승용', '승용', '승용', '승용', '승용', '승용', '승용', '승용', '승용', '승합', '승합', '승용', '승용', '승합', '승합', '승용', '승용', '승용', '승용', '이륜', '이륜', '승합', '승합', '승합', '승합', '승용', '승용', '승용', '승용', '승용', '승용', '승용', '승용', '승합', '승합', '승용', '승용', '승합', '승합', '승용', '승용', '이륜', '이륜', '이륜', '이륜', '기타', '기타', '이륜', '이륜', '승용', '승용', '승용', '승용', '화물', '화물', '이륜', '이륜', '승용', '승용', '승합', '승합', '화물', '화물', '승용', '승용', '화물', '화물', '화물', '화물', '승용', '승합', '승합', '화물', '승용', '승합', '이륜', '이륜', '승용', '승용', '승용', '승용', '승합', '승합', '승용', '승용', '승합', '승합', '승용', '화물', '승용', '승용', '승용', '승용', '승용', '승용', '승용', '승용', '승용', '승용', '승용', '승용', '승용', '승용', '승용', '승용', '승용', '승용', '승용', '승용', '승용', '승용', '승용', '승용', '승용', '승용', '승용', '승용', '승용', '승용', '승용', '화물', '화물', '화물', '화물', '승용', '승용', '승용', '승용', '승용', '승용', '승용', '승용', '승용', '승용', '승용', '승용', '승용', '승용', '승용', '승용', '승용', '승용', '승용', '승용', '승합', '승합', '화물', '화물', '승용', '승용', '이륜', '이륜', '화물', '화물', '화물', '화물', '승용', '승용', '승합', '승합', '승용', '승용', '승용', '승용', '승용', '승용', '이륜', '이륜', '승용', '승용', '화물', '승용', '승용', '승용', '승용', '화물', '승용', '화물', '승합', '승용', '승용', '승용', '이륜', '승용', '승용', '이륜', '승용', '승용', '승용', '승용', '승용', '이륜', '승용', '이륜', '승용', '승용', '승용', '승용', '승용', '승용', '승용', '승용', '승용', '화물', '화물', '화물', '화물', '승용', '승용', '승용', '승용', '승용', '승용', '승용', '승용', '화물', '화물', '승용', '승용', '승용', '승용', '화물', '화물', '기타', '기타', '승용', '승용', '화물', '승합', '승용', '승용', '승용', '승용', '승용', '승합', '이륜', '승용', '승합', '승합', '이륜', '승용', '승용', '이륜', '승용', '승용', '승합', '승용', '승합', '승합', '이륜', '승용', '승용', '승합', '승용', '승용', '승용', '승용', '화물', '승용', '승용', '화물', '화물', '이륜', '이륜', '승용', '승용', '승용', '화물', '승용', '승합', '승용', '승합', '승용', '승용', '승용', '승용', '승용', '화물', '승용', '화물', '승용', '승용', '승용', '승용', '승합', '승용', '승용', '승용', '승합', '승용', '승용', '승용', '승합', '이륜', '승용', '승용', '이륜', '화물', '승합', '이륜', '승합', '승합', '승용', '이륜', '승용', '승용', '승용', '승용', '승용', '승용', '승용', '승합', '승용', '승용', '이륜', '이륜', '승용', '승용', '승용', '승용', '승용', '승용', '승용', '승용', '승용', '승용', '승용', '승용', '승용', '화물', '화물', '화물', '화물', '화물', '승용', '화물', '화물', '승용', '승용', '화물', '이륜', '승합', '승합', '승용', '승용', '승합', '승합', '승합', '승용', '승용', '승용', '승용', '승용', '승용', '승용', '승용', '승용', '승용', '승용', '승용', '승용', '승용', '승용', '화물', '승용', '승용', '승용', '승용', '승용', '승용', '승용', '승용', '이륜', '승용', '승용', '화물', '승합', '승합', '기타', '승용', '승용', '승용', '승용', '승용', '승합', '승용', '승용', '승용', '승용', '승용', '승용', '승용', '이륜', '이륜', '승용', '승용', '승용', '승용', '승합', '승용', '승용', '승용', '승용', '승용', '승용', '승용', '승용', '승용', '승용', '승용', '승용', '승용', '화물', '승용', '승용', '승용', '화물', '승용', '승용', '승합', '승용', '승용', '승용', '승용', '승용', '승용', '승용', '승용', '승용', '승용', '승용', '화물', '승용', '승용', '이륜', '승용', '승용', '승합', '승용', '승용', '승용', '승합', '승합', '승합', '기타', '승용', '승용', '승용', '승합', '승합', '승용', '승용', '승용', '승용', '승용', '승용', '승용', '승용', '승용', '승용', '승용', '승용', '승용', '승용', '승용', '승용', '승용', '승용', '승용', '승용', '승용', '승용', '승용', '승용', '승용', '승용', '승용', '승용', '승용', '승용', '화물', '화물', '승용', '승용', '승용', '승합', '승합', '승합', '승용', '승용', '승합', '승합', '승용', '승용', '이륜', '이륜', '이륜', '승용', '승용', '승용', '이륜', '승합', '승용', '승용', '승합', '승합', '승합', '승용', '승합', '승용', '승용', '승용', '승용', '화물', '화물', '승용', '승용', '화물', '화물', '승용', '승용', '화물', '승합', '승용', '승용', '승용', '화물', '승용', '승용', '이륜', '이륜', '승용', '승용', '화물', '승용', '승합', '승용', '화물', '승용', '승용', '승용', '화물', '승용', '승용', '승용', '승합', '승용', '승용', '승용', '승용', '이륜', '이륜', '승용', '승용', '이륜', '이륜', '승합', '승합', '화물', '화물', '승용', '승용', '승용', '승용', '승용', '승용', '승용', '승용', '승용', '승용', '승용', '승용', '승용', '승용', '승용', '승용', '승용', '승용', '화물', '승합', '승합', '승용', '승용', '승합', '승용', '승용', '승용', '화물', '승용', '승용', '승용', '승용', '승용', '이륜', '승용', '승용', '승용', '승용', '승용', '승용', '승용', '승용', '승용', '승용', '승용', '승용', '승용', '승용', '화물', '승용', '승용', '승용', '승용', '승용', '화물', '승용', '승용', '승용', '승용', '승용', '승용', '승용', '승용', '승용', '승용', '승용', '승용', '승용', '승용', '화물', '승합', '화물', '승합', '승용', '승용', '승용', '화물', '기타', '승용', '승용', '승용', '승용', '승용', '승용', '화물', '승용', '승용', '승용', '승용', '승용', '이륜', '승용', '승용', '승합', '승용', '승용', '승용', '이륜', '화물', '승용', '승용', '승용', '승용', '이륜', '이륜', '승용', '승용', '승용', '승용', '승용', '승용', '승용', '승용', '승용', '승용', '승용', '승용', '승용', '기타', '승용', '승용', '승용', '승용', '승용', '승용', '이륜', '이륜', '이륜', '승용', '승용', '승용', '승용', '승용', '승용', '승합', '승합', '승합', '승용', '승용', '승용', '승용', '승용', '승용', '승용', '승용', '승용', '승용', '승용', '승용', '승용', '승용', '승용', '승용', '승용', '승용', '이륜', '이륜', '승용', '화물', '기타', '승용', '화물', '승합', '승용', '화물', '승용', '승용', '승용', '승용', '승용', '승용', '승합', '승용', '승용', '화물', '승용', '승용', '승용', '승합', '승용', '승용', '승합', '승용', '승합', '승용', '이륜', '이륜', '기타', '이륜', '승용', '승용', '승용', '승용', '화물', '승용', '화물', '승용', '이륜', '승용', '이륜', '승용', '승용', '기타', '화물', '화물', '화물', '화물', '승용', '승용', '승용', '승합', '기타', '승용', '이륜', '화물', '승합', '승용', '승용', '화물', '승합', '화물', '이륜', '승용', '화물', '화물', '승용', '승용', '승용', '승용', '승합', '승용', '승합', '승용', '승합', '승용', '승용', '승합', '승합', '승용', '이륜', '이륜', '승용', '화물', '승용', '화물', '승용', '승용', '승합', '승용', '승용', '화물', '승합', '승용', '승용', '승용', '승용', '이륜', '이륜', '승용', '승용', '승용', '승용', '승용', '이륜', '승용', '승용', '승용', '이륜', '승용', '승용', '승용', '승용', '승용', '승용', '승용', '승용', '승용', '화물', '화물', '화물', '화물', '승용', '승합', '승용', '승합', '승용', '화물', '화물', '승용', '승용', '승용', '승용', '승용', '승용', '승합', '승합', '승용', '승용', '승합', '승용', '승용', '승용', '승용', '승용', '승용', '승용', '승용', '승용', '승용', '승용', '승용', '승용', '기타', '기타', '승합', '승합', '승용', '승용', '승용', '승용', '승용', '승용', '이륜', '이륜', '승용', '승용', '기타', '기타', '승용', '이륜', '승용', '승용', '승용', '화물', '승용', '이륜', '승용', '승용', '승용', '승용', '승용', '승용', '이륜', '승용', '승용', '승용', '승용', '승용', '승용', '승용', '승합', '승용', '승용', '승용', '승용', '승합', '화물', '승용', '승합', '승용', '승용', '승용', '승용', '승용', '승용', '승용', '승용', '이륜', '이륜', '승용', '승용', '승용', '승용', '승용', '승용', '화물', '화물', '승용', '승용', '승용', '승용', '이륜', '이륜', '승용', '승용', '승용', '승용', '승용', '승용', '승용', '승용', '승합', '승합', '승용', '승용', '승용', '승용', '승용', '승용', '승용', '승용', '승용', '승용', '승용', '승용', '화물', '승용', '승용', '승용', '이륜', '승용', '이륜', '승용', '승용', '화물', '승용', '승용', '승합', '승용', '승합', '승합', '승용', '승합', '이륜', '승용', '승용', '승합', '승합', '승용', '승용', '승합', '승합', '화물', '화물', '승용', '승용', '승합', '승합', '승합', '승합', '승용', '승용', '승합', '승합', '승용', '승용', '승용', '승용', '승용', '승용', '화물', '화물', '이륜', '승용', '승용', '승용', '승용', '이륜', '승용', '이륜', '승용', '승용', '화물', '화물', '승용', '승용', '승용', '승용', '기타', '기타', '승합', '승합', '화물', '화물', '승용', '승용', '승용', '승용', '승용', '승용', '승용', '승용', '승용', '승용', '승용', '승용', '승용', '승용', '화물', '승용', '승용', '승합', '승용', '승용', '승용', '승용', '승용', '승합', '승용', '승용', '승용', '승용', '승용', '승용', '승용', '승용', '기타', '승용', '승용', '승합', '승용', '승합', '승용', '승용', '승용', '승용', '승용', '승용', '승용', '승용', '승용', '승용', '승용', '승용', '승용', '승용', '승용', '승용', '승용', '승용', '승용', '승용', '이륜', '이륜', '승용', '승용', '승용', '승용', '승용', '화물', '승용', '승용', '승용', '승용', '승용', '승용', '승용', '승용', '승용', '승용', '승용', '화물', '승용', '화물', '승합', '승용', '화물', '승용', '승합', '승용', '승용', '승용', '승용', '승용', '화물', '화물', '승용', '승용', '승용', '승용', '승합', '승합', '승용', '승용', '승용', '승용', '승용', '승용', '이륜', '승용', '승용', '화물', '승용', '이륜', '승용', '이륜', '이륜', '승용', '승용', '승용', '승용', '승합', '기타', '승용', '화물', '승용', '이륜', '승용', '승용', '승용', '승용', '승용', '승용', '승용', '승용', '승용', '승용', '승용', '승용', '승용', '화물', '승용', '승용', '승용', '승용', '승용', '승용', '승용', '승용', '승용', '승용', '승용', '승용', '승합', '승합', '승합', '승합', '승합', '화물', '화물', '화물', '화물', '화물', '승용', '승용', '승용', '승용', '승용', '승용', '승용', '승용', '승용', '승용', '승용', '승용', '승용', '승용', '승용', '승용', '승용', '승용', '승용', '승용', '승용', '승용', '승용', '승용', '승용', '화물', '화물', '화물', '승용', '승용', '승용', '이륜', '화물', '승용', '승용', '승용', '승용', '승용', '승용', '화물', '승용', '이륜', '화물', '승용', '화물', '승용', '화물', '승용', '승용', '승용', '화물', '화물', '승용', '승용', '승용', '승용', '승용', '화물', '이륜', '승용', '승용', '승용', '승용', '승용', '승용', '승용', '승용', '화물', '이륜', '승용', '화물', '승용', '승용', '승용', '화물', '이륜', '이륜', '승용', '승용', '승용', '승용', '승용', '승용', '승용', '승용', '승용', '이륜', '승용', '이륜', '승용', '승용', '승용', '승용', '승용', '승용', '승용', '승용', '승용', '승용', '승용', '화물', '승용', '승용', '승합', '승합', '승용', '승용', '승용', '승용', '승용', '승용', '승용', '승용', '승용', '기타', '기타', '기타', '승용', '승용', '승용', '승용', '승용', '승용', '승용', '승용', '승용', '승용', '승용', '승용', '승합', '승합', '승합', '승용', '승용', '승용', '승용', '승용', '승합', '승용', '승용', '승용', '승용', '승용', '이륜', '승용', '승용', '승용', '승용', '승용', '승용', '화물', '화물', '승용', '승용', '승용', '승용', '승용', '승용', '승용', '승용', '승용', '승용', '이륜', '승용', '승용', '승용', '승용', '승용', '이륜', '화물', '승용', '승용', '화물', '이륜', '이륜', '승용', '화물', '승용', '승용', '승용', '승용', '승용', '이륜', '승용', '승용', '승용', '화물', '승용', '화물', '화물', '승용', '승용', '승용', '승용', '승용', '승용', '승용', '승용', '기타', '이륜', '승용', '승용', '승용', '승용', '승용', '승용', '화물', '승용', '승용', '승합', '승용', '승합', '승용', '이륜', '승용', '승용', '승합', '승용', '승합', '승용', '승합', '승용', '승합', '승용', '승용', '승용', '이륜', '승용', '승용', '이륜', '승용', '승용', '승용', '승용', '승용', '승용', '승용', '승용', '승용', '승용', '승용', '승용', '승용', '승용', '승용', '승용', '승용', '화물', '화물', '승용', '승용', '승용', '승용', '승용', '승용', '승용', '승용', '승용', '승용', '승용', '승용', '승용', '승용', '기타', '기타', '기타', '화물', '화물', '화물', '승용', '승용', '승용', '승용', '승용', '승합', '승용', '화물', '승용', '화물', '승용', '승용', '승용', '승용', '승용', '화물', '화물', '승용', '승용', '기타', '승용', '승용', '화물', '화물', '승용', '승용', '이륜', '승용', '화물', '승용', '승용', '승용', '승용', '승용', '화물', '화물', '승용', '승합', '승용', '이륜', '승용', '승용', '승용', '승용', '승용', '승용', '승용', '승용', '이륜', '화물', '승용', '승용', '승용', '승용', '승용', '승용', '승용', '화물', '승용', '화물', '이륜', '이륜', '이륜', '승용', '승용', '승용', '승용', '승용', '승용', '승용', '승용', '승용', '승용', '승용', '승용', '화물', '승용', '승용', '화물', '승합', '승용', '승합', '이륜', '이륜', '기타', '승용', '화물', '승용', '승용', '승용', '승용', '승용', '승용', '승용', '승용', '승용', '화물', '화물', '승용', '승용', '승용', '승용', '승용', '승합', '승합', '승용', '화물', '승합', '승용', '기타', '승용', '이륜', '승용', '화물', '승용', '승용', '화물', '화물', '승용', '승합', '이륜', '승용', '승용', '승용', '승용', '승용', '승용', '승용', '승용', '승용', '승합', '승용', '승용', '승용', '승용', '승용', '승용', '화물', '승용', '화물', '승용', '승용', '화물', '승용', '승용', '이륜', '승용', '승용', '승용', '화물', '승용', '승용', '승용', '화물', '화물', '이륜', '승용', '화물', '화물', '승용', '승용', '이륜', '승용', '승합', '승용', '승용', '승용', '기타', '승합', '승합', '승합', '승용', '승합', '승용', '승용', '승용', '이륜', '승용', '승용', '승용', '승용', '승합', '화물', '승용', '승용', '승용', '승용', '승용', '이륜', '승용', '화물', '승용', '화물', '승용', '승용', '승용', '승용', '이륜', '이륜', '화물', '승용', '승용', '승용', '승용', '승용', '승용', '승용', '이륜', '화물', '승용', '승용', '승용', '승용', '승용', '승용', '승용', '승용', '화물', '화물', '승용', '승용', '이륜', '이륜', '승용', '승용', '승용', '승용', '승용', '승용', '승용', '승용', '이륜', '승용', '이륜', '이륜', '이륜', '승용', '승합', '승합', '승용', '승용', '승용', '승용', '승용', '승합', '승용', '승용', '승용', '승용', '승용', '승용', '승용', '승합', '승용', '이륜', '승용', '승용', '이륜', '승용', '승용', '이륜', '승용', '이륜', '승용', '승합', '승용', '승용', '화물', '화물', '승합', '승용', '승용', '승용', '승용', '이륜', '승용', '승용', '화물', '승용', '승용', '승용', '승용', '승용', '승용', '승용', '승용', '승용', '승용', '승합', '승합', '승용', '승용', '승용', '화물', '화물', '승용', '이륜', '화물', '승용', '승용', '승용', '승용', '승용', '승용', '승용', '화물', '승용', '승용', '승용', '화물', '승용', '승용', '승용', '기타', '승용', '승용', '승용', '승용', '승용', '승용', '승용', '승합', '화물', '승용', '승용', '승용', '승용', '승합', '승용', '승용', '승용', '기타', '화물', '승용', '승용', '승용', '화물', '이륜', '승용', '이륜', '승합', '승용', '승용', '승용', '승용', '승용', '승용', '승용', '승용', '승용', '이륜', '이륜', '승용', '승용', '승용', '승용', '승용', '승용', '화물', '화물', '승용', '승용', '승용', '승용', '승용', '화물', '승용', '승용', '승용', '승용', '이륜', '이륜', '승용', '승용', '승용', '승합', '승용', '승용', '화물', '이륜', '승용', '이륜', '승용', '승용', '승용', '승용', '승용', '이륜', '승용', '이륜', '승합', '승용', '이륜', '승합', '승용', '화물', '이륜', '화물', '승용', '이륜', '승용', '이륜', '승용', '승용', '이륜', '이륜', '승합', '화물', '승용', '승용', '이륜', '화물', '승용', '화물', '승용', '이륜', '승합', '승용', '기타', '승용', '승용', '승용', '승용', '승용', '승용', '승용', '승용', '승용', '승용', '승용', '이륜', '화물', '승용', '이륜', '승용', '화물', '이륜', '기타', '승용', '승용', '승용', '화물', '승용', '승용', '승용', '승용', '승용', '승용', '승용', '승용', '승용', '승용', '이륜', '이륜', '이륜', '승용', '승용', '승용', '승용', '승용', '승용', '승합', '승합', '화물', '승용', '승용', '기타', '기타', '이륜', '승합', '승용', '승용', '기타', '승용', '승용', '승용', '승용', '승용', '승용', '승용', '승용', '화물', '승용', '승용', '승용', '이륜', '승용', '승용', '승용', '승용', '이륜', '승용', '승용', '승합', '승용', '승용', '승합', '승용', '화물', '승용', '승용', '화물', '화물', '승용', '승용', '승용', '승용', '승용', '승용', '승용', '승합', '승합', '승용', '승용', '승합', '승합', '승용', '승용', '승용', '승용', '승용', '승용', '승용', '승용', '승용', '승용', '승용', '승용', '이륜', '이륜', '화물', '화물', '이륜', '이륜', '승용', '승용', '승용', '승용', '이륜', '화물', '이륜', '승용', '승용', '기타', '승용', '승용', '승용', '승용', '승용', '화물', '승용', '승합', '기타', '승용', '승용', '승용', '승용', '이륜', '이륜', '승용', '승용', '승합', '승용', '승용', '승용', '승용', '승용', '기타', '승용', '승용', '승용', '승용', '승합', '승용', '승용', '승용', '이륜', '기타', '승용', '승용', '승용', '기타', '승용', '승용', '승용', '승용', '승용', '승용', '승용', '승용', '승합', '승용', '화물', '이륜', '승용', '이륜', '이륜', '승용', '승합', '승용', '승합', '승합', '승용', '승용', '승합', '승용', '승합', '승용', '승용', '승용', '승용', '승용', '이륜', '승용', '기타', '기타', '이륜', '이륜', '승용', '승용', '승용', '승용', '이륜', '이륜', '승용', '승용', '이륜', '이륜', '이륜', '승용', '이륜', '이륜', '승용', '승용', '이륜', '승용', '승용', '승용', '이륜', '승합', '승용', '승용', '승용', '승용', '이륜', '승용', '승용', '승용', '승용', '승합', '승용', '승용', '승용', '승용', '이륜', '승용', '이륜', '승용', '승용', '승용', '승용', '승용', '이륜', '승용', '승용', '화물', '기타', '승용', '승용', '화물', '승합', '승합', '승용', '승용', '이륜', '이륜', '승용', '승용', '승용', '승용', '승용', '승용', '승용', '승용', '이륜', '이륜', '화물', '승용', '화물', '승용', '승용', '화물', '이륜', '승합', '승용', '승용', '이륜', '승용', '승용', '이륜', '승용', '화물', '승용', '승용', '승용', '화물', '승용', '승용', '승용', '이륜', '승합', '화물', '승용', '승용', '승용', '승용', '승용', '승용', '이륜', '기타', '승용', '승용', '기타', '승용', '승용', '이륜', '승용', '승용', '승합', '승용', '이륜', '승용', '승용', '승용', '승용', '승합', '승용', '승용', '승용', '승합', '승용', '승용', '승용', '승용', '화물', '승용', '화물', '승용', '승용', '이륜', '승용', '이륜', '승용', '승용', '이륜', '승용', '승용', '승용', '승용', '승용', '이륜', '승용', '화물', '화물', '승용', '승용', '화물', '화물', '승용', '승용', '이륜', '이륜', '승용', '화물', '승용', '승합', '승용', '승용', '승용', '승용', '이륜', '승용', '승합', '승용', '기타', '승용', '승합', '이륜', '승용', '승합', '승용', '승용', '이륜', '승용', '이륜', '이륜', '승용', '승합', '승용', '승합', '승용', '화물', '승용', '승용', '승용', '이륜', '승용', '화물', '승용', '승용', '승용', '승용', '이륜', '승용', '승용', '승용', '승용', '승용', '이륜', '승합', '이륜', '화물', '승용', '승용', '승합', '승용', '화물', '승용', '승용', '승합', '화물', '승용', '승용', '승용', '이륜', '화물', '승용', '승용', '승용', '승용', '승용', '승용', '승용', '승용', '화물', '승용', '이륜', '승용', '승용', '승용', '화물', '승용', '화물', '승용', '승용', '승용', '화물', '승용', '승용', '승용', '승용', '승합', '승합', '승합', '기타', '기타', '승용', '승용', '기타', '기타', '화물', '화물', '승용', '승용', '승용', '승용', '화물', '화물', '화물', '화물', '승용', '승용', '승용', '승용', '승용', '승용', '승용', '승용', '승용', '승용', '이륜', '이륜', '승용', '승용', '승용', '기타', '화물', '승용', '승용', '승용', '승용', '승용', '승용', '승용', '승용', '이륜', '이륜', '이륜', '이륜', '이륜', '이륜', '이륜', '이륜', '승용', '승용', '승용', '승용', '승용', '승용', '승용', '승용', '승용', '승합', '승용', '승용', '승용', '승용', '승용', '화물', '승용', '승합', '승용', '승용', '승용', '승용', '이륜', '승용', '승용', '승용', '화물', '승용', '이륜', '승용', '승용', '이륜', '이륜', '이륜', '화물', '승용', '승합', '승용', '승용', '이륜', '기타', '승용', '승용', '승용', '승용', '승합', '승용', '승용', '승용', '승용', '승용', '승용', '승용', '승용', '화물', '승용', '승용', '승용', '승용', '이륜', '승용', '승용', '승합', '승합', '승용', '승용', '승용', '승용', '승용', '승용', '승용', '이륜', '이륜', '승용', '승용', '승합', '승합', '승용', '승용', '승용', '승용', '승용', '승용', '화물', '화물', '이륜', '이륜', '화물', '화물', '이륜', '이륜', '승합', '승용', '화물', '이륜', '승용', '승용', '화물', '승용', '승용', '기타', '승용', '승합', '승용', '승용', '화물', '승용', '이륜', '승용', '화물', '화물', '이륜', '화물', '승합', '화물', '승용', '승용', '승용', '승용', '승용', '승용', '승용', '승용', '승용', '승용', '승용', '승용', '승용', '승용', '승용', '승용', '승용', '승용', '승용', '승용', '승용', '승용', '승용', '승용', '승용', '승용', '승용', '승용', '승용', '승합', '화물', '이륜', '승용', '승용', '승용', '승합', '이륜', '이륜', '승용', '승용', '승용', '승용', '승용', '승용', '승용', '승용', '화물', '화물', '승용', '승용', '승용', '승용', '이륜', '승용', '이륜', '화물', '이륜', '승합', '승합', '승용', '승용', '화물', '화물', '승합', '승합', '승합', '승합', '이륜', '이륜', '승용', '승용', '승용', '승용', '승합', '승합', '승용', '승용', '승용', '승용', '승용', '이륜', '승용', '승용', '승용', '승용', '화물', '화물', '화물', '이륜', '이륜', '이륜', '화물', '화물', '화물', '승용', '승용', '화물', '이륜', '승용', '승용', '승용', '승용', '승용', '승용', '승용', '승용', '화물', '승용', '승용', '승용', '기타', '승용', '이륜', '승용', '승합', '승용', '승용', '승용', '화물', '화물', '승용', '이륜', '이륜', '이륜', '승용', '승용', '화물', '화물', '승용', '이륜', '승용', '승용', '승용', '승용', '이륜', '승용', '화물', '승용', '승용', '승용', '화물', '승용', '화물', '승용', '이륜', '승용', '승용', '승용', '승용', '승합', '화물', '승용', '이륜', '승합', '승용', '승용', '화물', '승용', '이륜', '이륜', '승용', '화물', '이륜', '승용', '승용', '승용', '화물', '이륜', '승용', '승용', '승용', '이륜', '승용', '이륜', '승용', '승합', '승용', '화물', '승용', '승용', '승합', '이륜', '승용', '이륜', '승합', '승용', '승용', '승용', '이륜', '승용', '승용', '승용', '승용', '화물', '화물', '승용', '승용', '승용', '이륜', '승용', '승용', '승용', '승용', '화물', '승용', '승용', '승용', '이륜', '이륜', '승용', '승용', '이륜', '승용', '승용', '승용', '승용', '승용', '승용', '화물', '승용', '화물', '승용', '승용', '화물', '승용', '승용', '승용', '승용', '승용', '승용', '승용', '승용', '승합', '이륜', '승용', '승용', '승용', '승용', '승용', '승용', '승용', '승용', '승용', '승용', '승용', '화물', '승용', '승용', '승용', '승용', '승용', '승용', '승용', '승용', '승용', '기타', '기타', '기타', '승용', '승용', '승용', '승용', '승용', '승용', '승용', '이륜', '승용', '승용', '승용', '화물', '승용', '승용', '승용', '승용', '화물', '승용', '승용', '화물', '승용', '이륜', '승용', '승합', '이륜', '화물', '승용', '이륜', '화물', '화물', '승용', '승합', '승용', '승용', '승용', '승용', '승용', '승용', '이륜', '승합', '화물', '승용', '이륜', '승용', '화물', '기타', '이륜', '승용', '승용', '이륜', '승합', '승용', '승용', '승합', '승용', '승용', '승용', '이륜', '승용', '이륜', '이륜', '화물', '화물', '승용', '승용', '승용', '이륜', '이륜', '승합', '승용', '승용', '승용', '승용', '승용', '화물', '승용', '승용', '화물', '승용', '승용', '기타', '승용', '화물', '승용', '승용', '승용', '승용', '승용', '승용', '승용', '승용', '승용', '승용', '승용', '이륜', '승용', '승용', '승용', '승용', '승용', '이륜', '승용', '화물', '승용', '이륜', '승용', '이륜', '이륜', '승합', '승용', '이륜', '승합', '승용', '승용', '승합', '승용', '승합', '승합', '승용', '승용', '기타', '승용', '승용', '승용', '승용', '승용', '승용', '승용', '이륜', '화물', '승용', '승용', '화물', '승용', '화물', '승용', '이륜', '승용', '이륜', '승용', '승용', '승용', '승용', '승용', '승용', '승용', '승용', '화물', '승용', '승용', '승용', '승용', '승용', '승용', '승용', '승용', '승용', '승용', '승용', '기타', '기타', '기타', '승용', '승용', '승용', '승용', '승용', '승용', '승용', '승용', '승용', '승합', '승용', '승용', '승용', '승용', '승용', '승용', '승용', '승용', '승용', '승용', '승용', '승합', '승합', '이륜', '승용', '승용', '승용', '화물', '승용', '승용', '승합', '승합', '승용', '승용', '승용', '승용', '승용', '승용', '화물', '화물', '승용', '승용', '승합', '승용', '승용', '승용', '승합', '이륜', '이륜', '승용', '이륜', '승용', '승용', '승용', '승용', '승용', '승용', '승용', '승용', '화물', '화물', '승용', '승용', '이륜', '승용', '화물', '승합', '화물', '승용', '승용', '화물', '승용', '이륜', '승용', '화물', '이륜', '이륜', '승합', '승용', '화물', '화물', '승용', '승용', '화물', '화물', '화물', '화물', '승용', '화물', '승용', '승용', '이륜', '승용', '승용', '승용', '승용', '승용', '승용', '이륜', '이륜', '승용', '승용', '승용', '승용', '승용', '화물', '승용', '승용', '승용', '승합', '승용', '승용', '승용', '승합', '승용', '승합', '승용', '화물', '이륜', '화물', '이륜', '승용', '이륜', '화물', '승용', '승합', '승용', '승합', '승용', '화물', '승용', '승합', '승용', '승용', '화물', '화물', '화물', '승용', '승용', '승용', '승용', '승합', '승용', '승용', '승용', '이륜', '승용', '승용', '승용', '이륜', '승용', '화물', '승용', '승용', '승용', '승용', '이륜', '이륜', '이륜', '이륜', '승용', '승용', '승용', '승용', '화물', '화물', '승용', '이륜', '이륜', '이륜', '승합', '승용', '승용', '이륜', '승용', '이륜', '화물', '승용', '승용', '화물', '화물', '이륜', '이륜', '승용', '승용', '이륜', '이륜', '이륜', '이륜', '이륜', '승용', '승용', '승용', '승용', '승합', '화물', '승용', '이륜', '화물', '이륜', '승용', '승용', '승용', '승용', '승용', '이륜', '승용', '승용', '승용', '화물', '승용', '화물', '승용', '이륜', '화물', '이륜', '승합', '승합', '승용', '화물', '승용', '화물', '이륜', '승용', '이륜', '이륜', '이륜', '승용', '화물', '승용', '승용', '이륜', '승용', '화물', '승용', '승용', '승용', '승용', '승용', '승용', '승용', '승용', '승용', '승용', '승용', '승용', '승용', '이륜', '이륜', '이륜', '승용', '승용', '승용', '승용', '승용', '승용', '화물', '이륜', '승용', '이륜', '승용', '승용', '승용', '승용', '이륜', '이륜', '화물', '화물', '기타', '기타', '승용', '승용', '이륜', '이륜', '승용', '승합', '승용', '화물', '승용', '승용', '승용', '승용', '화물', '이륜', '승용', '승용', '승용', '이륜', '승용', '승합', '승용', '승용', '승용', '승용', '승용', '승용', '승용', '승합', '승용', '승용', '이륜', '승용', '이륜', '승합', '승용', '이륜', '승용', '승용', '승용', '승용', '승용', '이륜', '기타', '승용', '화물', '승합', '승용', '이륜', '이륜', '승용', '승용', '이륜', '승용', '이륜', '승용', '승용', '승용', '승용', '승용', '승용', '기타', '승용', '이륜', '승용', '이륜', '승용', '승용', '이륜', '화물', '이륜', '승용', '승용', '승합', '화물', '화물', '승용', '승용', '승용', '승용', '승용', '승용', '승용', '승용', '이륜', '이륜', '승합', '승합', '승용', '승용', '승용', '승용', '이륜', '승용', '기타', '승합', '승용', '승용', '화물', '승용', '이륜', '화물', '승용', '승용', '화물', '이륜', '기타', '승용', '승용', '승용', '승합', '승용', '승합', '이륜', '승용', '승용', '이륜']\n"
          ]
        }
      ]
    },
    {
      "cell_type": "code",
      "source": [
        "df['차종구분'] = list_e"
      ],
      "metadata": {
        "id": "Qgf46XVivMil"
      },
      "execution_count": 39,
      "outputs": []
    },
    {
      "cell_type": "code",
      "source": [
        "df_set = df[['차종구분','계절','도로형태구분','주간야간','주말','연령대','피해운전자 성별','피해운전자 상해정도']]"
      ],
      "metadata": {
        "id": "XdzJU7JdHUI0"
      },
      "execution_count": 40,
      "outputs": []
    },
    {
      "cell_type": "markdown",
      "source": [
        "# **묶은 변수들로 독립성검정**"
      ],
      "metadata": {
        "id": "nqrADFlavaiV"
      }
    },
    {
      "cell_type": "code",
      "source": [
        "ctab_1 = pd.crosstab(df['차종구분'],df['피해운전자 상해정도']) \n",
        "ctab_2 = pd.crosstab(df['도로형태구분'],df['피해운전자 상해정도']) \n",
        "ctab_3 = pd.crosstab(df['주말'],df['피해운전자 상해정도']) \n",
        "ctab_4 = pd.crosstab(df['계절'],df['피해운전자 상해정도']) \n",
        "ctab_5 = pd.crosstab(df['주간야간'],df['피해운전자 상해정도'])  "
      ],
      "metadata": {
        "id": "aqq-b6Q8vaR_"
      },
      "execution_count": 41,
      "outputs": []
    },
    {
      "cell_type": "code",
      "source": [
        "chi2, p, fe, _=stats.chi2_contingency(ctab_1)\n",
        "print('통계량:',chi2,'p:', p,'자유도:', fe)"
      ],
      "metadata": {
        "colab": {
          "base_uri": "https://localhost:8080/"
        },
        "id": "dl4zJr-4vvkU",
        "outputId": "bf128938-2add-4253-d624-6a162dcee202"
      },
      "execution_count": 42,
      "outputs": [
        {
          "output_type": "stream",
          "name": "stdout",
          "text": [
            "통계량: 260.52329887555567 p: 3.574059810217073e-46 자유도: 16\n"
          ]
        }
      ]
    },
    {
      "cell_type": "code",
      "source": [
        "chi2, p, fe, _=stats.chi2_contingency(ctab_2)\n",
        "print('통계량:',chi2,'p:', p,'자유도:', fe)"
      ],
      "metadata": {
        "colab": {
          "base_uri": "https://localhost:8080/"
        },
        "id": "s465nGSLvzE2",
        "outputId": "8879735a-bff1-4602-b3fd-8d6fe8103962"
      },
      "execution_count": 43,
      "outputs": [
        {
          "output_type": "stream",
          "name": "stdout",
          "text": [
            "통계량: 35.401173616187414 p: 2.2593766856894695e-05 자유도: 8\n"
          ]
        }
      ]
    },
    {
      "cell_type": "code",
      "source": [
        "chi2, p, fe, _=stats.chi2_contingency(ctab_3)\n",
        "print('통계량:',chi2,'p:', p,'자유도:', fe)"
      ],
      "metadata": {
        "colab": {
          "base_uri": "https://localhost:8080/"
        },
        "id": "AFwIijvyvzXD",
        "outputId": "7081b889-bbf6-42d4-b6a2-dea4e0756f20"
      },
      "execution_count": 44,
      "outputs": [
        {
          "output_type": "stream",
          "name": "stdout",
          "text": [
            "통계량: 10.18532794201704 p: 0.03741893006023743 자유도: 4\n"
          ]
        }
      ]
    },
    {
      "cell_type": "code",
      "source": [
        "chi2, p, fe, _=stats.chi2_contingency(ctab_4)\n",
        "print('통계량:',chi2,'p:', p,'자유도:', fe)"
      ],
      "metadata": {
        "colab": {
          "base_uri": "https://localhost:8080/"
        },
        "id": "i0O4HE8zvzpy",
        "outputId": "8e8e5a6a-825d-4656-a5a5-47e5a7953647"
      },
      "execution_count": 45,
      "outputs": [
        {
          "output_type": "stream",
          "name": "stdout",
          "text": [
            "통계량: 54.243033186289935 p: 2.472647122240122e-07 자유도: 12\n"
          ]
        }
      ]
    },
    {
      "cell_type": "code",
      "source": [
        "chi2, p, fe, _=stats.chi2_contingency(ctab_5)\n",
        "print('통계량:',chi2,'p:', p,'자유도:', fe)"
      ],
      "metadata": {
        "colab": {
          "base_uri": "https://localhost:8080/"
        },
        "id": "XujeOfQWvz7h",
        "outputId": "8674399d-b09a-45ed-d209-816b353c976e"
      },
      "execution_count": 46,
      "outputs": [
        {
          "output_type": "stream",
          "name": "stdout",
          "text": [
            "통계량: 36.61737354498332 p: 2.1596884279140782e-07 자유도: 4\n"
          ]
        }
      ]
    },
    {
      "cell_type": "markdown",
      "source": [
        "# **인코딩**"
      ],
      "metadata": {
        "id": "0saqmEjzRxOs"
      }
    },
    {
      "cell_type": "code",
      "source": [
        "df_set3['피해운전자 상해정도'] = df_set3['피해운전자 상해정도'].map({'상해없음':0,'부상신고':0,'경상':1,'중상':1,'사망':2})"
      ],
      "metadata": {
        "id": "78SkCFT1RxCA"
      },
      "execution_count": 81,
      "outputs": []
    },
    {
      "cell_type": "code",
      "source": [
        "df_set3['주간야간'] = df_set3['주간야간'].map({'주간':0,'야간':1})"
      ],
      "metadata": {
        "id": "3bYvxZdB5IFO"
      },
      "execution_count": 68,
      "outputs": []
    },
    {
      "cell_type": "code",
      "source": [
        "df_set1 = pd.get_dummies(data = df_set, columns = ['도로형태구분'], prefix = '도로형태구분')"
      ],
      "metadata": {
        "id": "DV9OShXmTGod"
      },
      "execution_count": 63,
      "outputs": []
    },
    {
      "cell_type": "code",
      "source": [
        "df_set2 = pd.get_dummies(data = df_set1, columns = ['계절'], prefix = '계절')"
      ],
      "metadata": {
        "id": "fiqya5IRTnCK"
      },
      "execution_count": 64,
      "outputs": []
    },
    {
      "cell_type": "code",
      "source": [
        "df_set3 = pd.get_dummies(data = df_set2, columns = ['차종구분'], prefix = '차종구분')"
      ],
      "metadata": {
        "id": "RO-tQv6GTuvB"
      },
      "execution_count": 65,
      "outputs": []
    },
    {
      "cell_type": "code",
      "source": [
        "df_set3.head()"
      ],
      "metadata": {
        "colab": {
          "base_uri": "https://localhost:8080/",
          "height": 268
        },
        "id": "FOZ0b7xQUeCU",
        "outputId": "963c850f-3e3f-40fa-a640-514f35923788"
      },
      "execution_count": 82,
      "outputs": [
        {
          "output_type": "execute_result",
          "data": {
            "text/plain": [
              "   주간야간 주말  연령대  피해운전자 성별  피해운전자 상해정도  도로형태구분_교차로  도로형태구분_기타  도로형태구분_단일로  \\\n",
              "0     1  0   50       0.0           1           0          0           1   \n",
              "1     1  0   70       0.0           2           0          0           1   \n",
              "2     1  0   50       0.0           1           0          0           1   \n",
              "3     0  0   60       0.0           1           0          0           1   \n",
              "4     0  0   80       0.0           1           0          0           1   \n",
              "\n",
              "   계절_가을  계절_겨울  계절_봄  계절_여름  차종구분_기타  차종구분_승용  차종구분_승합  차종구분_이륜  차종구분_화물  \n",
              "0      0      1     0      0        0        1        0        0        0  \n",
              "1      0      1     0      0        0        1        0        0        0  \n",
              "2      0      0     1      0        0        1        0        0        0  \n",
              "3      0      0     1      0        0        1        0        0        0  \n",
              "4      0      0     1      0        0        0        0        1        0  "
            ],
            "text/html": [
              "\n",
              "  <div id=\"df-366893b9-b155-4d0a-8d47-89840fc4288d\">\n",
              "    <div class=\"colab-df-container\">\n",
              "      <div>\n",
              "<style scoped>\n",
              "    .dataframe tbody tr th:only-of-type {\n",
              "        vertical-align: middle;\n",
              "    }\n",
              "\n",
              "    .dataframe tbody tr th {\n",
              "        vertical-align: top;\n",
              "    }\n",
              "\n",
              "    .dataframe thead th {\n",
              "        text-align: right;\n",
              "    }\n",
              "</style>\n",
              "<table border=\"1\" class=\"dataframe\">\n",
              "  <thead>\n",
              "    <tr style=\"text-align: right;\">\n",
              "      <th></th>\n",
              "      <th>주간야간</th>\n",
              "      <th>주말</th>\n",
              "      <th>연령대</th>\n",
              "      <th>피해운전자 성별</th>\n",
              "      <th>피해운전자 상해정도</th>\n",
              "      <th>도로형태구분_교차로</th>\n",
              "      <th>도로형태구분_기타</th>\n",
              "      <th>도로형태구분_단일로</th>\n",
              "      <th>계절_가을</th>\n",
              "      <th>계절_겨울</th>\n",
              "      <th>계절_봄</th>\n",
              "      <th>계절_여름</th>\n",
              "      <th>차종구분_기타</th>\n",
              "      <th>차종구분_승용</th>\n",
              "      <th>차종구분_승합</th>\n",
              "      <th>차종구분_이륜</th>\n",
              "      <th>차종구분_화물</th>\n",
              "    </tr>\n",
              "  </thead>\n",
              "  <tbody>\n",
              "    <tr>\n",
              "      <th>0</th>\n",
              "      <td>1</td>\n",
              "      <td>0</td>\n",
              "      <td>50</td>\n",
              "      <td>0.0</td>\n",
              "      <td>1</td>\n",
              "      <td>0</td>\n",
              "      <td>0</td>\n",
              "      <td>1</td>\n",
              "      <td>0</td>\n",
              "      <td>1</td>\n",
              "      <td>0</td>\n",
              "      <td>0</td>\n",
              "      <td>0</td>\n",
              "      <td>1</td>\n",
              "      <td>0</td>\n",
              "      <td>0</td>\n",
              "      <td>0</td>\n",
              "    </tr>\n",
              "    <tr>\n",
              "      <th>1</th>\n",
              "      <td>1</td>\n",
              "      <td>0</td>\n",
              "      <td>70</td>\n",
              "      <td>0.0</td>\n",
              "      <td>2</td>\n",
              "      <td>0</td>\n",
              "      <td>0</td>\n",
              "      <td>1</td>\n",
              "      <td>0</td>\n",
              "      <td>1</td>\n",
              "      <td>0</td>\n",
              "      <td>0</td>\n",
              "      <td>0</td>\n",
              "      <td>1</td>\n",
              "      <td>0</td>\n",
              "      <td>0</td>\n",
              "      <td>0</td>\n",
              "    </tr>\n",
              "    <tr>\n",
              "      <th>2</th>\n",
              "      <td>1</td>\n",
              "      <td>0</td>\n",
              "      <td>50</td>\n",
              "      <td>0.0</td>\n",
              "      <td>1</td>\n",
              "      <td>0</td>\n",
              "      <td>0</td>\n",
              "      <td>1</td>\n",
              "      <td>0</td>\n",
              "      <td>0</td>\n",
              "      <td>1</td>\n",
              "      <td>0</td>\n",
              "      <td>0</td>\n",
              "      <td>1</td>\n",
              "      <td>0</td>\n",
              "      <td>0</td>\n",
              "      <td>0</td>\n",
              "    </tr>\n",
              "    <tr>\n",
              "      <th>3</th>\n",
              "      <td>0</td>\n",
              "      <td>0</td>\n",
              "      <td>60</td>\n",
              "      <td>0.0</td>\n",
              "      <td>1</td>\n",
              "      <td>0</td>\n",
              "      <td>0</td>\n",
              "      <td>1</td>\n",
              "      <td>0</td>\n",
              "      <td>0</td>\n",
              "      <td>1</td>\n",
              "      <td>0</td>\n",
              "      <td>0</td>\n",
              "      <td>1</td>\n",
              "      <td>0</td>\n",
              "      <td>0</td>\n",
              "      <td>0</td>\n",
              "    </tr>\n",
              "    <tr>\n",
              "      <th>4</th>\n",
              "      <td>0</td>\n",
              "      <td>0</td>\n",
              "      <td>80</td>\n",
              "      <td>0.0</td>\n",
              "      <td>1</td>\n",
              "      <td>0</td>\n",
              "      <td>0</td>\n",
              "      <td>1</td>\n",
              "      <td>0</td>\n",
              "      <td>0</td>\n",
              "      <td>1</td>\n",
              "      <td>0</td>\n",
              "      <td>0</td>\n",
              "      <td>0</td>\n",
              "      <td>0</td>\n",
              "      <td>1</td>\n",
              "      <td>0</td>\n",
              "    </tr>\n",
              "  </tbody>\n",
              "</table>\n",
              "</div>\n",
              "      <button class=\"colab-df-convert\" onclick=\"convertToInteractive('df-366893b9-b155-4d0a-8d47-89840fc4288d')\"\n",
              "              title=\"Convert this dataframe to an interactive table.\"\n",
              "              style=\"display:none;\">\n",
              "        \n",
              "  <svg xmlns=\"http://www.w3.org/2000/svg\" height=\"24px\"viewBox=\"0 0 24 24\"\n",
              "       width=\"24px\">\n",
              "    <path d=\"M0 0h24v24H0V0z\" fill=\"none\"/>\n",
              "    <path d=\"M18.56 5.44l.94 2.06.94-2.06 2.06-.94-2.06-.94-.94-2.06-.94 2.06-2.06.94zm-11 1L8.5 8.5l.94-2.06 2.06-.94-2.06-.94L8.5 2.5l-.94 2.06-2.06.94zm10 10l.94 2.06.94-2.06 2.06-.94-2.06-.94-.94-2.06-.94 2.06-2.06.94z\"/><path d=\"M17.41 7.96l-1.37-1.37c-.4-.4-.92-.59-1.43-.59-.52 0-1.04.2-1.43.59L10.3 9.45l-7.72 7.72c-.78.78-.78 2.05 0 2.83L4 21.41c.39.39.9.59 1.41.59.51 0 1.02-.2 1.41-.59l7.78-7.78 2.81-2.81c.8-.78.8-2.07 0-2.86zM5.41 20L4 18.59l7.72-7.72 1.47 1.35L5.41 20z\"/>\n",
              "  </svg>\n",
              "      </button>\n",
              "      \n",
              "  <style>\n",
              "    .colab-df-container {\n",
              "      display:flex;\n",
              "      flex-wrap:wrap;\n",
              "      gap: 12px;\n",
              "    }\n",
              "\n",
              "    .colab-df-convert {\n",
              "      background-color: #E8F0FE;\n",
              "      border: none;\n",
              "      border-radius: 50%;\n",
              "      cursor: pointer;\n",
              "      display: none;\n",
              "      fill: #1967D2;\n",
              "      height: 32px;\n",
              "      padding: 0 0 0 0;\n",
              "      width: 32px;\n",
              "    }\n",
              "\n",
              "    .colab-df-convert:hover {\n",
              "      background-color: #E2EBFA;\n",
              "      box-shadow: 0px 1px 2px rgba(60, 64, 67, 0.3), 0px 1px 3px 1px rgba(60, 64, 67, 0.15);\n",
              "      fill: #174EA6;\n",
              "    }\n",
              "\n",
              "    [theme=dark] .colab-df-convert {\n",
              "      background-color: #3B4455;\n",
              "      fill: #D2E3FC;\n",
              "    }\n",
              "\n",
              "    [theme=dark] .colab-df-convert:hover {\n",
              "      background-color: #434B5C;\n",
              "      box-shadow: 0px 1px 3px 1px rgba(0, 0, 0, 0.15);\n",
              "      filter: drop-shadow(0px 1px 2px rgba(0, 0, 0, 0.3));\n",
              "      fill: #FFFFFF;\n",
              "    }\n",
              "  </style>\n",
              "\n",
              "      <script>\n",
              "        const buttonEl =\n",
              "          document.querySelector('#df-366893b9-b155-4d0a-8d47-89840fc4288d button.colab-df-convert');\n",
              "        buttonEl.style.display =\n",
              "          google.colab.kernel.accessAllowed ? 'block' : 'none';\n",
              "\n",
              "        async function convertToInteractive(key) {\n",
              "          const element = document.querySelector('#df-366893b9-b155-4d0a-8d47-89840fc4288d');\n",
              "          const dataTable =\n",
              "            await google.colab.kernel.invokeFunction('convertToInteractive',\n",
              "                                                     [key], {});\n",
              "          if (!dataTable) return;\n",
              "\n",
              "          const docLinkHtml = 'Like what you see? Visit the ' +\n",
              "            '<a target=\"_blank\" href=https://colab.research.google.com/notebooks/data_table.ipynb>data table notebook</a>'\n",
              "            + ' to learn more about interactive tables.';\n",
              "          element.innerHTML = '';\n",
              "          dataTable['output_type'] = 'display_data';\n",
              "          await google.colab.output.renderOutput(dataTable, element);\n",
              "          const docLink = document.createElement('div');\n",
              "          docLink.innerHTML = docLinkHtml;\n",
              "          element.appendChild(docLink);\n",
              "        }\n",
              "      </script>\n",
              "    </div>\n",
              "  </div>\n",
              "  "
            ]
          },
          "metadata": {},
          "execution_count": 82
        }
      ]
    },
    {
      "cell_type": "code",
      "source": [
        "df_set3['주말'] = df_set3['주말'].astype(int)"
      ],
      "metadata": {
        "id": "Hbo-ETIp7yRk"
      },
      "execution_count": 103,
      "outputs": []
    },
    {
      "cell_type": "markdown",
      "source": [
        "# **오버샘플링**"
      ],
      "metadata": {
        "id": "W-GWtx1spRPE"
      }
    },
    {
      "cell_type": "code",
      "source": [
        "X=df_set3.drop(\"피해운전자 상해정도\",axis=1)\n",
        "y=df_set3[\"피해운전자 상해정도\"]"
      ],
      "metadata": {
        "id": "9lnBWAbPqdvB"
      },
      "execution_count": 104,
      "outputs": []
    },
    {
      "cell_type": "code",
      "source": [
        "from sklearn.model_selection import train_test_split\n",
        "X_train,X_test,y_train,y_test=train_test_split(X,y,test_size=0.2,train_size=0.8,random_state=1)"
      ],
      "metadata": {
        "id": "_ucHwAO0qUSb"
      },
      "execution_count": 105,
      "outputs": []
    },
    {
      "cell_type": "code",
      "source": [
        "from imblearn.over_sampling import SMOTE\n",
        "#SMOTE 오버샘플링이 한 기법으로 낮은 비율로 존재하는 클래스의 데이터를 최근접 이웃 알고리즘을\n",
        "#활용하여 새롭게 생성하는 기법"
      ],
      "metadata": {
        "id": "w8p-VIzVrVCS"
      },
      "execution_count": 106,
      "outputs": []
    },
    {
      "cell_type": "code",
      "source": [
        "from imblearn.over_sampling import SMOTE\n",
        "#SMOTE 오버샘플링이 한 기법으로 낮은 비율로 존재하는 클래스의 데이터를 최근접 이웃 알고리즘을\n",
        "#활용하여 새롭게 생성하는 기법\n",
        "\n",
        "smote = SMOTE(random_state=42)\n",
        "X_train_over, y_train_over = smote.fit_resample(X_train, y_train)\n",
        "print(\"SMOTE 적용 전 학습용 피처/레이블 데이터 세트 : \", X_train.shape, y_train.shape)\n",
        "print('SMOTE 적용 후 학습용 피처/레이블 데이터 세트 :', X_train_over.shape, y_train_over.shape)\n",
        "print('SMOTE 적용 후 값의 분포 :\\n',pd.Series(y_train_over).value_counts() )"
      ],
      "metadata": {
        "colab": {
          "base_uri": "https://localhost:8080/"
        },
        "id": "R3rpGdpjreaf",
        "outputId": "66b58c83-209d-4d0b-cad3-1b7e46190c3c"
      },
      "execution_count": 107,
      "outputs": [
        {
          "output_type": "stream",
          "name": "stdout",
          "text": [
            "SMOTE 적용 전 학습용 피처/레이블 데이터 세트 :  (7304, 16) (7304,)\n",
            "SMOTE 적용 후 학습용 피처/레이블 데이터 세트 : (19692, 16) (19692,)\n",
            "SMOTE 적용 후 값의 분포 :\n",
            " 1    6564\n",
            "2    6564\n",
            "0    6564\n",
            "Name: 피해운전자 상해정도, dtype: int64\n"
          ]
        }
      ]
    },
    {
      "cell_type": "code",
      "source": [
        ""
      ],
      "metadata": {
        "id": "uVaZCkcMK4zx"
      },
      "execution_count": null,
      "outputs": []
    }
  ]
}